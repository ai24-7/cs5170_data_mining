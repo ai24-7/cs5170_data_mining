{
 "cells": [
  {
   "cell_type": "code",
   "execution_count": 1,
   "id": "e89cd677-42cc-4c55-b365-fe061efcd0ee",
   "metadata": {},
   "outputs": [],
   "source": [
    "import pandas as pd\n",
    "import seaborn as sns\n",
    "import matplotlib.pyplot as plt\n",
    "import numpy as np\n",
    "import random\n",
    "import itertools\n",
    "from sklearn.decomposition import PCA\n",
    "from sklearn.ensemble import RandomForestClassifier\n",
    "from sklearn.metrics import accuracy_score, confusion_matrix, precision_score, recall_score, ConfusionMatrixDisplay\n",
    "from sklearn.model_selection import RandomizedSearchCV, train_test_split\n",
    "from scipy.stats import randint\n",
    "from sklearn.ensemble import RandomForestClassifier\n",
    "from sklearn.model_selection import cross_val_score, KFold\n",
    "from sklearn.model_selection import cross_validate\n",
    "from sklearn.feature_selection import SelectKBest, SelectPercentile, SelectFromModel, f_classif\n",
    "from sklearn.tree import DecisionTreeClassifier\n",
    "from sklearn.linear_model import LogisticRegression"
   ]
  },
  {
   "cell_type": "code",
   "execution_count": 2,
   "id": "e17a44bd-e5bb-4049-8839-01bb34ea1fec",
   "metadata": {},
   "outputs": [],
   "source": [
    "def metrics_calc(conf_mat):\n",
    "        # Format of conf_mat should be: [TP, TN, FP, FN]\n",
    "        TP = conf_mat[0]\n",
    "        TN = conf_mat[1]\n",
    "        FP = conf_mat[2]\n",
    "        FN = conf_mat[3]\n",
    "        accuracy = (TP+TN)/(TP+TN+FP+FN)\n",
    "        sensitivity = TP/(TP+FN)\n",
    "        specificity = TN/(TN+FP)\n",
    "        precision = TP/(TP+FP)\n",
    "        miss_rate = FN/(FN+TP)\n",
    "        false_discovery_rate = FP/(FP+TP)\n",
    "        false_omission_rate = FN/(FN+TN)\n",
    "\n",
    "        return f\"\"\" \n",
    "        Accuracy is {accuracy:.2}\n",
    "        Sensitivity is {sensitivity:.2}\n",
    "        Specificity is {specificity:.2}\n",
    "        Precision is {precision:.2}\n",
    "        Miss Rate is {miss_rate:.2}\n",
    "        False discovery rate is {false_discovery_rate:.2} \n",
    "        False omission rate is {false_omission_rate:.2} \n",
    "        \"\"\""
   ]
  },
  {
   "cell_type": "code",
   "execution_count": 3,
   "id": "49fe5657-288a-4a78-80d8-9f2d1abde626",
   "metadata": {},
   "outputs": [],
   "source": [
    "df = pd.read_csv('new_mutations.csv')"
   ]
  },
  {
   "cell_type": "code",
   "execution_count": 4,
   "id": "a136b074-3052-4124-9fe8-a3291c5b4458",
   "metadata": {},
   "outputs": [
    {
     "data": {
      "text/html": [
       "<div>\n",
       "<style scoped>\n",
       "    .dataframe tbody tr th:only-of-type {\n",
       "        vertical-align: middle;\n",
       "    }\n",
       "\n",
       "    .dataframe tbody tr th {\n",
       "        vertical-align: top;\n",
       "    }\n",
       "\n",
       "    .dataframe thead th {\n",
       "        text-align: right;\n",
       "    }\n",
       "</style>\n",
       "<table border=\"1\" class=\"dataframe\">\n",
       "  <thead>\n",
       "    <tr style=\"text-align: right;\">\n",
       "      <th></th>\n",
       "      <th>class</th>\n",
       "      <th>GOT1_GRCh37_10:101163586-101163586_Missense-Mutation_SNP_C-C-T</th>\n",
       "      <th>TEX36_GRCh37_10:127371546-127371546_Nonsense-Mutation_SNP_G-G-A</th>\n",
       "      <th>KIAA1217_GRCh37_10:24810824-24810824_Missense-Mutation_SNP_C-C-T</th>\n",
       "      <th>SIRT1_GRCh37_10:69676051-69676051_Missense-Mutation_SNP_C-C-T</th>\n",
       "      <th>MYPN_GRCh37_10:69881845-69881845_Missense-Mutation_SNP_C-C-T</th>\n",
       "      <th>LARP4B_GRCh37_10:890939-890939_Frame-Shift-Del_DEL_T-T--</th>\n",
       "      <th>NPAT_GRCh37_11:108032094-108032094_Missense-Mutation_SNP_G-G-T_G-G-A</th>\n",
       "      <th>ARNTL_GRCh37_11:13402723-13402723_Silent_SNP_G-G-A</th>\n",
       "      <th>COPB1_GRCh37_11:14480092-14480092_Missense-Mutation_SNP_G-G-A_G-G-T</th>\n",
       "      <th>...</th>\n",
       "      <th>FBXO21_GRCh37_12:117624320-117624320_Frame-Shift-Del_DEL_A-A--</th>\n",
       "      <th>CLRN1_GRCh37_3:150644691-150644691_3'UTR_DEL_A-A--</th>\n",
       "      <th>VPS37A_GRCh37_8:17153149-17153149_3'UTR_DEL_A-A--</th>\n",
       "      <th>VANGL2_GRCh37_1:160398257-160398258_3'UTR_INS_----G</th>\n",
       "      <th>SRGAP3_GRCh37_3:9023972-9023972_3'UTR_DEL_A-A--</th>\n",
       "      <th>PTENP1_GRCh37_9:33674774-33674774_RNA_DEL_T-T--</th>\n",
       "      <th>KMT2C_GRCh37_7:151836804-151836804_Nonsense-Mutation_SNP_G-G-A</th>\n",
       "      <th>CDKN1C_GRCh37_11:2904846-2904846_3'UTR_DEL_T-T--</th>\n",
       "      <th>PIK3R2_GRCh37_19:18278070-18278070_Missense-Mutation_SNP_A-A-G</th>\n",
       "      <th>LMO7_GRCh37_13:76432354-76432354_3'UTR_SNP_C-C-T</th>\n",
       "    </tr>\n",
       "  </thead>\n",
       "  <tbody>\n",
       "    <tr>\n",
       "      <th>0</th>\n",
       "      <td>NC1</td>\n",
       "      <td>1</td>\n",
       "      <td>1</td>\n",
       "      <td>1</td>\n",
       "      <td>1</td>\n",
       "      <td>1</td>\n",
       "      <td>1</td>\n",
       "      <td>1</td>\n",
       "      <td>1</td>\n",
       "      <td>1</td>\n",
       "      <td>...</td>\n",
       "      <td>0</td>\n",
       "      <td>0</td>\n",
       "      <td>0</td>\n",
       "      <td>0</td>\n",
       "      <td>0</td>\n",
       "      <td>0</td>\n",
       "      <td>0</td>\n",
       "      <td>0</td>\n",
       "      <td>0</td>\n",
       "      <td>0</td>\n",
       "    </tr>\n",
       "    <tr>\n",
       "      <th>1</th>\n",
       "      <td>C1</td>\n",
       "      <td>0</td>\n",
       "      <td>0</td>\n",
       "      <td>0</td>\n",
       "      <td>0</td>\n",
       "      <td>0</td>\n",
       "      <td>0</td>\n",
       "      <td>0</td>\n",
       "      <td>0</td>\n",
       "      <td>0</td>\n",
       "      <td>...</td>\n",
       "      <td>0</td>\n",
       "      <td>0</td>\n",
       "      <td>0</td>\n",
       "      <td>0</td>\n",
       "      <td>0</td>\n",
       "      <td>0</td>\n",
       "      <td>0</td>\n",
       "      <td>0</td>\n",
       "      <td>0</td>\n",
       "      <td>0</td>\n",
       "    </tr>\n",
       "    <tr>\n",
       "      <th>2</th>\n",
       "      <td>NC2</td>\n",
       "      <td>0</td>\n",
       "      <td>0</td>\n",
       "      <td>0</td>\n",
       "      <td>0</td>\n",
       "      <td>0</td>\n",
       "      <td>0</td>\n",
       "      <td>0</td>\n",
       "      <td>0</td>\n",
       "      <td>0</td>\n",
       "      <td>...</td>\n",
       "      <td>0</td>\n",
       "      <td>0</td>\n",
       "      <td>0</td>\n",
       "      <td>0</td>\n",
       "      <td>0</td>\n",
       "      <td>0</td>\n",
       "      <td>0</td>\n",
       "      <td>0</td>\n",
       "      <td>0</td>\n",
       "      <td>0</td>\n",
       "    </tr>\n",
       "    <tr>\n",
       "      <th>3</th>\n",
       "      <td>NC3</td>\n",
       "      <td>0</td>\n",
       "      <td>0</td>\n",
       "      <td>0</td>\n",
       "      <td>0</td>\n",
       "      <td>0</td>\n",
       "      <td>0</td>\n",
       "      <td>0</td>\n",
       "      <td>0</td>\n",
       "      <td>0</td>\n",
       "      <td>...</td>\n",
       "      <td>0</td>\n",
       "      <td>0</td>\n",
       "      <td>0</td>\n",
       "      <td>0</td>\n",
       "      <td>0</td>\n",
       "      <td>0</td>\n",
       "      <td>0</td>\n",
       "      <td>0</td>\n",
       "      <td>0</td>\n",
       "      <td>0</td>\n",
       "    </tr>\n",
       "    <tr>\n",
       "      <th>4</th>\n",
       "      <td>NC4</td>\n",
       "      <td>0</td>\n",
       "      <td>0</td>\n",
       "      <td>0</td>\n",
       "      <td>0</td>\n",
       "      <td>0</td>\n",
       "      <td>0</td>\n",
       "      <td>0</td>\n",
       "      <td>0</td>\n",
       "      <td>0</td>\n",
       "      <td>...</td>\n",
       "      <td>0</td>\n",
       "      <td>0</td>\n",
       "      <td>0</td>\n",
       "      <td>0</td>\n",
       "      <td>0</td>\n",
       "      <td>0</td>\n",
       "      <td>0</td>\n",
       "      <td>0</td>\n",
       "      <td>0</td>\n",
       "      <td>0</td>\n",
       "    </tr>\n",
       "    <tr>\n",
       "      <th>...</th>\n",
       "      <td>...</td>\n",
       "      <td>...</td>\n",
       "      <td>...</td>\n",
       "      <td>...</td>\n",
       "      <td>...</td>\n",
       "      <td>...</td>\n",
       "      <td>...</td>\n",
       "      <td>...</td>\n",
       "      <td>...</td>\n",
       "      <td>...</td>\n",
       "      <td>...</td>\n",
       "      <td>...</td>\n",
       "      <td>...</td>\n",
       "      <td>...</td>\n",
       "      <td>...</td>\n",
       "      <td>...</td>\n",
       "      <td>...</td>\n",
       "      <td>...</td>\n",
       "      <td>...</td>\n",
       "      <td>...</td>\n",
       "      <td>...</td>\n",
       "    </tr>\n",
       "    <tr>\n",
       "      <th>245</th>\n",
       "      <td>NC140</td>\n",
       "      <td>0</td>\n",
       "      <td>0</td>\n",
       "      <td>0</td>\n",
       "      <td>0</td>\n",
       "      <td>0</td>\n",
       "      <td>0</td>\n",
       "      <td>0</td>\n",
       "      <td>0</td>\n",
       "      <td>0</td>\n",
       "      <td>...</td>\n",
       "      <td>0</td>\n",
       "      <td>0</td>\n",
       "      <td>0</td>\n",
       "      <td>0</td>\n",
       "      <td>0</td>\n",
       "      <td>0</td>\n",
       "      <td>0</td>\n",
       "      <td>0</td>\n",
       "      <td>0</td>\n",
       "      <td>0</td>\n",
       "    </tr>\n",
       "    <tr>\n",
       "      <th>246</th>\n",
       "      <td>C107</td>\n",
       "      <td>0</td>\n",
       "      <td>0</td>\n",
       "      <td>0</td>\n",
       "      <td>0</td>\n",
       "      <td>0</td>\n",
       "      <td>0</td>\n",
       "      <td>0</td>\n",
       "      <td>0</td>\n",
       "      <td>0</td>\n",
       "      <td>...</td>\n",
       "      <td>0</td>\n",
       "      <td>0</td>\n",
       "      <td>0</td>\n",
       "      <td>0</td>\n",
       "      <td>0</td>\n",
       "      <td>0</td>\n",
       "      <td>0</td>\n",
       "      <td>0</td>\n",
       "      <td>0</td>\n",
       "      <td>0</td>\n",
       "    </tr>\n",
       "    <tr>\n",
       "      <th>247</th>\n",
       "      <td>NC141</td>\n",
       "      <td>0</td>\n",
       "      <td>0</td>\n",
       "      <td>0</td>\n",
       "      <td>0</td>\n",
       "      <td>0</td>\n",
       "      <td>0</td>\n",
       "      <td>0</td>\n",
       "      <td>0</td>\n",
       "      <td>0</td>\n",
       "      <td>...</td>\n",
       "      <td>0</td>\n",
       "      <td>0</td>\n",
       "      <td>0</td>\n",
       "      <td>0</td>\n",
       "      <td>0</td>\n",
       "      <td>0</td>\n",
       "      <td>1</td>\n",
       "      <td>0</td>\n",
       "      <td>0</td>\n",
       "      <td>0</td>\n",
       "    </tr>\n",
       "    <tr>\n",
       "      <th>248</th>\n",
       "      <td>C108</td>\n",
       "      <td>0</td>\n",
       "      <td>0</td>\n",
       "      <td>0</td>\n",
       "      <td>0</td>\n",
       "      <td>0</td>\n",
       "      <td>0</td>\n",
       "      <td>0</td>\n",
       "      <td>0</td>\n",
       "      <td>0</td>\n",
       "      <td>...</td>\n",
       "      <td>0</td>\n",
       "      <td>0</td>\n",
       "      <td>0</td>\n",
       "      <td>0</td>\n",
       "      <td>0</td>\n",
       "      <td>0</td>\n",
       "      <td>0</td>\n",
       "      <td>0</td>\n",
       "      <td>0</td>\n",
       "      <td>0</td>\n",
       "    </tr>\n",
       "    <tr>\n",
       "      <th>249</th>\n",
       "      <td>NC142</td>\n",
       "      <td>0</td>\n",
       "      <td>0</td>\n",
       "      <td>0</td>\n",
       "      <td>0</td>\n",
       "      <td>0</td>\n",
       "      <td>0</td>\n",
       "      <td>0</td>\n",
       "      <td>0</td>\n",
       "      <td>0</td>\n",
       "      <td>...</td>\n",
       "      <td>0</td>\n",
       "      <td>0</td>\n",
       "      <td>0</td>\n",
       "      <td>0</td>\n",
       "      <td>0</td>\n",
       "      <td>0</td>\n",
       "      <td>0</td>\n",
       "      <td>0</td>\n",
       "      <td>0</td>\n",
       "      <td>0</td>\n",
       "    </tr>\n",
       "  </tbody>\n",
       "</table>\n",
       "<p>250 rows × 8086 columns</p>\n",
       "</div>"
      ],
      "text/plain": [
       "     class  GOT1_GRCh37_10:101163586-101163586_Missense-Mutation_SNP_C-C-T  \\\n",
       "0      NC1                                                  1                \n",
       "1       C1                                                  0                \n",
       "2      NC2                                                  0                \n",
       "3      NC3                                                  0                \n",
       "4      NC4                                                  0                \n",
       "..     ...                                                ...                \n",
       "245  NC140                                                  0                \n",
       "246   C107                                                  0                \n",
       "247  NC141                                                  0                \n",
       "248   C108                                                  0                \n",
       "249  NC142                                                  0                \n",
       "\n",
       "     TEX36_GRCh37_10:127371546-127371546_Nonsense-Mutation_SNP_G-G-A  \\\n",
       "0                                                    1                 \n",
       "1                                                    0                 \n",
       "2                                                    0                 \n",
       "3                                                    0                 \n",
       "4                                                    0                 \n",
       "..                                                 ...                 \n",
       "245                                                  0                 \n",
       "246                                                  0                 \n",
       "247                                                  0                 \n",
       "248                                                  0                 \n",
       "249                                                  0                 \n",
       "\n",
       "     KIAA1217_GRCh37_10:24810824-24810824_Missense-Mutation_SNP_C-C-T  \\\n",
       "0                                                    1                  \n",
       "1                                                    0                  \n",
       "2                                                    0                  \n",
       "3                                                    0                  \n",
       "4                                                    0                  \n",
       "..                                                 ...                  \n",
       "245                                                  0                  \n",
       "246                                                  0                  \n",
       "247                                                  0                  \n",
       "248                                                  0                  \n",
       "249                                                  0                  \n",
       "\n",
       "     SIRT1_GRCh37_10:69676051-69676051_Missense-Mutation_SNP_C-C-T  \\\n",
       "0                                                    1               \n",
       "1                                                    0               \n",
       "2                                                    0               \n",
       "3                                                    0               \n",
       "4                                                    0               \n",
       "..                                                 ...               \n",
       "245                                                  0               \n",
       "246                                                  0               \n",
       "247                                                  0               \n",
       "248                                                  0               \n",
       "249                                                  0               \n",
       "\n",
       "     MYPN_GRCh37_10:69881845-69881845_Missense-Mutation_SNP_C-C-T  \\\n",
       "0                                                    1              \n",
       "1                                                    0              \n",
       "2                                                    0              \n",
       "3                                                    0              \n",
       "4                                                    0              \n",
       "..                                                 ...              \n",
       "245                                                  0              \n",
       "246                                                  0              \n",
       "247                                                  0              \n",
       "248                                                  0              \n",
       "249                                                  0              \n",
       "\n",
       "     LARP4B_GRCh37_10:890939-890939_Frame-Shift-Del_DEL_T-T--  \\\n",
       "0                                                    1          \n",
       "1                                                    0          \n",
       "2                                                    0          \n",
       "3                                                    0          \n",
       "4                                                    0          \n",
       "..                                                 ...          \n",
       "245                                                  0          \n",
       "246                                                  0          \n",
       "247                                                  0          \n",
       "248                                                  0          \n",
       "249                                                  0          \n",
       "\n",
       "     NPAT_GRCh37_11:108032094-108032094_Missense-Mutation_SNP_G-G-T_G-G-A  \\\n",
       "0                                                    1                      \n",
       "1                                                    0                      \n",
       "2                                                    0                      \n",
       "3                                                    0                      \n",
       "4                                                    0                      \n",
       "..                                                 ...                      \n",
       "245                                                  0                      \n",
       "246                                                  0                      \n",
       "247                                                  0                      \n",
       "248                                                  0                      \n",
       "249                                                  0                      \n",
       "\n",
       "     ARNTL_GRCh37_11:13402723-13402723_Silent_SNP_G-G-A  \\\n",
       "0                                                    1    \n",
       "1                                                    0    \n",
       "2                                                    0    \n",
       "3                                                    0    \n",
       "4                                                    0    \n",
       "..                                                 ...    \n",
       "245                                                  0    \n",
       "246                                                  0    \n",
       "247                                                  0    \n",
       "248                                                  0    \n",
       "249                                                  0    \n",
       "\n",
       "     COPB1_GRCh37_11:14480092-14480092_Missense-Mutation_SNP_G-G-A_G-G-T  ...  \\\n",
       "0                                                    1                    ...   \n",
       "1                                                    0                    ...   \n",
       "2                                                    0                    ...   \n",
       "3                                                    0                    ...   \n",
       "4                                                    0                    ...   \n",
       "..                                                 ...                    ...   \n",
       "245                                                  0                    ...   \n",
       "246                                                  0                    ...   \n",
       "247                                                  0                    ...   \n",
       "248                                                  0                    ...   \n",
       "249                                                  0                    ...   \n",
       "\n",
       "     FBXO21_GRCh37_12:117624320-117624320_Frame-Shift-Del_DEL_A-A--  \\\n",
       "0                                                    0                \n",
       "1                                                    0                \n",
       "2                                                    0                \n",
       "3                                                    0                \n",
       "4                                                    0                \n",
       "..                                                 ...                \n",
       "245                                                  0                \n",
       "246                                                  0                \n",
       "247                                                  0                \n",
       "248                                                  0                \n",
       "249                                                  0                \n",
       "\n",
       "     CLRN1_GRCh37_3:150644691-150644691_3'UTR_DEL_A-A--  \\\n",
       "0                                                    0    \n",
       "1                                                    0    \n",
       "2                                                    0    \n",
       "3                                                    0    \n",
       "4                                                    0    \n",
       "..                                                 ...    \n",
       "245                                                  0    \n",
       "246                                                  0    \n",
       "247                                                  0    \n",
       "248                                                  0    \n",
       "249                                                  0    \n",
       "\n",
       "     VPS37A_GRCh37_8:17153149-17153149_3'UTR_DEL_A-A--  \\\n",
       "0                                                    0   \n",
       "1                                                    0   \n",
       "2                                                    0   \n",
       "3                                                    0   \n",
       "4                                                    0   \n",
       "..                                                 ...   \n",
       "245                                                  0   \n",
       "246                                                  0   \n",
       "247                                                  0   \n",
       "248                                                  0   \n",
       "249                                                  0   \n",
       "\n",
       "     VANGL2_GRCh37_1:160398257-160398258_3'UTR_INS_----G  \\\n",
       "0                                                    0     \n",
       "1                                                    0     \n",
       "2                                                    0     \n",
       "3                                                    0     \n",
       "4                                                    0     \n",
       "..                                                 ...     \n",
       "245                                                  0     \n",
       "246                                                  0     \n",
       "247                                                  0     \n",
       "248                                                  0     \n",
       "249                                                  0     \n",
       "\n",
       "     SRGAP3_GRCh37_3:9023972-9023972_3'UTR_DEL_A-A--  \\\n",
       "0                                                  0   \n",
       "1                                                  0   \n",
       "2                                                  0   \n",
       "3                                                  0   \n",
       "4                                                  0   \n",
       "..                                               ...   \n",
       "245                                                0   \n",
       "246                                                0   \n",
       "247                                                0   \n",
       "248                                                0   \n",
       "249                                                0   \n",
       "\n",
       "     PTENP1_GRCh37_9:33674774-33674774_RNA_DEL_T-T--  \\\n",
       "0                                                  0   \n",
       "1                                                  0   \n",
       "2                                                  0   \n",
       "3                                                  0   \n",
       "4                                                  0   \n",
       "..                                               ...   \n",
       "245                                                0   \n",
       "246                                                0   \n",
       "247                                                0   \n",
       "248                                                0   \n",
       "249                                                0   \n",
       "\n",
       "     KMT2C_GRCh37_7:151836804-151836804_Nonsense-Mutation_SNP_G-G-A  \\\n",
       "0                                                    0                \n",
       "1                                                    0                \n",
       "2                                                    0                \n",
       "3                                                    0                \n",
       "4                                                    0                \n",
       "..                                                 ...                \n",
       "245                                                  0                \n",
       "246                                                  0                \n",
       "247                                                  1                \n",
       "248                                                  0                \n",
       "249                                                  0                \n",
       "\n",
       "     CDKN1C_GRCh37_11:2904846-2904846_3'UTR_DEL_T-T--  \\\n",
       "0                                                   0   \n",
       "1                                                   0   \n",
       "2                                                   0   \n",
       "3                                                   0   \n",
       "4                                                   0   \n",
       "..                                                ...   \n",
       "245                                                 0   \n",
       "246                                                 0   \n",
       "247                                                 0   \n",
       "248                                                 0   \n",
       "249                                                 0   \n",
       "\n",
       "     PIK3R2_GRCh37_19:18278070-18278070_Missense-Mutation_SNP_A-A-G  \\\n",
       "0                                                    0                \n",
       "1                                                    0                \n",
       "2                                                    0                \n",
       "3                                                    0                \n",
       "4                                                    0                \n",
       "..                                                 ...                \n",
       "245                                                  0                \n",
       "246                                                  0                \n",
       "247                                                  0                \n",
       "248                                                  0                \n",
       "249                                                  0                \n",
       "\n",
       "     LMO7_GRCh37_13:76432354-76432354_3'UTR_SNP_C-C-T  \n",
       "0                                                   0  \n",
       "1                                                   0  \n",
       "2                                                   0  \n",
       "3                                                   0  \n",
       "4                                                   0  \n",
       "..                                                ...  \n",
       "245                                                 0  \n",
       "246                                                 0  \n",
       "247                                                 0  \n",
       "248                                                 0  \n",
       "249                                                 0  \n",
       "\n",
       "[250 rows x 8086 columns]"
      ]
     },
     "execution_count": 4,
     "metadata": {},
     "output_type": "execute_result"
    }
   ],
   "source": [
    "df"
   ]
  },
  {
   "cell_type": "code",
   "execution_count": 5,
   "id": "e5363158-a4b4-4ffa-9e12-1a09018db99f",
   "metadata": {},
   "outputs": [],
   "source": [
    "X = df.drop(\"class\", axis=1)\n",
    "y = df[\"class\"]"
   ]
  },
  {
   "cell_type": "code",
   "execution_count": 6,
   "id": "ddad5e92-b4f9-446c-a112-a42e24b41b61",
   "metadata": {},
   "outputs": [
    {
     "name": "stderr",
     "output_type": "stream",
     "text": [
      "/var/folders/58/l2qkdn8515sc4h0bth87l82w0000gn/T/ipykernel_4586/4220163871.py:6: SettingWithCopyWarning: \n",
      "A value is trying to be set on a copy of a slice from a DataFrame\n",
      "\n",
      "See the caveats in the documentation: https://pandas.pydata.org/pandas-docs/stable/user_guide/indexing.html#returning-a-view-versus-a-copy\n",
      "  y[i]=0\n",
      "/var/folders/58/l2qkdn8515sc4h0bth87l82w0000gn/T/ipykernel_4586/4220163871.py:4: SettingWithCopyWarning: \n",
      "A value is trying to be set on a copy of a slice from a DataFrame\n",
      "\n",
      "See the caveats in the documentation: https://pandas.pydata.org/pandas-docs/stable/user_guide/indexing.html#returning-a-view-versus-a-copy\n",
      "  y[i]=1\n"
     ]
    }
   ],
   "source": [
    "# convert cancer -> 1 and non-cancer -> 0\n",
    "for i in range(len(y)):\n",
    "    if y[i][0]==\"C\":\n",
    "        y[i]=1\n",
    "    else:\n",
    "        y[i]=0"
   ]
  },
  {
   "cell_type": "code",
   "execution_count": 7,
   "id": "040c7129-6372-4723-8c40-3dd0f773612d",
   "metadata": {},
   "outputs": [],
   "source": [
    "y = pd.to_numeric(y, errors='coerce').astype(int)"
   ]
  },
  {
   "cell_type": "code",
   "execution_count": 8,
   "id": "868a8a14-fa79-4866-bd71-736275ed2632",
   "metadata": {},
   "outputs": [
    {
     "data": {
      "text/plain": [
       "0      0\n",
       "1      1\n",
       "2      0\n",
       "3      0\n",
       "4      0\n",
       "      ..\n",
       "245    0\n",
       "246    1\n",
       "247    0\n",
       "248    1\n",
       "249    0\n",
       "Name: class, Length: 250, dtype: int64"
      ]
     },
     "execution_count": 8,
     "metadata": {},
     "output_type": "execute_result"
    }
   ],
   "source": [
    "y"
   ]
  },
  {
   "cell_type": "code",
   "execution_count": 9,
   "id": "631c6b1a-3995-463e-9d75-727e4dbe0228",
   "metadata": {},
   "outputs": [
    {
     "data": {
      "text/plain": [
       "((225, 8085), (25, 8085))"
      ]
     },
     "execution_count": 9,
     "metadata": {},
     "output_type": "execute_result"
    }
   ],
   "source": [
    "X_train, X_test, y_train, y_test = train_test_split(X, y, test_size=0.10, stratify = y, random_state=1234 )\n",
    "X_train.shape, X_test.shape"
   ]
  },
  {
   "cell_type": "markdown",
   "id": "6081d3ee-a715-4c6b-9cf4-11e2b8ec0028",
   "metadata": {},
   "source": [
    "## Model 1 - Random Forest \n",
    "- Random forest contains 500 trees\n",
    "- Split nodes based on Gain Function\n",
    "- Max depth is 20\n",
    "- Consider all features at each step\n",
    "## Experiments\n",
    "- 1. All features\n",
    "- 2. K best features (based on ANOVA F-value)\n",
    "- 3. High percentile features (based on ANOVA F-value)\n",
    "- 4. tree based feature selection (based on Decision Tree)\n",
    "- 5. model based feature selection (based on Logistic Regression)\n",
    "- 6. Dimentionality reduction method (based on Principal Component Analysis)"
   ]
  },
  {
   "cell_type": "markdown",
   "id": "71e01f7b-8bf6-4c4b-8624-7d493d3905e9",
   "metadata": {},
   "source": [
    "#### 1. All features"
   ]
  },
  {
   "cell_type": "code",
   "execution_count": 10,
   "id": "059167b7-834e-453b-b4e7-aa70043059fd",
   "metadata": {},
   "outputs": [
    {
     "name": "stdout",
     "output_type": "stream",
     "text": [
      " \n",
      "        Accuracy is 0.88\n",
      "        Sensitivity is 0.82\n",
      "        Specificity is 0.93\n",
      "        Precision is 0.9\n",
      "        Miss Rate is 0.18\n",
      "        False discovery rate is 0.1 \n",
      "        False omission rate is 0.13 \n",
      "        \n",
      "Index(['RPL22_GRCh37_1:6257785-6257785_Frame-Shift-Del_DEL_T-T--',\n",
      "       'DOCK3_GRCh37_3:51417604-51417604_Frame-Shift-Del_DEL_C-C--',\n",
      "       'PTEN_GRCh37_10:89692904-89692904_Missense-Mutation_SNP_C-C-G',\n",
      "       'BCOR_GRCh37_X:39921444-39921444_Missense-Mutation_SNP_T-T-C',\n",
      "       'SOX17_GRCh37_8:55372518-55372518_Missense-Mutation_SNP_G-G-T',\n",
      "       'CTNNB1_GRCh37_3:41266113-41266113_Missense-Mutation_SNP_C-C-T_C-C-G',\n",
      "       'PPP2R1A_GRCh37_19:52715971-52715971_Missense-Mutation_SNP_C-C-G_C-C-T',\n",
      "       'KRAS_GRCh37_12:25398284-25398284_Missense-Mutation_SNP_C-C-A_C-C-T_C-C-G',\n",
      "       'PIK3CA_GRCh37_3:178952074-178952074_Missense-Mutation_SNP_G-G-T_G-G-A',\n",
      "       'RNF43_GRCh37_17:56435161-56435161_Frame-Shift-Del_DEL_C-C--'],\n",
      "      dtype='object')\n"
     ]
    }
   ],
   "source": [
    "# Model training\n",
    "rf = RandomForestClassifier(n_estimators=500, criterion=\"entropy\",max_depth=20, max_features=None )\n",
    "rf.fit(X_train, y_train)\n",
    "y_pred = rf.predict(X_test)\n",
    "tn, fp, fn, tp = confusion_matrix(y_test, y_pred).ravel()\n",
    "# Metrics\n",
    "print(metrics_calc([tp, tn, fp, fn]))\n",
    "# Important features\n",
    "feature_importances = rf.feature_importances_\n",
    "sorted_indices = feature_importances.argsort()[::-1]\n",
    "# Select top k features\n",
    "k = 10\n",
    "selected_features = X_train.columns[sorted_indices[:k]]\n",
    "print(selected_features)\n",
    "# Cross validation results\n",
    "#cv_scores = cross_val_score(rf, X, y, cv=11, scoring='accuracy')\n",
    "#print(\"Cross-Validation Scores:\", cv_scores)\n",
    "#print(\"Mean Accuracy:\", cv_scores.mean())\n"
   ]
  },
  {
   "cell_type": "markdown",
   "id": "c0a67256-d563-4d47-a714-7176db409962",
   "metadata": {},
   "source": [
    "#### 2. K best features (based on ANOVA F-value)"
   ]
  },
  {
   "cell_type": "code",
   "execution_count": 11,
   "id": "5b30c67a-9278-4ce5-8bb6-43bd56049e22",
   "metadata": {},
   "outputs": [
    {
     "name": "stderr",
     "output_type": "stream",
     "text": [
      "/Users/dan/opt/anaconda3/envs/py38/lib/python3.8/site-packages/sklearn/feature_selection/_univariate_selection.py:112: UserWarning: Features [ 157  357  363 ... 8071 8072 8084] are constant.\n",
      "  warnings.warn(\"Features %s are constant.\" % constant_features_idx, UserWarning)\n",
      "/Users/dan/opt/anaconda3/envs/py38/lib/python3.8/site-packages/sklearn/feature_selection/_univariate_selection.py:113: RuntimeWarning: invalid value encountered in divide\n",
      "  f = msb / msw\n"
     ]
    },
    {
     "name": "stdout",
     "output_type": "stream",
     "text": [
      " \n",
      "        Accuracy is 0.88\n",
      "        Sensitivity is 0.73\n",
      "        Specificity is 1.0\n",
      "        Precision is 1.0\n",
      "        Miss Rate is 0.27\n",
      "        False discovery rate is 0.0 \n",
      "        False omission rate is 0.18 \n",
      "        \n"
     ]
    }
   ],
   "source": [
    "k_best_selector = SelectKBest(f_classif, k=500)\n",
    "X_train_kbest = k_best_selector.fit_transform(X_train, y_train)\n",
    "X_test_kbest = k_best_selector.transform(X_test)\n",
    "selected_features_indices = k_best_selector.get_support(indices=True)\n",
    "\n",
    "rf1 = RandomForestClassifier(n_estimators=500, criterion=\"entropy\",max_depth=20, max_features=None )\n",
    "rf1.fit(X_train_kbest, y_train)\n",
    "y_pred = rf1.predict(X_test_kbest)\n",
    "tn, fp, fn, tp = confusion_matrix(y_test, y_pred).ravel()\n",
    "# Metrics\n",
    "print(metrics_calc([tp, tn, fp, fn]))\n",
    "# Important features\n",
    "#feature_importances = rf1.feature_importances_\n",
    "#selected_feature_names = np.array(X_train.columns)[selected_features_indices]\n",
    "\n",
    "#feature_importance_dict = dict(zip(selected_feature_names, feature_importances))\n",
    "\n",
    "# Sort the features by importance\n",
    "#sorted_feature_importance = sorted(feature_importance_dict.items(), key=lambda x: x[1], reverse=True)\n",
    "\n",
    "# Print the top 10 most important features\n",
    "#print(\"Top 10 Most Important Features:\")\n",
    "#for feature_name, importance in sorted_feature_importance[:10]:\n",
    "#    print(f\"{feature_name}: Importance = {importance:.4f}\")"
   ]
  },
  {
   "cell_type": "markdown",
   "id": "f3e7a5d4-02fe-41bd-8586-063787fd0338",
   "metadata": {},
   "source": [
    "#### 3. High percentile features (based on ANOVA F-value)"
   ]
  },
  {
   "cell_type": "code",
   "execution_count": 12,
   "id": "ca87866b-742f-4309-af9f-cb24e2326169",
   "metadata": {},
   "outputs": [
    {
     "name": "stderr",
     "output_type": "stream",
     "text": [
      "/Users/dan/opt/anaconda3/envs/py38/lib/python3.8/site-packages/sklearn/feature_selection/_univariate_selection.py:112: UserWarning: Features [ 157  357  363 ... 8071 8072 8084] are constant.\n",
      "  warnings.warn(\"Features %s are constant.\" % constant_features_idx, UserWarning)\n",
      "/Users/dan/opt/anaconda3/envs/py38/lib/python3.8/site-packages/sklearn/feature_selection/_univariate_selection.py:113: RuntimeWarning: invalid value encountered in divide\n",
      "  f = msb / msw\n"
     ]
    },
    {
     "name": "stdout",
     "output_type": "stream",
     "text": [
      " \n",
      "        Accuracy is 0.8\n",
      "        Sensitivity is 0.55\n",
      "        Specificity is 1.0\n",
      "        Precision is 1.0\n",
      "        Miss Rate is 0.45\n",
      "        False discovery rate is 0.0 \n",
      "        False omission rate is 0.26 \n",
      "        \n"
     ]
    }
   ],
   "source": [
    "percentile_selector = SelectPercentile(f_classif, percentile=10)\n",
    "X_train_percentile = percentile_selector.fit_transform(X_train, y_train)\n",
    "X_test_percentile = percentile_selector.transform(X_test)\n",
    "\n",
    "rf2 = RandomForestClassifier(n_estimators=500, criterion=\"entropy\",max_depth=20, max_features=None )\n",
    "rf2.fit(X_train_percentile, y_train)\n",
    "y_pred = rf2.predict(X_test_percentile)\n",
    "tn, fp, fn, tp = confusion_matrix(y_test, y_pred).ravel()\n",
    "# Metrics\n",
    "print(metrics_calc([tp, tn, fp, fn]))\n",
    "# Important features\n",
    "#feature_importances = rf2.feature_importances_\n",
    "#sorted_indices = feature_importances.argsort()[::-1]\n",
    "# Select top k features\n",
    "#k = 10\n",
    "#selected_features = X_train_percentile.columns[sorted_indices[:k]]\n",
    "#print(selected_features)"
   ]
  },
  {
   "cell_type": "markdown",
   "id": "a25b45d6-57b7-4eb7-ad7d-3fd4ff7976db",
   "metadata": {},
   "source": [
    "#### 4. Model based feature selection (based on Decision Tree)"
   ]
  },
  {
   "cell_type": "code",
   "execution_count": 13,
   "id": "eb28f724-f6d5-404e-8b39-3a84c2fdf0c0",
   "metadata": {},
   "outputs": [
    {
     "name": "stdout",
     "output_type": "stream",
     "text": [
      " \n",
      "        Accuracy is 0.8\n",
      "        Sensitivity is 0.73\n",
      "        Specificity is 0.86\n",
      "        Precision is 0.8\n",
      "        Miss Rate is 0.27\n",
      "        False discovery rate is 0.2 \n",
      "        False omission rate is 0.2 \n",
      "        \n"
     ]
    }
   ],
   "source": [
    "tree_selector = SelectFromModel(DecisionTreeClassifier(), threshold=-np.inf, max_features=500)\n",
    "X_train_tree = tree_selector.fit_transform(X_train, y_train)\n",
    "X_test_tree = tree_selector.transform(X_test)\n",
    "\n",
    "rf3 = RandomForestClassifier(n_estimators=500, criterion=\"entropy\",max_depth=20, max_features=None )\n",
    "rf3.fit(X_train_tree, y_train)\n",
    "y_pred = rf3.predict(X_test_tree )\n",
    "tn, fp, fn, tp = confusion_matrix(y_test, y_pred).ravel()\n",
    "# Metrics\n",
    "print(metrics_calc([tp, tn, fp, fn]))\n",
    "# Important features\n",
    "#feature_importances = rf3.feature_importances_\n",
    "#sorted_indices = feature_importances.argsort()[::-1]\n",
    "# Select top k features\n",
    "#k = 10\n",
    "#selected_features = X_train_tree.columns[sorted_indices[:k]]\n",
    "#print(selected_features)"
   ]
  },
  {
   "cell_type": "markdown",
   "id": "fce7ea9d-a3fb-47bd-befd-0cd5eb1b9667",
   "metadata": {},
   "source": [
    "#### 5. Model based feature selection (based on Logistic Regression)"
   ]
  },
  {
   "cell_type": "code",
   "execution_count": 14,
   "id": "4bef6952-b0fb-42c0-9dfe-93f2715280f2",
   "metadata": {},
   "outputs": [
    {
     "name": "stdout",
     "output_type": "stream",
     "text": [
      " \n",
      "        Accuracy is 0.84\n",
      "        Sensitivity is 0.64\n",
      "        Specificity is 1.0\n",
      "        Precision is 1.0\n",
      "        Miss Rate is 0.36\n",
      "        False discovery rate is 0.0 \n",
      "        False omission rate is 0.22 \n",
      "        \n"
     ]
    }
   ],
   "source": [
    "logreg_selector = SelectFromModel(LogisticRegression(), threshold=-np.inf, max_features=500)\n",
    "X_train_logreg = logreg_selector.fit_transform(X_train, y_train)\n",
    "X_test_logreg = logreg_selector.transform(X_test)\n",
    "\n",
    "rf4 = RandomForestClassifier(n_estimators=500, criterion=\"entropy\",max_depth=20, max_features=None )\n",
    "rf4.fit(X_train_logreg, y_train)\n",
    "y_pred = rf4.predict(X_test_logreg )\n",
    "tn, fp, fn, tp = confusion_matrix(y_test, y_pred).ravel()\n",
    "# Metrics\n",
    "print(metrics_calc([tp, tn, fp, fn]))\n",
    "# Important features\n",
    "#feature_importances = rf4.feature_importances_\n",
    "#sorted_indices = feature_importances.argsort()[::-1]\n",
    "## Select top k features\n",
    "#k = 10\n",
    "#selected_features = X_train_logreg.columns[sorted_indices[:k]]\n",
    "#print(selected_features)"
   ]
  },
  {
   "cell_type": "markdown",
   "id": "97f3ca4c-c30f-49e8-b207-8c4bd84c9e11",
   "metadata": {},
   "source": [
    "#### 6. Dimentionality reduction method (based on Principal Component Analysis)"
   ]
  },
  {
   "cell_type": "code",
   "execution_count": 15,
   "id": "4b41d57d-9c16-4797-971b-f4b560a94b9a",
   "metadata": {},
   "outputs": [
    {
     "name": "stdout",
     "output_type": "stream",
     "text": [
      " \n",
      "        Accuracy is 0.96\n",
      "        Sensitivity is 1.0\n",
      "        Specificity is 0.93\n",
      "        Precision is 0.92\n",
      "        Miss Rate is 0.0\n",
      "        False discovery rate is 0.083 \n",
      "        False omission rate is 0.0 \n",
      "        \n"
     ]
    },
    {
     "data": {
      "text/plain": [
       "RPL22_GRCh37_1:6257785-6257785_Frame-Shift-Del_DEL_T-T--          1.270691\n",
       "NCOA3_GRCh37_20:46282985-46282985_3'Flank_DEL_T-T--               1.170213\n",
       "DOCK3_GRCh37_3:51417604-51417604_Frame-Shift-Del_DEL_C-C--        1.168971\n",
       "RNF43_GRCh37_17:56435161-56435161_Frame-Shift-Del_DEL_C-C--       1.152013\n",
       "FAM46A_GRCh37_6:82457993-82457993_3'UTR_DEL_T-T--                 1.046148\n",
       "CSNK1G1_GRCh37_15:64461260-64461260_3'UTR_DEL_A-A--               1.044930\n",
       "SETD1B_GRCh37_12:122242658-122242658_Frame-Shift-Del_DEL_C-C--    1.036273\n",
       "CLVS1_GRCh37_8:62412295-62412295_3'UTR_DEL_T-T--                  1.026678\n",
       "NFIA_GRCh37_1:61543223-61543223_5'Flank_DEL_A-A--                 1.015677\n",
       "HAS2_GRCh37_8:122625937-122625937_3'UTR_DEL_A-A--                 1.013994\n",
       "dtype: float64"
      ]
     },
     "execution_count": 15,
     "metadata": {},
     "output_type": "execute_result"
    }
   ],
   "source": [
    "pca = PCA(n_components=40)\n",
    "X_train_pca = pca.fit_transform(X_train)\n",
    "X_test_pca = pca.transform(X_test)\n",
    "\n",
    "rf5 = RandomForestClassifier(n_estimators=500, criterion=\"entropy\",max_depth=20, max_features=None )\n",
    "rf5.fit(X_train_pca, y_train)\n",
    "y_pred = rf5.predict(X_test_pca )\n",
    "tn, fp, fn, tp = confusion_matrix(y_test, y_pred).ravel()\n",
    "# Metrics\n",
    "print(metrics_calc([tp, tn, fp, fn]))\n",
    "# Important features\n",
    "feature_importances = rf5.feature_importances_\n",
    "oo = pd.DataFrame(pca.components_, columns = df.columns[1:])\n",
    "oo.abs().sum(axis=0).sort_values(ascending=False).head(10)\n",
    "#sorted_indices = feature_importances.argsort()[::-1]\n",
    "# Select top k features\n",
    "#k = 10\n",
    "#selected_features = X_train_pca.columns[sorted_indices[:k]]\n",
    "#print(selected_features)"
   ]
  },
  {
   "cell_type": "code",
   "execution_count": null,
   "id": "9e8fa8b3-0b26-4d1f-bfee-c6a0651d235f",
   "metadata": {},
   "outputs": [],
   "source": []
  },
  {
   "cell_type": "code",
   "execution_count": 16,
   "id": "0088de01-ae57-4308-a016-53062b5a775f",
   "metadata": {},
   "outputs": [],
   "source": [
    "# colorectal cancer aka bowel cancer --> RNF43 mutations"
   ]
  },
  {
   "cell_type": "code",
   "execution_count": null,
   "id": "581f37f5-fe01-4d96-b93a-9f534781c4c7",
   "metadata": {},
   "outputs": [],
   "source": []
  },
  {
   "cell_type": "code",
   "execution_count": null,
   "id": "a5fa8005-008b-41f3-8246-8e74ac7be788",
   "metadata": {},
   "outputs": [],
   "source": []
  },
  {
   "cell_type": "code",
   "execution_count": null,
   "id": "7348e1fa-40d2-4ede-8a94-e0471a281591",
   "metadata": {},
   "outputs": [],
   "source": []
  },
  {
   "cell_type": "code",
   "execution_count": null,
   "id": "4a2ce8a7-d185-4a71-b3e8-9adab154986b",
   "metadata": {},
   "outputs": [],
   "source": []
  },
  {
   "cell_type": "code",
   "execution_count": null,
   "id": "88ba7973-d5e8-40c2-a027-90f748fcae3e",
   "metadata": {},
   "outputs": [],
   "source": []
  },
  {
   "cell_type": "code",
   "execution_count": null,
   "id": "95cf2e40-2129-4584-972f-93e3393457ab",
   "metadata": {},
   "outputs": [],
   "source": []
  },
  {
   "cell_type": "code",
   "execution_count": null,
   "id": "7e8a670a-1cf5-4b63-8ce0-3fafcf40c5e7",
   "metadata": {},
   "outputs": [],
   "source": []
  },
  {
   "cell_type": "code",
   "execution_count": null,
   "id": "fece70bc-8070-46ca-bc47-dfa58086e456",
   "metadata": {},
   "outputs": [],
   "source": []
  },
  {
   "cell_type": "code",
   "execution_count": 17,
   "id": "a1163ed6-61c0-4b7d-b605-c36e93e7dc82",
   "metadata": {},
   "outputs": [],
   "source": [
    "param_dist = {'n_estimators': randint(50,500),\n",
    "              'max_depth': randint(1,20)}"
   ]
  },
  {
   "cell_type": "code",
   "execution_count": 18,
   "id": "a7741c3e-80e6-4e0a-8fd5-aec4bfdb490f",
   "metadata": {},
   "outputs": [],
   "source": [
    "rand_search = RandomizedSearchCV(rf, \n",
    "                                 param_distributions = param_dist, \n",
    "                                 n_iter=5, \n",
    "                                 cv=5)"
   ]
  },
  {
   "cell_type": "code",
   "execution_count": 19,
   "id": "8e38f543-d071-4ffd-9def-14b6b12ebe19",
   "metadata": {},
   "outputs": [
    {
     "data": {
      "text/html": [
       "<style>#sk-container-id-1 {color: black;background-color: white;}#sk-container-id-1 pre{padding: 0;}#sk-container-id-1 div.sk-toggleable {background-color: white;}#sk-container-id-1 label.sk-toggleable__label {cursor: pointer;display: block;width: 100%;margin-bottom: 0;padding: 0.3em;box-sizing: border-box;text-align: center;}#sk-container-id-1 label.sk-toggleable__label-arrow:before {content: \"▸\";float: left;margin-right: 0.25em;color: #696969;}#sk-container-id-1 label.sk-toggleable__label-arrow:hover:before {color: black;}#sk-container-id-1 div.sk-estimator:hover label.sk-toggleable__label-arrow:before {color: black;}#sk-container-id-1 div.sk-toggleable__content {max-height: 0;max-width: 0;overflow: hidden;text-align: left;background-color: #f0f8ff;}#sk-container-id-1 div.sk-toggleable__content pre {margin: 0.2em;color: black;border-radius: 0.25em;background-color: #f0f8ff;}#sk-container-id-1 input.sk-toggleable__control:checked~div.sk-toggleable__content {max-height: 200px;max-width: 100%;overflow: auto;}#sk-container-id-1 input.sk-toggleable__control:checked~label.sk-toggleable__label-arrow:before {content: \"▾\";}#sk-container-id-1 div.sk-estimator input.sk-toggleable__control:checked~label.sk-toggleable__label {background-color: #d4ebff;}#sk-container-id-1 div.sk-label input.sk-toggleable__control:checked~label.sk-toggleable__label {background-color: #d4ebff;}#sk-container-id-1 input.sk-hidden--visually {border: 0;clip: rect(1px 1px 1px 1px);clip: rect(1px, 1px, 1px, 1px);height: 1px;margin: -1px;overflow: hidden;padding: 0;position: absolute;width: 1px;}#sk-container-id-1 div.sk-estimator {font-family: monospace;background-color: #f0f8ff;border: 1px dotted black;border-radius: 0.25em;box-sizing: border-box;margin-bottom: 0.5em;}#sk-container-id-1 div.sk-estimator:hover {background-color: #d4ebff;}#sk-container-id-1 div.sk-parallel-item::after {content: \"\";width: 100%;border-bottom: 1px solid gray;flex-grow: 1;}#sk-container-id-1 div.sk-label:hover label.sk-toggleable__label {background-color: #d4ebff;}#sk-container-id-1 div.sk-serial::before {content: \"\";position: absolute;border-left: 1px solid gray;box-sizing: border-box;top: 0;bottom: 0;left: 50%;z-index: 0;}#sk-container-id-1 div.sk-serial {display: flex;flex-direction: column;align-items: center;background-color: white;padding-right: 0.2em;padding-left: 0.2em;position: relative;}#sk-container-id-1 div.sk-item {position: relative;z-index: 1;}#sk-container-id-1 div.sk-parallel {display: flex;align-items: stretch;justify-content: center;background-color: white;position: relative;}#sk-container-id-1 div.sk-item::before, #sk-container-id-1 div.sk-parallel-item::before {content: \"\";position: absolute;border-left: 1px solid gray;box-sizing: border-box;top: 0;bottom: 0;left: 50%;z-index: -1;}#sk-container-id-1 div.sk-parallel-item {display: flex;flex-direction: column;z-index: 1;position: relative;background-color: white;}#sk-container-id-1 div.sk-parallel-item:first-child::after {align-self: flex-end;width: 50%;}#sk-container-id-1 div.sk-parallel-item:last-child::after {align-self: flex-start;width: 50%;}#sk-container-id-1 div.sk-parallel-item:only-child::after {width: 0;}#sk-container-id-1 div.sk-dashed-wrapped {border: 1px dashed gray;margin: 0 0.4em 0.5em 0.4em;box-sizing: border-box;padding-bottom: 0.4em;background-color: white;}#sk-container-id-1 div.sk-label label {font-family: monospace;font-weight: bold;display: inline-block;line-height: 1.2em;}#sk-container-id-1 div.sk-label-container {text-align: center;}#sk-container-id-1 div.sk-container {/* jupyter's `normalize.less` sets `[hidden] { display: none; }` but bootstrap.min.css set `[hidden] { display: none !important; }` so we also need the `!important` here to be able to override the default hidden behavior on the sphinx rendered scikit-learn.org. See: https://github.com/scikit-learn/scikit-learn/issues/21755 */display: inline-block !important;position: relative;}#sk-container-id-1 div.sk-text-repr-fallback {display: none;}</style><div id=\"sk-container-id-1\" class=\"sk-top-container\"><div class=\"sk-text-repr-fallback\"><pre>RandomizedSearchCV(cv=5,\n",
       "                   estimator=RandomForestClassifier(criterion=&#x27;entropy&#x27;,\n",
       "                                                    max_depth=20,\n",
       "                                                    max_features=None,\n",
       "                                                    n_estimators=500),\n",
       "                   n_iter=5,\n",
       "                   param_distributions={&#x27;max_depth&#x27;: &lt;scipy.stats._distn_infrastructure.rv_discrete_frozen object at 0x7f93d0c88d00&gt;,\n",
       "                                        &#x27;n_estimators&#x27;: &lt;scipy.stats._distn_infrastructure.rv_discrete_frozen object at 0x7f93d0b90cd0&gt;})</pre><b>In a Jupyter environment, please rerun this cell to show the HTML representation or trust the notebook. <br />On GitHub, the HTML representation is unable to render, please try loading this page with nbviewer.org.</b></div><div class=\"sk-container\" hidden><div class=\"sk-item sk-dashed-wrapped\"><div class=\"sk-label-container\"><div class=\"sk-label sk-toggleable\"><input class=\"sk-toggleable__control sk-hidden--visually\" id=\"sk-estimator-id-1\" type=\"checkbox\" ><label for=\"sk-estimator-id-1\" class=\"sk-toggleable__label sk-toggleable__label-arrow\">RandomizedSearchCV</label><div class=\"sk-toggleable__content\"><pre>RandomizedSearchCV(cv=5,\n",
       "                   estimator=RandomForestClassifier(criterion=&#x27;entropy&#x27;,\n",
       "                                                    max_depth=20,\n",
       "                                                    max_features=None,\n",
       "                                                    n_estimators=500),\n",
       "                   n_iter=5,\n",
       "                   param_distributions={&#x27;max_depth&#x27;: &lt;scipy.stats._distn_infrastructure.rv_discrete_frozen object at 0x7f93d0c88d00&gt;,\n",
       "                                        &#x27;n_estimators&#x27;: &lt;scipy.stats._distn_infrastructure.rv_discrete_frozen object at 0x7f93d0b90cd0&gt;})</pre></div></div></div><div class=\"sk-parallel\"><div class=\"sk-parallel-item\"><div class=\"sk-item\"><div class=\"sk-label-container\"><div class=\"sk-label sk-toggleable\"><input class=\"sk-toggleable__control sk-hidden--visually\" id=\"sk-estimator-id-2\" type=\"checkbox\" ><label for=\"sk-estimator-id-2\" class=\"sk-toggleable__label sk-toggleable__label-arrow\">estimator: RandomForestClassifier</label><div class=\"sk-toggleable__content\"><pre>RandomForestClassifier(criterion=&#x27;entropy&#x27;, max_depth=20, max_features=None,\n",
       "                       n_estimators=500)</pre></div></div></div><div class=\"sk-serial\"><div class=\"sk-item\"><div class=\"sk-estimator sk-toggleable\"><input class=\"sk-toggleable__control sk-hidden--visually\" id=\"sk-estimator-id-3\" type=\"checkbox\" ><label for=\"sk-estimator-id-3\" class=\"sk-toggleable__label sk-toggleable__label-arrow\">RandomForestClassifier</label><div class=\"sk-toggleable__content\"><pre>RandomForestClassifier(criterion=&#x27;entropy&#x27;, max_depth=20, max_features=None,\n",
       "                       n_estimators=500)</pre></div></div></div></div></div></div></div></div></div></div>"
      ],
      "text/plain": [
       "RandomizedSearchCV(cv=5,\n",
       "                   estimator=RandomForestClassifier(criterion='entropy',\n",
       "                                                    max_depth=20,\n",
       "                                                    max_features=None,\n",
       "                                                    n_estimators=500),\n",
       "                   n_iter=5,\n",
       "                   param_distributions={'max_depth': <scipy.stats._distn_infrastructure.rv_discrete_frozen object at 0x7f93d0c88d00>,\n",
       "                                        'n_estimators': <scipy.stats._distn_infrastructure.rv_discrete_frozen object at 0x7f93d0b90cd0>})"
      ]
     },
     "execution_count": 19,
     "metadata": {},
     "output_type": "execute_result"
    }
   ],
   "source": [
    "rand_search.fit(X_train, y_train)"
   ]
  },
  {
   "cell_type": "code",
   "execution_count": 20,
   "id": "5594cbdb-f09a-4a2e-96c6-cc78d80f7310",
   "metadata": {},
   "outputs": [
    {
     "name": "stdout",
     "output_type": "stream",
     "text": [
      "Best hyperparameters: {'max_depth': 18, 'n_estimators': 265}\n"
     ]
    }
   ],
   "source": [
    "# Create a variable for the best model\n",
    "best_rf = rand_search.best_estimator_\n",
    "\n",
    "# Print the best hyperparameters\n",
    "print('Best hyperparameters:',  rand_search.best_params_)"
   ]
  },
  {
   "cell_type": "code",
   "execution_count": 21,
   "id": "ac3dfcb6-90d7-44cf-a8c4-964e696f271f",
   "metadata": {},
   "outputs": [
    {
     "data": {
      "image/png": "[encoded data removed]",
      "text/plain": [
       "<Figure size 640x480 with 2 Axes>"
      ]
     },
     "metadata": {},
     "output_type": "display_data"
    }
   ],
   "source": [
    "# Generate predictions with the best model\n",
    "y_pred = best_rf.predict(X_test)\n",
    "\n",
    "# Create the confusion matrix\n",
    "cm = confusion_matrix(y_test, y_pred)\n",
    "\n",
    "ConfusionMatrixDisplay(confusion_matrix=cm).plot();"
   ]
  },
  {
   "cell_type": "code",
   "execution_count": 22,
   "id": "57a09f8c-7836-48e0-854a-532e92270c6f",
   "metadata": {},
   "outputs": [
    {
     "name": "stdout",
     "output_type": "stream",
     "text": [
      "Accuracy: 0.88\n",
      "Precision: 0.9\n",
      "Recall: 0.8181818181818182\n"
     ]
    }
   ],
   "source": [
    "accuracy = accuracy_score(y_test, y_pred)\n",
    "precision = precision_score(y_test, y_pred)\n",
    "recall = recall_score(y_test, y_pred)\n",
    "\n",
    "print(\"Accuracy:\", accuracy)\n",
    "print(\"Precision:\", precision)\n",
    "print(\"Recall:\", recall)"
   ]
  },
  {
   "cell_type": "markdown",
   "id": "e9cf2c97-5e61-425a-9f82-a22f706e51f8",
   "metadata": {},
   "source": [
    "# Experiment 3"
   ]
  },
  {
   "cell_type": "code",
   "execution_count": 23,
   "id": "cb709498-b509-4034-bf6f-9b4ec0c40fc0",
   "metadata": {},
   "outputs": [],
   "source": [
    "pca = PCA(n_components=75)"
   ]
  },
  {
   "cell_type": "code",
   "execution_count": 24,
   "id": "3b08f0af-d217-48c3-a413-a37656436898",
   "metadata": {},
   "outputs": [],
   "source": [
    "train_data = pca.fit_transform(X_train)\n",
    "test_data = pca.transform(X_test)"
   ]
  },
  {
   "cell_type": "code",
   "execution_count": 25,
   "id": "7f7f5299-f710-4bbc-a28f-56ff7f7ad2c4",
   "metadata": {},
   "outputs": [],
   "source": [
    "rfr = RandomForestClassifier(n_estimators = 100, n_jobs = 1, \n",
    "                                         random_state = 2024, verbose = 1,\n",
    "                                         class_weight='balanced',oob_score=True)"
   ]
  },
  {
   "cell_type": "code",
   "execution_count": 26,
   "id": "6723abad-3770-4b58-a865-7bd55ddb1e91",
   "metadata": {},
   "outputs": [
    {
     "name": "stderr",
     "output_type": "stream",
     "text": [
      "[Parallel(n_jobs=1)]: Done  49 tasks      | elapsed:    0.1s\n"
     ]
    },
    {
     "data": {
      "text/html": [
       "<style>#sk-container-id-2 {color: black;background-color: white;}#sk-container-id-2 pre{padding: 0;}#sk-container-id-2 div.sk-toggleable {background-color: white;}#sk-container-id-2 label.sk-toggleable__label {cursor: pointer;display: block;width: 100%;margin-bottom: 0;padding: 0.3em;box-sizing: border-box;text-align: center;}#sk-container-id-2 label.sk-toggleable__label-arrow:before {content: \"▸\";float: left;margin-right: 0.25em;color: #696969;}#sk-container-id-2 label.sk-toggleable__label-arrow:hover:before {color: black;}#sk-container-id-2 div.sk-estimator:hover label.sk-toggleable__label-arrow:before {color: black;}#sk-container-id-2 div.sk-toggleable__content {max-height: 0;max-width: 0;overflow: hidden;text-align: left;background-color: #f0f8ff;}#sk-container-id-2 div.sk-toggleable__content pre {margin: 0.2em;color: black;border-radius: 0.25em;background-color: #f0f8ff;}#sk-container-id-2 input.sk-toggleable__control:checked~div.sk-toggleable__content {max-height: 200px;max-width: 100%;overflow: auto;}#sk-container-id-2 input.sk-toggleable__control:checked~label.sk-toggleable__label-arrow:before {content: \"▾\";}#sk-container-id-2 div.sk-estimator input.sk-toggleable__control:checked~label.sk-toggleable__label {background-color: #d4ebff;}#sk-container-id-2 div.sk-label input.sk-toggleable__control:checked~label.sk-toggleable__label {background-color: #d4ebff;}#sk-container-id-2 input.sk-hidden--visually {border: 0;clip: rect(1px 1px 1px 1px);clip: rect(1px, 1px, 1px, 1px);height: 1px;margin: -1px;overflow: hidden;padding: 0;position: absolute;width: 1px;}#sk-container-id-2 div.sk-estimator {font-family: monospace;background-color: #f0f8ff;border: 1px dotted black;border-radius: 0.25em;box-sizing: border-box;margin-bottom: 0.5em;}#sk-container-id-2 div.sk-estimator:hover {background-color: #d4ebff;}#sk-container-id-2 div.sk-parallel-item::after {content: \"\";width: 100%;border-bottom: 1px solid gray;flex-grow: 1;}#sk-container-id-2 div.sk-label:hover label.sk-toggleable__label {background-color: #d4ebff;}#sk-container-id-2 div.sk-serial::before {content: \"\";position: absolute;border-left: 1px solid gray;box-sizing: border-box;top: 0;bottom: 0;left: 50%;z-index: 0;}#sk-container-id-2 div.sk-serial {display: flex;flex-direction: column;align-items: center;background-color: white;padding-right: 0.2em;padding-left: 0.2em;position: relative;}#sk-container-id-2 div.sk-item {position: relative;z-index: 1;}#sk-container-id-2 div.sk-parallel {display: flex;align-items: stretch;justify-content: center;background-color: white;position: relative;}#sk-container-id-2 div.sk-item::before, #sk-container-id-2 div.sk-parallel-item::before {content: \"\";position: absolute;border-left: 1px solid gray;box-sizing: border-box;top: 0;bottom: 0;left: 50%;z-index: -1;}#sk-container-id-2 div.sk-parallel-item {display: flex;flex-direction: column;z-index: 1;position: relative;background-color: white;}#sk-container-id-2 div.sk-parallel-item:first-child::after {align-self: flex-end;width: 50%;}#sk-container-id-2 div.sk-parallel-item:last-child::after {align-self: flex-start;width: 50%;}#sk-container-id-2 div.sk-parallel-item:only-child::after {width: 0;}#sk-container-id-2 div.sk-dashed-wrapped {border: 1px dashed gray;margin: 0 0.4em 0.5em 0.4em;box-sizing: border-box;padding-bottom: 0.4em;background-color: white;}#sk-container-id-2 div.sk-label label {font-family: monospace;font-weight: bold;display: inline-block;line-height: 1.2em;}#sk-container-id-2 div.sk-label-container {text-align: center;}#sk-container-id-2 div.sk-container {/* jupyter's `normalize.less` sets `[hidden] { display: none; }` but bootstrap.min.css set `[hidden] { display: none !important; }` so we also need the `!important` here to be able to override the default hidden behavior on the sphinx rendered scikit-learn.org. See: https://github.com/scikit-learn/scikit-learn/issues/21755 */display: inline-block !important;position: relative;}#sk-container-id-2 div.sk-text-repr-fallback {display: none;}</style><div id=\"sk-container-id-2\" class=\"sk-top-container\"><div class=\"sk-text-repr-fallback\"><pre>RandomForestClassifier(class_weight=&#x27;balanced&#x27;, n_jobs=1, oob_score=True,\n",
       "                       random_state=2024, verbose=1)</pre><b>In a Jupyter environment, please rerun this cell to show the HTML representation or trust the notebook. <br />On GitHub, the HTML representation is unable to render, please try loading this page with nbviewer.org.</b></div><div class=\"sk-container\" hidden><div class=\"sk-item\"><div class=\"sk-estimator sk-toggleable\"><input class=\"sk-toggleable__control sk-hidden--visually\" id=\"sk-estimator-id-4\" type=\"checkbox\" checked><label for=\"sk-estimator-id-4\" class=\"sk-toggleable__label sk-toggleable__label-arrow\">RandomForestClassifier</label><div class=\"sk-toggleable__content\"><pre>RandomForestClassifier(class_weight=&#x27;balanced&#x27;, n_jobs=1, oob_score=True,\n",
       "                       random_state=2024, verbose=1)</pre></div></div></div></div></div>"
      ],
      "text/plain": [
       "RandomForestClassifier(class_weight='balanced', n_jobs=1, oob_score=True,\n",
       "                       random_state=2024, verbose=1)"
      ]
     },
     "execution_count": 26,
     "metadata": {},
     "output_type": "execute_result"
    }
   ],
   "source": [
    "rfr.fit(train_data, y_train)"
   ]
  },
  {
   "cell_type": "code",
   "execution_count": 27,
   "id": "0ab433eb-d16f-47a7-8f8b-3564e0a4e72e",
   "metadata": {},
   "outputs": [
    {
     "name": "stderr",
     "output_type": "stream",
     "text": [
      "[Parallel(n_jobs=1)]: Done  49 tasks      | elapsed:    0.0s\n"
     ]
    }
   ],
   "source": [
    "y_pred = rfr.predict(test_data)"
   ]
  },
  {
   "cell_type": "code",
   "execution_count": 28,
   "id": "51c6c256-ca2b-49f7-a989-46c65e4f2928",
   "metadata": {},
   "outputs": [
    {
     "name": "stdout",
     "output_type": "stream",
     "text": [
      "Accuracy: 0.96\n",
      "Precision: 0.9166666666666666\n",
      "Recall: 1.0\n"
     ]
    }
   ],
   "source": [
    "accuracy = accuracy_score(y_test, y_pred)\n",
    "precision = precision_score(y_test, y_pred)\n",
    "recall = recall_score(y_test, y_pred)\n",
    "\n",
    "print(\"Accuracy:\", accuracy)\n",
    "print(\"Precision:\", precision)\n",
    "print(\"Recall:\", recall)"
   ]
  },
  {
   "cell_type": "markdown",
   "id": "20d5fa11-0890-4df7-91cb-46612ed6626f",
   "metadata": {},
   "source": [
    "# Experiment 4"
   ]
  },
  {
   "cell_type": "code",
   "execution_count": 29,
   "id": "c3da1e53-2110-470d-bccd-bd3f8c8665d3",
   "metadata": {},
   "outputs": [
    {
     "name": "stderr",
     "output_type": "stream",
     "text": [
      "[Parallel(n_jobs=1)]: Done  49 tasks      | elapsed:    0.1s\n",
      "[Parallel(n_jobs=1)]: Done  49 tasks      | elapsed:    0.0s\n"
     ]
    }
   ],
   "source": [
    "pca = PCA(n_components=50)\n",
    "train_data = pca.fit_transform(X_train)\n",
    "test_data = pca.transform(X_test)\n",
    "rfr = RandomForestClassifier(n_estimators = 100, n_jobs = 1, \n",
    "                                         random_state = 2024, verbose = 1,\n",
    "                                         class_weight='balanced',oob_score=True)\n",
    "rfr.fit(train_data, y_train)\n",
    "y_pred = rfr.predict(test_data)"
   ]
  },
  {
   "cell_type": "code",
   "execution_count": 30,
   "id": "9f3dd67f-0b6e-49aa-9f54-481489f47d2d",
   "metadata": {},
   "outputs": [
    {
     "name": "stdout",
     "output_type": "stream",
     "text": [
      "Accuracy: 0.92\n",
      "Precision: 0.8461538461538461\n",
      "Recall: 1.0\n"
     ]
    }
   ],
   "source": [
    "accuracy = accuracy_score(y_test, y_pred)\n",
    "precision = precision_score(y_test, y_pred)\n",
    "recall = recall_score(y_test, y_pred)\n",
    "\n",
    "print(\"Accuracy:\", accuracy)\n",
    "print(\"Precision:\", precision)\n",
    "print(\"Recall:\", recall)"
   ]
  },
  {
   "cell_type": "markdown",
   "id": "0cbaa4a4-f184-479d-af2f-646660c46944",
   "metadata": {},
   "source": [
    "# Experiment 5"
   ]
  },
  {
   "cell_type": "code",
   "execution_count": 31,
   "id": "6c537e0e-30a9-4d69-9e01-b5c576ec7454",
   "metadata": {},
   "outputs": [
    {
     "name": "stderr",
     "output_type": "stream",
     "text": [
      "[Parallel(n_jobs=1)]: Done  49 tasks      | elapsed:    0.1s\n",
      "[Parallel(n_jobs=1)]: Done 199 tasks      | elapsed:    0.3s\n",
      "[Parallel(n_jobs=1)]: Done  49 tasks      | elapsed:    0.0s\n",
      "[Parallel(n_jobs=1)]: Done 199 tasks      | elapsed:    0.0s\n"
     ]
    }
   ],
   "source": [
    "pca = PCA(n_components=50)\n",
    "train_data = pca.fit_transform(X_train)\n",
    "test_data = pca.transform(X_test)\n",
    "rfr = RandomForestClassifier(n_estimators = 400, n_jobs = 1, \n",
    "                                         random_state = 2024, verbose = 1,\n",
    "                                         class_weight='balanced',oob_score=True)\n",
    "rfr.fit(train_data, y_train)\n",
    "y_pred = rfr.predict(test_data)"
   ]
  },
  {
   "cell_type": "code",
   "execution_count": 32,
   "id": "191f4f45-6b74-465a-8bcc-731fce4151f5",
   "metadata": {},
   "outputs": [
    {
     "name": "stdout",
     "output_type": "stream",
     "text": [
      "Accuracy: 0.92\n",
      "Precision: 0.8461538461538461\n",
      "Recall: 1.0\n"
     ]
    }
   ],
   "source": [
    "accuracy = accuracy_score(y_test, y_pred)\n",
    "precision = precision_score(y_test, y_pred)\n",
    "recall = recall_score(y_test, y_pred)\n",
    "\n",
    "print(\"Accuracy:\", accuracy)\n",
    "print(\"Precision:\", precision)\n",
    "print(\"Recall:\", recall)"
   ]
  },
  {
   "cell_type": "markdown",
   "id": "f73acbea-388d-4497-b2b6-8f963ebba7bd",
   "metadata": {},
   "source": [
    "# Experiment 6"
   ]
  },
  {
   "cell_type": "code",
   "execution_count": 33,
   "id": "397214c1-1841-4d2b-89db-304e17e865f9",
   "metadata": {},
   "outputs": [
    {
     "name": "stderr",
     "output_type": "stream",
     "text": [
      "[Parallel(n_jobs=1)]: Done  49 tasks      | elapsed:    0.1s\n",
      "[Parallel(n_jobs=1)]: Done 199 tasks      | elapsed:    0.3s\n",
      "[Parallel(n_jobs=1)]: Done  49 tasks      | elapsed:    0.0s\n",
      "[Parallel(n_jobs=1)]: Done 199 tasks      | elapsed:    0.0s\n"
     ]
    }
   ],
   "source": [
    "pca = PCA(n_components=40)\n",
    "train_data = pca.fit_transform(X_train)\n",
    "test_data = pca.transform(X_test)\n",
    "rfr = RandomForestClassifier(n_estimators = 400, n_jobs = 1, \n",
    "                                         random_state = 2024, verbose = 1,\n",
    "                                         class_weight='balanced',oob_score=True)\n",
    "rfr.fit(train_data, y_train)\n",
    "y_pred = rfr.predict(test_data)"
   ]
  },
  {
   "cell_type": "code",
   "execution_count": 34,
   "id": "80705d1d-5bc8-496c-aa07-81437defaaae",
   "metadata": {},
   "outputs": [
    {
     "name": "stdout",
     "output_type": "stream",
     "text": [
      "Accuracy: 0.96\n",
      "Precision: 0.9166666666666666\n",
      "Recall: 1.0\n"
     ]
    }
   ],
   "source": [
    "accuracy = accuracy_score(y_test, y_pred)\n",
    "precision = precision_score(y_test, y_pred)\n",
    "recall = recall_score(y_test, y_pred)\n",
    "\n",
    "print(\"Accuracy:\", accuracy)\n",
    "print(\"Precision:\", precision)\n",
    "print(\"Recall:\", recall)"
   ]
  },
  {
   "cell_type": "markdown",
   "id": "571cea56-182a-4ad5-be84-fdc3f38d32d2",
   "metadata": {},
   "source": [
    "# Experiment 7"
   ]
  },
  {
   "cell_type": "code",
   "execution_count": 35,
   "id": "128d93e4-eb73-4635-9ec3-7ae7342e9e08",
   "metadata": {},
   "outputs": [],
   "source": [
    "rand_search = RandomizedSearchCV(rf, \n",
    "                                 param_distributions = param_dist, \n",
    "                                 n_iter=10, \n",
    "                                 cv=15)"
   ]
  },
  {
   "cell_type": "code",
   "execution_count": 36,
   "id": "2430ded5-7fd6-41c2-bece-28875a3a65c3",
   "metadata": {},
   "outputs": [
    {
     "data": {
      "text/html": [
       "<style>#sk-container-id-3 {color: black;background-color: white;}#sk-container-id-3 pre{padding: 0;}#sk-container-id-3 div.sk-toggleable {background-color: white;}#sk-container-id-3 label.sk-toggleable__label {cursor: pointer;display: block;width: 100%;margin-bottom: 0;padding: 0.3em;box-sizing: border-box;text-align: center;}#sk-container-id-3 label.sk-toggleable__label-arrow:before {content: \"▸\";float: left;margin-right: 0.25em;color: #696969;}#sk-container-id-3 label.sk-toggleable__label-arrow:hover:before {color: black;}#sk-container-id-3 div.sk-estimator:hover label.sk-toggleable__label-arrow:before {color: black;}#sk-container-id-3 div.sk-toggleable__content {max-height: 0;max-width: 0;overflow: hidden;text-align: left;background-color: #f0f8ff;}#sk-container-id-3 div.sk-toggleable__content pre {margin: 0.2em;color: black;border-radius: 0.25em;background-color: #f0f8ff;}#sk-container-id-3 input.sk-toggleable__control:checked~div.sk-toggleable__content {max-height: 200px;max-width: 100%;overflow: auto;}#sk-container-id-3 input.sk-toggleable__control:checked~label.sk-toggleable__label-arrow:before {content: \"▾\";}#sk-container-id-3 div.sk-estimator input.sk-toggleable__control:checked~label.sk-toggleable__label {background-color: #d4ebff;}#sk-container-id-3 div.sk-label input.sk-toggleable__control:checked~label.sk-toggleable__label {background-color: #d4ebff;}#sk-container-id-3 input.sk-hidden--visually {border: 0;clip: rect(1px 1px 1px 1px);clip: rect(1px, 1px, 1px, 1px);height: 1px;margin: -1px;overflow: hidden;padding: 0;position: absolute;width: 1px;}#sk-container-id-3 div.sk-estimator {font-family: monospace;background-color: #f0f8ff;border: 1px dotted black;border-radius: 0.25em;box-sizing: border-box;margin-bottom: 0.5em;}#sk-container-id-3 div.sk-estimator:hover {background-color: #d4ebff;}#sk-container-id-3 div.sk-parallel-item::after {content: \"\";width: 100%;border-bottom: 1px solid gray;flex-grow: 1;}#sk-container-id-3 div.sk-label:hover label.sk-toggleable__label {background-color: #d4ebff;}#sk-container-id-3 div.sk-serial::before {content: \"\";position: absolute;border-left: 1px solid gray;box-sizing: border-box;top: 0;bottom: 0;left: 50%;z-index: 0;}#sk-container-id-3 div.sk-serial {display: flex;flex-direction: column;align-items: center;background-color: white;padding-right: 0.2em;padding-left: 0.2em;position: relative;}#sk-container-id-3 div.sk-item {position: relative;z-index: 1;}#sk-container-id-3 div.sk-parallel {display: flex;align-items: stretch;justify-content: center;background-color: white;position: relative;}#sk-container-id-3 div.sk-item::before, #sk-container-id-3 div.sk-parallel-item::before {content: \"\";position: absolute;border-left: 1px solid gray;box-sizing: border-box;top: 0;bottom: 0;left: 50%;z-index: -1;}#sk-container-id-3 div.sk-parallel-item {display: flex;flex-direction: column;z-index: 1;position: relative;background-color: white;}#sk-container-id-3 div.sk-parallel-item:first-child::after {align-self: flex-end;width: 50%;}#sk-container-id-3 div.sk-parallel-item:last-child::after {align-self: flex-start;width: 50%;}#sk-container-id-3 div.sk-parallel-item:only-child::after {width: 0;}#sk-container-id-3 div.sk-dashed-wrapped {border: 1px dashed gray;margin: 0 0.4em 0.5em 0.4em;box-sizing: border-box;padding-bottom: 0.4em;background-color: white;}#sk-container-id-3 div.sk-label label {font-family: monospace;font-weight: bold;display: inline-block;line-height: 1.2em;}#sk-container-id-3 div.sk-label-container {text-align: center;}#sk-container-id-3 div.sk-container {/* jupyter's `normalize.less` sets `[hidden] { display: none; }` but bootstrap.min.css set `[hidden] { display: none !important; }` so we also need the `!important` here to be able to override the default hidden behavior on the sphinx rendered scikit-learn.org. See: https://github.com/scikit-learn/scikit-learn/issues/21755 */display: inline-block !important;position: relative;}#sk-container-id-3 div.sk-text-repr-fallback {display: none;}</style><div id=\"sk-container-id-3\" class=\"sk-top-container\"><div class=\"sk-text-repr-fallback\"><pre>RandomizedSearchCV(cv=15,\n",
       "                   estimator=RandomForestClassifier(criterion=&#x27;entropy&#x27;,\n",
       "                                                    max_depth=20,\n",
       "                                                    max_features=None,\n",
       "                                                    n_estimators=500),\n",
       "                   param_distributions={&#x27;max_depth&#x27;: &lt;scipy.stats._distn_infrastructure.rv_discrete_frozen object at 0x7f93d0c88d00&gt;,\n",
       "                                        &#x27;n_estimators&#x27;: &lt;scipy.stats._distn_infrastructure.rv_discrete_frozen object at 0x7f93d0b90cd0&gt;})</pre><b>In a Jupyter environment, please rerun this cell to show the HTML representation or trust the notebook. <br />On GitHub, the HTML representation is unable to render, please try loading this page with nbviewer.org.</b></div><div class=\"sk-container\" hidden><div class=\"sk-item sk-dashed-wrapped\"><div class=\"sk-label-container\"><div class=\"sk-label sk-toggleable\"><input class=\"sk-toggleable__control sk-hidden--visually\" id=\"sk-estimator-id-5\" type=\"checkbox\" ><label for=\"sk-estimator-id-5\" class=\"sk-toggleable__label sk-toggleable__label-arrow\">RandomizedSearchCV</label><div class=\"sk-toggleable__content\"><pre>RandomizedSearchCV(cv=15,\n",
       "                   estimator=RandomForestClassifier(criterion=&#x27;entropy&#x27;,\n",
       "                                                    max_depth=20,\n",
       "                                                    max_features=None,\n",
       "                                                    n_estimators=500),\n",
       "                   param_distributions={&#x27;max_depth&#x27;: &lt;scipy.stats._distn_infrastructure.rv_discrete_frozen object at 0x7f93d0c88d00&gt;,\n",
       "                                        &#x27;n_estimators&#x27;: &lt;scipy.stats._distn_infrastructure.rv_discrete_frozen object at 0x7f93d0b90cd0&gt;})</pre></div></div></div><div class=\"sk-parallel\"><div class=\"sk-parallel-item\"><div class=\"sk-item\"><div class=\"sk-label-container\"><div class=\"sk-label sk-toggleable\"><input class=\"sk-toggleable__control sk-hidden--visually\" id=\"sk-estimator-id-6\" type=\"checkbox\" ><label for=\"sk-estimator-id-6\" class=\"sk-toggleable__label sk-toggleable__label-arrow\">estimator: RandomForestClassifier</label><div class=\"sk-toggleable__content\"><pre>RandomForestClassifier(criterion=&#x27;entropy&#x27;, max_depth=20, max_features=None,\n",
       "                       n_estimators=500)</pre></div></div></div><div class=\"sk-serial\"><div class=\"sk-item\"><div class=\"sk-estimator sk-toggleable\"><input class=\"sk-toggleable__control sk-hidden--visually\" id=\"sk-estimator-id-7\" type=\"checkbox\" ><label for=\"sk-estimator-id-7\" class=\"sk-toggleable__label sk-toggleable__label-arrow\">RandomForestClassifier</label><div class=\"sk-toggleable__content\"><pre>RandomForestClassifier(criterion=&#x27;entropy&#x27;, max_depth=20, max_features=None,\n",
       "                       n_estimators=500)</pre></div></div></div></div></div></div></div></div></div></div>"
      ],
      "text/plain": [
       "RandomizedSearchCV(cv=15,\n",
       "                   estimator=RandomForestClassifier(criterion='entropy',\n",
       "                                                    max_depth=20,\n",
       "                                                    max_features=None,\n",
       "                                                    n_estimators=500),\n",
       "                   param_distributions={'max_depth': <scipy.stats._distn_infrastructure.rv_discrete_frozen object at 0x7f93d0c88d00>,\n",
       "                                        'n_estimators': <scipy.stats._distn_infrastructure.rv_discrete_frozen object at 0x7f93d0b90cd0>})"
      ]
     },
     "execution_count": 36,
     "metadata": {},
     "output_type": "execute_result"
    }
   ],
   "source": [
    "rand_search.fit(train_data, y_train)"
   ]
  },
  {
   "cell_type": "code",
   "execution_count": 37,
   "id": "b75d8f60-700e-4f56-afbd-ff7177bf46e0",
   "metadata": {},
   "outputs": [
    {
     "name": "stdout",
     "output_type": "stream",
     "text": [
      "Best hyperparameters: {'max_depth': 8, 'n_estimators': 445}\n"
     ]
    }
   ],
   "source": [
    "best_rf = rand_search.best_estimator_\n",
    "print('Best hyperparameters:',  rand_search.best_params_)"
   ]
  },
  {
   "cell_type": "code",
   "execution_count": 38,
   "id": "21534031-d114-4551-9aab-a23031a1fe23",
   "metadata": {},
   "outputs": [
    {
     "name": "stdout",
     "output_type": "stream",
     "text": [
      "Accuracy: 0.92\n",
      "Precision: 0.8461538461538461\n",
      "Recall: 1.0\n"
     ]
    }
   ],
   "source": [
    "y_pred = best_rf.predict(test_data)\n",
    "accuracy = accuracy_score(y_test, y_pred)\n",
    "precision = precision_score(y_test, y_pred)\n",
    "recall = recall_score(y_test, y_pred)\n",
    "\n",
    "print(\"Accuracy:\", accuracy)\n",
    "print(\"Precision:\", precision)\n",
    "print(\"Recall:\", recall)"
   ]
  },
  {
   "cell_type": "markdown",
   "id": "04f5f919-ff2e-47e2-aabc-fed5d7c0430a",
   "metadata": {},
   "source": [
    "# Experiment next"
   ]
  },
  {
   "cell_type": "code",
   "execution_count": 39,
   "id": "32f190db-06a3-4388-afa4-2712de8903a8",
   "metadata": {},
   "outputs": [],
   "source": [
    "from sklearn.ensemble import AdaBoostClassifier, RandomForestClassifier\n",
    "base_estimator = RandomForestClassifier(max_depth=14, n_estimators=250)\n",
    "n_estimators = 250  # Number of weak learners (trees) to train\n",
    "learning_rate = 0.5  # Weight applied to each weak learner's contribution\n",
    "adaboost_model = AdaBoostClassifier(base_estimator=base_estimator, n_estimators=n_estimators, learning_rate=learning_rate)"
   ]
  },
  {
   "cell_type": "code",
   "execution_count": 40,
   "id": "ac2b0380-2b9e-4161-83b4-88a4cba34bd4",
   "metadata": {},
   "outputs": [],
   "source": [
    "pca = PCA(n_components=200)\n",
    "train_data = pca.fit_transform(X_train)\n",
    "test_data = pca.transform(X_test)"
   ]
  },
  {
   "cell_type": "code",
   "execution_count": 41,
   "id": "e9c672fd-15e0-4f5a-88cc-a31bc0a6a2ba",
   "metadata": {},
   "outputs": [
    {
     "name": "stderr",
     "output_type": "stream",
     "text": [
      "/Users/dan/opt/anaconda3/envs/py38/lib/python3.8/site-packages/sklearn/ensemble/_base.py:166: FutureWarning: `base_estimator` was renamed to `estimator` in version 1.2 and will be removed in 1.4.\n",
      "  warnings.warn(\n"
     ]
    },
    {
     "name": "stdout",
     "output_type": "stream",
     "text": [
      "Accuracy: 0.8\n",
      "Precision: 1.0\n",
      "Recall: 0.5454545454545454\n"
     ]
    }
   ],
   "source": [
    "adaboost_model.fit(train_data, y_train)\n",
    "y_pred = adaboost_model.predict(test_data)\n",
    "accuracy = accuracy_score(y_test, y_pred)\n",
    "precision = precision_score(y_test, y_pred)\n",
    "recall = recall_score(y_test, y_pred)\n",
    "\n",
    "print(\"Accuracy:\", accuracy)\n",
    "print(\"Precision:\", precision)\n",
    "print(\"Recall:\", recall)"
   ]
  },
  {
   "cell_type": "markdown",
   "id": "ee34d12f-136c-47db-be5e-31a403625d50",
   "metadata": {},
   "source": [
    "# Experiment nextnext"
   ]
  },
  {
   "cell_type": "code",
   "execution_count": 42,
   "id": "a2306e82-944e-4739-87c3-9ed994366f4f",
   "metadata": {},
   "outputs": [],
   "source": [
    "from xgboost import XGBClassifier\n",
    "import xgboost as xgb"
   ]
  },
  {
   "cell_type": "code",
   "execution_count": 43,
   "id": "25c2c25c-aff2-4b9a-849a-8a1e6f83e73b",
   "metadata": {},
   "outputs": [],
   "source": [
    "pca = PCA(n_components=40)\n",
    "train_data = pca.fit_transform(X_train)\n",
    "test_data = pca.transform(X_test)"
   ]
  },
  {
   "cell_type": "code",
   "execution_count": 44,
   "id": "9e71a4ae-cf2d-4d6f-8bb5-a040395c3dec",
   "metadata": {},
   "outputs": [],
   "source": [
    "xgb_model = XGBClassifier(booster='gbtree', n_estimators=200, learning_rate=0.1, max_depth=15, base_estimator=base_estimator)"
   ]
  },
  {
   "cell_type": "code",
   "execution_count": 45,
   "id": "64eb976e-9f54-4912-900f-8d99eb1f3a9b",
   "metadata": {},
   "outputs": [
    {
     "name": "stderr",
     "output_type": "stream",
     "text": [
      "/Users/dan/opt/anaconda3/envs/py38/lib/python3.8/site-packages/xgboost/core.py:160: UserWarning: [16:55:00] WARNING: /Users/runner/work/xgboost/xgboost/src/learner.cc:742: \n",
      "Parameters: { \"base_estimator\" } are not used.\n",
      "\n",
      "  warnings.warn(smsg, UserWarning)\n"
     ]
    },
    {
     "name": "stdout",
     "output_type": "stream",
     "text": [
      "Accuracy: 0.92\n",
      "Precision: 0.9090909090909091\n",
      "Recall: 0.9090909090909091\n"
     ]
    }
   ],
   "source": [
    "xgb_model.fit(train_data, y_train)\n",
    "y_pred = xgb_model.predict(test_data)\n",
    "accuracy = accuracy_score(y_test, y_pred)\n",
    "precision = precision_score(y_test, y_pred)\n",
    "recall = recall_score(y_test, y_pred)\n",
    "\n",
    "print(\"Accuracy:\", accuracy)\n",
    "print(\"Precision:\", precision)\n",
    "print(\"Recall:\", recall)"
   ]
  },
  {
   "cell_type": "code",
   "execution_count": 46,
   "id": "6ecf4287-d1ed-408c-bd42-2b48fed62e49",
   "metadata": {},
   "outputs": [],
   "source": [
    "# next"
   ]
  },
  {
   "cell_type": "code",
   "execution_count": 47,
   "id": "12cad717-07a5-4bb3-aa80-e359075d8781",
   "metadata": {},
   "outputs": [],
   "source": [
    "pca = PCA(n_components=220, random_state=1234)\n",
    "train_data = pca.fit_transform(X_train)\n",
    "test_data = pca.transform(X_test)"
   ]
  },
  {
   "cell_type": "code",
   "execution_count": 48,
   "id": "2c026ac0-22e0-4909-8652-6565d59203a4",
   "metadata": {},
   "outputs": [
    {
     "name": "stderr",
     "output_type": "stream",
     "text": [
      "/Users/dan/opt/anaconda3/envs/py38/lib/python3.8/site-packages/xgboost/core.py:160: UserWarning: [16:55:02] WARNING: /Users/runner/work/xgboost/xgboost/src/learner.cc:742: \n",
      "Parameters: { \"base_estimator\" } are not used.\n",
      "\n",
      "  warnings.warn(smsg, UserWarning)\n"
     ]
    },
    {
     "name": "stdout",
     "output_type": "stream",
     "text": [
      "Accuracy: 0.92\n",
      "Precision: 0.8461538461538461\n",
      "Recall: 1.0\n"
     ]
    }
   ],
   "source": [
    "xgb_model = XGBClassifier(booster='gbtree', n_estimators=200, learning_rate=0.1, max_depth=15, base_estimator=base_estimator)\n",
    "xgb_model.fit(train_data, y_train)\n",
    "y_pred = xgb_model.predict(test_data)\n",
    "accuracy = accuracy_score(y_test, y_pred)\n",
    "precision = precision_score(y_test, y_pred)\n",
    "recall = recall_score(y_test, y_pred)\n",
    "\n",
    "print(\"Accuracy:\", accuracy)\n",
    "print(\"Precision:\", precision)\n",
    "print(\"Recall:\", recall)"
   ]
  },
  {
   "cell_type": "code",
   "execution_count": 49,
   "id": "843dfe1c-b0c0-4cdb-9366-6affeae8a2bc",
   "metadata": {},
   "outputs": [
    {
     "name": "stdout",
     "output_type": "stream",
     "text": [
      "Accuracy: 0.92\n",
      "Precision: 0.8461538461538461\n",
      "Recall: 1.0\n"
     ]
    }
   ],
   "source": [
    "xgb_model = XGBClassifier(booster='gbtree', n_estimators=200, learning_rate=0.1, max_depth=15)\n",
    "xgb_model.fit(train_data, y_train)\n",
    "y_pred = xgb_model.predict(test_data)\n",
    "accuracy = accuracy_score(y_test, y_pred)\n",
    "precision = precision_score(y_test, y_pred)\n",
    "recall = recall_score(y_test, y_pred)\n",
    "\n",
    "print(\"Accuracy:\", accuracy)\n",
    "print(\"Precision:\", precision)\n",
    "print(\"Recall:\", recall)"
   ]
  },
  {
   "cell_type": "code",
   "execution_count": null,
   "id": "541bada8-45ad-44aa-9653-66abb8f1a153",
   "metadata": {},
   "outputs": [],
   "source": []
  },
  {
   "cell_type": "code",
   "execution_count": null,
   "id": "c484452e-7cbc-43be-99ae-ec9cf87264c6",
   "metadata": {},
   "outputs": [],
   "source": []
  },
  {
   "cell_type": "code",
   "execution_count": null,
   "id": "379a2aab-80f8-486b-aebf-773bbd66f12d",
   "metadata": {},
   "outputs": [],
   "source": []
  },
  {
   "cell_type": "code",
   "execution_count": null,
   "id": "ea365dd0-a68c-47c1-9657-d8d0cc4064e4",
   "metadata": {},
   "outputs": [],
   "source": []
  },
  {
   "cell_type": "code",
   "execution_count": null,
   "id": "a687b284-3bb3-4a20-bc06-ecb65ecc9b18",
   "metadata": {},
   "outputs": [],
   "source": []
  },
  {
   "cell_type": "code",
   "execution_count": 50,
   "id": "f2c099fe-e127-4212-9d66-0a04d632083b",
   "metadata": {},
   "outputs": [
    {
     "data": {
      "text/plain": [
       "<Axes: title={'center': 'Feature importance'}, xlabel='F score', ylabel='Features'>"
      ]
     },
     "execution_count": 50,
     "metadata": {},
     "output_type": "execute_result"
    },
    {
     "data": {
      "image/png": "[encoded data removed]",
      "text/plain": [
       "<Figure size 640x480 with 1 Axes>"
      ]
     },
     "metadata": {},
     "output_type": "display_data"
    }
   ],
   "source": [
    "xgb.plot_importance(xgb_model)"
   ]
  },
  {
   "cell_type": "code",
   "execution_count": 51,
   "id": "c7350d7b-7da7-44a3-b961-db98c0db3b46",
   "metadata": {},
   "outputs": [
    {
     "data": {
      "text/html": [
       "<div>\n",
       "<style scoped>\n",
       "    .dataframe tbody tr th:only-of-type {\n",
       "        vertical-align: middle;\n",
       "    }\n",
       "\n",
       "    .dataframe tbody tr th {\n",
       "        vertical-align: top;\n",
       "    }\n",
       "\n",
       "    .dataframe thead th {\n",
       "        text-align: right;\n",
       "    }\n",
       "</style>\n",
       "<table border=\"1\" class=\"dataframe\">\n",
       "  <thead>\n",
       "    <tr style=\"text-align: right;\">\n",
       "      <th></th>\n",
       "      <th>score</th>\n",
       "    </tr>\n",
       "  </thead>\n",
       "  <tbody>\n",
       "    <tr>\n",
       "      <th>f1</th>\n",
       "      <td>8.877346</td>\n",
       "    </tr>\n",
       "    <tr>\n",
       "      <th>f2</th>\n",
       "      <td>7.283005</td>\n",
       "    </tr>\n",
       "    <tr>\n",
       "      <th>f110</th>\n",
       "      <td>6.163505</td>\n",
       "    </tr>\n",
       "    <tr>\n",
       "      <th>f121</th>\n",
       "      <td>4.324733</td>\n",
       "    </tr>\n",
       "    <tr>\n",
       "      <th>f149</th>\n",
       "      <td>3.821274</td>\n",
       "    </tr>\n",
       "    <tr>\n",
       "      <th>f120</th>\n",
       "      <td>3.492501</td>\n",
       "    </tr>\n",
       "    <tr>\n",
       "      <th>f45</th>\n",
       "      <td>3.286800</td>\n",
       "    </tr>\n",
       "    <tr>\n",
       "      <th>f97</th>\n",
       "      <td>3.208244</td>\n",
       "    </tr>\n",
       "    <tr>\n",
       "      <th>f75</th>\n",
       "      <td>2.927866</td>\n",
       "    </tr>\n",
       "    <tr>\n",
       "      <th>f67</th>\n",
       "      <td>2.789061</td>\n",
       "    </tr>\n",
       "  </tbody>\n",
       "</table>\n",
       "</div>"
      ],
      "text/plain": [
       "         score\n",
       "f1    8.877346\n",
       "f2    7.283005\n",
       "f110  6.163505\n",
       "f121  4.324733\n",
       "f149  3.821274\n",
       "f120  3.492501\n",
       "f45   3.286800\n",
       "f97   3.208244\n",
       "f75   2.927866\n",
       "f67   2.789061"
      ]
     },
     "execution_count": 51,
     "metadata": {},
     "output_type": "execute_result"
    }
   ],
   "source": [
    "important_mutations = xgb_model.get_booster().get_score(importance_type=\"gain\")\n",
    "keys = list(important_mutations.keys())\n",
    "values = list(important_mutations.values())\n",
    "kk = pd.DataFrame(data=values,index=keys,columns=[\"score\"])\n",
    "kk.nlargest(10, columns=\"score\")"
   ]
  },
  {
   "cell_type": "code",
   "execution_count": null,
   "id": "9feb7b4d-f083-4902-8a8e-c0aa9ba95093",
   "metadata": {},
   "outputs": [],
   "source": []
  },
  {
   "cell_type": "code",
   "execution_count": 52,
   "id": "b298cc4c-0f85-4f28-a651-f96bb3fdd9a2",
   "metadata": {},
   "outputs": [
    {
     "data": {
      "text/plain": [
       "159"
      ]
     },
     "execution_count": 52,
     "metadata": {},
     "output_type": "execute_result"
    }
   ],
   "source": [
    "len(important_mutations)"
   ]
  },
  {
   "cell_type": "code",
   "execution_count": 53,
   "id": "1a0abbbd-0165-462e-8770-b5676d07814c",
   "metadata": {},
   "outputs": [
    {
     "data": {
      "text/plain": [
       "array([ 0.01622159,  0.00650434,  0.00111105, ..., -0.00080318,\n",
       "       -0.00256676,  0.        ])"
      ]
     },
     "execution_count": 53,
     "metadata": {},
     "output_type": "execute_result"
    }
   ],
   "source": [
    "pca.components_[0]"
   ]
  },
  {
   "cell_type": "code",
   "execution_count": 54,
   "id": "ab6a1073-536b-4ea2-8cb3-2838de42d8c9",
   "metadata": {},
   "outputs": [
    {
     "data": {
      "text/plain": [
       "BCOR_GRCh37_X:39921444-39921444_Missense-Mutation_SNP_T-T-C                  9.034101\n",
       "PTEN_GRCh37_10:89717672-89717672_Nonsense-Mutation_SNP_C-C-T                 8.835132\n",
       "FGFR2_GRCh37_10:123258034-123258034_Missense-Mutation_SNP_A-A-T_A-A-C        8.222079\n",
       "KRAS_GRCh37_12:25398284-25398284_Missense-Mutation_SNP_C-C-A_C-C-T_C-C-G     8.161898\n",
       "PIK3CA_GRCh37_3:178936091-178936091_Missense-Mutation_SNP_G-G-A_G-G-C        7.839846\n",
       "PIK3CA_GRCh37_3:178936095-178936095_Missense-Mutation_SNP_A-A-C_A-A-G        7.838511\n",
       "FGFR2_GRCh37_10:123279677-123279677_Missense-Mutation_SNP_G-G-C              7.834030\n",
       "ING1_GRCh37_13:111372025-111372025_Nonsense-Mutation_SNP_C-C-T               7.820204\n",
       "KRAS_GRCh37_12:25398285-25398285_Missense-Mutation_SNP_C-C-A_C-C-T           7.753226\n",
       "PIK3CA_GRCh37_3:178921553-178921553_Missense-Mutation_SNP_T-T-A              7.674221\n",
       "SMTNL2_GRCh37_17:4496467-4496467_Splice-Site_SNP_G-G-T                       7.566799\n",
       "PPP2R1A_GRCh37_19:52716326-52716326_Missense-Mutation_SNP_G-G-T_G-G-C        7.489302\n",
       "CTNNB1_GRCh37_3:41266137-41266137_Missense-Mutation_SNP_C-C-T_C-C-A_C-C-G    7.430987\n",
       "KMT2C_GRCh37_7:151836804-151836804_Nonsense-Mutation_SNP_G-G-A               7.308396\n",
       "PTEN_GRCh37_10:89692904-89692904_Missense-Mutation_SNP_C-C-G                 7.232593\n",
       "AKT1_GRCh37_14:105246551-105246551_Missense-Mutation_SNP_C-C-T               7.219080\n",
       "CTNNB1_GRCh37_3:41266101-41266101_Missense-Mutation_SNP_C-C-A_C-C-T_C-C-G    7.176753\n",
       "TP53_GRCh37_17:7578406-7578406_Missense-Mutation_SNP_C-C-T                   7.128033\n",
       "CCDC6_GRCh37_10:61612347-61612349_In-Frame-Del_DEL_TTC-TTC--                 7.082069\n",
       "EXOC7_GRCh37_17:74079756-74079756_Silent_SNP_G-G-A_G-G-T                     7.054074\n",
       "dtype: float64"
      ]
     },
     "execution_count": 54,
     "metadata": {},
     "output_type": "execute_result"
    }
   ],
   "source": [
    "oo = pd.DataFrame(pca.components_, columns = df.columns[1:])\n",
    "oo.abs().sum(axis=0).sort_values(ascending=False).head(20)"
   ]
  },
  {
   "cell_type": "code",
   "execution_count": 55,
   "id": "fac33bdd-3e28-43a5-af93-a8c81baa6ee5",
   "metadata": {},
   "outputs": [
    {
     "data": {
      "text/plain": [
       "BCOR_GRCh37_X:39921444-39921444_Missense-Mutation_SNP_T-T-C                  9.034101\n",
       "PTEN_GRCh37_10:89717672-89717672_Nonsense-Mutation_SNP_C-C-T                 8.835132\n",
       "FGFR2_GRCh37_10:123258034-123258034_Missense-Mutation_SNP_A-A-T_A-A-C        8.222079\n",
       "KRAS_GRCh37_12:25398284-25398284_Missense-Mutation_SNP_C-C-A_C-C-T_C-C-G     8.161898\n",
       "PIK3CA_GRCh37_3:178936091-178936091_Missense-Mutation_SNP_G-G-A_G-G-C        7.839846\n",
       "PIK3CA_GRCh37_3:178936095-178936095_Missense-Mutation_SNP_A-A-C_A-A-G        7.838511\n",
       "FGFR2_GRCh37_10:123279677-123279677_Missense-Mutation_SNP_G-G-C              7.834030\n",
       "ING1_GRCh37_13:111372025-111372025_Nonsense-Mutation_SNP_C-C-T               7.820204\n",
       "KRAS_GRCh37_12:25398285-25398285_Missense-Mutation_SNP_C-C-A_C-C-T           7.753226\n",
       "PIK3CA_GRCh37_3:178921553-178921553_Missense-Mutation_SNP_T-T-A              7.674221\n",
       "SMTNL2_GRCh37_17:4496467-4496467_Splice-Site_SNP_G-G-T                       7.566799\n",
       "PPP2R1A_GRCh37_19:52716326-52716326_Missense-Mutation_SNP_G-G-T_G-G-C        7.489302\n",
       "CTNNB1_GRCh37_3:41266137-41266137_Missense-Mutation_SNP_C-C-T_C-C-A_C-C-G    7.430987\n",
       "KMT2C_GRCh37_7:151836804-151836804_Nonsense-Mutation_SNP_G-G-A               7.308396\n",
       "PTEN_GRCh37_10:89692904-89692904_Missense-Mutation_SNP_C-C-G                 7.232593\n",
       "AKT1_GRCh37_14:105246551-105246551_Missense-Mutation_SNP_C-C-T               7.219080\n",
       "CTNNB1_GRCh37_3:41266101-41266101_Missense-Mutation_SNP_C-C-A_C-C-T_C-C-G    7.176753\n",
       "TP53_GRCh37_17:7578406-7578406_Missense-Mutation_SNP_C-C-T                   7.128033\n",
       "CCDC6_GRCh37_10:61612347-61612349_In-Frame-Del_DEL_TTC-TTC--                 7.082069\n",
       "EXOC7_GRCh37_17:74079756-74079756_Silent_SNP_G-G-A_G-G-T                     7.054074\n",
       "dtype: float64"
      ]
     },
     "execution_count": 55,
     "metadata": {},
     "output_type": "execute_result"
    }
   ],
   "source": [
    "oo.abs().sum(axis=0).sort_values(ascending=False).head(20)"
   ]
  },
  {
   "cell_type": "code",
   "execution_count": 56,
   "id": "929e4533-57c2-405a-b442-15b7fe524b7a",
   "metadata": {},
   "outputs": [
    {
     "name": "stdout",
     "output_type": "stream",
     "text": [
      "Accuracy: 0.88\n",
      "Precision: 0.8333333333333334\n",
      "Recall: 0.9090909090909091\n"
     ]
    }
   ],
   "source": [
    "xgb_model = XGBClassifier(booster='gbtree', n_estimators=200, learning_rate=0.1, max_depth=15)\n",
    "xgb_model.fit(X_train, y_train)\n",
    "y_pred = xgb_model.predict(X_test)\n",
    "accuracy = accuracy_score(y_test, y_pred)\n",
    "precision = precision_score(y_test, y_pred)\n",
    "recall = recall_score(y_test, y_pred)\n",
    "\n",
    "print(\"Accuracy:\", accuracy)\n",
    "print(\"Precision:\", precision)\n",
    "print(\"Recall:\", recall)"
   ]
  },
  {
   "cell_type": "code",
   "execution_count": 57,
   "id": "68e8ba7d-5e9d-4441-94ef-37ea192f9610",
   "metadata": {},
   "outputs": [],
   "source": [
    "from sklearn.feature_selection import SelectKBest\n",
    "from sklearn.feature_selection import f_classif"
   ]
  },
  {
   "cell_type": "code",
   "execution_count": 58,
   "id": "cee506d4-8adc-4273-b9c2-29d54d64395f",
   "metadata": {},
   "outputs": [
    {
     "name": "stderr",
     "output_type": "stream",
     "text": [
      "/Users/dan/opt/anaconda3/envs/py38/lib/python3.8/site-packages/sklearn/feature_selection/_univariate_selection.py:112: UserWarning: Features [ 157  357  363 ... 8071 8072 8084] are constant.\n",
      "  warnings.warn(\"Features %s are constant.\" % constant_features_idx, UserWarning)\n",
      "/Users/dan/opt/anaconda3/envs/py38/lib/python3.8/site-packages/sklearn/feature_selection/_univariate_selection.py:113: RuntimeWarning: invalid value encountered in divide\n",
      "  f = msb / msw\n"
     ]
    }
   ],
   "source": [
    "k = SelectKBest(f_classif, k=200)\n",
    "X_new = k.fit_transform(X_train, y_train)"
   ]
  },
  {
   "cell_type": "code",
   "execution_count": 59,
   "id": "2422638a-04dc-47f9-813c-a263c87afcbc",
   "metadata": {},
   "outputs": [
    {
     "data": {
      "text/plain": [
       "(225, 200)"
      ]
     },
     "execution_count": 59,
     "metadata": {},
     "output_type": "execute_result"
    }
   ],
   "source": [
    "X_new.shape"
   ]
  },
  {
   "cell_type": "code",
   "execution_count": 60,
   "id": "c8c7ff36-a6e1-4005-ba7c-33bd06d114cb",
   "metadata": {},
   "outputs": [],
   "source": [
    "X_test_n = k.transform(X_test)"
   ]
  },
  {
   "cell_type": "code",
   "execution_count": 61,
   "id": "613a5116-31f5-4f19-b77a-be0da771d605",
   "metadata": {},
   "outputs": [
    {
     "data": {
      "text/plain": [
       "(25, 200)"
      ]
     },
     "execution_count": 61,
     "metadata": {},
     "output_type": "execute_result"
    }
   ],
   "source": [
    "X_test_n.shape"
   ]
  },
  {
   "cell_type": "code",
   "execution_count": 62,
   "id": "127083fe-f9fe-43b0-8198-1a177849d7ec",
   "metadata": {},
   "outputs": [
    {
     "data": {
      "text/plain": [
       "array([  43,  159,  311,  391,  667,  748, 1002, 1009, 1013, 1018, 1024,\n",
       "       1031, 1041, 1052, 1053, 1054, 1059, 1060, 1067, 1068, 1075, 1077,\n",
       "       1081, 1084, 1094, 1104, 1107, 1113, 1117, 1118, 1120, 1122, 1126,\n",
       "       1127, 1130, 1178, 1183, 1184, 1195, 1197, 1221, 1242, 1250, 1254,\n",
       "       1262, 1266, 1269, 1278, 1289, 1294, 1307, 1316, 1321, 1334, 1339,\n",
       "       1361, 1362, 1365, 1366, 1373, 1383, 1387, 1388, 1389, 1398, 1399,\n",
       "       1402, 1407, 1411, 1418, 1426, 1427, 1431, 1451, 1453, 1457, 1460,\n",
       "       1464, 1475, 1476, 1478, 1482, 1489, 1502, 1521, 1525, 1528, 1534,\n",
       "       1535, 1539, 1555, 1556, 1560, 1561, 1564, 1575, 1589, 1617, 1628,\n",
       "       1652, 1653, 1671, 1679, 1716, 1726, 1735, 1753, 1775, 1786, 1917,\n",
       "       2214, 2430, 2431, 2435, 2438, 2450, 2474, 2479, 2487, 2495, 2514,\n",
       "       2520, 2524, 2544, 2550, 2551, 2575, 2578, 2598, 2607, 2608, 3376,\n",
       "       3382, 3385, 3386, 3388, 3399, 3400, 3402, 3404, 3408, 3412, 3421,\n",
       "       3427, 3454, 3533, 3554, 3570, 3581, 3596, 3607, 3608, 3620, 3621,\n",
       "       3622, 3634, 3662, 3707, 3713, 3723, 3724, 3731, 3733, 3735, 3742,\n",
       "       3743, 3769, 3790, 4389, 4411, 5599, 5627, 5643, 5702, 5737, 5873,\n",
       "       5934, 5963, 5970, 6001, 6002, 6025, 6185, 6256, 6289, 6391, 6425,\n",
       "       6426, 6446, 6534, 6570, 6945, 6967, 7160, 7231, 7281, 7299, 7474,\n",
       "       7588, 7596])"
      ]
     },
     "execution_count": 62,
     "metadata": {},
     "output_type": "execute_result"
    }
   ],
   "source": [
    "np.array(range(X_train.shape[1]))[k.get_support()]"
   ]
  },
  {
   "cell_type": "code",
   "execution_count": 63,
   "id": "e248f7fb-cf88-41f9-a4c8-2050b04e6b6a",
   "metadata": {},
   "outputs": [
    {
     "data": {
      "text/plain": [
       "array([   0,    1,    2, ..., 8082, 8083, 8084])"
      ]
     },
     "execution_count": 63,
     "metadata": {},
     "output_type": "execute_result"
    }
   ],
   "source": [
    "np.array(range(X_train.shape[1]))[~k.get_support()]"
   ]
  },
  {
   "cell_type": "code",
   "execution_count": 64,
   "id": "6d46f99b-90f9-4e94-85a8-c90d47a1ff40",
   "metadata": {},
   "outputs": [
    {
     "name": "stdout",
     "output_type": "stream",
     "text": [
      "Accuracy: 0.92\n",
      "Precision: 0.8461538461538461\n",
      "Recall: 1.0\n"
     ]
    }
   ],
   "source": [
    "xgb_model = XGBClassifier(booster='gbtree', n_estimators=200, learning_rate=0.1, max_depth=15)\n",
    "xgb_model.fit(X_new, y_train)\n",
    "y_pred = xgb_model.predict(X_test_n)\n",
    "accuracy = accuracy_score(y_test, y_pred)\n",
    "precision = precision_score(y_test, y_pred)\n",
    "recall = recall_score(y_test, y_pred)\n",
    "\n",
    "print(\"Accuracy:\", accuracy)\n",
    "print(\"Precision:\", precision)\n",
    "print(\"Recall:\", recall)"
   ]
  },
  {
   "cell_type": "code",
   "execution_count": 65,
   "id": "8bca942a-1762-44c1-8511-646c34ff06a3",
   "metadata": {},
   "outputs": [],
   "source": [
    "tree_selector = SelectFromModel(DecisionTreeClassifier(), max_features=200)\n",
    "X_train_tree = tree_selector.fit_transform(X_train, y_train)\n",
    "X_test_tree = tree_selector.transform(X_test)"
   ]
  },
  {
   "cell_type": "code",
   "execution_count": 66,
   "id": "ad23b0ca-0c16-4c2c-a13a-8d4126126fcc",
   "metadata": {},
   "outputs": [
    {
     "name": "stdout",
     "output_type": "stream",
     "text": [
      "Accuracy: 0.84\n",
      "Precision: 0.8181818181818182\n",
      "Recall: 0.8181818181818182\n"
     ]
    }
   ],
   "source": [
    "xgb_model = XGBClassifier(booster='gbtree', n_estimators=200, learning_rate=0.1, max_depth=15)\n",
    "xgb_model.fit(X_train_tree, y_train)\n",
    "y_pred = xgb_model.predict(X_test_tree)\n",
    "accuracy = accuracy_score(y_test, y_pred)\n",
    "precision = precision_score(y_test, y_pred)\n",
    "recall = recall_score(y_test, y_pred)\n",
    "\n",
    "print(\"Accuracy:\", accuracy)\n",
    "print(\"Precision:\", precision)\n",
    "print(\"Recall:\", recall)"
   ]
  },
  {
   "cell_type": "code",
   "execution_count": 67,
   "id": "21c8bfcc-fa9b-464f-afe4-d3d981ccdad8",
   "metadata": {},
   "outputs": [],
   "source": [
    "logreg_selector = SelectFromModel(LogisticRegression(), threshold=-np.inf, max_features=1000)\n",
    "X_train_logreg = logreg_selector.fit_transform(X_train, y_train)\n",
    "X_test_logreg = logreg_selector.transform(X_test)"
   ]
  },
  {
   "cell_type": "code",
   "execution_count": 68,
   "id": "1158b87f-a5ad-496c-9d6f-be558f3f9d78",
   "metadata": {},
   "outputs": [
    {
     "name": "stdout",
     "output_type": "stream",
     "text": [
      "Accuracy: 0.88\n",
      "Precision: 0.8333333333333334\n",
      "Recall: 0.9090909090909091\n"
     ]
    }
   ],
   "source": [
    "xgb_model = XGBClassifier(booster='gbtree', n_estimators=200, learning_rate=0.1, max_depth=15)\n",
    "xgb_model.fit(X_train_logreg, y_train)\n",
    "y_pred = xgb_model.predict(X_test_logreg)\n",
    "accuracy = accuracy_score(y_test, y_pred)\n",
    "precision = precision_score(y_test, y_pred)\n",
    "recall = recall_score(y_test, y_pred)\n",
    "\n",
    "print(\"Accuracy:\", accuracy)\n",
    "print(\"Precision:\", precision)\n",
    "print(\"Recall:\", recall)"
   ]
  },
  {
   "cell_type": "code",
   "execution_count": 69,
   "id": "7a8b1eb7-2769-4224-a37b-186f4d2ddf62",
   "metadata": {},
   "outputs": [
    {
     "name": "stdout",
     "output_type": "stream",
     "text": [
      "Selected Features - SelectKBest: [ 0  1  2  5  6 10 11 14 18 19]\n",
      "Removed Features - SelectKBest: [ 3  4  7  8  9 12 13 15 16 17]\n",
      "\n",
      "Selected Features - SelectPercentile: [ 0  1  2  5  6 10 11 14 18 19]\n",
      "Removed Features - SelectPercentile: [ 3  4  7  8  9 12 13 15 16 17]\n",
      "\n",
      "Selected Features - SelectFromModel (Decision Tree): [ 1  2  3  5 14 15 16 17 18 19]\n",
      "Removed Features - SelectFromModel (Decision Tree): [ 0  4  6  7  8  9 10 11 12 13]\n",
      "\n",
      "Selected Features - SelectFromModel (Logistic Regression): [ 1  2  5 10 11 13 14 17 18 19]\n",
      "Removed Features - SelectFromModel (Logistic Regression): [ 0  3  4  6  7  8  9 12 15 16]\n"
     ]
    }
   ],
   "source": [
    "import numpy as np\n",
    "import pandas as pd\n",
    "from sklearn.datasets import make_classification\n",
    "from sklearn.model_selection import train_test_split\n",
    "from sklearn.feature_selection import SelectKBest, SelectPercentile, SelectFromModel, f_classif\n",
    "from sklearn.tree import DecisionTreeClassifier\n",
    "from sklearn.linear_model import LogisticRegression\n",
    "\n",
    "# Creating a synthetic dataset\n",
    "X, y = make_classification(n_samples=1000, n_features=20, random_state=42)\n",
    "\n",
    "# Split the dataset into training and testing sets\n",
    "X_train, X_test, y_train, y_test = train_test_split(X, y, test_size=0.2, random_state=42)\n",
    "\n",
    "# Apply SelectKBest with ANOVA F-value for feature selection\n",
    "k_best_selector = SelectKBest(f_classif, k=10)\n",
    "X_train_k_best = k_best_selector.fit_transform(X_train, y_train)\n",
    "selected_features_k_best = np.array(range(X_train.shape[1]))[k_best_selector.get_support()]\n",
    "removed_features_k_best = np.array(range(X_train.shape[1]))[~k_best_selector.get_support()]\n",
    "\n",
    "# Apply SelectPercentile with ANOVA F-value for feature selection\n",
    "percentile_selector = SelectPercentile(f_classif, percentile=50)\n",
    "X_train_percentile = percentile_selector.fit_transform(X_train, y_train)\n",
    "selected_features_percentile = np.array(range(X_train.shape[1]))[percentile_selector.get_support()]\n",
    "removed_features_percentile = np.array(range(X_train.shape[1]))[~percentile_selector.get_support()]\n",
    "\n",
    "# Apply SelectFromModel with Decision Tree for feature selection\n",
    "tree_selector = SelectFromModel(DecisionTreeClassifier(), threshold=-np.inf, max_features=10)\n",
    "X_train_tree = tree_selector.fit_transform(X_train, y_train)\n",
    "selected_features_tree = np.array(range(X_train.shape[1]))[tree_selector.get_support()]\n",
    "removed_features_tree = np.array(range(X_train.shape[1]))[~tree_selector.get_support()]\n",
    "\n",
    "# Apply SelectFromModel with Logistic Regression for feature selection\n",
    "logreg_selector = SelectFromModel(LogisticRegression(), threshold=-np.inf, max_features=10)\n",
    "X_train_logreg = logreg_selector.fit_transform(X_train, y_train)\n",
    "selected_features_logreg = np.array(range(X_train.shape[1]))[logreg_selector.get_support()]\n",
    "removed_features_logreg = np.array(range(X_train.shape[1]))[~logreg_selector.get_support()]\n",
    "\n",
    "# Display the selected and removed features for each method\n",
    "print(\"Selected Features - SelectKBest:\", selected_features_k_best)\n",
    "print(\"Removed Features - SelectKBest:\", removed_features_k_best)\n",
    "\n",
    "print(\"\\nSelected Features - SelectPercentile:\", selected_features_percentile)\n",
    "print(\"Removed Features - SelectPercentile:\", removed_features_percentile)\n",
    "\n",
    "print(\"\\nSelected Features - SelectFromModel (Decision Tree):\", selected_features_tree)\n",
    "print(\"Removed Features - SelectFromModel (Decision Tree):\", removed_features_tree)\n",
    "\n",
    "print(\"\\nSelected Features - SelectFromModel (Logistic Regression):\", selected_features_logreg)\n",
    "print(\"Removed Features - SelectFromModel (Logistic Regression):\", removed_features_logreg)\n"
   ]
  },
  {
   "cell_type": "code",
   "execution_count": 70,
   "id": "8f354d48-a9b3-4d3d-b03e-67963d93f6d8",
   "metadata": {},
   "outputs": [
    {
     "name": "stdout",
     "output_type": "stream",
     "text": [
      "Feature Importance for Each Principal Component:\n",
      "       Feature_1  Feature_2  Feature_3  Feature_4  Feature_5  Feature_6  \\\n",
      "PC_1    0.017132   0.037901   0.017100   0.039660   0.046382   0.003075   \n",
      "PC_2    0.099840   0.120172   0.122124   0.097535   0.215229   0.026659   \n",
      "PC_3    0.120504   0.119415   0.077242   0.034447   0.156342   0.137269   \n",
      "PC_4    0.087596   0.178569   0.007831   0.107584   0.014077   0.112213   \n",
      "PC_5    0.066030   0.002449   0.184905   0.112449   0.015321   0.017909   \n",
      "PC_6    0.021038   0.102642   0.012776   0.052173   0.149696   0.176966   \n",
      "PC_7    0.095816   0.002252   0.149758   0.294483   0.066713   0.004157   \n",
      "PC_8    0.097151   0.073664   0.041408   0.096848   0.037477   0.038729   \n",
      "PC_9    0.060864   0.003322   0.088141   0.005721   0.035367   0.103183   \n",
      "PC_10   0.038207   0.140618   0.135339   0.025747   0.077494   0.016223   \n",
      "PC_11   0.167956   0.030814   0.020491   0.045651   0.158651   0.149005   \n",
      "PC_12   0.146921   0.181823   0.119471   0.071742   0.165975   0.180061   \n",
      "PC_13   0.165313   0.296757   0.057741   0.066291   0.159107   0.146873   \n",
      "PC_14   0.128012   0.039509   0.095025   0.000411   0.040468   0.087408   \n",
      "PC_15   0.088100   0.235227   0.061666   0.103904   0.046796   0.168984   \n",
      "PC_16   0.121905   0.019316   0.019855   0.058403   0.179347   0.095765   \n",
      "PC_17   0.047497   0.084492   0.147501   0.007186   0.043386   0.012054   \n",
      "PC_18   0.090124   0.145376   0.094687   0.088623   0.000360   0.113207   \n",
      "PC_19   0.123806   0.024466   0.054133   0.120898   0.148537   0.116572   \n",
      "PC_20   0.096062   0.120310   0.108703   0.051153   0.136872   0.014978   \n",
      "\n",
      "       Feature_7  Feature_8  Feature_9  Feature_10  ...  Feature_91  \\\n",
      "PC_1    0.013691   0.039765   0.020227    0.021567  ...    0.026377   \n",
      "PC_2    0.007803   0.047792   0.133012    0.007888  ...    0.000026   \n",
      "PC_3    0.017068   0.058510   0.002984    0.069876  ...    0.110201   \n",
      "PC_4    0.124601   0.091137   0.067585    0.013630  ...    0.068800   \n",
      "PC_5    0.003525   0.155596   0.070901    0.034830  ...    0.094531   \n",
      "PC_6    0.046222   0.008066   0.066222    0.052472  ...    0.038614   \n",
      "PC_7    0.000782   0.031412   0.151960    0.005047  ...    0.032254   \n",
      "PC_8    0.069379   0.042766   0.176013    0.094199  ...    0.149634   \n",
      "PC_9    0.121076   0.028493   0.154116    0.196185  ...    0.026853   \n",
      "PC_10   0.058822   0.024457   0.117359    0.150907  ...    0.173343   \n",
      "PC_11   0.041401   0.089062   0.010026    0.070093  ...    0.124453   \n",
      "PC_12   0.004931   0.081939   0.005385    0.262131  ...    0.044887   \n",
      "PC_13   0.126573   0.089632   0.018994    0.086647  ...    0.119888   \n",
      "PC_14   0.106175   0.247922   0.093146    0.032134  ...    0.056520   \n",
      "PC_15   0.284767   0.229486   0.168380    0.088681  ...    0.158059   \n",
      "PC_16   0.012358   0.082822   0.110808    0.079179  ...    0.117899   \n",
      "PC_17   0.137985   0.144724   0.052495    0.065903  ...    0.052557   \n",
      "PC_18   0.266053   0.055584   0.017376    0.013442  ...    0.129328   \n",
      "PC_19   0.063002   0.114422   0.066280    0.040075  ...    0.022772   \n",
      "PC_20   0.010888   0.056171   0.160671    0.017241  ...    0.119891   \n",
      "\n",
      "       Feature_92  Feature_93  Feature_94  Feature_95  Feature_96  Feature_97  \\\n",
      "PC_1     0.039781    0.041260    0.012493    0.004004    0.021963    0.016190   \n",
      "PC_2     0.150799    0.136691    0.207960    0.130041    0.062732    0.036912   \n",
      "PC_3     0.004211    0.220089    0.172013    0.010620    0.040032    0.174849   \n",
      "PC_4     0.199524    0.047394    0.031019    0.206073    0.057738    0.074813   \n",
      "PC_5     0.015623    0.100390    0.007572    0.061425    0.280639    0.045851   \n",
      "PC_6     0.077474    0.046218    0.146698    0.073926    0.109302    0.016943   \n",
      "PC_7     0.106110    0.003363    0.093531    0.092115    0.007646    0.014200   \n",
      "PC_8     0.046850    0.100694    0.004975    0.049461    0.007315    0.059947   \n",
      "PC_9     0.139347    0.117814    0.007485    0.148420    0.022377    0.162254   \n",
      "PC_10    0.118643    0.182337    0.031327    0.029899    0.171186    0.066071   \n",
      "PC_11    0.018413    0.019390    0.093139    0.228195    0.157979    0.090541   \n",
      "PC_12    0.020261    0.109287    0.108377    0.096129    0.072392    0.091283   \n",
      "PC_13    0.228808    0.024054    0.000597    0.070582    0.004747    0.120943   \n",
      "PC_14    0.054983    0.067280    0.072491    0.035064    0.062229    0.001196   \n",
      "PC_15    0.072044    0.011690    0.135299    0.001907    0.033674    0.067384   \n",
      "PC_16    0.021375    0.006731    0.003916    0.011017    0.145210    0.216703   \n",
      "PC_17    0.083948    0.113061    0.184949    0.018577    0.083725    0.062550   \n",
      "PC_18    0.130513    0.004092    0.054846    0.132222    0.010816    0.091220   \n",
      "PC_19    0.070833    0.116196    0.034331    0.029867    0.027064    0.103522   \n",
      "PC_20    0.105497    0.058916    0.087453    0.105441    0.187336    0.101045   \n",
      "\n",
      "       Feature_98  Feature_99  Feature_100  \n",
      "PC_1     0.065231    0.002123     0.014457  \n",
      "PC_2     0.091306    0.019781     0.109980  \n",
      "PC_3     0.087491    0.038971     0.012265  \n",
      "PC_4     0.036958    0.074022     0.163077  \n",
      "PC_5     0.082356    0.030154     0.027951  \n",
      "PC_6     0.054763    0.044241     0.107041  \n",
      "PC_7     0.047390    0.161390     0.004568  \n",
      "PC_8     0.092818    0.018584     0.046886  \n",
      "PC_9     0.095449    0.023070     0.059141  \n",
      "PC_10    0.064360    0.061226     0.103805  \n",
      "PC_11    0.171430    0.014059     0.025323  \n",
      "PC_12    0.099264    0.127208     0.016221  \n",
      "PC_13    0.083941    0.192050     0.017692  \n",
      "PC_14    0.064761    0.019433     0.191577  \n",
      "PC_15    0.132025    0.076337     0.124588  \n",
      "PC_16    0.048304    0.095027     0.031301  \n",
      "PC_17    0.083800    0.032727     0.112738  \n",
      "PC_18    0.220088    0.162645     0.101763  \n",
      "PC_19    0.158240    0.134909     0.107052  \n",
      "PC_20    0.089193    0.104415     0.004123  \n",
      "\n",
      "[20 rows x 100 columns]\n"
     ]
    }
   ],
   "source": [
    "import numpy as np\n",
    "import pandas as pd\n",
    "from sklearn.datasets import make_classification\n",
    "from sklearn.decomposition import PCA\n",
    "from sklearn.preprocessing import StandardScaler\n",
    "\n",
    "# Creating a synthetic dataset\n",
    "X, y = make_classification(n_samples=1000, n_features=100, random_state=42)\n",
    "\n",
    "# Standardize the features\n",
    "scaler = StandardScaler()\n",
    "X_scaled = scaler.fit_transform(X)\n",
    "\n",
    "# Apply PCA to reduce dimensionality from 100 to 20\n",
    "pca = PCA(n_components=20)\n",
    "X_pca = pca.fit_transform(X_scaled)\n",
    "\n",
    "# Get the importance of each original feature for each principal component\n",
    "feature_importance = np.abs(pca.components_)\n",
    "\n",
    "# Create a DataFrame to display the results\n",
    "feature_names = [f\"Feature_{i+1}\" for i in range(X.shape[1])]\n",
    "pc_names = [f\"PC_{i+1}\" for i in range(X_pca.shape[1])]\n",
    "\n",
    "feature_importance_df = pd.DataFrame(feature_importance, columns=feature_names, index=pc_names)\n",
    "\n",
    "# Display the DataFrame\n",
    "print(\"Feature Importance for Each Principal Component:\")\n",
    "print(feature_importance_df)\n"
   ]
  },
  {
   "cell_type": "code",
   "execution_count": 71,
   "id": "6f61acbf-ae1b-4ba3-b462-eb2650b6945c",
   "metadata": {},
   "outputs": [
    {
     "name": "stdout",
     "output_type": "stream",
     "text": [
      "Top 5 Features for Each Principal Component:\n",
      "      Top_Feature_1 Top_Feature_2 Top_Feature_3 Top_Feature_4 Top_Feature_5\n",
      "PC_1     Feature_11    Feature_17    Feature_61    Feature_67    Feature_98\n",
      "PC_2     Feature_56    Feature_87    Feature_15     Feature_5    Feature_36\n",
      "PC_3     Feature_84    Feature_60    Feature_63    Feature_85    Feature_92\n",
      "PC_4     Feature_71    Feature_97    Feature_26    Feature_93    Feature_52\n",
      "PC_5     Feature_96    Feature_27    Feature_20    Feature_15    Feature_57\n",
      "PC_6     Feature_35    Feature_72    Feature_58    Feature_79    Feature_30\n",
      "PC_7     Feature_44    Feature_42    Feature_65    Feature_89    Feature_68\n",
      "PC_8     Feature_38    Feature_64    Feature_13    Feature_21    Feature_76\n",
      "PC_9     Feature_66    Feature_86    Feature_19    Feature_62    Feature_54\n",
      "PC_10    Feature_72    Feature_43    Feature_62    Feature_40    Feature_90\n",
      "PC_11    Feature_81    Feature_63    Feature_95    Feature_49    Feature_65\n",
      "PC_12    Feature_64    Feature_79    Feature_78    Feature_32    Feature_52\n",
      "PC_13     Feature_1    Feature_67    Feature_55    Feature_95    Feature_14\n",
      "PC_14     Feature_2    Feature_25    Feature_92     Feature_6    Feature_23\n",
      "PC_15     Feature_8    Feature_10    Feature_31    Feature_99    Feature_45\n",
      "PC_16    Feature_70    Feature_99    Feature_78    Feature_39    Feature_88\n",
      "PC_17    Feature_29    Feature_71    Feature_79    Feature_77    Feature_57\n",
      "PC_18    Feature_34    Feature_94    Feature_74     Feature_9    Feature_36\n",
      "PC_19    Feature_12    Feature_28    Feature_82    Feature_77    Feature_47\n",
      "PC_20    Feature_73    Feature_88    Feature_15    Feature_21    Feature_24\n"
     ]
    }
   ],
   "source": [
    "import numpy as np\n",
    "import pandas as pd\n",
    "from sklearn.datasets import make_classification\n",
    "from sklearn.decomposition import PCA\n",
    "from sklearn.preprocessing import StandardScaler\n",
    "\n",
    "# Creating a synthetic dataset\n",
    "X, y = make_classification(n_samples=1000, n_features=100, random_state=42)\n",
    "\n",
    "# Standardize the features\n",
    "scaler = StandardScaler()\n",
    "X_scaled = scaler.fit_transform(X)\n",
    "\n",
    "# Apply PCA to reduce dimensionality from 100 to 20\n",
    "pca = PCA(n_components=20)\n",
    "X_pca = pca.fit_transform(X_scaled)\n",
    "\n",
    "# Get the importance of each original feature for each principal component\n",
    "feature_importance = np.abs(pca.components_)\n",
    "\n",
    "# Identify the top 5 features for each principal component\n",
    "top_features = []\n",
    "for i in range(X_pca.shape[1]):\n",
    "    component_importance = feature_importance[i, :]\n",
    "    top_feature_indices = np.argsort(component_importance)[-5:][::-1]\n",
    "    top_features.append(top_feature_indices)\n",
    "\n",
    "# Create a DataFrame to display the top features\n",
    "feature_names = [f\"Feature_{i+1}\" for i in range(X.shape[1])]\n",
    "pc_names = [f\"PC_{i+1}\" for i in range(X_pca.shape[1])]\n",
    "\n",
    "top_features_df = pd.DataFrame(np.array(feature_names)[top_features], columns=[f\"Top_Feature_{i+1}\" for i in range(5)], index=pc_names)\n",
    "\n",
    "# Display the DataFrame\n",
    "print(\"Top 5 Features for Each Principal Component:\")\n",
    "print(top_features_df)\n"
   ]
  },
  {
   "cell_type": "code",
   "execution_count": 72,
   "id": "62606bf2-7a02-4520-a184-2b73b05ef8f6",
   "metadata": {},
   "outputs": [
    {
     "name": "stdout",
     "output_type": "stream",
     "text": [
      "Common Top 5 Features Across All Principal Components:\n",
      "['Feature_2', 'Feature_55', 'Feature_38', 'Feature_54', 'Feature_3']\n"
     ]
    }
   ],
   "source": [
    "import numpy as np\n",
    "import pandas as pd\n",
    "from sklearn.datasets import make_classification\n",
    "from sklearn.decomposition import PCA\n",
    "from sklearn.preprocessing import StandardScaler\n",
    "\n",
    "# Creating a synthetic dataset\n",
    "X, y = make_classification(n_samples=1000, n_features=100, random_state=42)\n",
    "\n",
    "# Standardize the features\n",
    "scaler = StandardScaler()\n",
    "X_scaled = scaler.fit_transform(X)\n",
    "\n",
    "# Apply PCA to reduce dimensionality from 100 to 20\n",
    "pca = PCA(n_components=20)\n",
    "X_pca = pca.fit_transform(X_scaled)\n",
    "\n",
    "# Get the importance of each original feature for each principal component\n",
    "feature_importance = np.abs(pca.components_)\n",
    "\n",
    "# Calculate the sum of importance for each feature across all principal components\n",
    "sum_importance = np.sum(feature_importance, axis=0)\n",
    "\n",
    "# Identify the indices of the top 5 features based on their sum of importance\n",
    "top_feature_indices = np.argsort(sum_importance)[-5:][::-1]\n",
    "\n",
    "# Map feature indices to feature names\n",
    "feature_names = [f\"Feature_{i+1}\" for i in range(X.shape[1])]\n",
    "common_top_feature_names = [feature_names[i] for i in top_feature_indices]\n",
    "\n",
    "# Display the common top 5 features\n",
    "print(\"Common Top 5 Features Across All Principal Components:\")\n",
    "print(common_top_feature_names)\n"
   ]
  },
  {
   "cell_type": "code",
   "execution_count": 73,
   "id": "ea2ebeb3-5d0b-45af-b750-725da554c977",
   "metadata": {},
   "outputs": [
    {
     "name": "stdout",
     "output_type": "stream",
     "text": [
      "Requirement already satisfied: graphviz in /Users/dan/opt/anaconda3/envs/py38/lib/python3.8/site-packages (0.20.1)\n"
     ]
    }
   ],
   "source": [
    "!pip install graphviz"
   ]
  },
  {
   "cell_type": "code",
   "execution_count": 74,
   "id": "b4d5234e-4abd-4604-9687-99a55d3cf59b",
   "metadata": {},
   "outputs": [
    {
     "data": {
      "text/plain": [
       "<Figure size 20000x12000 with 0 Axes>"
      ]
     },
     "metadata": {},
     "output_type": "display_data"
    },
    {
     "data": {
      "image/png": "[encoded data removed]",
      "text/plain": [
       "<Figure size 640x480 with 1 Axes>"
      ]
     },
     "metadata": {},
     "output_type": "display_data"
    }
   ],
   "source": [
    "import xgboost as xgb\n",
    "import matplotlib.pyplot as plt\n",
    "\n",
    "# Assuming you have a trained XGBoost model stored in 'xgb_model'\n",
    "# If you don't have XGBoost installed, you can install it using: pip install xgboost\n",
    "\n",
    "# Create a simple synthetic dataset for demonstration purposes\n",
    "from sklearn.datasets import make_classification\n",
    "X, y = make_classification(n_samples=1000, n_features=20, random_state=42)\n",
    "\n",
    "# Split the dataset into training and testing sets\n",
    "from sklearn.model_selection import train_test_split\n",
    "X_train, X_test, y_train, y_test = train_test_split(X, y, test_size=0.2, random_state=42)\n",
    "\n",
    "# Train the XGBoost model\n",
    "model = xgb.XGBClassifier()\n",
    "model.fit(X_train, y_train)\n",
    "\n",
    "# Plot the first tree in the XGBoost model (you can change the index)\n",
    "plt.figure(figsize=(25, 15),dpi=800)\n",
    "xgb.plot_tree(model, num_trees=0, rankdir='LR')\n",
    "plt.savefig(\"wow.png\",dpi=500)\n",
    "plt.show()\n"
   ]
  },
  {
   "cell_type": "code",
   "execution_count": 75,
   "id": "bdd08e5b-263b-41a9-8413-b7da52b930df",
   "metadata": {},
   "outputs": [
    {
     "name": "stdout",
     "output_type": "stream",
     "text": [
      "Feature Weights for Each Principal Component:\n",
      "      Feature_1  Feature_2  Feature_3  Feature_4  Feature_5  Feature_6  \\\n",
      "PC_1  -0.002415  -0.565127  -0.021757  -0.023095   0.036523   0.497176   \n",
      "PC_2   0.313245   0.046532  -0.124861  -0.318295  -0.275401   0.184232   \n",
      "PC_3  -0.261660  -0.027325  -0.242409   0.013289  -0.049372  -0.054605   \n",
      "PC_4   0.066617   0.027549   0.464562  -0.040669   0.126441   0.050870   \n",
      "PC_5  -0.156493   0.028657   0.059801  -0.216808   0.264357   0.086866   \n",
      "\n",
      "      Feature_7  Feature_8  Feature_9  Feature_10  Feature_11  Feature_12  \\\n",
      "PC_1   0.014997  -0.016899   0.001964    0.016932    0.030146   -0.027131   \n",
      "PC_2   0.115880  -0.084491   0.153291   -0.429793   -0.267221   -0.075331   \n",
      "PC_3   0.209314   0.400444   0.116309   -0.066408   -0.401449   -0.114814   \n",
      "PC_4   0.004935  -0.169102   0.320599   -0.400747    0.218821    0.175144   \n",
      "PC_5  -0.473010   0.225253   0.106320    0.058794   -0.267816    0.238645   \n",
      "\n",
      "      Feature_13  Feature_14  Feature_15  Feature_16  Feature_17  Feature_18  \\\n",
      "PC_1   -0.019890   -0.053997    0.331980   -0.006704   -0.013367    0.007754   \n",
      "PC_2    0.318015    0.100546   -0.283125   -0.000945   -0.012181    0.368480   \n",
      "PC_3    0.003836   -0.012226    0.105390    0.512324   -0.311428   -0.038292   \n",
      "PC_4   -0.371400   -0.287238   -0.101505    0.311805   -0.194239    0.063615   \n",
      "PC_5    0.230393   -0.336936   -0.144152    0.199608    0.284344   -0.168924   \n",
      "\n",
      "      Feature_19  Feature_20  \n",
      "PC_1   -0.560885    0.016037  \n",
      "PC_2   -0.080338    0.182676  \n",
      "PC_3    0.017070   -0.312230  \n",
      "PC_4   -0.014860   -0.135023  \n",
      "PC_5   -0.034534    0.301583  \n"
     ]
    }
   ],
   "source": [
    "import numpy as np\n",
    "import pandas as pd\n",
    "from sklearn.datasets import make_classification\n",
    "from sklearn.decomposition import PCA\n",
    "from sklearn.preprocessing import StandardScaler\n",
    "\n",
    "# Creating a synthetic dataset\n",
    "X, y = make_classification(n_samples=1000, n_features=20, random_state=42)\n",
    "\n",
    "# Standardize the features\n",
    "scaler = StandardScaler()\n",
    "X_scaled = scaler.fit_transform(X)\n",
    "\n",
    "# Apply PCA to reduce dimensionality\n",
    "pca = PCA(n_components=5)  # Assuming you want to reduce to 5 components\n",
    "X_pca = pca.fit_transform(X_scaled)\n",
    "\n",
    "# Get the feature weights (loadings) for each principal component\n",
    "feature_weights = pca.components_\n",
    "\n",
    "# Create a DataFrame to display the results\n",
    "feature_names = [f\"Feature_{i+1}\" for i in range(X.shape[1])]\n",
    "pc_names = [f\"PC_{i+1}\" for i in range(X_pca.shape[1])]\n",
    "\n",
    "feature_weights_df = pd.DataFrame(feature_weights, columns=feature_names, index=pc_names)\n",
    "\n",
    "# Display the DataFrame\n",
    "print(\"Feature Weights for Each Principal Component:\")\n",
    "print(feature_weights_df)"
   ]
  },
  {
   "cell_type": "code",
   "execution_count": 76,
   "id": "14bf428e-26ed-4454-890e-39d5c99ef773",
   "metadata": {},
   "outputs": [
    {
     "name": "stdout",
     "output_type": "stream",
     "text": [
      "Top 3 Features for Each Principal Component:\n",
      "       0   1   2\n",
      "PC_1   2  19   6\n",
      "PC_2  10  18   4\n",
      "PC_3  16  11   8\n",
      "PC_4   3  10  13\n",
      "PC_5   7  14  20\n"
     ]
    }
   ],
   "source": [
    "top_n_features = 3\n",
    "\n",
    "top_features_df = pd.DataFrame(index=pc_names, columns=range(top_n_features))\n",
    "\n",
    "for i in range(X_pca.shape[1]):\n",
    "    top_feature_indices = np.argsort(np.abs(feature_weights[i, :]))[-top_n_features:][::-1]\n",
    "    top_features_df.loc[f\"PC_{i+1}\"] = top_feature_indices + 1  # Adding 1 to convert to 1-indexing\n",
    "\n",
    "# Display the DataFrame with top features\n",
    "print(f\"Top {top_n_features} Features for Each Principal Component:\")\n",
    "print(top_features_df)\n"
   ]
  },
  {
   "cell_type": "code",
   "execution_count": null,
   "id": "c234df2c-f901-4ebe-b4ff-cadccd032b0f",
   "metadata": {},
   "outputs": [],
   "source": []
  }
 ],
 "metadata": {
  "kernelspec": {
   "display_name": "Python 3 (ipykernel)",
   "language": "python",
   "name": "python3"
  },
  "language_info": {
   "codemirror_mode": {
    "name": "ipython",
    "version": 3
   },
   "file_extension": ".py",
   "mimetype": "text/x-python",
   "name": "python",
   "nbconvert_exporter": "python",
   "pygments_lexer": "ipython3",
   "version": "3.8.16"
  }
 },
 "nbformat": 4,
 "nbformat_minor": 5
}
