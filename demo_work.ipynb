{
 "cells": [
  {
   "cell_type": "code",
   "execution_count": 69,
   "id": "031ac37c-96a2-4eb5-9a14-dd054d44a98a",
   "metadata": {},
   "outputs": [],
   "source": [
    "import pandas as pd\n",
    "import seaborn as sns\n",
    "import matplotlib.pyplot as plt\n",
    "import numpy as np\n",
    "import random\n",
    "import itertools"
   ]
  },
  {
   "cell_type": "code",
   "execution_count": 70,
   "id": "6b7257f4-ba1b-4b64-af75-95f72f9e8045",
   "metadata": {},
   "outputs": [
    {
     "data": {
      "text/plain": [
       "((8085, 250), 108, 142)"
      ]
     },
     "execution_count": 70,
     "metadata": {},
     "output_type": "execute_result"
    }
   ],
   "source": [
    "df = pd.read_csv('new_mutations.csv')\n",
    "myclass = df['class']\n",
    "df = df.drop('class',axis=1).T\n",
    "df.columns = myclass\n",
    "people = list(df.columns)\n",
    "c = [i for i in df.columns if i[0]=='C']\n",
    "nc = [j for j in df.columns if j[0]=='N']\n",
    "df.shape, len(c), len(nc)"
   ]
  },
  {
   "cell_type": "code",
   "execution_count": 71,
   "id": "1b1ffa4f-877b-487a-b9a1-e138babb0910",
   "metadata": {},
   "outputs": [],
   "source": [
    "# Main Functions\n",
    "def shuffle_copy(x):\n",
    "        b = x[:] # make a copy of the keys\n",
    "        random.shuffle(b) # shuffle the copy\n",
    "        return b # return the copy\n",
    "\n",
    "avg_acc = [[],[],[]]\n",
    "avg_sen = [[],[],[]]\n",
    "avg_spe = [[],[],[]]\n",
    "avg_pre = [[],[],[]]\n",
    "avg_mis = [[],[],[]]\n",
    "avg_fdr = [[],[],[]]\n",
    "avg_for = [[],[],[]]\n",
    "\n",
    "def metrics_calc(conf_mat,experiment):\n",
    "    # Format of conf_mat should be: [TP, TN, FP, FN]\n",
    "    TP = conf_mat[0]\n",
    "    TN = conf_mat[1]\n",
    "    FP = conf_mat[2]\n",
    "    FN = conf_mat[3]\n",
    "    accuracy = (TP+TN)/(TP+TN+FP+FN)\n",
    "    sensitivity = TP/(TP+FN)\n",
    "    specificity = TN/(TN+FP)\n",
    "    precision = TP/(TP+FP)\n",
    "    miss_rate = FN/(FN+TP)\n",
    "    false_discovery_rate = FP/(FP+TP)\n",
    "    false_omission_rate = FN/(FN+TN)\n",
    "    global avg_acc\n",
    "    global avg_sen\n",
    "    global avg_spe, avg_pre, avg_mis, avg_fdr, avg_for\n",
    "    avg_acc[experiment].append(accuracy)\n",
    "    avg_sen[experiment].append(sensitivity)\n",
    "    avg_spe[experiment].append(specificity)\n",
    "    avg_pre[experiment].append(precision)\n",
    "    avg_mis[experiment].append(miss_rate)\n",
    "    avg_fdr[experiment].append(false_discovery_rate)\n",
    "    avg_for[experiment].append(false_omission_rate)\n",
    "    return f\"\"\" \n",
    "    Accuracy is {accuracy:.2}\n",
    "    Sensitivity is {sensitivity:.2}\n",
    "    Specificity is {specificity:.2}\n",
    "    Precision is {precision:.2}\n",
    "    Miss Rate is {miss_rate:.2}\n",
    "    False discovery rate is {false_discovery_rate:.2} \n",
    "    False omission rate is {false_omission_rate:.2} \n",
    "    \"\"\"\n",
    "\n",
    "def tpfp_finder(df):\n",
    "    tp = (df[[i for i in df.columns if i[0]=='C']]==1).sum(axis=1)\n",
    "    fp = (df[[i for i in df.columns if i[0]=='N']]==1).sum(axis=1)\n",
    "    tn = (df[[i for i in df.columns if i[0]=='N']]==0).sum(axis=1)\n",
    "    fn = (df[[i for i in df.columns if i[0]=='C']]==0).sum(axis=1)\n",
    "    \n",
    "    tpfp = tp - fp\n",
    "    return tpfp\n",
    "\n",
    "\n",
    "def phi_finder(df):\n",
    "    \n",
    "    # table of all cancer individual who has not a specific mutation\n",
    "    ntrc = (df[[i for i in df.columns if i[0]=='C']]==0).sum(axis=1)\n",
    "    # table of all cancer individual who has a specific mutation\n",
    "    ntlc = (df[[i for i in df.columns if i[0]=='C']]==1).sum(axis=1)\n",
    "\n",
    "    # table of all noncancer individual who has not a specific mutation\n",
    "    ntrnc = (df[[i for i in df.columns if i[0]=='N']]==0).sum(axis=1)\n",
    "    # table of all noncancer individual who has a specific mutation\n",
    "    ntlnc = (df[[i for i in df.columns if i[0]=='N']]==1).sum(axis=1)\n",
    "\n",
    "    # table of cancer and noncancer has specific mutation\n",
    "    ntl = ntlc + ntlnc\n",
    "    # table of cancer and noncancer has not a specific mutation\n",
    "    ntr = ntrc + ntrnc\n",
    "    # table of calculated phi value to find the feature with highest phi\n",
    "    phi = 2*ntl*ntr*(1/(ntr+ntl)**2)*(abs((ntlc/ntl)-(ntrc/ntr)) + abs((ntlnc/ntl)-(ntrnc/ntr)))\n",
    "    \n",
    "    return phi\n",
    "\n",
    "def gain_finder(df):\n",
    "    \n",
    "    # table of all cancer individual who has not a specific mutation\n",
    "    ntrc = (df[[i for i in df.columns if i[0]=='C']]==0).sum(axis=1)\n",
    "    # table of all cancer individual who has a specific mutation\n",
    "    ntlc = (df[[i for i in df.columns if i[0]=='C']]==1).sum(axis=1)\n",
    "\n",
    "    # table of all noncancer individual who has not a specific mutation\n",
    "    ntrnc = (df[[i for i in df.columns if i[0]=='N']]==0).sum(axis=1)\n",
    "    # table of all noncancer individual who has a specific mutation\n",
    "    ntlnc = (df[[i for i in df.columns if i[0]=='N']]==1).sum(axis=1)\n",
    "\n",
    "    # table of cancer and noncancer has specific mutation\n",
    "    ntl = ntlc + ntlnc\n",
    "    # table of cancer and noncancer has not a specific mutation\n",
    "    ntr = ntrc + ntrnc\n",
    "    # total of samples\n",
    "    nt = ntr + ntl\n",
    "    # table of calculated gain value to find the feature with highest gain\n",
    "    ntc = ntrc + ntlc\n",
    "    ntnc = ntrnc + ntlnc\n",
    "    \n",
    "    pc = ntc/nt\n",
    "    pnc = ntnc/nt\n",
    "    ht = -(pc*np.log2(1+pc)+pnc*np.log2(1+pnc))\n",
    "    \n",
    "    pl = ntl/nt\n",
    "    pr = ntr/nt\n",
    "    plc = ntlc/(ntl+1)\n",
    "    plnc = ntlnc/(ntl+1)\n",
    "    prc = ntrc/ntr\n",
    "    prnc = ntrnc/ntr\n",
    "    htr = -(prc*np.log2(1+prc)+prnc*np.log2(1+prnc))\n",
    "    htl = -(plc*np.log2(1+plc)+plnc*np.log2(1+plnc))\n",
    "    hst = pl*htl + pr*htr\n",
    "    gain = ht - hst\n",
    "    \n",
    "    \n",
    "    return gain\n",
    "\n",
    "def decision_tree(func,df): # df here is training dataset\n",
    "    root_node = func(df).sort_values(ascending=False).head(1).index[0]\n",
    "    \n",
    "    df1 = df[[ j for j in df.columns if (df[j].loc[root_node]==1)]]\n",
    "    df1 = df1.drop(root_node)\n",
    "    df2 = df[[ j for j in df.columns if (df[j].loc[root_node]==0)]]\n",
    "    \n",
    "    leaf_node_1 = func(df1).sort_values(ascending=False).head(1).index[0]\n",
    "    leaf_node_2 = func(df2).sort_values(ascending=False).head(1).index[0]\n",
    "    \n",
    "    df3 = df1[[ j for j in df1.columns if (df1[j].loc[leaf_node_1]==1)]]\n",
    "    df3 = df3.drop(leaf_node_1)\n",
    "    c1 = [i for i in df3.columns if i[0]=='C']\n",
    "    nc1 = [j for j in df3.columns if j[0]=='N']\n",
    "    \n",
    "    df4 = df1[[ j for j in df1.columns if (df1[j].loc[leaf_node_1]==0)]]\n",
    "    c2 = [i for i in df4.columns if i[0]=='C']\n",
    "    nc2 = [j for j in df4.columns if j[0]=='N']\n",
    "    \n",
    "    df5 = df2[[ j for j in df2.columns if (df2[j].loc[leaf_node_2]==1)]]\n",
    "    df5 = df5.drop(leaf_node_2)\n",
    "    c3 = [i for i in df5.columns if i[0]=='C']\n",
    "    nc3 = [j for j in df5.columns if j[0]=='N']\n",
    "    \n",
    "    df6 = df2[[ j for j in df2.columns if (df2[j].loc[leaf_node_2]==0)]]\n",
    "    c4 = [i for i in df6.columns if i[0]=='C']\n",
    "    nc4 = [j for j in df6.columns if j[0]=='N']\n",
    "    \n",
    "    con1 = len(c1)>len(nc1)\n",
    "    con2 = len(c2)>len(nc2)\n",
    "    con3 = len(c3)>len(nc3)\n",
    "    con4 = len(c4)>len(nc4)\n",
    "    return root_node, leaf_node_1, leaf_node_2, con1, con2, con3, con4\n",
    "\n",
    "def decision_tree_2(func,df): # df here is training dataset\n",
    "    root_node = func(df).sort_values(ascending=False).head(1).index[0]\n",
    "    \n",
    "    df1 = df[[ j for j in df.columns if (df[j].loc[root_node]==1)]]\n",
    "    df1 = df1.drop(root_node)\n",
    "    df2 = df[[ j for j in df.columns if (df[j].loc[root_node]==0)]]\n",
    "    \n",
    "    leaf_node_1 = func(df1).sort_values(ascending=False).head(1).index[0]\n",
    "    leaf_node_2 = func(df2).sort_values(ascending=False).head(1).index[0]\n",
    "    \n",
    "    con1=True\n",
    "    con2=False\n",
    "    con3=True\n",
    "    con4=False\n",
    "    \n",
    "    return root_node, leaf_node_1, leaf_node_2, con1, con2, con3, con4\n",
    "\n",
    "def evaluator(df, classifier, root_node, leaf_node_1, leaf_node_2, con1, con2, con3, con4):\n",
    "    # df here is test dataset\n",
    "    TN = FN = TP = FP = 0\n",
    "    individuals = list(df.columns)\n",
    "    for i in range(df.shape[1]):\n",
    "        if individuals[i][0] == classifier(df, individuals[i], root_node, leaf_node_1, leaf_node_2, con1, con2, con3, con4)==\"C\":\n",
    "            TP +=1\n",
    "        elif individuals[i][0:2] == classifier(df, individuals[i], root_node, leaf_node_1, leaf_node_2, con1, con2, con3, con4)==\"NC\":\n",
    "            TN +=1\n",
    "        elif individuals[i][0]==\"N\" and classifier(df, individuals[i], root_node, leaf_node_1, leaf_node_2, con1, con2, con3, con4)==\"C\":\n",
    "            FP +=1\n",
    "        elif individuals[i][0]==\"C\" and classifier(df, individuals[i], root_node, leaf_node_1, leaf_node_2, con1, con2, con3, con4)==\"NC\":\n",
    "            FN +=1\n",
    "            \n",
    "    return [TP, TN, FP, FN]\n",
    "\n",
    "\n",
    "def classifier(df, individual, root_node, leaf_node_1, leaf_node_2, con1, con2, con3, con4):    \n",
    "    # df here is test dataset\n",
    "    if df[individual].loc[root_node]==1:\n",
    "        if df[individual].loc[leaf_node_1]==1:\n",
    "            return \"C\" if con1 else \"NC\"\n",
    "        else:\n",
    "            return \"C\" if con2 else \"NC\"\n",
    "    else:\n",
    "        if df[individual].loc[leaf_node_2]==1:\n",
    "            return \"C\" if con3 else \"NC\"\n",
    "        else:\n",
    "            return \"C\" if con4 else \"NC\"\n",
    "\n",
    "def average_exp(experiment):\n",
    "    \n",
    "    acct = sum(avg_acc[experiment])/len(avg_acc[experiment])\n",
    "    sent = sum(avg_sen[experiment])/len(avg_sen[experiment])\n",
    "    spet = sum(avg_spe[experiment])/len(avg_spe[experiment])\n",
    "    pret = sum(avg_pre[experiment])/len(avg_pre[experiment])\n",
    "    mist = sum(avg_mis[experiment])/len(avg_mis[experiment])\n",
    "    fdrt = sum(avg_fdr[experiment])/len(avg_fdr[experiment])\n",
    "    fort = sum(avg_for[experiment])/len(avg_for[experiment])\n",
    "    mylist = [acct, sent, spet, pret, mist, fdrt, fort]\n",
    "    \n",
    "    print(f\"\"\"\n",
    "    Avg of Accuracy is {sum(avg_acc[experiment])/len(avg_acc[experiment])}\n",
    "    Avg of Sensitivity is {sum(avg_sen[experiment])/len(avg_sen[experiment])}\n",
    "    Avg of Specificity is {sum(avg_spe[experiment])/len(avg_spe[experiment])}\n",
    "    Avg of Precision is {sum(avg_pre[experiment])/len(avg_pre[experiment])}\n",
    "    Avg of Miss Rate is {sum(avg_mis[experiment])/len(avg_mis[experiment])}\n",
    "    Avg of False discovery rate is {sum(avg_fdr[experiment])/len(avg_fdr[experiment])}\n",
    "    Avg of False omission rate is {sum(avg_for[experiment])/len(avg_for[experiment])}\n",
    "    \"\"\")"
   ]
  },
  {
   "cell_type": "code",
   "execution_count": 72,
   "id": "e3ef08ee-b42f-4e2f-a772-5da4436bb32c",
   "metadata": {},
   "outputs": [],
   "source": [
    "people = shuffle_copy(people) "
   ]
  },
  {
   "cell_type": "code",
   "execution_count": 73,
   "id": "f344bdeb-38f5-4c3b-b80d-1484fca9517e",
   "metadata": {},
   "outputs": [],
   "source": [
    "#random.shuffle(list(people))\n",
    "\n",
    "fold_1 = df[people[0:int(len(people)/3)]]\n",
    "fold_2 = df[people[int(len(people)/3):int(len(people)*2/3)]]\n",
    "fold_3 = df[people[int(len(people)*2/3):int(len(people))]]\n",
    "\n",
    "train_1 = pd.concat([fold_1,fold_2], axis = 1)\n",
    "test_1 = fold_3\n",
    "\n",
    "train_2 = pd.concat([fold_2,fold_3], axis = 1)\n",
    "test_2 = fold_1\n",
    "\n",
    "train_3 = pd.concat([fold_3,fold_1], axis = 1)\n",
    "test_3 = fold_2"
   ]
  },
  {
   "cell_type": "code",
   "execution_count": 74,
   "id": "50a17d35-8b4b-4d9f-94be-d14628640ca1",
   "metadata": {},
   "outputs": [
    {
     "data": {
      "text/plain": [
       "((8085, 83), (8085, 83), (8085, 84))"
      ]
     },
     "execution_count": 74,
     "metadata": {},
     "output_type": "execute_result"
    }
   ],
   "source": [
    "fold_1.shape, fold_2.shape, fold_3.shape"
   ]
  },
  {
   "cell_type": "code",
   "execution_count": 75,
   "id": "82e89710-3fe4-4737-83db-8f22c83e3458",
   "metadata": {},
   "outputs": [],
   "source": [
    "## TP - FP"
   ]
  },
  {
   "cell_type": "code",
   "execution_count": 76,
   "id": "78eca212-cf73-4221-999d-7bf86d81ed2c",
   "metadata": {},
   "outputs": [
    {
     "data": {
      "text/plain": [
       "('RPL22_GRCh37_1:6257785-6257785_Frame-Shift-Del_DEL_T-T--',\n",
       " \"DRD5_GRCh37_4:9785349-9785349_3'UTR_SNP_G-G-C\",\n",
       " 'RNF43_GRCh37_17:56435161-56435161_Frame-Shift-Del_DEL_C-C--',\n",
       " True,\n",
       " False,\n",
       " True,\n",
       " False)"
      ]
     },
     "execution_count": 76,
     "metadata": {},
     "output_type": "execute_result"
    }
   ],
   "source": [
    "decision_tree_2(tpfp_finder,train_1)"
   ]
  },
  {
   "cell_type": "code",
   "execution_count": 77,
   "id": "63c6a7a5-3638-4ed7-bb92-036db2d368ab",
   "metadata": {},
   "outputs": [
    {
     "data": {
      "text/plain": [
       "('RPL22_GRCh37_1:6257785-6257785_Frame-Shift-Del_DEL_T-T--',\n",
       " \"BTBD7_GRCh37_14:93708031-93708031_3'UTR_DEL_A-A--\",\n",
       " 'DOCK3_GRCh37_3:51417604-51417604_Frame-Shift-Del_DEL_C-C--',\n",
       " True,\n",
       " False,\n",
       " True,\n",
       " False)"
      ]
     },
     "execution_count": 77,
     "metadata": {},
     "output_type": "execute_result"
    }
   ],
   "source": [
    "decision_tree_2(tpfp_finder,train_2)"
   ]
  },
  {
   "cell_type": "code",
   "execution_count": 78,
   "id": "e27d2165-5447-4a20-92c6-77757ae2b3a2",
   "metadata": {},
   "outputs": [
    {
     "data": {
      "text/plain": [
       "('RPL22_GRCh37_1:6257785-6257785_Frame-Shift-Del_DEL_T-T--',\n",
       " \"CSNK1G1_GRCh37_15:64461260-64461260_3'UTR_DEL_A-A--\",\n",
       " 'DOCK3_GRCh37_3:51417604-51417604_Frame-Shift-Del_DEL_C-C--',\n",
       " True,\n",
       " False,\n",
       " True,\n",
       " False)"
      ]
     },
     "execution_count": 78,
     "metadata": {},
     "output_type": "execute_result"
    }
   ],
   "source": [
    "decision_tree_2(tpfp_finder,train_3)"
   ]
  },
  {
   "cell_type": "code",
   "execution_count": 79,
   "id": "34313045-97c2-4340-b5be-85cfe771df57",
   "metadata": {},
   "outputs": [
    {
     "name": "stdout",
     "output_type": "stream",
     "text": [
      " \n",
      "    Accuracy is 0.68\n",
      "    Sensitivity is 0.18\n",
      "    Specificity is 1.0\n",
      "    Precision is 1.0\n",
      "    Miss Rate is 0.82\n",
      "    False discovery rate is 0.0 \n",
      "    False omission rate is 0.35 \n",
      "    \n"
     ]
    }
   ],
   "source": [
    "root_node, leaf_node_1, leaf_node_2, con1, con2, con3, con4 = decision_tree_2(tpfp_finder, train_1)\n",
    "print(metrics_calc(evaluator(\n",
    "    test_1, classifier, root_node, leaf_node_1, leaf_node_2, con1, con2, con3, con4),0))"
   ]
  },
  {
   "cell_type": "code",
   "execution_count": 80,
   "id": "e70bd5c7-6f64-4c49-99d0-3a9e1977e22d",
   "metadata": {},
   "outputs": [
    {
     "name": "stdout",
     "output_type": "stream",
     "text": [
      " \n",
      "    Accuracy is 0.65\n",
      "    Sensitivity is 0.19\n",
      "    Specificity is 1.0\n",
      "    Precision is 1.0\n",
      "    Miss Rate is 0.81\n",
      "    False discovery rate is 0.0 \n",
      "    False omission rate is 0.38 \n",
      "    \n"
     ]
    }
   ],
   "source": [
    "root_node, leaf_node_1, leaf_node_2, con1, con2, con3, con4 = decision_tree_2(tpfp_finder, train_2)\n",
    "print(metrics_calc(evaluator(\n",
    "    test_2, classifier, root_node, leaf_node_1, leaf_node_2, con1, con2, con3, con4),0))"
   ]
  },
  {
   "cell_type": "code",
   "execution_count": 81,
   "id": "f8b6713b-6e25-43c5-bbde-50d570fa09af",
   "metadata": {},
   "outputs": [
    {
     "name": "stdout",
     "output_type": "stream",
     "text": [
      " \n",
      "    Accuracy is 0.57\n",
      "    Sensitivity is 0.077\n",
      "    Specificity is 1.0\n",
      "    Precision is 1.0\n",
      "    Miss Rate is 0.92\n",
      "    False discovery rate is 0.0 \n",
      "    False omission rate is 0.45 \n",
      "    \n"
     ]
    }
   ],
   "source": [
    "root_node, leaf_node_1, leaf_node_2, con1, con2, con3, con4 = decision_tree_2(tpfp_finder, train_3)\n",
    "print(metrics_calc(evaluator(\n",
    "    test_3, classifier, root_node, leaf_node_1, leaf_node_2, con1, con2, con3, con4),0))"
   ]
  },
  {
   "cell_type": "code",
   "execution_count": 82,
   "id": "ffb984eb-beb6-40ec-86b4-d0de1461aa16",
   "metadata": {},
   "outputs": [
    {
     "name": "stdout",
     "output_type": "stream",
     "text": [
      "\n",
      "    Avg of Accuracy is 0.6318129661503155\n",
      "    Avg of Sensitivity is 0.15106190106190107\n",
      "    Avg of Specificity is 1.0\n",
      "    Avg of Precision is 1.0\n",
      "    Avg of Miss Rate is 0.848938098938099\n",
      "    Avg of False discovery rate is 0.0\n",
      "    Avg of False omission rate is 0.39257759784075574\n",
      "    \n"
     ]
    }
   ],
   "source": [
    "average_exp(experiment=0)"
   ]
  },
  {
   "cell_type": "code",
   "execution_count": 83,
   "id": "305743c1-c009-447d-ae97-853fc354a3b1",
   "metadata": {},
   "outputs": [],
   "source": [
    "## Phi "
   ]
  },
  {
   "cell_type": "code",
   "execution_count": 84,
   "id": "b57c6ada-80ce-4a33-a17b-43c4824a0724",
   "metadata": {},
   "outputs": [
    {
     "data": {
      "text/plain": [
       "('RPL22_GRCh37_1:6257785-6257785_Frame-Shift-Del_DEL_T-T--',\n",
       " 'USP25_GRCh37_21:17236657-17236657_Missense-Mutation_SNP_G-G-A',\n",
       " 'RNF43_GRCh37_17:56435161-56435161_Frame-Shift-Del_DEL_C-C--',\n",
       " False,\n",
       " True,\n",
       " True,\n",
       " False)"
      ]
     },
     "execution_count": 84,
     "metadata": {},
     "output_type": "execute_result"
    }
   ],
   "source": [
    "decision_tree(phi_finder, train_1)"
   ]
  },
  {
   "cell_type": "code",
   "execution_count": 85,
   "id": "c48945f2-44bf-4365-b816-184b05fbe2d3",
   "metadata": {},
   "outputs": [
    {
     "data": {
      "text/plain": [
       "('RPL22_GRCh37_1:6257785-6257785_Frame-Shift-Del_DEL_T-T--',\n",
       " \"CAPS2_GRCh37_12:75669988-75669988_3'UTR_DEL_T-T--\",\n",
       " 'PPP2R1A_GRCh37_19:52715971-52715971_Missense-Mutation_SNP_C-C-G_C-C-T',\n",
       " False,\n",
       " True,\n",
       " False,\n",
       " False)"
      ]
     },
     "execution_count": 85,
     "metadata": {},
     "output_type": "execute_result"
    }
   ],
   "source": [
    "decision_tree(phi_finder, train_2)"
   ]
  },
  {
   "cell_type": "code",
   "execution_count": 86,
   "id": "47f1bdd7-fb21-405b-acc4-74132a9b45f8",
   "metadata": {},
   "outputs": [
    {
     "data": {
      "text/plain": [
       "('RPL22_GRCh37_1:6257785-6257785_Frame-Shift-Del_DEL_T-T--',\n",
       " 'LPXN_GRCh37_11:58331628-58331628_Missense-Mutation_SNP_C-C-A',\n",
       " 'RNF43_GRCh37_17:56435161-56435161_Frame-Shift-Del_DEL_C-C--',\n",
       " True,\n",
       " True,\n",
       " True,\n",
       " False)"
      ]
     },
     "execution_count": 86,
     "metadata": {},
     "output_type": "execute_result"
    }
   ],
   "source": [
    "decision_tree(phi_finder, train_3)"
   ]
  },
  {
   "cell_type": "code",
   "execution_count": 87,
   "id": "3535757d-44fe-44c6-ad38-f72671f9cae2",
   "metadata": {},
   "outputs": [
    {
     "name": "stdout",
     "output_type": "stream",
     "text": [
      " \n",
      "    Accuracy is 0.76\n",
      "    Sensitivity is 0.39\n",
      "    Specificity is 1.0\n",
      "    Precision is 1.0\n",
      "    Miss Rate is 0.61\n",
      "    False discovery rate is 0.0 \n",
      "    False omission rate is 0.28 \n",
      "    \n"
     ]
    }
   ],
   "source": [
    "root_node, leaf_node_1, leaf_node_2, con1, con2, con3, con4 = decision_tree(phi_finder, train_1)\n",
    "print(metrics_calc(evaluator(\n",
    "    test_1, classifier, root_node, leaf_node_1, leaf_node_2, con1, con2, con3, con4),1))"
   ]
  },
  {
   "cell_type": "code",
   "execution_count": 88,
   "id": "aee0a8ab-a77e-4215-876d-a9842003c1dc",
   "metadata": {},
   "outputs": [
    {
     "name": "stdout",
     "output_type": "stream",
     "text": [
      " \n",
      "    Accuracy is 0.65\n",
      "    Sensitivity is 0.19\n",
      "    Specificity is 1.0\n",
      "    Precision is 1.0\n",
      "    Miss Rate is 0.81\n",
      "    False discovery rate is 0.0 \n",
      "    False omission rate is 0.38 \n",
      "    \n"
     ]
    }
   ],
   "source": [
    "root_node, leaf_node_1, leaf_node_2, con1, con2, con3, con4 = decision_tree(phi_finder, train_2)\n",
    "print(metrics_calc(evaluator(\n",
    "    test_2, classifier, root_node, leaf_node_1, leaf_node_2, con1, con2, con3, con4),1))"
   ]
  },
  {
   "cell_type": "code",
   "execution_count": 89,
   "id": "0424c2b4-4542-4ba2-8883-650504fcfa38",
   "metadata": {},
   "outputs": [
    {
     "name": "stdout",
     "output_type": "stream",
     "text": [
      " \n",
      "    Accuracy is 0.66\n",
      "    Sensitivity is 0.31\n",
      "    Specificity is 0.98\n",
      "    Precision is 0.92\n",
      "    Miss Rate is 0.69\n",
      "    False discovery rate is 0.077 \n",
      "    False omission rate is 0.39 \n",
      "    \n"
     ]
    }
   ],
   "source": [
    "root_node, leaf_node_1, leaf_node_2, con1, con2, con3, con4 = decision_tree(phi_finder, train_3)\n",
    "print(metrics_calc(evaluator(\n",
    "    test_3, classifier, root_node, leaf_node_1, leaf_node_2, con1, con2, con3, con4),1))"
   ]
  },
  {
   "cell_type": "code",
   "execution_count": 90,
   "id": "6937de6b-d8d3-4f03-a4b6-67a119733839",
   "metadata": {},
   "outputs": [
    {
     "name": "stdout",
     "output_type": "stream",
     "text": [
      "\n",
      "    Avg of Accuracy is 0.6917192579843183\n",
      "    Avg of Sensitivity is 0.2986920486920487\n",
      "    Avg of Specificity is 0.9924242424242425\n",
      "    Avg of Precision is 0.9743589743589745\n",
      "    Avg of Miss Rate is 0.7013079513079514\n",
      "    Avg of False discovery rate is 0.025641025641025644\n",
      "    Avg of False omission rate is 0.3496611246425924\n",
      "    \n"
     ]
    }
   ],
   "source": [
    "average_exp(experiment=1)"
   ]
  },
  {
   "cell_type": "code",
   "execution_count": 91,
   "id": "e5b069cf-883b-4e9c-922a-9b15d0f5ccd4",
   "metadata": {},
   "outputs": [],
   "source": [
    "## Gain"
   ]
  },
  {
   "cell_type": "code",
   "execution_count": 92,
   "id": "fad849de-c2a3-437a-b643-d75d03accaca",
   "metadata": {},
   "outputs": [
    {
     "data": {
      "text/plain": [
       "('RPL22_GRCh37_1:6257785-6257785_Frame-Shift-Del_DEL_T-T--',\n",
       " 'UBE3C_GRCh37_7:156975019-156975019_Silent_SNP_T-T-C',\n",
       " 'RNF43_GRCh37_17:56435161-56435161_Frame-Shift-Del_DEL_C-C--',\n",
       " False,\n",
       " True,\n",
       " True,\n",
       " False)"
      ]
     },
     "execution_count": 92,
     "metadata": {},
     "output_type": "execute_result"
    }
   ],
   "source": [
    "decision_tree(gain_finder,train_1)"
   ]
  },
  {
   "cell_type": "code",
   "execution_count": 93,
   "id": "a7d836fb-3cd5-4f59-942c-13343f17dd47",
   "metadata": {},
   "outputs": [
    {
     "data": {
      "text/plain": [
       "('RPL22_GRCh37_1:6257785-6257785_Frame-Shift-Del_DEL_T-T--',\n",
       " \"RUNX1T1_GRCh37_8:92972382-92972383_3'UTR_INS_----A\",\n",
       " 'DOCK3_GRCh37_3:51417604-51417604_Frame-Shift-Del_DEL_C-C--',\n",
       " False,\n",
       " True,\n",
       " True,\n",
       " False)"
      ]
     },
     "execution_count": 93,
     "metadata": {},
     "output_type": "execute_result"
    }
   ],
   "source": [
    "decision_tree(gain_finder,train_2)"
   ]
  },
  {
   "cell_type": "code",
   "execution_count": 94,
   "id": "ef51c81f-bf9d-4c22-b66d-211d1d2cb12e",
   "metadata": {},
   "outputs": [
    {
     "data": {
      "text/plain": [
       "('RPL22_GRCh37_1:6257785-6257785_Frame-Shift-Del_DEL_T-T--',\n",
       " \"RUNX1T1_GRCh37_8:92972382-92972383_3'UTR_INS_----A\",\n",
       " 'DOCK3_GRCh37_3:51417604-51417604_Frame-Shift-Del_DEL_C-C--',\n",
       " False,\n",
       " True,\n",
       " True,\n",
       " False)"
      ]
     },
     "execution_count": 94,
     "metadata": {},
     "output_type": "execute_result"
    }
   ],
   "source": [
    "decision_tree(gain_finder,train_2)"
   ]
  },
  {
   "cell_type": "code",
   "execution_count": 95,
   "id": "d29f8c4d-69af-4220-81aa-fcd829d586f8",
   "metadata": {},
   "outputs": [
    {
     "name": "stdout",
     "output_type": "stream",
     "text": [
      " \n",
      "    Accuracy is 0.76\n",
      "    Sensitivity is 0.39\n",
      "    Specificity is 1.0\n",
      "    Precision is 1.0\n",
      "    Miss Rate is 0.61\n",
      "    False discovery rate is 0.0 \n",
      "    False omission rate is 0.28 \n",
      "    \n"
     ]
    }
   ],
   "source": [
    "root_node, leaf_node_1, leaf_node_2, con1, con2, con3, con4 = decision_tree(gain_finder, train_1)\n",
    "print(metrics_calc(evaluator(\n",
    "    test_1, classifier, root_node, leaf_node_1, leaf_node_2, con1, con2, con3, con4),2))"
   ]
  },
  {
   "cell_type": "code",
   "execution_count": 96,
   "id": "b06ccf4b-d1ac-4a6e-8ffb-7cdc6341992a",
   "metadata": {},
   "outputs": [
    {
     "name": "stdout",
     "output_type": "stream",
     "text": [
      " \n",
      "    Accuracy is 0.72\n",
      "    Sensitivity is 0.36\n",
      "    Specificity is 1.0\n",
      "    Precision is 1.0\n",
      "    Miss Rate is 0.64\n",
      "    False discovery rate is 0.0 \n",
      "    False omission rate is 0.33 \n",
      "    \n"
     ]
    }
   ],
   "source": [
    "root_node, leaf_node_1, leaf_node_2, con1, con2, con3, con4 = decision_tree(gain_finder, train_2)\n",
    "print(metrics_calc(evaluator(\n",
    "    test_2, classifier, root_node, leaf_node_1, leaf_node_2, con1, con2, con3, con4),2))"
   ]
  },
  {
   "cell_type": "code",
   "execution_count": 97,
   "id": "f1df2a26-a03e-4eaf-ad31-e356a60a8184",
   "metadata": {},
   "outputs": [
    {
     "name": "stdout",
     "output_type": "stream",
     "text": [
      " \n",
      "    Accuracy is 0.67\n",
      "    Sensitivity is 0.33\n",
      "    Specificity is 0.98\n",
      "    Precision is 0.93\n",
      "    Miss Rate is 0.67\n",
      "    False discovery rate is 0.071 \n",
      "    False omission rate is 0.38 \n",
      "    \n"
     ]
    }
   ],
   "source": [
    "root_node, leaf_node_1, leaf_node_2, con1, con2, con3, con4 = decision_tree(gain_finder, train_3)\n",
    "print(metrics_calc(evaluator(\n",
    "    test_3, classifier, root_node, leaf_node_1, leaf_node_2, con1, con2, con3, con4),2))"
   ]
  },
  {
   "cell_type": "code",
   "execution_count": 98,
   "id": "a1167137-5ddc-4e3a-80f2-dae70b628ead",
   "metadata": {},
   "outputs": [
    {
     "name": "stdout",
     "output_type": "stream",
     "text": [
      "\n",
      "    Avg of Accuracy is 0.719831707783515\n",
      "    Avg of Sensitivity is 0.3627946127946127\n",
      "    Avg of Specificity is 0.9924242424242425\n",
      "    Avg of Precision is 0.9761904761904763\n",
      "    Avg of Miss Rate is 0.6372053872053871\n",
      "    Avg of False discovery rate is 0.023809523809523808\n",
      "    Avg of False omission rate is 0.32902438787313254\n",
      "    \n"
     ]
    }
   ],
   "source": [
    "average_exp(experiment=2)"
   ]
  },
  {
   "cell_type": "code",
   "execution_count": null,
   "id": "ba4ddb1c-cc1a-4d56-98b1-836211abf687",
   "metadata": {},
   "outputs": [],
   "source": [
    "# Accuracy: imbalance data, coin is 0.5\n",
    "# Sensitivity : among ind with cancer, model correctly identified only 4 % of ind with cancer, \n",
    "# 96 % has cancer but identified as no cancer FN \n",
    "# Specificity : anong ind without cancer, model correctly identified 92 % of ind without cancer,\n",
    "# only 8 % no cancer but not identified\n",
    "# Precision --> when model predicts that an individual has cancer, it is correct 47% of the time,\n",
    "# 53 % of the time ind has no cancer but model mistakenly identified as cancer FP\n",
    "# Miss rate -> a miss rate of 0.95 indicates that my model misses (false negatives) 95% of the\n",
    "# individuals with cancer.\n",
    "# False discovery rate -> meaning that 52% of the individuals it predicted as having cancer were\n",
    "# actually negative cases.\n",
    "# False omission rate -> indicating that it incorrectly classified 44% of individuals with cancer\n",
    "# as not having cancer. positive cases"
   ]
  },
  {
   "cell_type": "markdown",
   "id": "14e19b24-5115-4371-b1c0-3fad0bc805a2",
   "metadata": {},
   "source": [
    "## Demo 5"
   ]
  },
  {
   "cell_type": "code",
   "execution_count": null,
   "id": "1c95e167-2670-451f-9da4-2438aea5d4f3",
   "metadata": {},
   "outputs": [],
   "source": [
    "def gain_finder_table(df):\n",
    "    \n",
    "    # table of all cancer individual who has not a specific mutation\n",
    "    ntrc = (df[[i for i in df.columns if i[0]=='C']]==0).sum(axis=1)\n",
    "    # table of all cancer individual who has a specific mutation\n",
    "    ntlc = (df[[i for i in df.columns if i[0]=='C']]==1).sum(axis=1)\n",
    "\n",
    "    # table of all noncancer individual who has not a specific mutation\n",
    "    ntrnc = (df[[i for i in df.columns if i[0]=='N']]==0).sum(axis=1)\n",
    "    # table of all noncancer individual who has a specific mutation\n",
    "    ntlnc = (df[[i for i in df.columns if i[0]=='N']]==1).sum(axis=1)\n",
    "\n",
    "    # table of cancer and noncancer has specific mutation\n",
    "    ntl = ntlc + ntlnc\n",
    "    # table of cancer and noncancer has not a specific mutation\n",
    "    ntr = ntrc + ntrnc\n",
    "    # total of samples\n",
    "    nt = ntr + ntl\n",
    "    # table of calculated gain value to find the feature with highest gain\n",
    "    ntc = ntrc + ntlc\n",
    "    ntnc = ntrnc + ntlnc\n",
    "    \n",
    "    pc = ntc/nt\n",
    "    pnc = ntnc/nt\n",
    "    ht = -(pc*np.log2(1+pc)+pnc*np.log2(1+pnc))\n",
    "    \n",
    "    pl = ntl/nt\n",
    "    pr = ntr/nt\n",
    "    plc = ntlc/(ntl+1)\n",
    "    plnc = ntlnc/(ntl+1)\n",
    "    prc = ntrc/ntr\n",
    "    prnc = ntrnc/ntr\n",
    "    htr = -(prc*np.log2(1+prc)+prnc*np.log2(1+prnc))\n",
    "    htl = -(plc*np.log2(1+plc)+plnc*np.log2(1+plnc))\n",
    "    hst = pl*htl + pr*htr\n",
    "    gain = ht - hst\n",
    "    \n",
    "    list_1 = [ntl,ntr,ntlc,ntlnc,ntrc,ntrnc,pl,pr,plc,plnc,prc,prnc,htl,htr,hst,gain]\n",
    "    rr = pd.concat(list_1,axis=1)\n",
    "    rr.columns = [ \"n(tL)\",\"n(tR)\", \"n(tL,C)\", \"n(tL,NC)\", \"n(tR,C)\", \"n(tR,NC)\",\n",
    "                  \"PL\", \"PR\",\"PL,Ct\", \"PL,NCt\", \"PR,Ct\", \"PR,NCt\",\"HtL\", \"HtR\",\"H(s,t)\", \"gain(s)\"]\n",
    "    return rr"
   ]
  },
  {
   "cell_type": "code",
   "execution_count": 99,
   "id": "867b4d8e-722b-4bae-9255-3056a36d37dd",
   "metadata": {},
   "outputs": [],
   "source": [
    "import math\n",
    "import numpy"
   ]
  },
  {
   "cell_type": "code",
   "execution_count": 109,
   "id": "bd520642-d792-4bb5-99ca-66f9de16d71b",
   "metadata": {},
   "outputs": [],
   "source": [
    "def random_forest(func,df): # df here is training dataset\n",
    "    data = df.copy()\n",
    "    df = df.sample(int(df.shape[0]), replace=True)\n",
    "    df_out = data.loc[[i for i in data.index if i not in df.index]]\n",
    "    \n",
    "    root_node = func(df).sort_values(ascending=False).head(1).index[0]\n",
    "    \n",
    "    df1 = df[[ j for j in df.columns if (df[j].loc[root_node]==1).any()]]\n",
    "    df1 = df1.drop(root_node)\n",
    "    df2 = df[[ j for j in df.columns if (df[j].loc[root_node]==0).any()]]\n",
    "    df1 = df1.sample(math.ceil(df1.shape[0]**0.5))\n",
    "    df2 = df2.sample(math.ceil(df2.shape[0]**0.5))\n",
    "    leaf_node_1 = func(df1).sort_values(ascending=False).head(1).index[0]\n",
    "    leaf_node_2 = func(df2).sort_values(ascending=False).head(1).index[0]\n",
    "    \n",
    "    df3 = df1[[ j for j in df1.columns if (df1[j].loc[leaf_node_1]==1).any()]]\n",
    "    df3 = df3.drop(leaf_node_1)\n",
    "    df3 = df3.sample(math.ceil(df3.shape[0]**0.5))\n",
    "    c1 = [i for i in df3.columns if i[0]=='C']\n",
    "    nc1 = [j for j in df3.columns if j[0]=='N']\n",
    "    \n",
    "    df4 = df1[[ j for j in df1.columns if (df1[j].loc[leaf_node_1]==0).any()]]\n",
    "    df4 = df4.sample(math.ceil(df4.shape[0]**0.5))\n",
    "    c2 = [i for i in df4.columns if i[0]=='C']\n",
    "    nc2 = [j for j in df4.columns if j[0]=='N']\n",
    "    \n",
    "    df5 = df2[[ j for j in df2.columns if (df2[j].loc[leaf_node_2]==1).any()]]\n",
    "    df5 = df5.drop(leaf_node_2)\n",
    "    df5 = df5.sample(math.ceil(df5.shape[0]**0.5))\n",
    "    c3 = [i for i in df5.columns if i[0]=='C']\n",
    "    nc3 = [j for j in df5.columns if j[0]=='N']\n",
    "    \n",
    "    df6 = df2[[ j for j in df2.columns if (df2[j].loc[leaf_node_2]==0).any()]]\n",
    "    df6 = df6.sample(math.ceil(df6.shape[0]**0.5))\n",
    "    c4 = [i for i in df6.columns if i[0]=='C']\n",
    "    nc4 = [j for j in df6.columns if j[0]=='N']\n",
    "    \n",
    "    con1 = len(c1)>len(nc1)\n",
    "    con2 = len(c2)>len(nc2)\n",
    "    con3 = len(c3)>len(nc3)\n",
    "    con4 = len(c4)>len(nc4)\n",
    "    return root_node, leaf_node_1, leaf_node_2, con1, con2, con3, con4"
   ]
  },
  {
   "cell_type": "code",
   "execution_count": 110,
   "id": "f3350b99-4a0f-4f5e-8285-9db3cb2a20b2",
   "metadata": {},
   "outputs": [
    {
     "data": {
      "text/plain": [
       "('RPL22_GRCh37_1:6257785-6257785_Frame-Shift-Del_DEL_T-T--',\n",
       " \"SHC4_GRCh37_15:49117722-49117722_3'UTR_DEL_T-T--\",\n",
       " 'PTEN_GRCh37_10:89692904-89692904_Missense-Mutation_SNP_C-C-G',\n",
       " True,\n",
       " True,\n",
       " True,\n",
       " False)"
      ]
     },
     "execution_count": 110,
     "metadata": {},
     "output_type": "execute_result"
    }
   ],
   "source": [
    "random_forest(phi_finder, df)"
   ]
  },
  {
   "cell_type": "code",
   "execution_count": 111,
   "id": "f8f0e45d-9a02-4f66-ba48-b712384d95e0",
   "metadata": {},
   "outputs": [
    {
     "data": {
      "text/plain": [
       "('DOCK3_GRCh37_3:51417604-51417604_Frame-Shift-Del_DEL_C-C--',\n",
       " 'HERC2P2_GRCh37_15:23308615-23308615_RNA_SNP_G-G-A',\n",
       " 'HSD3B1_GRCh37_1:120049947-120049947_Intron_DEL_A-A--',\n",
       " False,\n",
       " True,\n",
       " True,\n",
       " False)"
      ]
     },
     "execution_count": 111,
     "metadata": {},
     "output_type": "execute_result"
    }
   ],
   "source": [
    "random_forest(gain_finder, df)"
   ]
  },
  {
   "cell_type": "code",
   "execution_count": 113,
   "id": "a6dc2198-39d7-4057-8e3c-c3486797db62",
   "metadata": {},
   "outputs": [
    {
     "name": "stdout",
     "output_type": "stream",
     "text": [
      " \n",
      "    Accuracy is 0.6\n",
      "    Sensitivity is 0.18\n",
      "    Specificity is 0.98\n",
      "    Precision is 0.88\n",
      "    Miss Rate is 0.82\n",
      "    False discovery rate is 0.12 \n",
      "    False omission rate is 0.43 \n",
      "    \n"
     ]
    }
   ],
   "source": [
    "root_node, leaf_node_1, leaf_node_2, con1, con2, con3, con4 = random_forest(gain_finder, train_3)\n",
    "print(metrics_calc(evaluator(\n",
    "    test_3, classifier, root_node, leaf_node_1, leaf_node_2, con1, con2, con3, con4),2))"
   ]
  },
  {
   "cell_type": "code",
   "execution_count": 115,
   "id": "9a72f20c-156b-4494-8bf1-66643720c477",
   "metadata": {},
   "outputs": [
    {
     "name": "stdout",
     "output_type": "stream",
     "text": [
      "[7, 43, 1, 32]\n"
     ]
    }
   ],
   "source": [
    "print(evaluator(test_3, classifier, root_node, leaf_node_1, leaf_node_2, con1, con2, con3, con4))"
   ]
  },
  {
   "cell_type": "code",
   "execution_count": 65,
   "id": "37e16dd3-1e2d-495e-8140-1eadcd9c22a0",
   "metadata": {},
   "outputs": [],
   "source": [
    "#1 bootstrap -> sample with with return\n",
    "#2 out of the bag -> for loop over all samples\n",
    "#3 apply gain method on each tree considering sqn of features and store root and leaf nodes in a list\n",
    "#4 apply on out of baggage data to find the most common one and store as tp,fp,tn,or fn\n",
    "#5 compute performance metrics"
   ]
  },
  {
   "cell_type": "code",
   "execution_count": 42,
   "id": "a93f7224-ab63-4db6-8a92-f4dd8bf6f137",
   "metadata": {},
   "outputs": [
    {
     "name": "stdout",
     "output_type": "stream",
     "text": [
      "Most common element: 4\n",
      "Number of repetitions: 5\n"
     ]
    }
   ],
   "source": [
    "my_list = [1, 2, 3, 4, 2, 2, 3, 3, 3, 4, 4, 4, 4]\n",
    "\n",
    "# Find the element with the maximum number of repetitions\n",
    "most_common_element = max(set(my_list), key=my_list.count)\n",
    "\n",
    "print(\"Most common element:\", most_common_element)\n",
    "print(\"Number of repetitions:\", my_list.count(most_common_element))\n"
   ]
  },
  {
   "cell_type": "code",
   "execution_count": 43,
   "id": "65cacb16-0897-4e72-9c6a-189078bebe9e",
   "metadata": {},
   "outputs": [],
   "source": [
    "ml = [\"true\", \"false\", \"false\", \"true\", \"false\"]"
   ]
  },
  {
   "cell_type": "code",
   "execution_count": 44,
   "id": "08add265-5ba7-4ca6-ab35-e7f59f0fa636",
   "metadata": {},
   "outputs": [
    {
     "name": "stdout",
     "output_type": "stream",
     "text": [
      "Most common element: false\n",
      "Number of repetitions: 3\n"
     ]
    }
   ],
   "source": [
    "most_common_element = max(set(ml), key=ml.count)\n",
    "print(\"Most common element:\", most_common_element)\n",
    "print(\"Number of repetitions:\", ml.count(most_common_element))"
   ]
  },
  {
   "cell_type": "code",
   "execution_count": 195,
   "id": "b45fd730-9df1-439c-a062-7827b9818b87",
   "metadata": {},
   "outputs": [],
   "source": [
    "#nodes = [''  for j in range(2**max_depth-1)]\n",
    "#conditions = [ 0  for j in range(2**max_depth)]\n",
    "max_depth = 2\n",
    "nodes = [[] for index in range(max_depth+1)]\n",
    "conditions = []"
   ]
  },
  {
   "cell_type": "code",
   "execution_count": 196,
   "id": "7dcdb766-0aa2-4ca7-97d8-d38b622b2033",
   "metadata": {},
   "outputs": [
    {
     "data": {
      "text/plain": [
       "([[], [], []], [])"
      ]
     },
     "execution_count": 196,
     "metadata": {},
     "output_type": "execute_result"
    }
   ],
   "source": [
    "nodes, conditions"
   ]
  },
  {
   "cell_type": "code",
   "execution_count": 197,
   "id": "7a73e324-9206-4f28-855f-d74ca5d2c016",
   "metadata": {},
   "outputs": [],
   "source": [
    "def decision_tree_3(func,df,max_depth,depth=0): # df here is training dataset\n",
    "    if depth > max_depth:\n",
    "        return nodes, conditions\n",
    "        \n",
    "    df = df.sample(math.ceil(df.shape[0]**0.5))\n",
    "\n",
    "    root_node = func(df).sort_values(ascending=False).head(1).index[0]\n",
    "    nodes[depth].append(root_node)\n",
    "    df1 = df[[ j for j in df.columns if (df[j].loc[root_node]==1).any()]]\n",
    "    df1 = df1.drop(root_node)\n",
    "    df2 = df[[ j for j in df.columns if (df[j].loc[root_node]==0).any()]]\n",
    "    df1 = df1.sample(math.ceil(df1.shape[0]**0.5))\n",
    "    df2 = df2.sample(math.ceil(df2.shape[0]**0.5))\n",
    "    \n",
    "    if depth==max_depth:\n",
    "        c1 = [i for i in df1.columns if i[0]=='C']\n",
    "        nc1 = [j for j in df1.columns if j[0]=='N']\n",
    "        c2 = [i for i in df2.columns if i[0]=='C']\n",
    "        nc2 = [j for j in df2.columns if j[0]=='N']\n",
    "        con1 = len(c1)>len(nc1)\n",
    "        con2 = len(c2)>len(nc2)\n",
    "        conditions.append(con1)\n",
    "        conditions.append(con2)\n",
    "    leaf_node_1 = decision_tree_3(func,df1,max_depth,depth+1)\n",
    "    leaf_node_2 = decision_tree_3(func,df2,max_depth,depth+1)"
   ]
  },
  {
   "cell_type": "code",
   "execution_count": 198,
   "id": "be3078c7-3039-4ac2-a149-428a0a269a1e",
   "metadata": {},
   "outputs": [],
   "source": [
    "decision_tree_3(gain_finder,df,2)"
   ]
  },
  {
   "cell_type": "code",
   "execution_count": 199,
   "id": "ed4b8baa-5b7a-4227-aeb2-591006218f99",
   "metadata": {},
   "outputs": [
    {
     "data": {
      "text/plain": [
       "[['PTEN_GRCh37_10:89692904-89692904_Missense-Mutation_SNP_C-C-G'],\n",
       " ['KCND3_GRCh37_1:112323370-112323370_Missense-Mutation_SNP_G-G-A',\n",
       "  \"KIAA0355_GRCh37_19:34844830-34844830_3'UTR_DEL_A-A--\"],\n",
       " ['SACS_GRCh37_13:23912385-23912385_Missense-Mutation_SNP_C-C-T',\n",
       "  'LRIT3_GRCh37_4:110790809-110790809_Nonsense-Mutation_SNP_G-G-T',\n",
       "  'EXD2_GRCh37_14:69701577-69701577_Missense-Mutation_SNP_G-G-A',\n",
       "  \"C17orf66_GRCh37_17:34182059-34182059_3'UTR_SNP_G-G-T\"]]"
      ]
     },
     "execution_count": 199,
     "metadata": {},
     "output_type": "execute_result"
    }
   ],
   "source": [
    "nodes"
   ]
  },
  {
   "cell_type": "code",
   "execution_count": 200,
   "id": "cd002a11-2d36-4743-86f7-4603489000e2",
   "metadata": {},
   "outputs": [
    {
     "data": {
      "text/plain": [
       "[False, False, False, True, False, True, True, False]"
      ]
     },
     "execution_count": 200,
     "metadata": {},
     "output_type": "execute_result"
    }
   ],
   "source": [
    "conditions"
   ]
  },
  {
   "cell_type": "code",
   "execution_count": 201,
   "id": "775729c3-bedb-4e15-89da-4bb9822cfc1c",
   "metadata": {},
   "outputs": [],
   "source": [
    "max_depth = 1\n",
    "nodes = [[] for index in range(max_depth+1)]\n",
    "conditions = []\n",
    "decision_tree_3(gain_finder,df,1)"
   ]
  },
  {
   "cell_type": "code",
   "execution_count": 202,
   "id": "bc25708f-4d3d-4d3b-bc10-714bdbce4c8e",
   "metadata": {},
   "outputs": [
    {
     "data": {
      "text/plain": [
       "[[\"DDHD1_GRCh37_14:53513450-53513480_3'UTR_DEL_AATCAGTTTTAGGCCATTCATGTCCTTCAAG-AATCAGTTTTAGGCCATTCATGTCCTTCAAG-TCAGTTTTAGGCCATTCATGTCCTTCA\"],\n",
       " [\"PTEN_GRCh37_10:89725231-89725231_3'UTR_DEL_T-T--\",\n",
       "  'DNMT3B_GRCh37_20:31394047-31394047_Silent_SNP_G-G-A']]"
      ]
     },
     "execution_count": 202,
     "metadata": {},
     "output_type": "execute_result"
    }
   ],
   "source": [
    "nodes"
   ]
  },
  {
   "cell_type": "code",
   "execution_count": 203,
   "id": "7d3d9dd6-2af1-4c41-8c68-c4e6b7fe56f6",
   "metadata": {},
   "outputs": [
    {
     "data": {
      "text/plain": [
       "[False, True, False, False]"
      ]
     },
     "execution_count": 203,
     "metadata": {},
     "output_type": "execute_result"
    }
   ],
   "source": [
    "conditions"
   ]
  },
  {
   "cell_type": "code",
   "execution_count": 231,
   "id": "8f64bff7-999a-4afe-8d9d-715ecfc895a1",
   "metadata": {},
   "outputs": [],
   "source": [
    "bootstrap_list = []\n",
    "out_of_bag_list = []\n",
    "def bootstrap(df, num_samples):\n",
    "    for i in range(num_samples):\n",
    "        bootstrap_sample = df.sample(int(df.shape[1]), replace=True, axis=1)\n",
    "        out_of_bag_sample = df[[j for j in df.columns if j not in bootstrap_sample.columns]]\n",
    "        bootstrap_list.append(bootstrap_sample)\n",
    "        out_of_bag_list.append(out_of_bag_sample)"
   ]
  },
  {
   "cell_type": "markdown",
   "id": "0f4bef40-4b72-4a84-9f13-81ed50675c76",
   "metadata": {},
   "source": [
    "## Part 1"
   ]
  },
  {
   "cell_type": "code",
   "execution_count": 240,
   "id": "4e5a8759-2db4-417c-9910-b73633640aa9",
   "metadata": {},
   "outputs": [
    {
     "name": "stdout",
     "output_type": "stream",
     "text": [
      "(8085, 250)\n",
      "(8085, 96)\n",
      "Index(['NC1', 'C1', 'NC3', 'NC4', 'NC7', 'NC10', 'NC11', 'C7', 'NC14', 'NC18',\n",
      "       'NC19', 'C10', 'NC21', 'NC22', 'C12', 'C15', 'C16', 'C17', 'C18',\n",
      "       'NC28', 'C19', 'NC30', 'NC31', 'NC33', 'C23', 'NC35', 'NC37', 'C24',\n",
      "       'NC39', 'NC41', 'NC44', 'C31', 'C33', 'NC47', 'C35', 'NC48', 'C36',\n",
      "       'C37', 'C38', 'C39', 'NC50', 'NC51', 'C41', 'NC54', 'NC55', 'NC56',\n",
      "       'C43', 'NC60', 'NC62', 'C51', 'NC65', 'C52', 'C53', 'NC67', 'NC70',\n",
      "       'C56', 'C58', 'NC72', 'NC75', 'C61', 'C62', 'C63', 'NC76', 'NC77',\n",
      "       'C67', 'C74', 'NC87', 'NC88', 'NC89', 'C75', 'C79', 'NC91', 'NC96',\n",
      "       'NC99', 'C84', 'NC103', 'NC105', 'NC107', 'NC108', 'NC113', 'C98',\n",
      "       'C99', 'NC115', 'C101', 'NC118', 'NC119', 'NC120', 'C103', 'C105',\n",
      "       'NC126', 'NC128', 'NC135', 'NC139', 'C107', 'NC141', 'C108'],\n",
      "      dtype='object', name='class')\n"
     ]
    }
   ],
   "source": [
    "bootstrap_list = []\n",
    "out_of_bag_list = []\n",
    "bootstrap(df,1)\n",
    "# size of bootstrap sample and out of the bag sample\n",
    "print(bootstrap_list[0].shape)\n",
    "print(out_of_bag_list[0].shape)\n",
    "# list of out of the bag samples\n",
    "print(out_of_bag_list[0].columns)"
   ]
  },
  {
   "cell_type": "code",
   "execution_count": 242,
   "id": "8fc5daeb-4aa5-43f5-9009-d73f7e5dd07e",
   "metadata": {},
   "outputs": [
    {
     "name": "stdout",
     "output_type": "stream",
     "text": [
      "[['KCNH7_GRCh37_2:163374308-163374308_Missense-Mutation_SNP_G-G-A'], ['ADCY8_GRCh37_8:131916183-131916183_Silent_SNP_G-G-A', \"SMEK1_GRCh37_14:91924426-91924426_3'UTR_DEL_A-A--\"], ['GTPBP4_GRCh37_10:1058589-1058589_Missense-Mutation_SNP_G-G-A', 'GTPBP4_GRCh37_10:1058589-1058589_Missense-Mutation_SNP_G-G-A', 'ANKRD27_GRCh37_19:33096837-33096837_Silent_SNP_C-C-T', 'ANKRD27_GRCh37_19:33096837-33096837_Silent_SNP_C-C-T']]\n"
     ]
    }
   ],
   "source": [
    "max_depth = 2\n",
    "nodes = [[] for index in range(max_depth+1)]\n",
    "conditions = []\n",
    "# apply decision tree depth 2 on bootstrap sample\n",
    "decision_tree_3(gain_finder,bootstrap_list[0],2)\n",
    "# print root nodes and child nodes\n",
    "print(nodes)"
   ]
  },
  {
   "cell_type": "markdown",
   "id": "dc6365d5-db50-4ff9-8420-19f0de916b28",
   "metadata": {},
   "source": [
    "## Part 2,3 and 4"
   ]
  },
  {
   "cell_type": "code",
   "execution_count": null,
   "id": "b985871e-8f41-4b30-89dd-4417e6db5c9f",
   "metadata": {},
   "outputs": [],
   "source": []
  },
  {
   "cell_type": "code",
   "execution_count": null,
   "id": "f117b755-eac7-4634-b7dd-4dc0886a401c",
   "metadata": {},
   "outputs": [],
   "source": []
  },
  {
   "cell_type": "code",
   "execution_count": 389,
   "id": "bec96b45-c17e-4f65-af6c-b6451f7c47d6",
   "metadata": {},
   "outputs": [],
   "source": [
    "def random_forest(df, func, max_depth, num_trees, individual):\n",
    "    bootstrap_list = []\n",
    "    out_of_bag_list = []\n",
    "    def bootstrap(df, num_samples):\n",
    "        for i in range(num_samples):\n",
    "            bootstrap_sample = df.sample(int(df.shape[1]), replace=True, axis=1)\n",
    "            out_of_bag_sample = df[[j for j in df.columns if j not in bootstrap_sample.columns]]\n",
    "            bootstrap_list.append(bootstrap_sample)\n",
    "            out_of_bag_list.append(out_of_bag_sample)\n",
    "    bootstrap(df,num_trees)\n",
    "    oob_size = [out_of_bag_list[j].shape[1] for j in range(num_trees)]\n",
    "    oob_size_avg = sum(oob_size)/len(oob_size)\n",
    "    forest = {}\n",
    "    conds = {}\n",
    "    #nodes = [[] for index in range(max_depth+1)]\n",
    "    #conditions = []\n",
    "    def decision_tree_3(func,df,max_depth,depth=0): # df here is training dataset\n",
    "        if depth > max_depth:\n",
    "            return nodes, conditions\n",
    "        \n",
    "        df = df.sample(math.ceil(df.shape[0]**0.5))\n",
    "\n",
    "        root_node = func(df).sort_values(ascending=False).head(1).index[0]\n",
    "        nodes[depth].append(root_node)\n",
    "        df1 = df[[ j for j in df.columns if (df[j].loc[root_node]==1).any()]]\n",
    "        df1 = df1.drop(root_node)\n",
    "        df2 = df[[ j for j in df.columns if (df[j].loc[root_node]==0).any()]]\n",
    "        df1 = df1.sample(math.ceil(df1.shape[0]**0.5))\n",
    "        df2 = df2.sample(math.ceil(df2.shape[0]**0.5))\n",
    "    \n",
    "        if depth==max_depth:\n",
    "            c1 = [i for i in df1.columns if i[0]=='C']\n",
    "            nc1 = [j for j in df1.columns if j[0]=='N']\n",
    "            c2 = [i for i in df2.columns if i[0]=='C']\n",
    "            nc2 = [j for j in df2.columns if j[0]=='N']\n",
    "            con1 = len(c1)>len(nc1)\n",
    "            con2 = len(c2)>len(nc2)\n",
    "            conditions.append(con1)\n",
    "            conditions.append(con2)\n",
    "        leaf_node_1 = decision_tree_3(func,df1,max_depth,depth+1)\n",
    "        leaf_node_2 = decision_tree_3(func,df2,max_depth,depth+1)\n",
    "        \n",
    "    for i in range(num_trees):\n",
    "        nodes = [[] for index in range(max_depth+1)]\n",
    "        conditions = []\n",
    "        decision_tree_3(func, bootstrap_list[i], max_depth)\n",
    "        forest[i]=nodes\n",
    "        conds[i]=conditions\n",
    "    \n",
    "    def classifier_depth2(df, individual, r0,r1,r2,r3,r4,r5,r6, cn1,cn2,cn3,cn4,cn5,cn6,cn7,cn8):    \n",
    "        # df here is test dataset\n",
    "        #individual = list(df.columns)\n",
    "        if (df[individual].loc[r0]==1).any():\n",
    "            if (df[individual].loc[r1]==1).any():\n",
    "                if (df[individual].loc[r3]==1).any():\n",
    "                    return \"C\" if cn1 else \"NC\"\n",
    "                else:\n",
    "                    return \"C\" if cn2 else \"NC\"\n",
    "            else:\n",
    "                if (df[individual].loc[r4]==1).any():\n",
    "                    return \"C\" if cn3 else \"NC\"\n",
    "                else:\n",
    "                    return \"C\" if cn4 else \"NC\"\n",
    "        else:\n",
    "            if (df[individual].loc[r2]==1).any():\n",
    "                if (df[individual].loc[r5]==1).any():\n",
    "                    return \"C\" if cn5 else \"NC\"\n",
    "                else:\n",
    "                    return \"C\" if cn6 else \"NC\"\n",
    "            else:\n",
    "                if (df[individual].loc[r6]==1).any():\n",
    "                    return \"C\" if cn7 else \"NC\"\n",
    "                else:\n",
    "                    return \"C\" if cn8 else \"NC\"\n",
    "    \n",
    "    votes = []\n",
    "    for k in range(num_trees):\n",
    "        if individual in list(bootstrap_list[k].columns):\n",
    "            r0 = forest[k][0][0]\n",
    "            r1,r2 = forest[k][1]\n",
    "            r3,r4,r5,r6 = forest[k][2]\n",
    "            cn1,cn2,cn3,cn4,cn5,cn6,cn7,cn8 =conds[k]\n",
    "            vot = classifier_depth2(bootstrap_list[k],individual,r0,r1,r2,r3,r4,r5,r6, cn1,cn2,cn3,cn4,cn5,cn6,cn7,cn8)\n",
    "            votes.append(vot)\n",
    "    majority_vote = max(set(votes), key=votes.count)\n",
    "    \n",
    "    return forest, oob_size, oob_size_avg, conds, votes, majority_vote"
   ]
  },
  {
   "cell_type": "code",
   "execution_count": 390,
   "id": "3c96c175-06a8-4357-a809-ad615b1fd5ce",
   "metadata": {},
   "outputs": [
    {
     "data": {
      "text/plain": [
       "({0: [['PIK3CA_GRCh37_3:178916876-178916876_Missense-Mutation_SNP_G-G-A'],\n",
       "   [\"RPS6KB1_GRCh37_17:58024909-58024909_3'UTR_DEL_A-A--\",\n",
       "    'NES_GRCh37_1:156642804-156642804_Frame-Shift-Del_DEL_G-G--'],\n",
       "   [\"EML4_GRCh37_2:42558377-42558377_3'UTR_DEL_T-T--\",\n",
       "    'NAA16_GRCh37_13:41894959-41894959_Missense-Mutation_SNP_G-G-A',\n",
       "    \"CANX_GRCh37_5:179156881-179156881_3'UTR_DEL_T-T--\",\n",
       "    'NAV2_GRCh37_11:20117271-20117271_Silent_SNP_G-G-A']],\n",
       "  1: [['TCF4_GRCh37_18:53068822-53068822_Intron_DEL_A-A--'],\n",
       "   ['NEK10_GRCh37_3:27337131-27337131_Missense-Mutation_SNP_C-C-A',\n",
       "    \"MAF_GRCh37_16:79630857-79630857_3'UTR_DEL_A-A--\"],\n",
       "   ['C1R_GRCh37_12:7242010-7242010_Frame-Shift-Del_DEL_G-G--',\n",
       "    'UGGT2_GRCh37_13:96506702-96506702_Nonsense-Mutation_SNP_G-G-A',\n",
       "    'ZNF200_GRCh37_16:3283659-3283659_Nonsense-Mutation_SNP_G-G-A',\n",
       "    'ATXN2L_GRCh37_16:28847350-28847350_Frame-Shift-Del_DEL_G-G--']],\n",
       "  2: [['NSD1_GRCh37_5:176675269-176675269_Frame-Shift-Del_DEL_A-A--'],\n",
       "   ['ZNF449_GRCh37_X:134494472-134494472_Missense-Mutation_SNP_G-G-T',\n",
       "    'FAT1_GRCh37_4:187519227-187519227_Silent_SNP_G-G-A'],\n",
       "   [\"PALM2-AKAP2_GRCh37_9:112934335-112934335_3'Flank_SNP_C-C-T\",\n",
       "    \"BHMT_GRCh37_5:78407684-78407684_5'UTR_SNP_G-G-A\",\n",
       "    'APPL1_GRCh37_3:57276921-57276921_Frame-Shift-Del_DEL_A-A--',\n",
       "    'ZNF267_GRCh37_16:31927264-31927264_Missense-Mutation_SNP_G-G-A']],\n",
       "  3: [[\"LAYN_GRCh37_11:111431238-111431238_3'UTR_SNP_C-C-A_C-C-T\"],\n",
       "   [\"CIT_GRCh37_12:120123940-120123940_3'UTR_DEL_T-T--\",\n",
       "    'ARID1A_GRCh37_1:27105930-27105931_Frame-Shift-Ins_INS_----G'],\n",
       "   ['PIK3CA_GRCh37_3:178936082-178936082_Missense-Mutation_SNP_G-G-A_G-G-C',\n",
       "    'KIAA1731_GRCh37_11:93454921-93454921_RNA_DEL_G-G--',\n",
       "    \"BTG2_GRCh37_1:203276682-203276682_3'UTR_DEL_T-T--\",\n",
       "    'EPHX4_GRCh37_1:92518203-92518203_Missense-Mutation_SNP_G-G-A']],\n",
       "  4: [[\"CTNNA2_GRCh37_2:80875615-80875615_3'UTR_DEL_T-T--\"],\n",
       "   ['ARL5A_GRCh37_2:152670828-152670828_Missense-Mutation_SNP_G-G-T',\n",
       "    'C7_GRCh37_5:40958311-40958311_Silent_SNP_G-G-A'],\n",
       "   ['SETD5_GRCh37_3:9506277-9506277_Missense-Mutation_SNP_G-G-A',\n",
       "    'ARL5A_GRCh37_2:152670828-152670828_Missense-Mutation_SNP_G-G-T',\n",
       "    \"VTI1A_GRCh37_10:114575226-114575226_3'UTR_SNP_C-C-T\",\n",
       "    'PMEPA1_GRCh37_20:56227174-56227174_Missense-Mutation_SNP_C-C-T']],\n",
       "  5: [[\"ZMPSTE24_GRCh37_1:40758422-40758422_3'UTR_DEL_T-T--\"],\n",
       "   ['PROX1_GRCh37_1:214170988-214170988_Silent_SNP_C-C-A',\n",
       "    'RP1_GRCh37_8:55542508-55542508_Missense-Mutation_SNP_G-G-T'],\n",
       "   ['PRKX_GRCh37_X:3559972-3559972_Missense-Mutation_SNP_C-C-T',\n",
       "    'FEZ1_GRCh37_11:125359533-125359533_Missense-Mutation_SNP_C-C-A',\n",
       "    'C4A_GRCh37_6:31962440-31962440_Missense-Mutation_SNP_G-G-A',\n",
       "    'RP1_GRCh37_8:55542508-55542508_Missense-Mutation_SNP_G-G-T']],\n",
       "  6: [['FOXP2_GRCh37_7:114284858-114284858_Intron_DEL_T-T--'],\n",
       "   ['FAM161B_GRCh37_14:74400974-74400974_Silent_SNP_G-G-A',\n",
       "    'ZNF257_GRCh37_19:22271727-22271727_Missense-Mutation_SNP_G-G-T'],\n",
       "   ['PPAPDC1B_GRCh37_8:38125471-38125471_Silent_SNP_G-G-A',\n",
       "    'B3GALTL_GRCh37_13:31835151-31835151_Missense-Mutation_SNP_G-G-T',\n",
       "    \"FAM46D_GRCh37_X:79700773-79700773_3'UTR_SNP_G-G-T_G-G-A\",\n",
       "    'ZNF257_GRCh37_19:22271727-22271727_Missense-Mutation_SNP_G-G-T']],\n",
       "  7: [[\"AFF1_GRCh37_4:88062002-88062002_3'UTR_DEL_T-T--\"],\n",
       "   ['CPO_GRCh37_2:207823120-207823120_Silent_SNP_C-C-T',\n",
       "    'SSTR4_GRCh37_20:23016449-23016449_Missense-Mutation_SNP_G-G-A'],\n",
       "   ['WDR87_GRCh37_19:38376035-38376035_Frame-Shift-Del_DEL_T-T--',\n",
       "    'WDR87_GRCh37_19:38376035-38376035_Frame-Shift-Del_DEL_T-T--',\n",
       "    \"MRC2_GRCh37_17:60770898-60770898_3'UTR_DEL_A-A--\",\n",
       "    \"NDUFA2_GRCh37_5:140025092-140025092_3'UTR_SNP_G-G-T\"]],\n",
       "  8: [['RPL22_GRCh37_1:6257785-6257785_Frame-Shift-Del_DEL_T-T--'],\n",
       "   [\"ILDR2_GRCh37_1:166888564-166888564_3'UTR_SNP_C-C-A\",\n",
       "    \"CLCN5_GRCh37_X:49858224-49858224_3'Flank_DEL_A-A--\"],\n",
       "   [\"WWC1_GRCh37_5:167896236-167896236_3'UTR_DEL_A-A--\",\n",
       "    \"NPTX1_GRCh37_17:78441163-78441163_3'UTR_SNP_C-C-A\",\n",
       "    \"EYS_GRCh37_6:64430414-64430414_3'Flank_SNP_G-G-A\",\n",
       "    \"EYS_GRCh37_6:64430414-64430414_3'Flank_SNP_G-G-A\"]],\n",
       "  9: [[\"POF1B_GRCh37_X:84534384-84534384_3'UTR_SNP_A-A-C\"],\n",
       "   [\"ST8SIA4_GRCh37_5:100144663-100144663_3'UTR_DEL_T-T--\",\n",
       "    'ZNF91_GRCh37_19:23544955-23544955_Missense-Mutation_SNP_G-G-T'],\n",
       "   ['MYO10_GRCh37_5:16701654-16701654_Silent_SNP_G-G-T_G-G-A',\n",
       "    'OR2B11_GRCh37_1:247614814-247614814_Silent_SNP_G-G-A',\n",
       "    'CACNA1H_GRCh37_16:1255242-1255242_Silent_SNP_C-C-T',\n",
       "    'ZNF91_GRCh37_19:23544955-23544955_Missense-Mutation_SNP_G-G-T']]},\n",
       " [90, 94, 93, 90, 85, 83, 94, 90, 97, 97],\n",
       " 91.3,\n",
       " {0: [False, False, False, True, False, True, False, True],\n",
       "  1: [False, False, False, True, False, True, True, False],\n",
       "  2: [False, False, False, True, False, False, False, False],\n",
       "  3: [False, False, False, True, False, True, False, False],\n",
       "  4: [False, False, False, True, False, True, False, True],\n",
       "  5: [False, False, False, True, False, False, False, False],\n",
       "  6: [False, False, False, True, False, True, False, False],\n",
       "  7: [False, False, True, True, False, False, False, False],\n",
       "  8: [False, False, False, True, False, True, True, False],\n",
       "  9: [False, False, False, True, False, False, False, False]},\n",
       " ['NC', 'NC', 'NC', 'NC', 'NC', 'NC'],\n",
       " 'NC')"
      ]
     },
     "execution_count": 390,
     "metadata": {},
     "output_type": "execute_result"
    }
   ],
   "source": [
    "random_forest(df, gain_finder, 2, 10, \"C10\")"
   ]
  },
  {
   "cell_type": "code",
   "execution_count": 360,
   "id": "e071e4d2-da1d-43ee-b940-71d9b0b43495",
   "metadata": {},
   "outputs": [
    {
     "data": {
      "text/plain": [
       "({0: [[\"ZFP91_GRCh37_11:58386428-58386428_3'UTR_DEL_T-T--\"],\n",
       "   ['ZAP70_GRCh37_2:98351785-98351785_Silent_SNP_C-C-T',\n",
       "    \"TMTC3_GRCh37_12:88590942-88590942_3'UTR_DEL_T-T--\"],\n",
       "   ['PTEN_GRCh37_10:89624267-89624267_Missense-Mutation_SNP_G-G-T',\n",
       "    'ZAP70_GRCh37_2:98351785-98351785_Silent_SNP_C-C-T',\n",
       "    'FBXW7_GRCh37_4:153244092-153244092_Missense-Mutation_SNP_G-G-A',\n",
       "    'ALG5_GRCh37_13:37569725-37569725_Silent_SNP_G-G-A']],\n",
       "  1: [[\"DRD5_GRCh37_4:9785349-9785349_3'UTR_SNP_G-G-C\"],\n",
       "   ['TENC1_GRCh37_12:53456223-53456223_Missense-Mutation_SNP_G-G-A',\n",
       "    'VGLL3_GRCh37_3:87017961-87017961_Missense-Mutation_SNP_C-C-T'],\n",
       "   [\"WNT7A_GRCh37_3:13860282-13860282_3'UTR_DEL_T-T--\",\n",
       "    \"KIAA1551_GRCh37_12:32145533-32145533_3'UTR_SNP_C-C-T\",\n",
       "    \"KRTAP2-3_GRCh37_17:39215890-39215890_3'UTR_SNP_C-C-T\",\n",
       "    'VGLL3_GRCh37_3:87017961-87017961_Missense-Mutation_SNP_C-C-T']],\n",
       "  2: [[\"ZNF644_GRCh37_1:91382293-91382293_3'UTR_DEL_A-A--\"],\n",
       "   [\"PPP1CB_GRCh37_2:29023920-29023920_3'UTR_DEL_T-T--\",\n",
       "    \"ISL1_GRCh37_5:50689707-50689707_3'UTR_DEL_A-A--\"],\n",
       "   [\"MYH8_GRCh37_17:10323551-10323551_5'UTR_SNP_G-G-A\",\n",
       "    'SLCO3A1_GRCh37_15:92694235-92694235_Missense-Mutation_SNP_C-C-T',\n",
       "    'FAM19A1_GRCh37_3:68055751-68055751_Intron_SNP_C-C-T',\n",
       "    'FAM19A1_GRCh37_3:68055751-68055751_Intron_SNP_C-C-T']],\n",
       "  3: [['RPL22_GRCh37_1:6257785-6257785_Frame-Shift-Del_DEL_T-T--'],\n",
       "   [\"NFIX_GRCh37_19:13208121-13208121_3'Flank_DEL_A-A--\",\n",
       "    'SCN2B_GRCh37_11:118047121-118047121_Missense-Mutation_SNP_C-C-T'],\n",
       "   ['ZNF98_GRCh37_19:22575348-22575348_Missense-Mutation_SNP_C-C-A',\n",
       "    \"NFIX_GRCh37_19:13208121-13208121_3'Flank_DEL_A-A--\",\n",
       "    'USH2A_GRCh37_1:215933149-215933149_Missense-Mutation_SNP_G-G-T',\n",
       "    'USH2A_GRCh37_1:215933149-215933149_Missense-Mutation_SNP_G-G-T']],\n",
       "  4: [[\"COL19A1_GRCh37_6:70918738-70918738_3'UTR_DEL_T-T--\"],\n",
       "   ['ZNF479_GRCh37_7:57194407-57194407_Missense-Mutation_SNP_C-C-A_C-C-T',\n",
       "    'MED13_GRCh37_17:60024339-60024339_Missense-Mutation_SNP_C-C-G_C-C-T'],\n",
       "   [\"SOX4_GRCh37_6:21596841-21596841_3'UTR_DEL_T-T--\",\n",
       "    'IGSF21_GRCh37_1:18703368-18703368_Silent_SNP_C-C-T',\n",
       "    'IGSF21_GRCh37_1:18703368-18703368_Silent_SNP_C-C-T',\n",
       "    'IGSF21_GRCh37_1:18703368-18703368_Silent_SNP_C-C-T']],\n",
       "  5: [[\"GRIA2_GRCh37_4:158142152-158142152_5'UTR_DEL_A-A--\"],\n",
       "   [\"HDAC4_GRCh37_2:239974305-239974305_3'UTR_DEL_A-A--\",\n",
       "    'INS_GRCh37_11:2181097-2181097_Missense-Mutation_SNP_C-C-A'],\n",
       "   [\"EPB41_GRCh37_1:29445784-29445784_3'UTR_DEL_T-T--\",\n",
       "    \"EPB41_GRCh37_1:29445784-29445784_3'UTR_DEL_T-T--\",\n",
       "    'ZNF334_GRCh37_20:45131124-45131124_Missense-Mutation_SNP_C-C-A',\n",
       "    'PPAP2A_GRCh37_5:54763889-54763889_Missense-Mutation_SNP_T-T-G_T-T-C']],\n",
       "  6: [[\"BIRC8_GRCh37_19:53794811-53794811_5'UTR_DEL_T-T--\"],\n",
       "   ['TRIO_GRCh37_5:14508315-14508315_Silent_SNP_C-C-T',\n",
       "    'FAAH2_GRCh37_X:57367776-57367776_Missense-Mutation_SNP_G-G-A'],\n",
       "   ['ZNF383_GRCh37_19:37734379-37734379_Missense-Mutation_SNP_G-G-T',\n",
       "    'TRIO_GRCh37_5:14508315-14508315_Silent_SNP_C-C-T',\n",
       "    'SLC20A1_GRCh37_2:113417110-113417110_Nonsense-Mutation_SNP_C-C-T',\n",
       "    'SLC7A9_GRCh37_19:33353095-33353095_Silent_SNP_G-G-A']],\n",
       "  7: [['HAUS3_GRCh37_4:2242634-2242634_Frame-Shift-Del_DEL_T-T--'],\n",
       "   ['TPTE_GRCh37_21:10916378-10916378_Missense-Mutation_SNP_G-G-A',\n",
       "    \"DNAH11_GRCh37_7:21941187-21941187_3'UTR_DEL_A-A--\"],\n",
       "   ['WDSUB1_GRCh37_2:160139368-160139368_Silent_SNP_C-C-T',\n",
       "    \"PDPK1_GRCh37_16:2647922-2647922_3'UTR_DEL_A-A--\",\n",
       "    'TMPRSS12_GRCh37_12:51252715-51252715_Frame-Shift-Del_DEL_A-A--',\n",
       "    'CLUAP1_GRCh37_16:3586068-3586068_Intron_SNP_G-G-A_G-G-T']],\n",
       "  8: [[\"MXD1_GRCh37_2:70166271-70166271_3'UTR_DEL_T-T--\"],\n",
       "   ['TCEB3C_GRCh37_18:44554605-44554605_Nonsense-Mutation_SNP_G-G-A',\n",
       "    \"COL3A1_GRCh37_2:189876526-189876526_3'UTR_DEL_A-A--\"],\n",
       "   [\"TWIST1_GRCh37_7:19155247-19155247_3'UTR_DEL_T-T--\",\n",
       "    \"TWIST1_GRCh37_7:19155247-19155247_3'UTR_DEL_T-T--\",\n",
       "    'TSSK1B_GRCh37_5:112769636-112769636_Missense-Mutation_SNP_C-C-T',\n",
       "    'TMEM42_GRCh37_3:44905741-44905741_Missense-Mutation_SNP_C-C-A']],\n",
       "  9: [[\"TCERG1_GRCh37_5:145890610-145890610_3'UTR_DEL_T-T--\"],\n",
       "   [\"ZNF396_GRCh37_18:32948372-32948372_3'Flank_SNP_C-C-A\",\n",
       "    \"HOXC6_GRCh37_12:54424434-54424434_3'UTR_DEL_A-A--\"],\n",
       "   ['KANSL2_GRCh37_12:49048753-49048753_Nonsense-Mutation_SNP_C-C-A',\n",
       "    \"ZNF396_GRCh37_18:32948372-32948372_3'Flank_SNP_C-C-A\",\n",
       "    'FAM122A_GRCh37_9:71395725-71395725_Missense-Mutation_SNP_G-G-T',\n",
       "    'SCN9A_GRCh37_2:167160829-167160829_Nonsense-Mutation_SNP_C-C-A']]},\n",
       " [100, 94, 91, 84, 99, 84, 93, 93, 93, 96],\n",
       " 92.7,\n",
       " {0: [False, False, False, True, False, True, False, True],\n",
       "  1: [False, False, False, True, False, True, False, True],\n",
       "  2: [False, False, False, True, False, True, True, False],\n",
       "  3: [False, False, False, True, False, True, False, False],\n",
       "  4: [False, False, False, True, False, True, False, True],\n",
       "  5: [False, False, False, True, False, False, False, False],\n",
       "  6: [False, False, False, True, False, True, False, False],\n",
       "  7: [False, False, False, True, False, True, False, False],\n",
       "  8: [False, False, False, True, False, True, False, True],\n",
       "  9: [False, False, False, True, False, True, False, True]},\n",
       " ['NC', 'NC', 'NC', 'NC', 'NC', 'NC', 'NC', 'NC'],\n",
       " 'NC')"
      ]
     },
     "execution_count": 360,
     "metadata": {},
     "output_type": "execute_result"
    }
   ],
   "source": [
    "random_forest(df, gain_finder, 2, 10, \"C1\")"
   ]
  },
  {
   "cell_type": "code",
   "execution_count": 361,
   "id": "4f918ff8-c198-4192-9b4a-f577905d660e",
   "metadata": {},
   "outputs": [
    {
     "data": {
      "text/plain": [
       "({0: [['POTEG_GRCh37_14:19563232-19563232_RNA_SNP_T-T-C'],\n",
       "   ['PNMA5_GRCh37_X:152159299-152159299_Missense-Mutation_SNP_G-G-A',\n",
       "    'PRKAG2_GRCh37_7:151504031-151504031_RNA_DEL_A-A--'],\n",
       "   ['MTSS1L_GRCh37_16:70698147-70698147_Frame-Shift-Del_DEL_G-G--',\n",
       "    'ZKSCAN2_GRCh37_16:25252049-25252049_Silent_SNP_G-G-A',\n",
       "    \"BCL7A_GRCh37_12:122498697-122498698_3'UTR_INS_----T\",\n",
       "    'PRKAG2_GRCh37_7:151504031-151504031_RNA_DEL_A-A--']],\n",
       "  1: [['KLF3_GRCh37_4:38691454-38691454_Frame-Shift-Del_DEL_C-C--'],\n",
       "   ['GABRB3_GRCh37_15:26793203-26793203_Missense-Mutation_SNP_C-C-T',\n",
       "    \"RAB7A_GRCh37_3:128533255-128533255_3'UTR_DEL_T-T--\"],\n",
       "   [\"ABHD13_GRCh37_13:108884458-108884458_3'UTR_DEL_A-A--\",\n",
       "    'TM9SF2_GRCh37_13:100191808-100191808_Silent_SNP_C-C-T',\n",
       "    'TTN_GRCh37_2:179528226-179528226_Intron_SNP_C-C-A',\n",
       "    'UBE2QL1_GRCh37_5:6491376-6491376_Missense-Mutation_SNP_C-C-T_C-C-A']],\n",
       "  2: [[\"KDM5B_GRCh37_1:202697904-202697905_3'UTR_INS_----A\"],\n",
       "   ['HLA-DPB1_GRCh37_6:33048450-33048450_Missense-Mutation_SNP_G-G-T',\n",
       "    'DNAH8_GRCh37_6:38881726-38881726_Missense-Mutation_SNP_G-G-A'],\n",
       "   [\"TSPAN15_GRCh37_10:71267418-71267418_3'UTR_SNP_T-T-G\",\n",
       "    \"TSPAN15_GRCh37_10:71267418-71267418_3'UTR_SNP_T-T-G\",\n",
       "    'ENPP4_GRCh37_6:46107842-46107842_Silent_SNP_G-G-A',\n",
       "    'CHD7_GRCh37_8:61728992-61728992_Missense-Mutation_SNP_G-G-T']],\n",
       "  3: [[\"EBF2_GRCh37_8:25701747-25701747_3'UTR_DEL_T-T--\"],\n",
       "   ['CSNK1A1L_GRCh37_13:37678544-37678544_Missense-Mutation_SNP_G-G-T',\n",
       "    'ZNF718_GRCh37_4:155383-155383_RNA_SNP_G-G-T'],\n",
       "   ['FGFR2_GRCh37_10:123279677-123279677_Missense-Mutation_SNP_G-G-C',\n",
       "    'PIK3CG_GRCh37_7:106526602-106526602_Silent_SNP_C-C-T',\n",
       "    'ANKRD24_GRCh37_19:4216555-4216555_Missense-Mutation_SNP_G-G-T',\n",
       "    'TTN_GRCh37_2:179615383-179615383_Intron_SNP_C-C-T']],\n",
       "  4: [['ANKRD20A8P_GRCh37_2:95483039-95483039_RNA_DEL_T-T--'],\n",
       "   ['PCDHGA1_GRCh37_5:140712338-140712338_Missense-Mutation_SNP_C-C-T',\n",
       "    'HDAC9_GRCh37_7:18633644-18633644_Missense-Mutation_SNP_G-G-A'],\n",
       "   ['CBFA2T2_GRCh37_20:32212802-32212802_Missense-Mutation_SNP_C-C-T',\n",
       "    'PCDHGA1_GRCh37_5:140712338-140712338_Missense-Mutation_SNP_C-C-T',\n",
       "    'OTUD7A_GRCh37_15:31818566-31818566_Silent_SNP_G-G-A',\n",
       "    'ERCC4_GRCh37_16:14029408-14029408_Missense-Mutation_SNP_C-C-T']],\n",
       "  5: [['HDAC4_GRCh37_2:240002823-240002823_Frame-Shift-Del_DEL_G-G--'],\n",
       "   ['SSPO_GRCh37_7:149477454-149477454_RNA_SNP_C-C-T',\n",
       "    \"CNR1_GRCh37_6:88853531-88853531_3'UTR_DEL_A-A--\"],\n",
       "   ['RNF148_GRCh37_7:122342489-122342489_Missense-Mutation_SNP_C-C-T',\n",
       "    'RNF148_GRCh37_7:122342489-122342489_Missense-Mutation_SNP_C-C-T',\n",
       "    \"CXCL5_GRCh37_4:74862300-74862301_3'UTR_INS_----T\",\n",
       "    \"THY1_GRCh37_11:119289836-119289836_3'UTR_SNP_G-G-A\"]],\n",
       "  6: [['ZNF609_GRCh37_15:64967247-64967247_Frame-Shift-Del_DEL_A-A--'],\n",
       "   [\"PALM2-AKAP2_GRCh37_9:112934411-112934411_3'Flank_DEL_T-T--\",\n",
       "    'FAT2_GRCh37_5:150922621-150922621_Silent_SNP_C-C-T'],\n",
       "   ['ANKRD30A_GRCh37_10:37505221-37505221_Missense-Mutation_SNP_G-G-T',\n",
       "    'ZNF479_GRCh37_7:57188088-57188088_Missense-Mutation_SNP_C-C-A',\n",
       "    'HELLS_GRCh37_10:96354548-96354548_Missense-Mutation_SNP_G-G-A',\n",
       "    'ACSL1_GRCh37_4:185724638-185724638_Nonsense-Mutation_SNP_G-G-A']],\n",
       "  7: [[\"FZD5_GRCh37_2:208631279-208631279_3'UTR_DEL_T-T--\"],\n",
       "   ['ZNF292_GRCh37_6:87969864-87969864_Nonsense-Mutation_SNP_C-C-T',\n",
       "    \"WFDC9_GRCh37_20:44236745-44236745_3'UTR_SNP_G-G-T\"],\n",
       "   [\"DRD5_GRCh37_4:9785421-9785421_3'UTR_SNP_G-G-T\",\n",
       "    \"DRD5_GRCh37_4:9785421-9785421_3'UTR_SNP_G-G-T\",\n",
       "    'SCAF4_GRCh37_21:33073336-33073336_Frame-Shift-Del_DEL_G-G--',\n",
       "    'DNAH12_GRCh37_3:57368516-57368516_Missense-Mutation_SNP_G-G-T']],\n",
       "  8: [['DPF3_GRCh37_14:73136813-73136813_Intron_DEL_A-A--'],\n",
       "   ['ADAM32_GRCh37_8:39091459-39091459_Missense-Mutation_SNP_G-G-A',\n",
       "    \"PHC1_GRCh37_12:9094027-9094027_3'UTR_DEL_T-T--\"],\n",
       "   ['DSEL_GRCh37_18:65178697-65178697_Missense-Mutation_SNP_G-G-T',\n",
       "    'ADAM32_GRCh37_8:39091459-39091459_Missense-Mutation_SNP_G-G-A',\n",
       "    'RASSF2_GRCh37_20:4768399-4768399_Missense-Mutation_SNP_C-C-A',\n",
       "    \"DENND6A_GRCh37_3:57611368-57611368_3'UTR_DEL_A-A--\"]],\n",
       "  9: [['GAS2L2_GRCh37_17:34073290-34073290_Frame-Shift-Del_DEL_G-G--'],\n",
       "   [\"NPAP1_GRCh37_15:24927892-24927892_3'UTR_DEL_A-A--\",\n",
       "    \"ZNF281_GRCh37_1:200375849-200375849_3'UTR_DEL_T-T--\"],\n",
       "   ['NTAN1_GRCh37_16:15132508-15132508_Missense-Mutation_SNP_G-G-A',\n",
       "    'TENM1_GRCh37_X:123538944-123538944_Silent_SNP_G-G-A',\n",
       "    'HCRTR2_GRCh37_6:55147036-55147036_Missense-Mutation_SNP_G-G-T',\n",
       "    'HCRTR2_GRCh37_6:55147036-55147036_Missense-Mutation_SNP_G-G-T']]},\n",
       " [93, 93, 99, 86, 92, 88, 84, 89, 104, 103],\n",
       " 93.1,\n",
       " {0: [False, False, False, True, False, True, False, True],\n",
       "  1: [False, False, False, True, False, True, False, True],\n",
       "  2: [False, False, False, True, False, False, False, True],\n",
       "  3: [False, False, False, True, False, True, False, False],\n",
       "  4: [False, False, False, True, False, False, True, False],\n",
       "  5: [False, False, False, True, False, True, False, True],\n",
       "  6: [False, False, False, True, False, False, False, False],\n",
       "  7: [False, False, False, True, False, True, False, True],\n",
       "  8: [False, False, False, True, False, True, True, False],\n",
       "  9: [False, False, False, True, False, True, False, False]},\n",
       " ['NC', 'NC', 'NC', 'NC', 'NC', 'NC', 'NC'],\n",
       " 'NC')"
      ]
     },
     "execution_count": 361,
     "metadata": {},
     "output_type": "execute_result"
    }
   ],
   "source": [
    "random_forest(df, gain_finder, 2, 10, \"C50\")"
   ]
  },
  {
   "cell_type": "code",
   "execution_count": 362,
   "id": "0d298e6f-63fd-43c6-8bea-943d42032b5b",
   "metadata": {},
   "outputs": [
    {
     "data": {
      "text/plain": [
       "({0: [['LMAN1_GRCh37_18:57013285-57013285_Splice-Site_DEL_T-T--'],\n",
       "   ['PCDHGB3_GRCh37_5:140751754-140751754_Missense-Mutation_SNP_C-C-T',\n",
       "    'PTENP1_GRCh37_9:33674810-33674810_RNA_SNP_A-A-G'],\n",
       "   ['FPR3_GRCh37_19:52327411-52327411_Missense-Mutation_SNP_G-G-A',\n",
       "    'CITED1_GRCh37_X:71522667-71522667_Missense-Mutation_SNP_G-G-A',\n",
       "    'KIAA0825_GRCh37_5:93820513-93820513_Missense-Mutation_SNP_C-C-T',\n",
       "    'KIAA0825_GRCh37_5:93820513-93820513_Missense-Mutation_SNP_C-C-T']],\n",
       "  1: [['SYNJ2_GRCh37_6:158508009-158508009_Frame-Shift-Del_DEL_C-C--'],\n",
       "   ['SPRED1_GRCh37_15:38643737-38643737_Nonsense-Mutation_SNP_C-C-T',\n",
       "    \"PDXK_GRCh37_21:45177870-45177870_3'UTR_SNP_T-T-A\"],\n",
       "   [\"FMR1_GRCh37_X:147031603-147031603_3'UTR_DEL_T-T--\",\n",
       "    'SPRED1_GRCh37_15:38643737-38643737_Nonsense-Mutation_SNP_C-C-T',\n",
       "    'ZCCHC4_GRCh37_4:25353268-25353268_Missense-Mutation_SNP_G-G-A',\n",
       "    'AFF3_GRCh37_2:100199424-100199424_Missense-Mutation_SNP_G-G-A']],\n",
       "  2: [[\"ZFP91_GRCh37_11:58386428-58386428_3'UTR_DEL_T-T--\"],\n",
       "   ['MYLK4_GRCh37_6:2685565-2685565_Silent_SNP_G-G-A',\n",
       "    \"LRCH2_GRCh37_X:114346293-114346293_3'UTR_SNP_C-C-A_C-C-T\"],\n",
       "   ['TTN_GRCh37_2:179442499-179442499_Missense-Mutation_SNP_G-G-A',\n",
       "    'UNC79_GRCh37_14:94048629-94048629_Missense-Mutation_SNP_G-G-T',\n",
       "    'UBQLN2_GRCh37_X:56591874-56591874_Frame-Shift-Del_DEL_C-C--',\n",
       "    \"LRCH2_GRCh37_X:114346293-114346293_3'UTR_SNP_C-C-A_C-C-T\"]],\n",
       "  3: [['CNTLN_GRCh37_9:17484353-17484353_Frame-Shift-Del_DEL_A-A--'],\n",
       "   ['NRIP1_GRCh37_21:16338330-16338330_Frame-Shift-Del_DEL_T-T--',\n",
       "    'SCAF8_GRCh37_6:155129920-155129920_Missense-Mutation_SNP_G-G-A'],\n",
       "   ['TBX4_GRCh37_17:59560345-59560345_Frame-Shift-Del_DEL_C-C--',\n",
       "    'NRIP1_GRCh37_21:16338330-16338330_Frame-Shift-Del_DEL_T-T--',\n",
       "    'ZNF623_GRCh37_8:144733336-144733336_Missense-Mutation_SNP_G-G-A',\n",
       "    'AFF2_GRCh37_X:148044460-148044460_Missense-Mutation_SNP_C-C-T']],\n",
       "  4: [[\"PCNP_GRCh37_3:101312180-101312180_3'UTR_DEL_T-T--\"],\n",
       "   ['GNAZ_GRCh37_22:23438488-23438488_Frame-Shift-Del_DEL_G-G--',\n",
       "    \"RCC2_GRCh37_1:17734234-17734234_3'Flank_SNP_T-T-A\"],\n",
       "   ['RYR3_GRCh37_15:34130278-34130278_Missense-Mutation_SNP_G-G-A',\n",
       "    \"FSTL5_GRCh37_4:162306539-162306539_3'UTR_DEL_A-A--\",\n",
       "    'ACY1_GRCh37_3:52019951-52019951_Silent_SNP_C-C-T',\n",
       "    'ZNF623_GRCh37_8:144733336-144733336_Missense-Mutation_SNP_G-G-A']],\n",
       "  5: [['ACVR2A_GRCh37_2:148683686-148683686_Frame-Shift-Del_DEL_A-A--'],\n",
       "   ['KLB_GRCh37_4:39436111-39436111_Missense-Mutation_SNP_C-C-A',\n",
       "    'ADD3_GRCh37_10:111877152-111877153_Frame-Shift-Ins_INS_----T'],\n",
       "   ['METTL6_GRCh37_3:15467851-15467851_Missense-Mutation_SNP_G-G-T',\n",
       "    'KLB_GRCh37_4:39436111-39436111_Missense-Mutation_SNP_C-C-A',\n",
       "    'SLTM_GRCh37_15:59186051-59186051_Silent_SNP_C-C-T',\n",
       "    'NMI_GRCh37_2:152138534-152138534_Missense-Mutation_SNP_C-C-A']],\n",
       "  6: [['DOCK3_GRCh37_3:51417604-51417604_Frame-Shift-Del_DEL_C-C--'],\n",
       "   ['DEPDC1_GRCh37_1:68960354-68960354_Nonsense-Mutation_SNP_G-G-A',\n",
       "    \"B3GNT5_GRCh37_3:182989332-182989332_3'UTR_DEL_T-T--\"],\n",
       "   [\"GGPS1_GRCh37_1:235506225-235506225_3'UTR_SNP_C-C-T\",\n",
       "    'DEPDC1_GRCh37_1:68960354-68960354_Nonsense-Mutation_SNP_G-G-A',\n",
       "    'EML4_GRCh37_2:42488302-42488302_Frame-Shift-Del_DEL_A-A--',\n",
       "    'EML4_GRCh37_2:42488302-42488302_Frame-Shift-Del_DEL_A-A--']],\n",
       "  7: [['MAX_GRCh37_14:65544747-65544747_Missense-Mutation_SNP_C-C-T'],\n",
       "   [\"RNF4_GRCh37_4:2515645-2515645_3'UTR_SNP_C-C-T\",\n",
       "    'HSPH1_GRCh37_13:31725823-31725823_Missense-Mutation_SNP_G-G-A'],\n",
       "   ['MAP3K19_GRCh37_2:135782210-135782210_Missense-Mutation_SNP_G-G-T',\n",
       "    'MAP3K19_GRCh37_2:135782210-135782210_Missense-Mutation_SNP_G-G-T',\n",
       "    'RBL1_GRCh37_20:35696404-35696404_Missense-Mutation_SNP_C-C-T',\n",
       "    'NPAT_GRCh37_11:108031638-108031638_Nonsense-Mutation_SNP_G-G-T']],\n",
       "  8: [[\"DRD5_GRCh37_4:9785349-9785349_3'UTR_SNP_G-G-C\"],\n",
       "   [\"GNAI3_GRCh37_1:110135265-110135265_3'UTR_DEL_T-T--\",\n",
       "    'NIPBL_GRCh37_5:36985083-36985083_Frame-Shift-Del_DEL_A-A--'],\n",
       "   ['POP1_GRCh37_8:99170169-99170169_Missense-Mutation_SNP_G-G-T',\n",
       "    'POP1_GRCh37_8:99170169-99170169_Missense-Mutation_SNP_G-G-T',\n",
       "    'RAB1B_GRCh37_11:66039143-66039143_RNA_DEL_A-A--',\n",
       "    'NIPBL_GRCh37_5:36985083-36985083_Frame-Shift-Del_DEL_A-A--']],\n",
       "  9: [['ACVR2A_GRCh37_2:148683686-148683686_Frame-Shift-Del_DEL_A-A--'],\n",
       "   [\"NSMAF_GRCh37_8:59496486-59496486_3'UTR_SNP_G-G-T\",\n",
       "    'DYSF_GRCh37_2:71740998-71740998_Nonsense-Mutation_SNP_C-C-T'],\n",
       "   [\"TMEM161B_GRCh37_5:87491918-87491918_3'UTR_DEL_T-T--\",\n",
       "    \"TMEM161B_GRCh37_5:87491918-87491918_3'UTR_DEL_T-T--\",\n",
       "    \"GNPDA2_GRCh37_4:44704275-44704275_3'UTR_SNP_C-C-T\",\n",
       "    \"GNPDA2_GRCh37_4:44704275-44704275_3'UTR_SNP_C-C-T\"]]},\n",
       " [82, 97, 88, 101, 91, 101, 94, 89, 99, 104],\n",
       " 94.6,\n",
       " {0: [False, False, False, True, False, True, False, True],\n",
       "  1: [False, False, False, True, False, True, False, False],\n",
       "  2: [False, False, False, True, False, True, False, False],\n",
       "  3: [False, False, False, True, False, True, False, True],\n",
       "  4: [False, False, False, True, False, True, True, False],\n",
       "  5: [False, False, False, True, False, True, False, False],\n",
       "  6: [False, False, False, True, False, True, True, False],\n",
       "  7: [False, False, False, True, False, False, False, True],\n",
       "  8: [False, False, False, True, False, True, False, True],\n",
       "  9: [False, False, False, True, False, True, True, True]},\n",
       " ['NC', 'NC', 'NC'],\n",
       " 'NC')"
      ]
     },
     "execution_count": 362,
     "metadata": {},
     "output_type": "execute_result"
    }
   ],
   "source": [
    "random_forest(df, gain_finder, 2, 10, \"NC15\")"
   ]
  },
  {
   "cell_type": "code",
   "execution_count": 363,
   "id": "27354618-897d-4e29-b3a3-630005046c40",
   "metadata": {},
   "outputs": [
    {
     "data": {
      "text/plain": [
       "({0: [['MGAM_GRCh37_7:141805626-141805626_Missense-Mutation_SNP_G-G-A'],\n",
       "   [\"KIAA2022_GRCh37_X:73958669-73958669_3'UTR_SNP_G-G-A\",\n",
       "    'CRELD2_GRCh37_22:50313429-50313429_Silent_SNP_C-C-T'],\n",
       "   [\"SIK1_GRCh37_21:44834508-44834508_3'UTR_DEL_A-A--\",\n",
       "    \"KIAA2022_GRCh37_X:73958669-73958669_3'UTR_SNP_G-G-A\",\n",
       "    'ZBTB1_GRCh37_14:64989825-64989825_Nonsense-Mutation_SNP_C-C-T',\n",
       "    'DIAPH2_GRCh37_X:96185790-96185790_Missense-Mutation_SNP_G-G-A']],\n",
       "  1: [[\"SLMAP_GRCh37_3:57913670-57913670_3'UTR_DEL_T-T--\"],\n",
       "   ['POF1B_GRCh37_X:84559360-84559360_Missense-Mutation_SNP_G-G-A',\n",
       "    'MB21D2_GRCh37_3:192516280-192516280_Frame-Shift-Del_DEL_T-T--'],\n",
       "   ['TSSK1B_GRCh37_5:112769636-112769636_Missense-Mutation_SNP_C-C-T',\n",
       "    'POF1B_GRCh37_X:84559360-84559360_Missense-Mutation_SNP_G-G-A',\n",
       "    'BOD1L1_GRCh37_4:13610189-13610189_Frame-Shift-Del_DEL_T-T--',\n",
       "    'BOD1L1_GRCh37_4:13610189-13610189_Frame-Shift-Del_DEL_T-T--']],\n",
       "  2: [[\"RBFOX1_GRCh37_16:7762402-7762402_3'Flank_DEL_A-A--\"],\n",
       "   [\"HMGN1_GRCh37_21:40714867-40714867_3'UTR_DEL_A-A--\",\n",
       "    'ARID1A_GRCh37_1:27105931-27105931_Frame-Shift-Del_DEL_G-G--'],\n",
       "   ['MUC1_GRCh37_1:155160214-155160214_Silent_SNP_C-C-T',\n",
       "    'ZNF292_GRCh37_6:87969864-87969864_Nonsense-Mutation_SNP_C-C-T',\n",
       "    'R3HDM2_GRCh37_12:57648612-57648612_Nonsense-Mutation_SNP_G-G-A',\n",
       "    'ARID1A_GRCh37_1:27105931-27105931_Frame-Shift-Del_DEL_G-G--']],\n",
       "  3: [[\"ELOVL5_GRCh37_6:53133582-53133582_3'UTR_DEL_A-A--\"],\n",
       "   ['PHF14_GRCh37_7:11022426-11022426_Frame-Shift-Del_DEL_A-A--',\n",
       "    'KIF14_GRCh37_1:200573037-200573037_Missense-Mutation_SNP_C-C-T'],\n",
       "   [\"ZIC3_GRCh37_X:136652673-136652673_3'UTR_SNP_G-G-T\",\n",
       "    \"MORC3_GRCh37_21:37747631-37747631_3'UTR_SNP_C-C-A\",\n",
       "    'KIF5C_GRCh37_2:149793838-149793838_Missense-Mutation_SNP_G-G-A',\n",
       "    'NPY4R_GRCh37_10:47087175-47087175_Missense-Mutation_SNP_C-C-T']],\n",
       "  4: [[\"SHC1_GRCh37_1:154935863-154935863_3'UTR_DEL_G-G--\"],\n",
       "   ['CHST15_GRCh37_10:125804351-125804351_Missense-Mutation_SNP_C-C-T',\n",
       "    'TBC1D14_GRCh37_4:6998131-6998131_Nonsense-Mutation_SNP_C-C-T'],\n",
       "   ['ZNF174_GRCh37_16:3454742-3454742_Intron_DEL_T-T--',\n",
       "    'CHST15_GRCh37_10:125804351-125804351_Missense-Mutation_SNP_C-C-T',\n",
       "    'PPP2R2B_GRCh37_5:145979966-145979966_Missense-Mutation_SNP_G-G-A',\n",
       "    'KIAA0141_GRCh37_5:141314128-141314128_Missense-Mutation_SNP_C-C-A_C-C-T']],\n",
       "  5: [[\"CLVS1_GRCh37_8:62412295-62412295_3'UTR_DEL_T-T--\"],\n",
       "   ['BCS1L_GRCh37_2:219526620-219526620_Missense-Mutation_SNP_G-G-A',\n",
       "    \"WIPF1_GRCh37_2:175424624-175424624_3'Flank_DEL_A-A--\"],\n",
       "   ['CABP1_GRCh37_12:121098115-121098115_Missense-Mutation_SNP_G-G-A',\n",
       "    'CABP1_GRCh37_12:121098115-121098115_Missense-Mutation_SNP_G-G-A',\n",
       "    \"HFE_GRCh37_6:26094562-26094562_3'UTR_SNP_G-G-A_G-G-T\",\n",
       "    \"WIPF1_GRCh37_2:175424624-175424624_3'Flank_DEL_A-A--\"]],\n",
       "  6: [[\"FAM46A_GRCh37_6:82459165-82459165_3'UTR_DEL_T-T--\"],\n",
       "   ['GMPS_GRCh37_3:155632286-155632286_Missense-Mutation_SNP_G-G-T',\n",
       "    'LATS2_GRCh37_13:21549403-21549403_Missense-Mutation_SNP_C-C-T'],\n",
       "   ['ZNF711_GRCh37_X:84526621-84526621_Frame-Shift-Del_DEL_A-A--',\n",
       "    'BTBD16_GRCh37_10:124094413-124094413_Silent_SNP_G-G-A',\n",
       "    'MTMR2_GRCh37_11:95578127-95578127_Missense-Mutation_SNP_C-C-T_C-C-A',\n",
       "    'ABCA13_GRCh37_7:48316047-48316047_Missense-Mutation_SNP_G-G-T']],\n",
       "  7: [['UTP20_GRCh37_12:101680156-101680157_Frame-Shift-Ins_INS_----T'],\n",
       "   ['ADCY10P1_GRCh37_6:41090949-41090949_RNA_SNP_G-G-A',\n",
       "    \"TSPAN15_GRCh37_10:71267413-71267413_3'UTR_SNP_T-T-G\"],\n",
       "   ['SH3KBP1_GRCh37_X:19560215-19560215_Frame-Shift-Del_DEL_G-G--',\n",
       "    \"NR4A3_GRCh37_9:102628309-102628309_3'Flank_DEL_T-T--\",\n",
       "    'TRPV2_GRCh37_17:16326862-16326862_Silent_SNP_C-C-T',\n",
       "    'PCDHA5_GRCh37_5:140203133-140203133_Silent_SNP_G-G-A']],\n",
       "  8: [['PTEN_GRCh37_10:89692904-89692904_Nonsense-Mutation_SNP_C-C-T'],\n",
       "   ['KHNYN_GRCh37_14:24905652-24905652_Nonsense-Mutation_SNP_C-C-T',\n",
       "    'ANKRD31_GRCh37_5:74484349-74484349_Frame-Shift-Del_DEL_T-T--'],\n",
       "   ['DSC3_GRCh37_18:28609511-28609511_Missense-Mutation_SNP_C-C-A',\n",
       "    'DSC3_GRCh37_18:28609511-28609511_Missense-Mutation_SNP_C-C-A',\n",
       "    \"ARID4B_GRCh37_1:235491501-235491502_5'UTR_INS_----C\",\n",
       "    'TRAPPC8_GRCh37_18:29432576-29432576_Silent_SNP_T-T-G']],\n",
       "  9: [['PRRG1_GRCh37_X:37312611-37312611_Frame-Shift-Del_DEL_C-C--'],\n",
       "   ['HELLS_GRCh37_10:96354548-96354548_Missense-Mutation_SNP_G-G-A',\n",
       "    'NR4A2_GRCh37_2:157184969-157184969_Missense-Mutation_SNP_C-C-T'],\n",
       "   ['SMARCA2_GRCh37_9:2104068-2104068_Missense-Mutation_SNP_C-C-T',\n",
       "    'HELLS_GRCh37_10:96354548-96354548_Missense-Mutation_SNP_G-G-A',\n",
       "    'ITGAE_GRCh37_17:3680856-3680856_Missense-Mutation_SNP_C-C-A',\n",
       "    \"ABCB10_GRCh37_1:229653804-229653804_3'UTR_DEL_A-A--\"]]},\n",
       " [89, 91, 92, 87, 85, 95, 93, 101, 96, 87],\n",
       " 91.6,\n",
       " {0: [False, False, False, True, False, True, False, True],\n",
       "  1: [False, False, False, True, False, True, True, True],\n",
       "  2: [False, False, False, True, False, True, False, False],\n",
       "  3: [False, False, False, True, False, True, False, False],\n",
       "  4: [False, False, False, True, False, True, True, False],\n",
       "  5: [False, False, False, True, False, False, False, False],\n",
       "  6: [False, False, False, True, False, True, False, False],\n",
       "  7: [False, False, False, True, False, True, True, False],\n",
       "  8: [False, False, False, True, False, True, True, False],\n",
       "  9: [False, False, False, True, False, True, False, False]},\n",
       " ['NC', 'NC', 'NC', 'NC', 'NC', 'NC', 'NC', 'NC'],\n",
       " 'NC')"
      ]
     },
     "execution_count": 363,
     "metadata": {},
     "output_type": "execute_result"
    }
   ],
   "source": [
    "random_forest(df, gain_finder, 2, 10, \"NC5\")"
   ]
  },
  {
   "cell_type": "code",
   "execution_count": 398,
   "id": "0cb2f782-2797-47a7-9732-16ada0d515c4",
   "metadata": {},
   "outputs": [],
   "source": [
    "def random_forest(df, func, max_depth, num_trees):\n",
    "    bootstrap_list = []\n",
    "    out_of_bag_list = []\n",
    "    def bootstrap(df, num_samples):\n",
    "        for i in range(num_samples):\n",
    "            bootstrap_sample = df.sample(int(df.shape[1]), replace=True, axis=1)\n",
    "            out_of_bag_sample = df[[j for j in df.columns if j not in bootstrap_sample.columns]]\n",
    "            bootstrap_list.append(bootstrap_sample)\n",
    "            out_of_bag_list.append(out_of_bag_sample)\n",
    "    bootstrap(df,num_trees)\n",
    "    oob_size = [out_of_bag_list[j].shape[1] for j in range(num_trees)]\n",
    "    oob_size_avg = sum(oob_size)/len(oob_size)\n",
    "    forest = {}\n",
    "    conds = {}\n",
    "    #nodes = [[] for index in range(max_depth+1)]\n",
    "    #conditions = []\n",
    "    def decision_tree_3(func,df,max_depth,depth=0): # df here is training dataset\n",
    "        if depth > max_depth:\n",
    "            return nodes, conditions\n",
    "        \n",
    "        df = df.sample(math.ceil(df.shape[0]**0.5))\n",
    "\n",
    "        root_node = func(df).sort_values(ascending=False).head(1).index[0]\n",
    "        nodes[depth].append(root_node)\n",
    "        df1 = df[[ j for j in df.columns if (df[j].loc[root_node]==1).any()]]\n",
    "        df1 = df1.drop(root_node)\n",
    "        df2 = df[[ j for j in df.columns if (df[j].loc[root_node]==0).any()]]\n",
    "        df1 = df1.sample(math.ceil(df1.shape[0]**0.5))\n",
    "        df2 = df2.sample(math.ceil(df2.shape[0]**0.5))\n",
    "    \n",
    "        if depth==max_depth:\n",
    "            c1 = [i for i in df1.columns if i[0]=='C']\n",
    "            nc1 = [j for j in df1.columns if j[0]=='N']\n",
    "            c2 = [i for i in df2.columns if i[0]=='C']\n",
    "            nc2 = [j for j in df2.columns if j[0]=='N']\n",
    "            con1 = len(c1)>len(nc1)\n",
    "            con2 = len(c2)>len(nc2)\n",
    "            conditions.append(con1)\n",
    "            conditions.append(con2)\n",
    "        leaf_node_1 = decision_tree_3(func,df1,max_depth,depth+1)\n",
    "        leaf_node_2 = decision_tree_3(func,df2,max_depth,depth+1)\n",
    "        \n",
    "    for i in range(num_trees):\n",
    "        nodes = [[] for index in range(max_depth+1)]\n",
    "        conditions = []\n",
    "        decision_tree_3(func, bootstrap_list[i], max_depth)\n",
    "        forest[i]=nodes\n",
    "        conds[i]=conditions\n",
    "    \n",
    "    def classifier_depth2(df, individual, r0,r1,r2,r3,r4,r5,r6, cn1,cn2,cn3,cn4,cn5,cn6,cn7,cn8):    \n",
    "        # df here is test dataset\n",
    "        #individual = list(df.columns)\n",
    "        if (df[individual].loc[r0]==1).any():\n",
    "            if (df[individual].loc[r1]==1).any():\n",
    "                if (df[individual].loc[r3]==1).any():\n",
    "                    return \"C\" if cn1 else \"NC\"\n",
    "                else:\n",
    "                    return \"C\" if cn2 else \"NC\"\n",
    "            else:\n",
    "                if (df[individual].loc[r4]==1).any():\n",
    "                    return \"C\" if cn3 else \"NC\"\n",
    "                else:\n",
    "                    return \"C\" if cn4 else \"NC\"\n",
    "        else:\n",
    "            if (df[individual].loc[r2]==1).any():\n",
    "                if (df[individual].loc[r5]==1).any():\n",
    "                    return \"C\" if cn5 else \"NC\"\n",
    "                else:\n",
    "                    return \"C\" if cn6 else \"NC\"\n",
    "            else:\n",
    "                if (df[individual].loc[r6]==1).any():\n",
    "                    return \"C\" if cn7 else \"NC\"\n",
    "                else:\n",
    "                    return \"C\" if cn8 else \"NC\"\n",
    "    \n",
    "    #votes = []\n",
    "    #for k in range(num_trees):\n",
    "    #    if individual in list(bootstrap_list[k].columns):\n",
    "    #        r0 = forest[k][0][0]\n",
    "    #        r1,r2 = forest[k][1]\n",
    "    #        r3,r4,r5,r6 = forest[k][2]\n",
    "    #        cn1,cn2,cn3,cn4,cn5,cn6,cn7,cn8 =conds[k]\n",
    "    #        vot = classifier_depth2(bootstrap_list[k],individual,r0,r1,r2,r3,r4,r5,r6, cn1,cn2,cn3,cn4,cn5,cn6,cn7,cn8)\n",
    "    #        votes.append(vot)\n",
    "    #majority_vote = max(set(votes), key=votes.count)\n",
    "    \n",
    "    def evaluator(df, classifier, r0,r1,r2,r3,r4,r5,r6, cn1,cn2,cn3,cn4,cn5,cn6,cn7,cn8):\n",
    "        # df here is test dataset\n",
    "        TN = FN = TP = FP = 0\n",
    "        individuals = list(df.columns)\n",
    "        for i in range(df.shape[1]):\n",
    "            if individuals[i][0] == classifier(df, individuals[i],r0,r1,r2,r3,r4,r5,r6, cn1,cn2,cn3,cn4,cn5,cn6,cn7,cn8)==\"C\":\n",
    "                TP +=1\n",
    "            elif individuals[i][0:2] == classifier(df, individuals[i], r0,r1,r2,r3,r4,r5,r6, cn1,cn2,cn3,cn4,cn5,cn6,cn7,cn8)==\"NC\":\n",
    "                TN +=1\n",
    "            elif individuals[i][0]==\"N\" and classifier(df, individuals[i],r0,r1,r2,r3,r4,r5,r6, cn1,cn2,cn3,cn4,cn5,cn6,cn7,cn8)==\"C\":\n",
    "                FP +=1\n",
    "            elif individuals[i][0]==\"C\" and classifier(df, individuals[i], r0,r1,r2,r3,r4,r5,r6, cn1,cn2,cn3,cn4,cn5,cn6,cn7,cn8)==\"NC\":\n",
    "                FN +=1\n",
    "            \n",
    "        return [TP, TN, FP, FN]\n",
    "    def metrics_calc(conf_mat):\n",
    "        # Format of conf_mat should be: [TP, TN, FP, FN]\n",
    "        TP = conf_mat[0]\n",
    "        TN = conf_mat[1]\n",
    "        FP = conf_mat[2]\n",
    "        FN = conf_mat[3]\n",
    "        accuracy = (TP+TN)/(TP+TN+FP+FN)\n",
    "        sensitivity = TP/(TP+FN+1)\n",
    "        specificity = TN/(TN+FP+1)\n",
    "        precision = TP/(TP+FP+1)\n",
    "        miss_rate = FN/(FN+TP+1)\n",
    "        false_discovery_rate = FP/(FP+TP+1)\n",
    "        false_omission_rate = FN/(FN+TN+1)\n",
    "\n",
    "        return f\"\"\" \n",
    "        Accuracy is {accuracy:.2}\n",
    "        Sensitivity is {sensitivity:.2}\n",
    "        Specificity is {specificity:.2}\n",
    "        Precision is {precision:.2}\n",
    "        Miss Rate is {miss_rate:.2}\n",
    "        False discovery rate is {false_discovery_rate:.2} \n",
    "        False omission rate is {false_omission_rate:.2} \n",
    "        \"\"\"\n",
    "\n",
    "    conf_mat = {}\n",
    "    for k in range(num_trees):\n",
    "        #if individual in list(out_of_bag_list[k].columns):\n",
    "        r0 = forest[k][0][0]\n",
    "        r1,r2 = forest[k][1]\n",
    "        r3,r4,r5,r6 = forest[k][2]\n",
    "        cn1,cn2,cn3,cn4,cn5,cn6,cn7,cn8 =conds[k]\n",
    "        conf = evaluator(out_of_bag_list[k],classifier_depth2,r0,r1,r2,r3,r4,r5,r6, cn1,cn2,cn3,cn4,cn5,cn6,cn7,cn8)\n",
    "        conf_mat[k] = conf\n",
    "     \n",
    "    for e in range(num_trees):\n",
    "        print(metrics_calc(conf_mat[e]))\n",
    "    \n",
    "    return forest, conf_mat , oob_size#votes, majority_vote\n"
   ]
  },
  {
   "cell_type": "code",
   "execution_count": 399,
   "id": "ddf05cb0-9851-4006-b10e-e34e7322c7cb",
   "metadata": {},
   "outputs": [
    {
     "name": "stdout",
     "output_type": "stream",
     "text": [
      " \n",
      "        Accuracy is 0.46\n",
      "        Sensitivity is 0.98\n",
      "        Specificity is 0.0\n",
      "        Precision is 0.46\n",
      "        Miss Rate is 0.0\n",
      "        False discovery rate is 0.53 \n",
      "        False omission rate is 0.0 \n",
      "        \n",
      " \n",
      "        Accuracy is 0.61\n",
      "        Sensitivity is 0.0\n",
      "        Specificity is 0.98\n",
      "        Precision is 0.0\n",
      "        Miss Rate is 0.97\n",
      "        False discovery rate is 0.0 \n",
      "        False omission rate is 0.38 \n",
      "        \n",
      " \n",
      "        Accuracy is 0.59\n",
      "        Sensitivity is 0.049\n",
      "        Specificity is 0.96\n",
      "        Precision is 0.5\n",
      "        Miss Rate is 0.93\n",
      "        False discovery rate is 0.25 \n",
      "        False omission rate is 0.41 \n",
      "        \n",
      " \n",
      "        Accuracy is 0.42\n",
      "        Sensitivity is 0.95\n",
      "        Specificity is 0.0\n",
      "        Precision is 0.42\n",
      "        Miss Rate is 0.026\n",
      "        False discovery rate is 0.57 \n",
      "        False omission rate is 0.5 \n",
      "        \n",
      " \n",
      "        Accuracy is 0.58\n",
      "        Sensitivity is 0.023\n",
      "        Specificity is 0.98\n",
      "        Precision is 0.5\n",
      "        Miss Rate is 0.95\n",
      "        False discovery rate is 0.0 \n",
      "        False omission rate is 0.42 \n",
      "        \n",
      " \n",
      "        Accuracy is 0.63\n",
      "        Sensitivity is 0.057\n",
      "        Specificity is 0.95\n",
      "        Precision is 0.4\n",
      "        Miss Rate is 0.91\n",
      "        False discovery rate is 0.4 \n",
      "        False omission rate is 0.36 \n",
      "        \n",
      " \n",
      "        Accuracy is 0.57\n",
      "        Sensitivity is 0.024\n",
      "        Specificity is 0.98\n",
      "        Precision is 0.5\n",
      "        Miss Rate is 0.95\n",
      "        False discovery rate is 0.0 \n",
      "        False omission rate is 0.43 \n",
      "        \n",
      " \n",
      "        Accuracy is 0.45\n",
      "        Sensitivity is 0.95\n",
      "        Specificity is 0.0\n",
      "        Precision is 0.45\n",
      "        Miss Rate is 0.023\n",
      "        False discovery rate is 0.54 \n",
      "        False omission rate is 0.5 \n",
      "        \n",
      " \n",
      "        Accuracy is 0.64\n",
      "        Sensitivity is 0.051\n",
      "        Specificity is 0.98\n",
      "        Precision is 0.67\n",
      "        Miss Rate is 0.92\n",
      "        False discovery rate is 0.0 \n",
      "        False omission rate is 0.36 \n",
      "        \n",
      " \n",
      "        Accuracy is 0.63\n",
      "        Sensitivity is 0.1\n",
      "        Specificity is 0.98\n",
      "        Precision is 0.8\n",
      "        Miss Rate is 0.88\n",
      "        False discovery rate is 0.0 \n",
      "        False omission rate is 0.38 \n",
      "        \n"
     ]
    },
    {
     "data": {
      "text/plain": [
       "({0: [['ARID5B_GRCh37_10:63850705-63850705_Frame-Shift-Del_DEL_A-A--'],\n",
       "   ['PKD1L1_GRCh37_7:47892822-47892822_Missense-Mutation_SNP_G-G-T',\n",
       "    'PTEN_GRCh37_10:89692923-89692923_Missense-Mutation_SNP_G-G-A_G-G-T'],\n",
       "   ['DHRS7C_GRCh37_17:9674865-9674865_Missense-Mutation_SNP_G-G-T',\n",
       "    'NGF_GRCh37_1:115829175-115829175_Missense-Mutation_SNP_C-C-T_C-C-A',\n",
       "    \"SYDE2_GRCh37_1:85624415-85624415_3'UTR_DEL_A-A--\",\n",
       "    \"SYDE2_GRCh37_1:85624415-85624415_3'UTR_DEL_A-A--\"]],\n",
       "  1: [['PLEKHG7_GRCh37_12:93135357-93135357_Missense-Mutation_SNP_G-G-A'],\n",
       "   [\"TBL1X_GRCh37_X:9684636-9684636_3'UTR_DEL_A-A--\",\n",
       "    'ZNRD1_GRCh37_6:30024687-30024687_Intron_DEL_A-A--'],\n",
       "   [\"C5orf30_GRCh37_5:102613439-102613439_3'UTR_DEL_A-A--\",\n",
       "    'ASB7_GRCh37_15:101188569-101188569_Nonsense-Mutation_SNP_C-C-T',\n",
       "    'UBE4A_GRCh37_11:118239407-118239407_Silent_SNP_C-C-T',\n",
       "    'ZNRD1_GRCh37_6:30024687-30024687_Intron_DEL_A-A--']],\n",
       "  2: [[\"SHC1_GRCh37_1:154935863-154935863_3'UTR_DEL_G-G--\"],\n",
       "   ['PAQR9_GRCh37_3:142681357-142681357_Silent_SNP_G-G-A',\n",
       "    'MLEC_GRCh37_12:121131906-121131906_Missense-Mutation_SNP_G-G-T_G-G-A'],\n",
       "   ['COL6A5_GRCh37_3:130104186-130104186_Missense-Mutation_SNP_C-C-T',\n",
       "    'COL6A5_GRCh37_3:130104186-130104186_Missense-Mutation_SNP_C-C-T',\n",
       "    'ZNF12_GRCh37_7:6731231-6731231_Missense-Mutation_SNP_G-G-A',\n",
       "    'ZFHX2_GRCh37_14:23993381-23993381_Frame-Shift-Del_DEL_C-C--']],\n",
       "  3: [[\"NLGN1_GRCh37_3:174000599-174000599_3'UTR_DEL_T-T--\"],\n",
       "   ['ANAPC5_GRCh37_12:121768443-121768443_Silent_SNP_G-G-A',\n",
       "    \"NLGN1_GRCh37_3:174000599-174000599_3'UTR_DEL_T-T--\"],\n",
       "   ['C12orf55_GRCh37_12:96883688-96883688_Missense-Mutation_SNP_G-G-A',\n",
       "    'C12orf55_GRCh37_12:96883688-96883688_Missense-Mutation_SNP_G-G-A',\n",
       "    \"WWC1_GRCh37_5:167896236-167896236_3'UTR_DEL_A-A--\",\n",
       "    \"WWC1_GRCh37_5:167896236-167896236_3'UTR_DEL_A-A--\"]],\n",
       "  4: [[\"SORCS1_GRCh37_10:108333636-108333636_3'UTR_DEL_A-A--\"],\n",
       "   ['EFCAB4B_GRCh37_12:3788124-3788124_Missense-Mutation_SNP_G-G-A',\n",
       "    'ADGB_GRCh37_6:147123049-147123049_Nonsense-Mutation_SNP_C-C-T'],\n",
       "   ['SAMD9L_GRCh37_7:92762382-92762382_Missense-Mutation_SNP_G-G-A_G-G-T',\n",
       "    'ZNF615_GRCh37_19:52497070-52497070_Missense-Mutation_SNP_C-C-T',\n",
       "    'HNRNPUL2_GRCh37_11:62491191-62491191_Silent_SNP_C-C-T',\n",
       "    'KCTD3_GRCh37_1:215793922-215793922_Frame-Shift-Del_DEL_A-A--']],\n",
       "  5: [['FGFR2_GRCh37_10:123279677-123279677_Missense-Mutation_SNP_G-G-C'],\n",
       "   ['NLRP12_GRCh37_19:54314033-54314033_Missense-Mutation_SNP_C-C-T',\n",
       "    'ST3GAL1_GRCh37_8:134472027-134472027_Missense-Mutation_SNP_G-G-A'],\n",
       "   [\"EPHB3_GRCh37_3:184300079-184300079_3'UTR_SNP_C-C-T\",\n",
       "    'DSG1_GRCh37_18:28906914-28906914_Silent_SNP_C-C-T',\n",
       "    'MACF1_GRCh37_1:39818720-39818720_Silent_SNP_C-C-T',\n",
       "    'ARID1A_GRCh37_1:27100176-27100176_Frame-Shift-Del_DEL_C-C--']],\n",
       "  6: [['KCNA6_GRCh37_12:4920724-4920724_Missense-Mutation_SNP_G-G-A'],\n",
       "   [\"GIGYF1_GRCh37_7:100277553-100277553_3'UTR_DEL_G-G--\",\n",
       "    \"HNRNPR_GRCh37_1:23670794-23670794_5'Flank_DEL_C-C--\"],\n",
       "   ['ROCK1_GRCh37_18:18547865-18547865_Missense-Mutation_SNP_C-C-A',\n",
       "    'PCNX_GRCh37_14:71555976-71555976_Nonsense-Mutation_SNP_C-C-T',\n",
       "    \"HMMR_GRCh37_5:162918204-162918204_3'UTR_SNP_C-C-T\",\n",
       "    'ANKRD36B_GRCh37_2:98206003-98206003_RNA_SNP_C-C-A']],\n",
       "  7: [[\"DCUN1D1_GRCh37_3:182661936-182661936_3'UTR_DEL_A-A--\"],\n",
       "   ['MAP3K15_GRCh37_X:19379719-19379719_Splice-Region_SNP_G-G-A',\n",
       "    'ABCB5_GRCh37_7:20721180-20721180_Missense-Mutation_SNP_G-G-A'],\n",
       "   ['MED25_GRCh37_19:50333113-50333113_Frame-Shift-Del_DEL_C-C--',\n",
       "    'MAP3K15_GRCh37_X:19379719-19379719_Splice-Region_SNP_G-G-A',\n",
       "    'MAP3K15_GRCh37_X:19379719-19379719_Splice-Region_SNP_G-G-A',\n",
       "    'MAP3K15_GRCh37_X:19379719-19379719_Splice-Region_SNP_G-G-A']],\n",
       "  8: [['LRPPRC_GRCh37_2:44145165-44145165_Frame-Shift-Del_DEL_T-T--'],\n",
       "   ['PTPRB_GRCh37_12:70986133-70986133_Missense-Mutation_SNP_C-C-T',\n",
       "    'C22orf31_GRCh37_22:29456529-29456529_Silent_SNP_C-C-T'],\n",
       "   ['EDA_GRCh37_X:69176943-69176943_Missense-Mutation_SNP_C-C-T',\n",
       "    \"PAK6_GRCh37_15:40569568-40569568_3'UTR_SNP_G-G-T\",\n",
       "    'UTRN_GRCh37_6:144747467-144747467_Silent_SNP_G-G-A',\n",
       "    'SLC19A2_GRCh37_1:169446715-169446715_Missense-Mutation_SNP_C-C-T']],\n",
       "  9: [[\"DONSON_GRCh37_21:34947889-34947889_3'Flank_DEL_T-T--\"],\n",
       "   [\"KCTD9_GRCh37_8:25287255-25287255_3'UTR_DEL_T-T--\",\n",
       "    \"SLC35B4_GRCh37_7:133977009-133977009_3'UTR_DEL_T-T--\"],\n",
       "   ['ALB_GRCh37_4:74285296-74285296_Silent_SNP_C-C-T',\n",
       "    \"KCTD9_GRCh37_8:25287255-25287255_3'UTR_DEL_T-T--\",\n",
       "    'ABCA13_GRCh37_7:48315060-48315060_Missense-Mutation_SNP_A-A-C',\n",
       "    'ABCA13_GRCh37_7:48315060-48315060_Missense-Mutation_SNP_A-A-C']]},\n",
       " {0: [41, 0, 48, 0],\n",
       "  1: [0, 55, 0, 35],\n",
       "  2: [2, 53, 1, 38],\n",
       "  3: [37, 0, 51, 1],\n",
       "  4: [1, 57, 0, 42],\n",
       "  5: [2, 57, 2, 32],\n",
       "  6: [1, 52, 0, 40],\n",
       "  7: [41, 0, 49, 1],\n",
       "  8: [2, 62, 0, 36],\n",
       "  9: [4, 56, 0, 35]})"
      ]
     },
     "execution_count": 399,
     "metadata": {},
     "output_type": "execute_result"
    }
   ],
   "source": [
    "random_forest(df, gain_finder, 2, 10)"
   ]
  },
  {
   "cell_type": "code",
   "execution_count": 402,
   "id": "86e81560-8753-4a50-94fc-28d2eebe361a",
   "metadata": {},
   "outputs": [
    {
     "data": {
      "text/html": [
       "<div>\n",
       "<style scoped>\n",
       "    .dataframe tbody tr th:only-of-type {\n",
       "        vertical-align: middle;\n",
       "    }\n",
       "\n",
       "    .dataframe tbody tr th {\n",
       "        vertical-align: top;\n",
       "    }\n",
       "\n",
       "    .dataframe thead th {\n",
       "        text-align: right;\n",
       "    }\n",
       "</style>\n",
       "<table border=\"1\" class=\"dataframe\">\n",
       "  <thead>\n",
       "    <tr style=\"text-align: right;\">\n",
       "      <th>class</th>\n",
       "      <th>NC1</th>\n",
       "      <th>C1</th>\n",
       "      <th>NC2</th>\n",
       "      <th>NC3</th>\n",
       "      <th>NC4</th>\n",
       "      <th>NC5</th>\n",
       "      <th>NC6</th>\n",
       "      <th>C2</th>\n",
       "      <th>C3</th>\n",
       "      <th>NC7</th>\n",
       "      <th>...</th>\n",
       "      <th>NC135</th>\n",
       "      <th>NC136</th>\n",
       "      <th>NC137</th>\n",
       "      <th>NC138</th>\n",
       "      <th>NC139</th>\n",
       "      <th>NC140</th>\n",
       "      <th>C107</th>\n",
       "      <th>NC141</th>\n",
       "      <th>C108</th>\n",
       "      <th>NC142</th>\n",
       "    </tr>\n",
       "  </thead>\n",
       "  <tbody>\n",
       "    <tr>\n",
       "      <th>GOT1_GRCh37_10:101163586-101163586_Missense-Mutation_SNP_C-C-T</th>\n",
       "      <td>1</td>\n",
       "      <td>0</td>\n",
       "      <td>0</td>\n",
       "      <td>0</td>\n",
       "      <td>0</td>\n",
       "      <td>0</td>\n",
       "      <td>0</td>\n",
       "      <td>0</td>\n",
       "      <td>0</td>\n",
       "      <td>0</td>\n",
       "      <td>...</td>\n",
       "      <td>0</td>\n",
       "      <td>0</td>\n",
       "      <td>0</td>\n",
       "      <td>0</td>\n",
       "      <td>0</td>\n",
       "      <td>0</td>\n",
       "      <td>0</td>\n",
       "      <td>0</td>\n",
       "      <td>0</td>\n",
       "      <td>0</td>\n",
       "    </tr>\n",
       "    <tr>\n",
       "      <th>TEX36_GRCh37_10:127371546-127371546_Nonsense-Mutation_SNP_G-G-A</th>\n",
       "      <td>1</td>\n",
       "      <td>0</td>\n",
       "      <td>0</td>\n",
       "      <td>0</td>\n",
       "      <td>0</td>\n",
       "      <td>0</td>\n",
       "      <td>0</td>\n",
       "      <td>0</td>\n",
       "      <td>0</td>\n",
       "      <td>0</td>\n",
       "      <td>...</td>\n",
       "      <td>0</td>\n",
       "      <td>0</td>\n",
       "      <td>0</td>\n",
       "      <td>0</td>\n",
       "      <td>0</td>\n",
       "      <td>0</td>\n",
       "      <td>0</td>\n",
       "      <td>0</td>\n",
       "      <td>0</td>\n",
       "      <td>0</td>\n",
       "    </tr>\n",
       "    <tr>\n",
       "      <th>KIAA1217_GRCh37_10:24810824-24810824_Missense-Mutation_SNP_C-C-T</th>\n",
       "      <td>1</td>\n",
       "      <td>0</td>\n",
       "      <td>0</td>\n",
       "      <td>0</td>\n",
       "      <td>0</td>\n",
       "      <td>0</td>\n",
       "      <td>0</td>\n",
       "      <td>0</td>\n",
       "      <td>0</td>\n",
       "      <td>0</td>\n",
       "      <td>...</td>\n",
       "      <td>0</td>\n",
       "      <td>0</td>\n",
       "      <td>0</td>\n",
       "      <td>0</td>\n",
       "      <td>0</td>\n",
       "      <td>0</td>\n",
       "      <td>0</td>\n",
       "      <td>0</td>\n",
       "      <td>0</td>\n",
       "      <td>0</td>\n",
       "    </tr>\n",
       "    <tr>\n",
       "      <th>SIRT1_GRCh37_10:69676051-69676051_Missense-Mutation_SNP_C-C-T</th>\n",
       "      <td>1</td>\n",
       "      <td>0</td>\n",
       "      <td>0</td>\n",
       "      <td>0</td>\n",
       "      <td>0</td>\n",
       "      <td>0</td>\n",
       "      <td>0</td>\n",
       "      <td>0</td>\n",
       "      <td>0</td>\n",
       "      <td>0</td>\n",
       "      <td>...</td>\n",
       "      <td>0</td>\n",
       "      <td>0</td>\n",
       "      <td>0</td>\n",
       "      <td>0</td>\n",
       "      <td>0</td>\n",
       "      <td>0</td>\n",
       "      <td>0</td>\n",
       "      <td>0</td>\n",
       "      <td>0</td>\n",
       "      <td>0</td>\n",
       "    </tr>\n",
       "    <tr>\n",
       "      <th>MYPN_GRCh37_10:69881845-69881845_Missense-Mutation_SNP_C-C-T</th>\n",
       "      <td>1</td>\n",
       "      <td>0</td>\n",
       "      <td>0</td>\n",
       "      <td>0</td>\n",
       "      <td>0</td>\n",
       "      <td>0</td>\n",
       "      <td>0</td>\n",
       "      <td>0</td>\n",
       "      <td>0</td>\n",
       "      <td>0</td>\n",
       "      <td>...</td>\n",
       "      <td>0</td>\n",
       "      <td>0</td>\n",
       "      <td>0</td>\n",
       "      <td>0</td>\n",
       "      <td>0</td>\n",
       "      <td>0</td>\n",
       "      <td>0</td>\n",
       "      <td>0</td>\n",
       "      <td>0</td>\n",
       "      <td>0</td>\n",
       "    </tr>\n",
       "    <tr>\n",
       "      <th>...</th>\n",
       "      <td>...</td>\n",
       "      <td>...</td>\n",
       "      <td>...</td>\n",
       "      <td>...</td>\n",
       "      <td>...</td>\n",
       "      <td>...</td>\n",
       "      <td>...</td>\n",
       "      <td>...</td>\n",
       "      <td>...</td>\n",
       "      <td>...</td>\n",
       "      <td>...</td>\n",
       "      <td>...</td>\n",
       "      <td>...</td>\n",
       "      <td>...</td>\n",
       "      <td>...</td>\n",
       "      <td>...</td>\n",
       "      <td>...</td>\n",
       "      <td>...</td>\n",
       "      <td>...</td>\n",
       "      <td>...</td>\n",
       "      <td>...</td>\n",
       "    </tr>\n",
       "    <tr>\n",
       "      <th>PTENP1_GRCh37_9:33674774-33674774_RNA_DEL_T-T--</th>\n",
       "      <td>0</td>\n",
       "      <td>0</td>\n",
       "      <td>0</td>\n",
       "      <td>0</td>\n",
       "      <td>0</td>\n",
       "      <td>0</td>\n",
       "      <td>0</td>\n",
       "      <td>0</td>\n",
       "      <td>0</td>\n",
       "      <td>0</td>\n",
       "      <td>...</td>\n",
       "      <td>0</td>\n",
       "      <td>0</td>\n",
       "      <td>0</td>\n",
       "      <td>0</td>\n",
       "      <td>0</td>\n",
       "      <td>0</td>\n",
       "      <td>0</td>\n",
       "      <td>0</td>\n",
       "      <td>0</td>\n",
       "      <td>0</td>\n",
       "    </tr>\n",
       "    <tr>\n",
       "      <th>KMT2C_GRCh37_7:151836804-151836804_Nonsense-Mutation_SNP_G-G-A</th>\n",
       "      <td>0</td>\n",
       "      <td>0</td>\n",
       "      <td>0</td>\n",
       "      <td>0</td>\n",
       "      <td>0</td>\n",
       "      <td>0</td>\n",
       "      <td>0</td>\n",
       "      <td>0</td>\n",
       "      <td>0</td>\n",
       "      <td>0</td>\n",
       "      <td>...</td>\n",
       "      <td>0</td>\n",
       "      <td>0</td>\n",
       "      <td>0</td>\n",
       "      <td>0</td>\n",
       "      <td>0</td>\n",
       "      <td>0</td>\n",
       "      <td>0</td>\n",
       "      <td>1</td>\n",
       "      <td>0</td>\n",
       "      <td>0</td>\n",
       "    </tr>\n",
       "    <tr>\n",
       "      <th>CDKN1C_GRCh37_11:2904846-2904846_3'UTR_DEL_T-T--</th>\n",
       "      <td>0</td>\n",
       "      <td>0</td>\n",
       "      <td>0</td>\n",
       "      <td>0</td>\n",
       "      <td>0</td>\n",
       "      <td>0</td>\n",
       "      <td>0</td>\n",
       "      <td>0</td>\n",
       "      <td>0</td>\n",
       "      <td>0</td>\n",
       "      <td>...</td>\n",
       "      <td>0</td>\n",
       "      <td>0</td>\n",
       "      <td>0</td>\n",
       "      <td>0</td>\n",
       "      <td>0</td>\n",
       "      <td>0</td>\n",
       "      <td>0</td>\n",
       "      <td>0</td>\n",
       "      <td>0</td>\n",
       "      <td>0</td>\n",
       "    </tr>\n",
       "    <tr>\n",
       "      <th>PIK3R2_GRCh37_19:18278070-18278070_Missense-Mutation_SNP_A-A-G</th>\n",
       "      <td>0</td>\n",
       "      <td>0</td>\n",
       "      <td>0</td>\n",
       "      <td>0</td>\n",
       "      <td>0</td>\n",
       "      <td>0</td>\n",
       "      <td>0</td>\n",
       "      <td>0</td>\n",
       "      <td>0</td>\n",
       "      <td>0</td>\n",
       "      <td>...</td>\n",
       "      <td>0</td>\n",
       "      <td>0</td>\n",
       "      <td>0</td>\n",
       "      <td>0</td>\n",
       "      <td>0</td>\n",
       "      <td>0</td>\n",
       "      <td>0</td>\n",
       "      <td>0</td>\n",
       "      <td>0</td>\n",
       "      <td>0</td>\n",
       "    </tr>\n",
       "    <tr>\n",
       "      <th>LMO7_GRCh37_13:76432354-76432354_3'UTR_SNP_C-C-T</th>\n",
       "      <td>0</td>\n",
       "      <td>0</td>\n",
       "      <td>0</td>\n",
       "      <td>0</td>\n",
       "      <td>0</td>\n",
       "      <td>0</td>\n",
       "      <td>0</td>\n",
       "      <td>0</td>\n",
       "      <td>0</td>\n",
       "      <td>0</td>\n",
       "      <td>...</td>\n",
       "      <td>0</td>\n",
       "      <td>0</td>\n",
       "      <td>0</td>\n",
       "      <td>0</td>\n",
       "      <td>0</td>\n",
       "      <td>0</td>\n",
       "      <td>0</td>\n",
       "      <td>0</td>\n",
       "      <td>0</td>\n",
       "      <td>0</td>\n",
       "    </tr>\n",
       "  </tbody>\n",
       "</table>\n",
       "<p>8085 rows × 250 columns</p>\n",
       "</div>"
      ],
      "text/plain": [
       "class                                               NC1  C1  NC2  NC3  NC4  \\\n",
       "GOT1_GRCh37_10:101163586-101163586_Missense-Mut...    1   0    0    0    0   \n",
       "TEX36_GRCh37_10:127371546-127371546_Nonsense-Mu...    1   0    0    0    0   \n",
       "KIAA1217_GRCh37_10:24810824-24810824_Missense-M...    1   0    0    0    0   \n",
       "SIRT1_GRCh37_10:69676051-69676051_Missense-Muta...    1   0    0    0    0   \n",
       "MYPN_GRCh37_10:69881845-69881845_Missense-Mutat...    1   0    0    0    0   \n",
       "...                                                 ...  ..  ...  ...  ...   \n",
       "PTENP1_GRCh37_9:33674774-33674774_RNA_DEL_T-T--       0   0    0    0    0   \n",
       "KMT2C_GRCh37_7:151836804-151836804_Nonsense-Mut...    0   0    0    0    0   \n",
       "CDKN1C_GRCh37_11:2904846-2904846_3'UTR_DEL_T-T--      0   0    0    0    0   \n",
       "PIK3R2_GRCh37_19:18278070-18278070_Missense-Mut...    0   0    0    0    0   \n",
       "LMO7_GRCh37_13:76432354-76432354_3'UTR_SNP_C-C-T      0   0    0    0    0   \n",
       "\n",
       "class                                               NC5  NC6  C2  C3  NC7  \\\n",
       "GOT1_GRCh37_10:101163586-101163586_Missense-Mut...    0    0   0   0    0   \n",
       "TEX36_GRCh37_10:127371546-127371546_Nonsense-Mu...    0    0   0   0    0   \n",
       "KIAA1217_GRCh37_10:24810824-24810824_Missense-M...    0    0   0   0    0   \n",
       "SIRT1_GRCh37_10:69676051-69676051_Missense-Muta...    0    0   0   0    0   \n",
       "MYPN_GRCh37_10:69881845-69881845_Missense-Mutat...    0    0   0   0    0   \n",
       "...                                                 ...  ...  ..  ..  ...   \n",
       "PTENP1_GRCh37_9:33674774-33674774_RNA_DEL_T-T--       0    0   0   0    0   \n",
       "KMT2C_GRCh37_7:151836804-151836804_Nonsense-Mut...    0    0   0   0    0   \n",
       "CDKN1C_GRCh37_11:2904846-2904846_3'UTR_DEL_T-T--      0    0   0   0    0   \n",
       "PIK3R2_GRCh37_19:18278070-18278070_Missense-Mut...    0    0   0   0    0   \n",
       "LMO7_GRCh37_13:76432354-76432354_3'UTR_SNP_C-C-T      0    0   0   0    0   \n",
       "\n",
       "class                                               ...  NC135  NC136  NC137  \\\n",
       "GOT1_GRCh37_10:101163586-101163586_Missense-Mut...  ...      0      0      0   \n",
       "TEX36_GRCh37_10:127371546-127371546_Nonsense-Mu...  ...      0      0      0   \n",
       "KIAA1217_GRCh37_10:24810824-24810824_Missense-M...  ...      0      0      0   \n",
       "SIRT1_GRCh37_10:69676051-69676051_Missense-Muta...  ...      0      0      0   \n",
       "MYPN_GRCh37_10:69881845-69881845_Missense-Mutat...  ...      0      0      0   \n",
       "...                                                 ...    ...    ...    ...   \n",
       "PTENP1_GRCh37_9:33674774-33674774_RNA_DEL_T-T--     ...      0      0      0   \n",
       "KMT2C_GRCh37_7:151836804-151836804_Nonsense-Mut...  ...      0      0      0   \n",
       "CDKN1C_GRCh37_11:2904846-2904846_3'UTR_DEL_T-T--    ...      0      0      0   \n",
       "PIK3R2_GRCh37_19:18278070-18278070_Missense-Mut...  ...      0      0      0   \n",
       "LMO7_GRCh37_13:76432354-76432354_3'UTR_SNP_C-C-T    ...      0      0      0   \n",
       "\n",
       "class                                               NC138  NC139  NC140  C107  \\\n",
       "GOT1_GRCh37_10:101163586-101163586_Missense-Mut...      0      0      0     0   \n",
       "TEX36_GRCh37_10:127371546-127371546_Nonsense-Mu...      0      0      0     0   \n",
       "KIAA1217_GRCh37_10:24810824-24810824_Missense-M...      0      0      0     0   \n",
       "SIRT1_GRCh37_10:69676051-69676051_Missense-Muta...      0      0      0     0   \n",
       "MYPN_GRCh37_10:69881845-69881845_Missense-Mutat...      0      0      0     0   \n",
       "...                                                   ...    ...    ...   ...   \n",
       "PTENP1_GRCh37_9:33674774-33674774_RNA_DEL_T-T--         0      0      0     0   \n",
       "KMT2C_GRCh37_7:151836804-151836804_Nonsense-Mut...      0      0      0     0   \n",
       "CDKN1C_GRCh37_11:2904846-2904846_3'UTR_DEL_T-T--        0      0      0     0   \n",
       "PIK3R2_GRCh37_19:18278070-18278070_Missense-Mut...      0      0      0     0   \n",
       "LMO7_GRCh37_13:76432354-76432354_3'UTR_SNP_C-C-T        0      0      0     0   \n",
       "\n",
       "class                                               NC141  C108  NC142  \n",
       "GOT1_GRCh37_10:101163586-101163586_Missense-Mut...      0     0      0  \n",
       "TEX36_GRCh37_10:127371546-127371546_Nonsense-Mu...      0     0      0  \n",
       "KIAA1217_GRCh37_10:24810824-24810824_Missense-M...      0     0      0  \n",
       "SIRT1_GRCh37_10:69676051-69676051_Missense-Muta...      0     0      0  \n",
       "MYPN_GRCh37_10:69881845-69881845_Missense-Mutat...      0     0      0  \n",
       "...                                                   ...   ...    ...  \n",
       "PTENP1_GRCh37_9:33674774-33674774_RNA_DEL_T-T--         0     0      0  \n",
       "KMT2C_GRCh37_7:151836804-151836804_Nonsense-Mut...      1     0      0  \n",
       "CDKN1C_GRCh37_11:2904846-2904846_3'UTR_DEL_T-T--        0     0      0  \n",
       "PIK3R2_GRCh37_19:18278070-18278070_Missense-Mut...      0     0      0  \n",
       "LMO7_GRCh37_13:76432354-76432354_3'UTR_SNP_C-C-T        0     0      0  \n",
       "\n",
       "[8085 rows x 250 columns]"
      ]
     },
     "execution_count": 402,
     "metadata": {},
     "output_type": "execute_result"
    }
   ],
   "source": [
    "df"
   ]
  },
  {
   "cell_type": "code",
   "execution_count": null,
   "id": "22edce2f-f380-428e-b500-9efe14ba38b5",
   "metadata": {},
   "outputs": [],
   "source": []
  }
 ],
 "metadata": {
  "kernelspec": {
   "display_name": "Python 3 (ipykernel)",
   "language": "python",
   "name": "python3"
  },
  "language_info": {
   "codemirror_mode": {
    "name": "ipython",
    "version": 3
   },
   "file_extension": ".py",
   "mimetype": "text/x-python",
   "name": "python",
   "nbconvert_exporter": "python",
   "pygments_lexer": "ipython3",
   "version": "3.8.16"
  }
 },
 "nbformat": 4,
 "nbformat_minor": 5
}
