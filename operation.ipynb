{
 "cells": [
  {
   "cell_type": "code",
   "execution_count": 1,
   "id": "2b51df44-679f-4ec9-813a-a777b8b01d54",
   "metadata": {},
   "outputs": [
    {
     "name": "stdout",
     "output_type": "stream",
     "text": [
      "Collecting ortools\n",
      "  Downloading ortools-9.7.2996-cp38-cp38-macosx_10_15_x86_64.whl (17.3 MB)\n",
      "\u001b[2K     \u001b[90m━━━━━━━━━━━━━━━━━━━━━━━━━━━━━━━━━━━━━━━━\u001b[0m \u001b[32m17.3/17.3 MB\u001b[0m \u001b[31m5.7 MB/s\u001b[0m eta \u001b[36m0:00:00\u001b[0m00:01\u001b[0m00:01\u001b[0m\n",
      "\u001b[?25hCollecting protobuf>=4.23.3\n",
      "  Downloading protobuf-4.24.3-cp37-abi3-macosx_10_9_universal2.whl (409 kB)\n",
      "\u001b[2K     \u001b[90m━━━━━━━━━━━━━━━━━━━━━━━━━━━━━━━━━━━━━━━\u001b[0m \u001b[32m409.4/409.4 kB\u001b[0m \u001b[31m6.1 MB/s\u001b[0m eta \u001b[36m0:00:00\u001b[0ma \u001b[36m0:00:01\u001b[0m\n",
      "\u001b[?25hRequirement already satisfied: numpy>=1.13.3 in /Users/dan/opt/anaconda3/envs/py38/lib/python3.8/site-packages (from ortools) (1.24.2)\n",
      "Requirement already satisfied: absl-py>=0.13 in /Users/dan/opt/anaconda3/envs/py38/lib/python3.8/site-packages (from ortools) (1.4.0)\n",
      "Installing collected packages: protobuf, ortools\n",
      "  Attempting uninstall: protobuf\n",
      "    Found existing installation: protobuf 3.19.6\n",
      "    Uninstalling protobuf-3.19.6:\n",
      "      Successfully uninstalled protobuf-3.19.6\n",
      "\u001b[31mERROR: pip's dependency resolver does not currently take into account all the packages that are installed. This behaviour is the source of the following dependency conflicts.\n",
      "tfx 1.11.0 requires attrs<22,>=19.3.0, but you have attrs 22.1.0 which is incompatible.\n",
      "tfx 1.11.0 requires packaging<21,>=20, but you have packaging 22.0 which is incompatible.\n",
      "tfx 1.11.0 requires protobuf<4,>=3.13, but you have protobuf 4.24.3 which is incompatible.\n",
      "tfx-bsl 1.11.0 requires protobuf<4,>=3.13, but you have protobuf 4.24.3 which is incompatible.\n",
      "tensorflow 2.10.1 requires protobuf<3.20,>=3.9.2, but you have protobuf 4.24.3 which is incompatible.\n",
      "tensorflow-transform 1.11.0 requires protobuf<4,>=3.13, but you have protobuf 4.24.3 which is incompatible.\n",
      "tensorflow-model-analysis 0.42.0 requires attrs<22,>=19.3.0, but you have attrs 22.1.0 which is incompatible.\n",
      "tensorflow-model-analysis 0.42.0 requires ipython<8,>=7, but you have ipython 8.10.0 which is incompatible.\n",
      "tensorflow-model-analysis 0.42.0 requires protobuf<4,>=3.13, but you have protobuf 4.24.3 which is incompatible.\n",
      "tensorflow-metadata 1.11.0 requires protobuf<4,>=3.13, but you have protobuf 4.24.3 which is incompatible.\n",
      "tensorflow-data-validation 1.11.0 requires protobuf<4,>=3.13, but you have protobuf 4.24.3 which is incompatible.\n",
      "tensorboard 2.10.1 requires protobuf<3.20,>=3.9.2, but you have protobuf 4.24.3 which is incompatible.\n",
      "ml-pipelines-sdk 1.11.0 requires packaging<21,>=20, but you have packaging 22.0 which is incompatible.\n",
      "ml-pipelines-sdk 1.11.0 requires protobuf<4,>=3.13, but you have protobuf 4.24.3 which is incompatible.\n",
      "ml-metadata 1.11.0 requires attrs<22,>=20.3, but you have attrs 22.1.0 which is incompatible.\n",
      "ml-metadata 1.11.0 requires protobuf<4,>=3.13, but you have protobuf 4.24.3 which is incompatible.\n",
      "google-cloud-videointelligence 1.16.3 requires protobuf<4.0.0dev, but you have protobuf 4.24.3 which is incompatible.\n",
      "google-cloud-language 1.3.2 requires protobuf<4.0.0dev, but you have protobuf 4.24.3 which is incompatible.\n",
      "google-cloud-datastore 1.15.5 requires protobuf<4.0.0dev, but you have protobuf 4.24.3 which is incompatible.\n",
      "google-cloud-bigtable 1.7.3 requires protobuf<4.0.0dev, but you have protobuf 4.24.3 which is incompatible.\n",
      "google-cloud-bigquery 2.34.4 requires packaging<22.0dev,>=14.3, but you have packaging 22.0 which is incompatible.\n",
      "google-cloud-bigquery 2.34.4 requires protobuf<4.0.0dev,>=3.12.0, but you have protobuf 4.24.3 which is incompatible.\n",
      "google-cloud-aiplatform 1.17.1 requires packaging<22.0.0dev,>=14.3, but you have packaging 22.0 which is incompatible.\n",
      "google-api-core 1.32.0 requires protobuf<4.0.0dev,>=3.12.0; python_version > \"3\", but you have protobuf 4.24.3 which is incompatible.\n",
      "apache-beam 2.46.0 requires protobuf<4,>3.12.2, but you have protobuf 4.24.3 which is incompatible.\u001b[0m\u001b[31m\n",
      "\u001b[0mSuccessfully installed ortools-9.7.2996 protobuf-4.24.3\n"
     ]
    }
   ],
   "source": [
    "! pip install ortools"
   ]
  },
  {
   "cell_type": "code",
   "execution_count": 2,
   "id": "3d2b1b07-19fb-4fd3-940c-85c1a4d5cb0a",
   "metadata": {},
   "outputs": [],
   "source": [
    "from ortools.sat.python import cp_model\n",
    "model = cp_model.CpModel()"
   ]
  },
  {
   "cell_type": "code",
   "execution_count": 3,
   "id": "488d555d-4329-4dc0-abaf-fb5996aa8ccb",
   "metadata": {},
   "outputs": [],
   "source": [
    "#Boundaries#\n",
    "var_upper_bound = max(50, 45, 37)\n",
    "#Declare variables\n",
    "x = model.NewIntVar(0, var_upper_bound, 'x')\n",
    "y = model.NewIntVar(0, var_upper_bound, 'y')\n",
    "z = model.NewIntVar(0, var_upper_bound, 'z')"
   ]
  },
  {
   "cell_type": "code",
   "execution_count": 4,
   "id": "08cda6bd-581d-4cc3-80b6-039538123b5a",
   "metadata": {},
   "outputs": [
    {
     "name": "stdout",
     "output_type": "stream",
     "text": [
      "Maximum value of objective function: 35\n",
      "x value:  7\n",
      "y value:  3\n",
      "z value:  5\n"
     ]
    }
   ],
   "source": [
    "#Remaining constraints#\n",
    "model.Add(2*x + 7*y + 3*z <= 50)\n",
    "model.Add(3*x - 5*y + 7*z <= 45)\n",
    "model.Add(5*x + 2*y - 6*z <= 37)\n",
    "#Maximise objective function#\n",
    "model.Maximize(2*x + 2*y +3*z)\n",
    "#Output possible solution#\n",
    "solver = cp_model.CpSolver()\n",
    "status = solver.Solve(model)\n",
    "if status == cp_model.OPTIMAL:\n",
    "    print('Maximum value of objective function: %i' % solver.ObjectiveValue())\n",
    "print('x value: ', solver.Value(x))\n",
    "print('y value: ', solver.Value(y))\n",
    "print('z value: ', solver.Value(z))\n"
   ]
  },
  {
   "cell_type": "code",
   "execution_count": null,
   "id": "6bacfbaa-2a26-4f87-8872-9aae617bc9d9",
   "metadata": {},
   "outputs": [],
   "source": []
  }
 ],
 "metadata": {
  "kernelspec": {
   "display_name": "Python 3 (ipykernel)",
   "language": "python",
   "name": "python3"
  },
  "language_info": {
   "codemirror_mode": {
    "name": "ipython",
    "version": 3
   },
   "file_extension": ".py",
   "mimetype": "text/x-python",
   "name": "python",
   "nbconvert_exporter": "python",
   "pygments_lexer": "ipython3",
   "version": "3.8.16"
  }
 },
 "nbformat": 4,
 "nbformat_minor": 5
}
