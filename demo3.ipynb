{
 "cells": [
  {
   "cell_type": "code",
   "execution_count": 1,
   "id": "8ac19862-0d21-4a8a-9fbd-e0d92fa5b052",
   "metadata": {},
   "outputs": [],
   "source": [
    "import pandas as pd\n",
    "import seaborn as sns\n",
    "import matplotlib.pyplot as plt\n",
    "import numpy as np\n",
    "import random"
   ]
  },
  {
   "cell_type": "code",
   "execution_count": 2,
   "id": "b28c3478-29b5-484d-b133-aad8506e890d",
   "metadata": {},
   "outputs": [],
   "source": [
    "df = pd.read_csv('new_mutations.csv')"
   ]
  },
  {
   "cell_type": "code",
   "execution_count": 3,
   "id": "a9e2bfa5-4183-4591-91c6-335920ee8b25",
   "metadata": {},
   "outputs": [],
   "source": [
    "myclass = df['class']"
   ]
  },
  {
   "cell_type": "code",
   "execution_count": 4,
   "id": "e207904c-36a8-4e82-9be9-5903d2c11752",
   "metadata": {},
   "outputs": [],
   "source": [
    "df = df.drop('class',axis=1).T"
   ]
  },
  {
   "cell_type": "code",
   "execution_count": 5,
   "id": "0cba7227-2f6c-427a-af21-78dea93712f5",
   "metadata": {},
   "outputs": [],
   "source": [
    "df.columns = myclass"
   ]
  },
  {
   "cell_type": "code",
   "execution_count": 6,
   "id": "947b350f-d34f-4401-bdf2-32d9b7ec53da",
   "metadata": {},
   "outputs": [
    {
     "data": {
      "text/html": [
       "<div>\n",
       "<style scoped>\n",
       "    .dataframe tbody tr th:only-of-type {\n",
       "        vertical-align: middle;\n",
       "    }\n",
       "\n",
       "    .dataframe tbody tr th {\n",
       "        vertical-align: top;\n",
       "    }\n",
       "\n",
       "    .dataframe thead th {\n",
       "        text-align: right;\n",
       "    }\n",
       "</style>\n",
       "<table border=\"1\" class=\"dataframe\">\n",
       "  <thead>\n",
       "    <tr style=\"text-align: right;\">\n",
       "      <th>class</th>\n",
       "      <th>NC1</th>\n",
       "      <th>C1</th>\n",
       "      <th>NC2</th>\n",
       "      <th>NC3</th>\n",
       "      <th>NC4</th>\n",
       "      <th>NC5</th>\n",
       "      <th>NC6</th>\n",
       "      <th>C2</th>\n",
       "      <th>C3</th>\n",
       "      <th>NC7</th>\n",
       "      <th>...</th>\n",
       "      <th>NC135</th>\n",
       "      <th>NC136</th>\n",
       "      <th>NC137</th>\n",
       "      <th>NC138</th>\n",
       "      <th>NC139</th>\n",
       "      <th>NC140</th>\n",
       "      <th>C107</th>\n",
       "      <th>NC141</th>\n",
       "      <th>C108</th>\n",
       "      <th>NC142</th>\n",
       "    </tr>\n",
       "  </thead>\n",
       "  <tbody>\n",
       "    <tr>\n",
       "      <th>GOT1_GRCh37_10:101163586-101163586_Missense-Mutation_SNP_C-C-T</th>\n",
       "      <td>1</td>\n",
       "      <td>0</td>\n",
       "      <td>0</td>\n",
       "      <td>0</td>\n",
       "      <td>0</td>\n",
       "      <td>0</td>\n",
       "      <td>0</td>\n",
       "      <td>0</td>\n",
       "      <td>0</td>\n",
       "      <td>0</td>\n",
       "      <td>...</td>\n",
       "      <td>0</td>\n",
       "      <td>0</td>\n",
       "      <td>0</td>\n",
       "      <td>0</td>\n",
       "      <td>0</td>\n",
       "      <td>0</td>\n",
       "      <td>0</td>\n",
       "      <td>0</td>\n",
       "      <td>0</td>\n",
       "      <td>0</td>\n",
       "    </tr>\n",
       "  </tbody>\n",
       "</table>\n",
       "<p>1 rows × 250 columns</p>\n",
       "</div>"
      ],
      "text/plain": [
       "class                                               NC1  C1  NC2  NC3  NC4  \\\n",
       "GOT1_GRCh37_10:101163586-101163586_Missense-Mut...    1   0    0    0    0   \n",
       "\n",
       "class                                               NC5  NC6  C2  C3  NC7  \\\n",
       "GOT1_GRCh37_10:101163586-101163586_Missense-Mut...    0    0   0   0    0   \n",
       "\n",
       "class                                               ...  NC135  NC136  NC137  \\\n",
       "GOT1_GRCh37_10:101163586-101163586_Missense-Mut...  ...      0      0      0   \n",
       "\n",
       "class                                               NC138  NC139  NC140  C107  \\\n",
       "GOT1_GRCh37_10:101163586-101163586_Missense-Mut...      0      0      0     0   \n",
       "\n",
       "class                                               NC141  C108  NC142  \n",
       "GOT1_GRCh37_10:101163586-101163586_Missense-Mut...      0     0      0  \n",
       "\n",
       "[1 rows x 250 columns]"
      ]
     },
     "execution_count": 6,
     "metadata": {},
     "output_type": "execute_result"
    }
   ],
   "source": [
    "df.head(1)"
   ]
  },
  {
   "cell_type": "code",
   "execution_count": 7,
   "id": "5d281524-adb6-4a95-8dc8-5db9c69772e3",
   "metadata": {},
   "outputs": [],
   "source": [
    "c = [i for i in df.columns if i[0]=='C']\n",
    "nc = [j for j in df.columns if j[0]=='N']\n",
    "people = list(df.columns)"
   ]
  },
  {
   "cell_type": "code",
   "execution_count": 8,
   "id": "63019768-d67c-4b2d-999e-6ca38025015e",
   "metadata": {},
   "outputs": [],
   "source": [
    "# Helper functions\n",
    "\n",
    "def intersection(lst1, lst2):\n",
    "    '''\n",
    "    This function finds the intersection of two lists\n",
    "    '''\n",
    "    \n",
    "    lst3 = [value for value in lst1 if value in lst2]\n",
    "    return lst3\n",
    "\n",
    "def feature(data, grp):\n",
    "    '''\n",
    "    this function finds the best feature within a group of individuals based on TP-FP\n",
    "    '''\n",
    "    return(data[intersection(grp,c)].sum(axis=1)\\\n",
    "           -data[intersection(grp,nc)].sum(axis=1)).sort_values(ascending=False).head(1)\n",
    "\n",
    "def classifier(data, individual, root_node, leaf_node_1, leaf_node_2):\n",
    "    if data[individual].loc[root_node]==1:\n",
    "        if data[individual].loc[leaf_node_1]==1:\n",
    "            return \"C\"\n",
    "        else:\n",
    "            return \"NC\"\n",
    "    else:\n",
    "        if data[individual].loc[leaf_node_2]==1:\n",
    "            return \"C\"\n",
    "        else:\n",
    "            return \"NC\" \n",
    "\n",
    "def evaluator(data, root_node, leaf_node_1, leaf_node_2, classifier, individuals):\n",
    "    TN = FN = TP = FP = 0\n",
    "    for i in range(len(individuals)):\n",
    "        if individuals[i][0] == classifier(data,individuals[i],root_node, leaf_node_1, leaf_node_2)==\"C\":\n",
    "            TP +=1\n",
    "        elif individuals[i][0:2] == classifier(data,individuals[i],root_node, leaf_node_1, leaf_node_2)==\"NC\":\n",
    "            TN +=1\n",
    "        elif individuals[i][0]==\"N\" and classifier(data,individuals[i],root_node, leaf_node_1, leaf_node_2)==\"C\":\n",
    "            FP +=1\n",
    "        elif individuals[i][0]==\"C\" and classifier(data,individuals[i],root_node, leaf_node_1, leaf_node_2)==\"NC\":\n",
    "            FN +=1\n",
    "            \n",
    "    return [TP, TN, FP, FN]\n",
    "\n",
    "def metrics_calc(conf_mat):\n",
    "    # Format of conf_mat should be: [TP, TN, FP, FN]\n",
    "    TP = conf_mat[0]\n",
    "    TN = conf_mat[1]\n",
    "    FP = conf_mat[2]\n",
    "    FN = conf_mat[3]\n",
    "    accuracy = (TP+TN)/(TP+TN+FP+FN)\n",
    "    sensitivity = TP/(TP+FN)\n",
    "    specificity = TN/(TN+FP)\n",
    "    precision = TP/(TP+FP)\n",
    "    miss_rate = FN/(FN+TP)\n",
    "    false_discovery_rate = FP/(FP+TP)\n",
    "    false_omission_rate = FN/(FN+TN)\n",
    "    return f\"\"\" \n",
    "    Accuracy is {accuracy:.2}\n",
    "    Sensitivity is {sensitivity:.2}\n",
    "    Specificity is {specificity:.2}\n",
    "    Precision is {precision:.2}\n",
    "    Miss Rate is {miss_rate:.2}\n",
    "    False discovery rate is {false_discovery_rate:.2} \n",
    "    False omission rate is {false_omission_rate:.2} \n",
    "    \"\"\""
   ]
  },
  {
   "cell_type": "code",
   "execution_count": 9,
   "id": "a0ac2211-53d7-461b-8cd0-c24128148faa",
   "metadata": {},
   "outputs": [],
   "source": [
    "random.shuffle(list(people))\n",
    "fold_1 = df[people[0:int(len(people)/3)]]\n",
    "fold_2 = df[people[int(len(people)/3):int(len(people)*2/3)]]\n",
    "fold_3 = df[people[int(len(people)*2/3):int(len(people))]]"
   ]
  },
  {
   "cell_type": "code",
   "execution_count": 10,
   "id": "5077b5b9-3ff4-4b08-bf91-8bef36eda3f9",
   "metadata": {},
   "outputs": [],
   "source": [
    "train_1 = pd.concat([fold_1,fold_2], axis = 1)\n",
    "test_1 = fold_3\n",
    "\n",
    "train_2 = pd.concat([fold_2,fold_3], axis = 1)\n",
    "test_2 = fold_1\n",
    "\n",
    "train_3 = pd.concat([fold_3,fold_1], axis = 1)\n",
    "test_3 = fold_2"
   ]
  },
  {
   "cell_type": "code",
   "execution_count": 11,
   "id": "248a235f-a3d6-481d-8b8d-be2c9a96d631",
   "metadata": {},
   "outputs": [
    {
     "data": {
      "text/plain": [
       "RPL22_GRCh37_1:6257785-6257785_Frame-Shift-Del_DEL_T-T--    16\n",
       "dtype: int64"
      ]
     },
     "execution_count": 11,
     "metadata": {},
     "output_type": "execute_result"
    }
   ],
   "source": [
    "# First\n",
    "people_1 = list(train_1.columns)\n",
    "feature(train_1, people_1)"
   ]
  },
  {
   "cell_type": "code",
   "execution_count": 12,
   "id": "7bdc6c54-54b7-420e-9647-4b6f55b20737",
   "metadata": {},
   "outputs": [],
   "source": [
    "leaf_1 = []\n",
    "leaf_2 = []\n",
    "for i in range(len(people_1)):\n",
    "    if df[people_1[i]]['RPL22_GRCh37_1:6257785-6257785_Frame-Shift-Del_DEL_T-T--']==1:\n",
    "        leaf_1.append(people_1[i])\n",
    "    else:\n",
    "        leaf_2.append(people_1[i])"
   ]
  },
  {
   "cell_type": "code",
   "execution_count": 13,
   "id": "6c1a24d3-7ca4-4080-8582-e4c282e2653e",
   "metadata": {},
   "outputs": [
    {
     "data": {
      "text/plain": [
       "ZFP91_GRCh37_11:58386428-58386428_3'UTR_DEL_T-T--    7\n",
       "dtype: int64"
      ]
     },
     "execution_count": 13,
     "metadata": {},
     "output_type": "execute_result"
    }
   ],
   "source": [
    "feature(train_1.drop('RPL22_GRCh37_1:6257785-6257785_Frame-Shift-Del_DEL_T-T--', axis=0), leaf_1)"
   ]
  },
  {
   "cell_type": "code",
   "execution_count": 14,
   "id": "03d70420-fce7-47a1-b935-4c01f68fcc1b",
   "metadata": {},
   "outputs": [
    {
     "data": {
      "text/plain": [
       "KRAS_GRCh37_12:25398284-25398284_Missense-Mutation_SNP_C-C-A_C-C-T_C-C-G    10\n",
       "dtype: int64"
      ]
     },
     "execution_count": 14,
     "metadata": {},
     "output_type": "execute_result"
    }
   ],
   "source": [
    "feature(train_1, leaf_2)"
   ]
  },
  {
   "cell_type": "code",
   "execution_count": 15,
   "id": "76318b99-84e8-4ca5-8b00-27fddb5afcc6",
   "metadata": {},
   "outputs": [
    {
     "data": {
      "text/plain": [
       "[2, 51, 2, 29]"
      ]
     },
     "execution_count": 15,
     "metadata": {},
     "output_type": "execute_result"
    }
   ],
   "source": [
    "evaluator(data=test_1, \n",
    "          root_node=\"RPL22_GRCh37_1:6257785-6257785_Frame-Shift-Del_DEL_T-T--\",\n",
    "          leaf_node_1=\"ZFP91_GRCh37_11:58386428-58386428_3'UTR_DEL_T-T--\",\n",
    "          leaf_node_2=\"KRAS_GRCh37_12:25398284-25398284_Missense-Mutation_SNP_C-C-A_C-C-T_C-C-G\",\n",
    "          classifier=classifier,\n",
    "          individuals=list(test_1.columns)\n",
    "         )"
   ]
  },
  {
   "cell_type": "code",
   "execution_count": 16,
   "id": "0666cd07-069c-4ff8-a6ec-cf1b416632d8",
   "metadata": {},
   "outputs": [
    {
     "name": "stdout",
     "output_type": "stream",
     "text": [
      " \n",
      "    Accuracy is 0.63\n",
      "    Sensitivity is 0.065\n",
      "    Specificity is 0.96\n",
      "    Precision is 0.5\n",
      "    Miss Rate is 0.94\n",
      "    False discovery rate is 0.5 \n",
      "    False omission rate is 0.36 \n",
      "    \n"
     ]
    }
   ],
   "source": [
    "print(metrics_calc(evaluator(data=test_1, \n",
    "          root_node=\"RPL22_GRCh37_1:6257785-6257785_Frame-Shift-Del_DEL_T-T--\",\n",
    "          leaf_node_1=\"ZFP91_GRCh37_11:58386428-58386428_3'UTR_DEL_T-T--\",\n",
    "          leaf_node_2=\"KRAS_GRCh37_12:25398284-25398284_Missense-Mutation_SNP_C-C-A_C-C-T_C-C-G\",\n",
    "          classifier=classifier,\n",
    "          individuals=list(test_1.columns)\n",
    "                            )\n",
    "                  )\n",
    "     )"
   ]
  },
  {
   "cell_type": "code",
   "execution_count": 17,
   "id": "8859d05c-178f-4ccd-8578-58df2928320f",
   "metadata": {},
   "outputs": [],
   "source": [
    "#Second"
   ]
  },
  {
   "cell_type": "code",
   "execution_count": 18,
   "id": "61c0ab20-9d79-4f70-a397-703aa236945d",
   "metadata": {},
   "outputs": [],
   "source": [
    "people_2 = list(train_2.columns)\n",
    "root_node = feature(train_2, people_2).index[0]"
   ]
  },
  {
   "cell_type": "code",
   "execution_count": 19,
   "id": "c876132d-40ec-4d57-b0fe-c8baaa7f305c",
   "metadata": {},
   "outputs": [],
   "source": [
    "leaf_1 = []\n",
    "leaf_2 = []\n",
    "for i in range(len(people_2)):\n",
    "    if df[people_2[i]][\"DOCK3_GRCh37_3:51417604-51417604_Frame-Shift-Del_DEL_C-C--\"]==1:\n",
    "        leaf_1.append(people_2[i])\n",
    "    else:\n",
    "        leaf_2.append(people_2[i])"
   ]
  },
  {
   "cell_type": "code",
   "execution_count": 20,
   "id": "df8ab6bc-1ae4-4311-b17e-ce44d090d562",
   "metadata": {},
   "outputs": [
    {
     "name": "stdout",
     "output_type": "stream",
     "text": [
      "root node is :  DOCK3_GRCh37_3:51417604-51417604_Frame-Shift-Del_DEL_C-C-- \n",
      " leaf nodes are : RALB_GRCh37_2:121052255-121052255_3'UTR_DEL_T-T-- \n",
      " RPL22_GRCh37_1:6257785-6257785_Frame-Shift-Del_DEL_T-T--\n"
     ]
    }
   ],
   "source": [
    "leaf_node_1 = feature(train_2.drop(root_node, axis=0), leaf_1).index[0]\n",
    "leaf_node_2 = feature(train_2, leaf_2).index[0]\n",
    "print('root node is : ',root_node,'\\n','leaf nodes are :', leaf_node_1, '\\n',leaf_node_2)"
   ]
  },
  {
   "cell_type": "code",
   "execution_count": 21,
   "id": "417c7835-3ebd-4432-9dee-48718b449bde",
   "metadata": {},
   "outputs": [
    {
     "name": "stdout",
     "output_type": "stream",
     "text": [
      " \n",
      "    Accuracy is 0.69\n",
      "    Sensitivity is 0.26\n",
      "    Specificity is 1.0\n",
      "    Precision is 1.0\n",
      "    Miss Rate is 0.74\n",
      "    False discovery rate is 0.0 \n",
      "    False omission rate is 0.35 \n",
      "    \n"
     ]
    }
   ],
   "source": [
    "print(metrics_calc(evaluator(data=test_2, \n",
    "          root_node=root_node,\n",
    "          leaf_node_1=leaf_node_1,\n",
    "          leaf_node_2=leaf_node_2,\n",
    "          classifier=classifier,\n",
    "          individuals=list(test_2.columns)\n",
    "                            )\n",
    "                  )\n",
    "     )"
   ]
  },
  {
   "cell_type": "code",
   "execution_count": 22,
   "id": "257eb77e-7f00-46d5-885e-085cf6668b29",
   "metadata": {},
   "outputs": [],
   "source": [
    "#Third"
   ]
  },
  {
   "cell_type": "code",
   "execution_count": 23,
   "id": "1c55b3e7-54e5-4ded-bea6-c75c3be8ce5f",
   "metadata": {},
   "outputs": [],
   "source": [
    "people_3 = list(train_3.columns)\n",
    "root_node = feature(train_3, people_3).index[0]"
   ]
  },
  {
   "cell_type": "code",
   "execution_count": 24,
   "id": "e31b868d-671b-4440-8df5-41222fa4ffc5",
   "metadata": {},
   "outputs": [],
   "source": [
    "leaf_1 = []\n",
    "leaf_2 = []\n",
    "pp = people_3\n",
    "for i in range(len(pp)):\n",
    "    if df[pp[i]][root_node]==1:\n",
    "        leaf_1.append(pp[i])\n",
    "    else:\n",
    "        leaf_2.append(pp[i])"
   ]
  },
  {
   "cell_type": "code",
   "execution_count": 25,
   "id": "0d478f6f-a04e-43ee-b322-25d9c4acef41",
   "metadata": {},
   "outputs": [
    {
     "name": "stdout",
     "output_type": "stream",
     "text": [
      "root node is :  RPL22_GRCh37_1:6257785-6257785_Frame-Shift-Del_DEL_T-T-- \n",
      " leaf nodes are : DRD5_GRCh37_4:9785349-9785349_3'UTR_SNP_G-G-C \n",
      " DOCK3_GRCh37_3:51417604-51417604_Frame-Shift-Del_DEL_C-C--\n"
     ]
    }
   ],
   "source": [
    "leaf_node_1 = feature(train_3.drop(root_node, axis=0), leaf_1).index[0]\n",
    "leaf_node_2 = feature(train_3, leaf_2).index[0]\n",
    "print('root node is : ',root_node,'\\n','leaf nodes are :', leaf_node_1, '\\n',leaf_node_2)"
   ]
  },
  {
   "cell_type": "code",
   "execution_count": 26,
   "id": "09cb0404-ea8b-4f91-b353-d3e10b6de037",
   "metadata": {},
   "outputs": [
    {
     "name": "stdout",
     "output_type": "stream",
     "text": [
      " \n",
      "    Accuracy is 0.58\n",
      "    Sensitivity is 0.17\n",
      "    Specificity is 1.0\n",
      "    Precision is 1.0\n",
      "    Miss Rate is 0.83\n",
      "    False discovery rate is 0.0 \n",
      "    False omission rate is 0.46 \n",
      "    \n"
     ]
    }
   ],
   "source": [
    "print(metrics_calc(evaluator(data=test_3, \n",
    "          root_node=root_node,\n",
    "          leaf_node_1=leaf_node_1,\n",
    "          leaf_node_2=leaf_node_2,\n",
    "          classifier=classifier,\n",
    "          individuals=list(test_3.columns)\n",
    "                            )\n",
    "                  )\n",
    "     )"
   ]
  },
  {
   "cell_type": "code",
   "execution_count": 27,
   "id": "248c8c53-59a5-49e7-a565-c382e7e4f5b5",
   "metadata": {},
   "outputs": [],
   "source": [
    "avg_acc = (.58+.69+.63)/3\n",
    "avg_sen = (.17+.26+.065)/3\n",
    "avg_spe = (1+1+.96)/3"
   ]
  },
  {
   "cell_type": "code",
   "execution_count": 28,
   "id": "6448fb86-5a50-4a14-bf3e-09dff338e0f4",
   "metadata": {},
   "outputs": [
    {
     "name": "stdout",
     "output_type": "stream",
     "text": [
      "0.6333333333333333 0.165 0.9866666666666667\n"
     ]
    }
   ],
   "source": [
    "print(avg_acc, avg_sen, avg_spe)"
   ]
  },
  {
   "cell_type": "code",
   "execution_count": null,
   "id": "fc270222-199f-4304-8fc1-ffd79aa472fe",
   "metadata": {},
   "outputs": [],
   "source": []
  },
  {
   "cell_type": "code",
   "execution_count": 29,
   "id": "652e9325-90db-4de3-8959-9e194503d506",
   "metadata": {},
   "outputs": [
    {
     "data": {
      "text/plain": [
       "['NC1', 'C1', 'NC2', 'NC3', 'NC4']"
      ]
     },
     "execution_count": 29,
     "metadata": {},
     "output_type": "execute_result"
    }
   ],
   "source": [
    "people[:5]"
   ]
  },
  {
   "cell_type": "code",
   "execution_count": 30,
   "id": "3325b1f7-6eb1-49cc-82e9-08c063fe1693",
   "metadata": {},
   "outputs": [],
   "source": [
    "all_mut = list(df.index)"
   ]
  },
  {
   "cell_type": "code",
   "execution_count": 31,
   "id": "7081cd44-adfe-4c7e-9fb1-bdcdb8ec833b",
   "metadata": {},
   "outputs": [
    {
     "data": {
      "text/plain": [
       "8085"
      ]
     },
     "execution_count": 31,
     "metadata": {},
     "output_type": "execute_result"
    }
   ],
   "source": [
    "len(all_mut)"
   ]
  },
  {
   "cell_type": "code",
   "execution_count": 32,
   "id": "9291bcb2-8fde-4787-8055-f84539aefda7",
   "metadata": {},
   "outputs": [],
   "source": [
    "# PHI Function"
   ]
  },
  {
   "cell_type": "code",
   "execution_count": 33,
   "id": "7f71ee96-8762-41d3-8fc4-6709cf88d8e2",
   "metadata": {},
   "outputs": [],
   "source": [
    "feature_table = {\n",
    "    'n(tL)' : 8085*[0],\n",
    "    'n(tR)' : 8085*[0],\n",
    "    'n(tL,C)' : 8085*[0],\n",
    "    'n(tL,NC)' : 8085*[0],\n",
    "    'n(tR,C)' : 8085*[0],\n",
    "    'n(tR,NC)' : 8085*[0],\n",
    "    'PL' : 8085*[0],\n",
    "    'PR' : 8085*[0],\n",
    "    'P(C|tL)' :8085*[0],\n",
    "    'P(NC|tL)' :8085*[0],\n",
    "    'P(C|tR)' : 8085*[0],\n",
    "    'P(NC|tR)' : 8085*[0],\n",
    "    '2PLPR' : 8085*[0],\n",
    "    'Q(s|t)' : 8085*[0],\n",
    "    'Phi(s,t)':8085*[0],\n",
    "}"
   ]
  },
  {
   "cell_type": "code",
   "execution_count": 34,
   "id": "267f3230-3e95-43e5-9432-41ec1dce8bc3",
   "metadata": {},
   "outputs": [],
   "source": [
    "data = pd.DataFrame(feature_table, index = all_mut)"
   ]
  },
  {
   "cell_type": "code",
   "execution_count": 35,
   "id": "9e2861d8-871f-472d-8f6b-2c4c3eb0646c",
   "metadata": {},
   "outputs": [
    {
     "data": {
      "text/html": [
       "<div>\n",
       "<style scoped>\n",
       "    .dataframe tbody tr th:only-of-type {\n",
       "        vertical-align: middle;\n",
       "    }\n",
       "\n",
       "    .dataframe tbody tr th {\n",
       "        vertical-align: top;\n",
       "    }\n",
       "\n",
       "    .dataframe thead th {\n",
       "        text-align: right;\n",
       "    }\n",
       "</style>\n",
       "<table border=\"1\" class=\"dataframe\">\n",
       "  <thead>\n",
       "    <tr style=\"text-align: right;\">\n",
       "      <th></th>\n",
       "      <th>n(tL)</th>\n",
       "      <th>n(tR)</th>\n",
       "      <th>n(tL,C)</th>\n",
       "      <th>n(tL,NC)</th>\n",
       "      <th>n(tR,C)</th>\n",
       "      <th>n(tR,NC)</th>\n",
       "      <th>PL</th>\n",
       "      <th>PR</th>\n",
       "      <th>P(C|tL)</th>\n",
       "      <th>P(NC|tL)</th>\n",
       "      <th>P(C|tR)</th>\n",
       "      <th>P(NC|tR)</th>\n",
       "      <th>2PLPR</th>\n",
       "      <th>Q(s|t)</th>\n",
       "      <th>Phi(s,t)</th>\n",
       "    </tr>\n",
       "  </thead>\n",
       "  <tbody>\n",
       "    <tr>\n",
       "      <th>GOT1_GRCh37_10:101163586-101163586_Missense-Mutation_SNP_C-C-T</th>\n",
       "      <td>0</td>\n",
       "      <td>0</td>\n",
       "      <td>0</td>\n",
       "      <td>0</td>\n",
       "      <td>0</td>\n",
       "      <td>0</td>\n",
       "      <td>0</td>\n",
       "      <td>0</td>\n",
       "      <td>0</td>\n",
       "      <td>0</td>\n",
       "      <td>0</td>\n",
       "      <td>0</td>\n",
       "      <td>0</td>\n",
       "      <td>0</td>\n",
       "      <td>0</td>\n",
       "    </tr>\n",
       "  </tbody>\n",
       "</table>\n",
       "</div>"
      ],
      "text/plain": [
       "                                                    n(tL)  n(tR)  n(tL,C)  \\\n",
       "GOT1_GRCh37_10:101163586-101163586_Missense-Mut...      0      0        0   \n",
       "\n",
       "                                                    n(tL,NC)  n(tR,C)  \\\n",
       "GOT1_GRCh37_10:101163586-101163586_Missense-Mut...         0        0   \n",
       "\n",
       "                                                    n(tR,NC)  PL  PR  P(C|tL)  \\\n",
       "GOT1_GRCh37_10:101163586-101163586_Missense-Mut...         0   0   0        0   \n",
       "\n",
       "                                                    P(NC|tL)  P(C|tR)  \\\n",
       "GOT1_GRCh37_10:101163586-101163586_Missense-Mut...         0        0   \n",
       "\n",
       "                                                    P(NC|tR)  2PLPR  Q(s|t)  \\\n",
       "GOT1_GRCh37_10:101163586-101163586_Missense-Mut...         0      0       0   \n",
       "\n",
       "                                                    Phi(s,t)  \n",
       "GOT1_GRCh37_10:101163586-101163586_Missense-Mut...         0  "
      ]
     },
     "execution_count": 35,
     "metadata": {},
     "output_type": "execute_result"
    }
   ],
   "source": [
    "data.head(1)"
   ]
  },
  {
   "cell_type": "code",
   "execution_count": 36,
   "id": "8f63be30-760d-4d6e-bfa9-c0f737e4c108",
   "metadata": {},
   "outputs": [
    {
     "data": {
      "text/plain": [
       "(250, 108, 142)"
      ]
     },
     "execution_count": 36,
     "metadata": {},
     "output_type": "execute_result"
    }
   ],
   "source": [
    "len(people), len(c), len(nc)"
   ]
  },
  {
   "cell_type": "code",
   "execution_count": 37,
   "id": "501ea4fd-ae09-41d2-a1d4-fd1ad63c707f",
   "metadata": {},
   "outputs": [
    {
     "name": "stdout",
     "output_type": "stream",
     "text": [
      "P(C,t):  0.43 \n",
      " P(NC,t):  0.57\n"
     ]
    }
   ],
   "source": [
    "# part 1\n",
    "p_ct = len(c)/len(people)\n",
    "p_nct = len(nc)/len(people)\n",
    "\n",
    "print('P(C,t): ', round(p_ct,2), '\\n', 'P(NC,t): ', round(p_nct,2))"
   ]
  },
  {
   "cell_type": "code",
   "execution_count": 38,
   "id": "39f761a8-3af3-4015-85a0-560b00b2e785",
   "metadata": {},
   "outputs": [],
   "source": [
    "# Solution #1\n",
    "#pp = people\n",
    "#leftpp = rightpp = []\n",
    "#for j in all_mut:\n",
    "#    for i in range(len(pp)):\n",
    "#        if df[pp[i]][j]==1:\n",
    "#            data['n(tL)'].loc[j]+=1\n",
    "#            leftpp.append(pp[i])\n",
    "#            if pp[i][0]=='C':\n",
    "#data['n(tL,C)'].loc[j]+=1\n",
    "#            else:\n",
    "#                data['n(tL,NC)'].loc[j]+=1\n",
    "#        else:\n",
    "#            data['n(tR)'].loc[j]+=1\n",
    "#            rightpp.append(pp[i])\n",
    "#            if pp[i][0]=='C':\n",
    "#                data['n(tR,C)'].loc[j]+=1\n",
    "#            else:\n",
    "#                data['n(tR,NC)'].loc[j]+=1"
   ]
  },
  {
   "cell_type": "code",
   "execution_count": 39,
   "id": "1ece3493-1461-4242-8b4d-cf53d0d93c6d",
   "metadata": {},
   "outputs": [],
   "source": [
    "#data.sort_values(by='n(tL)', ascending=False)"
   ]
  },
  {
   "cell_type": "code",
   "execution_count": 40,
   "id": "8f0d1edf-2f3a-4b70-afb6-37052148c334",
   "metadata": {},
   "outputs": [],
   "source": [
    "data['PL'] = data['n(tL)']/len(people)\n",
    "data['PR'] = data['n(tR)']/len(people)\n",
    "data['P(C|tL)'] = data['n(tL,C)']/data['n(tL)']\n",
    "data['P(NC|tL)'] = data['n(tL,NC)']/data['n(tL)']\n",
    "data['P(C|tR)'] = data['n(tR,C)']/data['n(tR)']\n",
    "data['P(NC|tR)'] = data['n(tR,NC)']/data['n(tR)']\n",
    "data['2PLPR'] = 2 * data['PL'] * data['PR']\n",
    "data['Q(s|t)'] = abs(data['P(C|tL)']-data['P(C|tR)']) + abs(data['P(NC|tL)']-data['P(NC|tR)'])\n",
    "data['Phi(s,t)'] = data['2PLPR'] * data['Q(s|t)']"
   ]
  },
  {
   "cell_type": "code",
   "execution_count": 41,
   "id": "7b267910-84be-4910-9b02-8f2a7438854a",
   "metadata": {},
   "outputs": [
    {
     "data": {
      "text/html": [
       "<div>\n",
       "<style scoped>\n",
       "    .dataframe tbody tr th:only-of-type {\n",
       "        vertical-align: middle;\n",
       "    }\n",
       "\n",
       "    .dataframe tbody tr th {\n",
       "        vertical-align: top;\n",
       "    }\n",
       "\n",
       "    .dataframe thead th {\n",
       "        text-align: right;\n",
       "    }\n",
       "</style>\n",
       "<table border=\"1\" class=\"dataframe\">\n",
       "  <thead>\n",
       "    <tr style=\"text-align: right;\">\n",
       "      <th></th>\n",
       "      <th>n(tL)</th>\n",
       "      <th>n(tR)</th>\n",
       "      <th>n(tL,C)</th>\n",
       "      <th>n(tL,NC)</th>\n",
       "      <th>n(tR,C)</th>\n",
       "      <th>n(tR,NC)</th>\n",
       "      <th>PL</th>\n",
       "      <th>PR</th>\n",
       "      <th>P(C|tL)</th>\n",
       "      <th>P(NC|tL)</th>\n",
       "      <th>P(C|tR)</th>\n",
       "      <th>P(NC|tR)</th>\n",
       "      <th>2PLPR</th>\n",
       "      <th>Q(s|t)</th>\n",
       "      <th>Phi(s,t)</th>\n",
       "    </tr>\n",
       "  </thead>\n",
       "  <tbody>\n",
       "    <tr>\n",
       "      <th>GOT1_GRCh37_10:101163586-101163586_Missense-Mutation_SNP_C-C-T</th>\n",
       "      <td>0</td>\n",
       "      <td>0</td>\n",
       "      <td>0</td>\n",
       "      <td>0</td>\n",
       "      <td>0</td>\n",
       "      <td>0</td>\n",
       "      <td>0.0</td>\n",
       "      <td>0.0</td>\n",
       "      <td>NaN</td>\n",
       "      <td>NaN</td>\n",
       "      <td>NaN</td>\n",
       "      <td>NaN</td>\n",
       "      <td>0.0</td>\n",
       "      <td>NaN</td>\n",
       "      <td>NaN</td>\n",
       "    </tr>\n",
       "    <tr>\n",
       "      <th>TEX36_GRCh37_10:127371546-127371546_Nonsense-Mutation_SNP_G-G-A</th>\n",
       "      <td>0</td>\n",
       "      <td>0</td>\n",
       "      <td>0</td>\n",
       "      <td>0</td>\n",
       "      <td>0</td>\n",
       "      <td>0</td>\n",
       "      <td>0.0</td>\n",
       "      <td>0.0</td>\n",
       "      <td>NaN</td>\n",
       "      <td>NaN</td>\n",
       "      <td>NaN</td>\n",
       "      <td>NaN</td>\n",
       "      <td>0.0</td>\n",
       "      <td>NaN</td>\n",
       "      <td>NaN</td>\n",
       "    </tr>\n",
       "    <tr>\n",
       "      <th>KIAA1217_GRCh37_10:24810824-24810824_Missense-Mutation_SNP_C-C-T</th>\n",
       "      <td>0</td>\n",
       "      <td>0</td>\n",
       "      <td>0</td>\n",
       "      <td>0</td>\n",
       "      <td>0</td>\n",
       "      <td>0</td>\n",
       "      <td>0.0</td>\n",
       "      <td>0.0</td>\n",
       "      <td>NaN</td>\n",
       "      <td>NaN</td>\n",
       "      <td>NaN</td>\n",
       "      <td>NaN</td>\n",
       "      <td>0.0</td>\n",
       "      <td>NaN</td>\n",
       "      <td>NaN</td>\n",
       "    </tr>\n",
       "    <tr>\n",
       "      <th>SIRT1_GRCh37_10:69676051-69676051_Missense-Mutation_SNP_C-C-T</th>\n",
       "      <td>0</td>\n",
       "      <td>0</td>\n",
       "      <td>0</td>\n",
       "      <td>0</td>\n",
       "      <td>0</td>\n",
       "      <td>0</td>\n",
       "      <td>0.0</td>\n",
       "      <td>0.0</td>\n",
       "      <td>NaN</td>\n",
       "      <td>NaN</td>\n",
       "      <td>NaN</td>\n",
       "      <td>NaN</td>\n",
       "      <td>0.0</td>\n",
       "      <td>NaN</td>\n",
       "      <td>NaN</td>\n",
       "    </tr>\n",
       "    <tr>\n",
       "      <th>MYPN_GRCh37_10:69881845-69881845_Missense-Mutation_SNP_C-C-T</th>\n",
       "      <td>0</td>\n",
       "      <td>0</td>\n",
       "      <td>0</td>\n",
       "      <td>0</td>\n",
       "      <td>0</td>\n",
       "      <td>0</td>\n",
       "      <td>0.0</td>\n",
       "      <td>0.0</td>\n",
       "      <td>NaN</td>\n",
       "      <td>NaN</td>\n",
       "      <td>NaN</td>\n",
       "      <td>NaN</td>\n",
       "      <td>0.0</td>\n",
       "      <td>NaN</td>\n",
       "      <td>NaN</td>\n",
       "    </tr>\n",
       "    <tr>\n",
       "      <th>LARP4B_GRCh37_10:890939-890939_Frame-Shift-Del_DEL_T-T--</th>\n",
       "      <td>0</td>\n",
       "      <td>0</td>\n",
       "      <td>0</td>\n",
       "      <td>0</td>\n",
       "      <td>0</td>\n",
       "      <td>0</td>\n",
       "      <td>0.0</td>\n",
       "      <td>0.0</td>\n",
       "      <td>NaN</td>\n",
       "      <td>NaN</td>\n",
       "      <td>NaN</td>\n",
       "      <td>NaN</td>\n",
       "      <td>0.0</td>\n",
       "      <td>NaN</td>\n",
       "      <td>NaN</td>\n",
       "    </tr>\n",
       "    <tr>\n",
       "      <th>NPAT_GRCh37_11:108032094-108032094_Missense-Mutation_SNP_G-G-T_G-G-A</th>\n",
       "      <td>0</td>\n",
       "      <td>0</td>\n",
       "      <td>0</td>\n",
       "      <td>0</td>\n",
       "      <td>0</td>\n",
       "      <td>0</td>\n",
       "      <td>0.0</td>\n",
       "      <td>0.0</td>\n",
       "      <td>NaN</td>\n",
       "      <td>NaN</td>\n",
       "      <td>NaN</td>\n",
       "      <td>NaN</td>\n",
       "      <td>0.0</td>\n",
       "      <td>NaN</td>\n",
       "      <td>NaN</td>\n",
       "    </tr>\n",
       "    <tr>\n",
       "      <th>ARNTL_GRCh37_11:13402723-13402723_Silent_SNP_G-G-A</th>\n",
       "      <td>0</td>\n",
       "      <td>0</td>\n",
       "      <td>0</td>\n",
       "      <td>0</td>\n",
       "      <td>0</td>\n",
       "      <td>0</td>\n",
       "      <td>0.0</td>\n",
       "      <td>0.0</td>\n",
       "      <td>NaN</td>\n",
       "      <td>NaN</td>\n",
       "      <td>NaN</td>\n",
       "      <td>NaN</td>\n",
       "      <td>0.0</td>\n",
       "      <td>NaN</td>\n",
       "      <td>NaN</td>\n",
       "    </tr>\n",
       "    <tr>\n",
       "      <th>COPB1_GRCh37_11:14480092-14480092_Missense-Mutation_SNP_G-G-A_G-G-T</th>\n",
       "      <td>0</td>\n",
       "      <td>0</td>\n",
       "      <td>0</td>\n",
       "      <td>0</td>\n",
       "      <td>0</td>\n",
       "      <td>0</td>\n",
       "      <td>0.0</td>\n",
       "      <td>0.0</td>\n",
       "      <td>NaN</td>\n",
       "      <td>NaN</td>\n",
       "      <td>NaN</td>\n",
       "      <td>NaN</td>\n",
       "      <td>0.0</td>\n",
       "      <td>NaN</td>\n",
       "      <td>NaN</td>\n",
       "    </tr>\n",
       "    <tr>\n",
       "      <th>PDE3B_GRCh37_11:14882800-14882800_Missense-Mutation_SNP_G-G-A</th>\n",
       "      <td>0</td>\n",
       "      <td>0</td>\n",
       "      <td>0</td>\n",
       "      <td>0</td>\n",
       "      <td>0</td>\n",
       "      <td>0</td>\n",
       "      <td>0.0</td>\n",
       "      <td>0.0</td>\n",
       "      <td>NaN</td>\n",
       "      <td>NaN</td>\n",
       "      <td>NaN</td>\n",
       "      <td>NaN</td>\n",
       "      <td>0.0</td>\n",
       "      <td>NaN</td>\n",
       "      <td>NaN</td>\n",
       "    </tr>\n",
       "  </tbody>\n",
       "</table>\n",
       "</div>"
      ],
      "text/plain": [
       "                                                    n(tL)  n(tR)  n(tL,C)  \\\n",
       "GOT1_GRCh37_10:101163586-101163586_Missense-Mut...      0      0        0   \n",
       "TEX36_GRCh37_10:127371546-127371546_Nonsense-Mu...      0      0        0   \n",
       "KIAA1217_GRCh37_10:24810824-24810824_Missense-M...      0      0        0   \n",
       "SIRT1_GRCh37_10:69676051-69676051_Missense-Muta...      0      0        0   \n",
       "MYPN_GRCh37_10:69881845-69881845_Missense-Mutat...      0      0        0   \n",
       "LARP4B_GRCh37_10:890939-890939_Frame-Shift-Del_...      0      0        0   \n",
       "NPAT_GRCh37_11:108032094-108032094_Missense-Mut...      0      0        0   \n",
       "ARNTL_GRCh37_11:13402723-13402723_Silent_SNP_G-G-A      0      0        0   \n",
       "COPB1_GRCh37_11:14480092-14480092_Missense-Muta...      0      0        0   \n",
       "PDE3B_GRCh37_11:14882800-14882800_Missense-Muta...      0      0        0   \n",
       "\n",
       "                                                    n(tL,NC)  n(tR,C)  \\\n",
       "GOT1_GRCh37_10:101163586-101163586_Missense-Mut...         0        0   \n",
       "TEX36_GRCh37_10:127371546-127371546_Nonsense-Mu...         0        0   \n",
       "KIAA1217_GRCh37_10:24810824-24810824_Missense-M...         0        0   \n",
       "SIRT1_GRCh37_10:69676051-69676051_Missense-Muta...         0        0   \n",
       "MYPN_GRCh37_10:69881845-69881845_Missense-Mutat...         0        0   \n",
       "LARP4B_GRCh37_10:890939-890939_Frame-Shift-Del_...         0        0   \n",
       "NPAT_GRCh37_11:108032094-108032094_Missense-Mut...         0        0   \n",
       "ARNTL_GRCh37_11:13402723-13402723_Silent_SNP_G-G-A         0        0   \n",
       "COPB1_GRCh37_11:14480092-14480092_Missense-Muta...         0        0   \n",
       "PDE3B_GRCh37_11:14882800-14882800_Missense-Muta...         0        0   \n",
       "\n",
       "                                                    n(tR,NC)   PL   PR  \\\n",
       "GOT1_GRCh37_10:101163586-101163586_Missense-Mut...         0  0.0  0.0   \n",
       "TEX36_GRCh37_10:127371546-127371546_Nonsense-Mu...         0  0.0  0.0   \n",
       "KIAA1217_GRCh37_10:24810824-24810824_Missense-M...         0  0.0  0.0   \n",
       "SIRT1_GRCh37_10:69676051-69676051_Missense-Muta...         0  0.0  0.0   \n",
       "MYPN_GRCh37_10:69881845-69881845_Missense-Mutat...         0  0.0  0.0   \n",
       "LARP4B_GRCh37_10:890939-890939_Frame-Shift-Del_...         0  0.0  0.0   \n",
       "NPAT_GRCh37_11:108032094-108032094_Missense-Mut...         0  0.0  0.0   \n",
       "ARNTL_GRCh37_11:13402723-13402723_Silent_SNP_G-G-A         0  0.0  0.0   \n",
       "COPB1_GRCh37_11:14480092-14480092_Missense-Muta...         0  0.0  0.0   \n",
       "PDE3B_GRCh37_11:14882800-14882800_Missense-Muta...         0  0.0  0.0   \n",
       "\n",
       "                                                    P(C|tL)  P(NC|tL)  \\\n",
       "GOT1_GRCh37_10:101163586-101163586_Missense-Mut...      NaN       NaN   \n",
       "TEX36_GRCh37_10:127371546-127371546_Nonsense-Mu...      NaN       NaN   \n",
       "KIAA1217_GRCh37_10:24810824-24810824_Missense-M...      NaN       NaN   \n",
       "SIRT1_GRCh37_10:69676051-69676051_Missense-Muta...      NaN       NaN   \n",
       "MYPN_GRCh37_10:69881845-69881845_Missense-Mutat...      NaN       NaN   \n",
       "LARP4B_GRCh37_10:890939-890939_Frame-Shift-Del_...      NaN       NaN   \n",
       "NPAT_GRCh37_11:108032094-108032094_Missense-Mut...      NaN       NaN   \n",
       "ARNTL_GRCh37_11:13402723-13402723_Silent_SNP_G-G-A      NaN       NaN   \n",
       "COPB1_GRCh37_11:14480092-14480092_Missense-Muta...      NaN       NaN   \n",
       "PDE3B_GRCh37_11:14882800-14882800_Missense-Muta...      NaN       NaN   \n",
       "\n",
       "                                                    P(C|tR)  P(NC|tR)  2PLPR  \\\n",
       "GOT1_GRCh37_10:101163586-101163586_Missense-Mut...      NaN       NaN    0.0   \n",
       "TEX36_GRCh37_10:127371546-127371546_Nonsense-Mu...      NaN       NaN    0.0   \n",
       "KIAA1217_GRCh37_10:24810824-24810824_Missense-M...      NaN       NaN    0.0   \n",
       "SIRT1_GRCh37_10:69676051-69676051_Missense-Muta...      NaN       NaN    0.0   \n",
       "MYPN_GRCh37_10:69881845-69881845_Missense-Mutat...      NaN       NaN    0.0   \n",
       "LARP4B_GRCh37_10:890939-890939_Frame-Shift-Del_...      NaN       NaN    0.0   \n",
       "NPAT_GRCh37_11:108032094-108032094_Missense-Mut...      NaN       NaN    0.0   \n",
       "ARNTL_GRCh37_11:13402723-13402723_Silent_SNP_G-G-A      NaN       NaN    0.0   \n",
       "COPB1_GRCh37_11:14480092-14480092_Missense-Muta...      NaN       NaN    0.0   \n",
       "PDE3B_GRCh37_11:14882800-14882800_Missense-Muta...      NaN       NaN    0.0   \n",
       "\n",
       "                                                    Q(s|t)  Phi(s,t)  \n",
       "GOT1_GRCh37_10:101163586-101163586_Missense-Mut...     NaN       NaN  \n",
       "TEX36_GRCh37_10:127371546-127371546_Nonsense-Mu...     NaN       NaN  \n",
       "KIAA1217_GRCh37_10:24810824-24810824_Missense-M...     NaN       NaN  \n",
       "SIRT1_GRCh37_10:69676051-69676051_Missense-Muta...     NaN       NaN  \n",
       "MYPN_GRCh37_10:69881845-69881845_Missense-Mutat...     NaN       NaN  \n",
       "LARP4B_GRCh37_10:890939-890939_Frame-Shift-Del_...     NaN       NaN  \n",
       "NPAT_GRCh37_11:108032094-108032094_Missense-Mut...     NaN       NaN  \n",
       "ARNTL_GRCh37_11:13402723-13402723_Silent_SNP_G-G-A     NaN       NaN  \n",
       "COPB1_GRCh37_11:14480092-14480092_Missense-Muta...     NaN       NaN  \n",
       "PDE3B_GRCh37_11:14882800-14882800_Missense-Muta...     NaN       NaN  "
      ]
     },
     "execution_count": 41,
     "metadata": {},
     "output_type": "execute_result"
    }
   ],
   "source": [
    "data.sort_values(by='Phi(s,t)', ascending=False).head(10)"
   ]
  },
  {
   "cell_type": "code",
   "execution_count": 42,
   "id": "2592f76a-ab28-41d3-875f-1a48c6380126",
   "metadata": {},
   "outputs": [],
   "source": [
    "def phi_finder(df):\n",
    "    \n",
    "    # table of all cancer individual who has not a specific mutation\n",
    "    ntrc = (df[[i for i in df.columns if i[0]=='C']]==0).sum(axis=1)\n",
    "    # table of all cancer individual who has a specific mutation\n",
    "    ntlc = (df[[i for i in df.columns if i[0]=='C']]==1).sum(axis=1)\n",
    "\n",
    "    # table of all noncancer individual who has not a specific mutation\n",
    "    ntrnc = (df[[i for i in df.columns if i[0]=='N']]==0).sum(axis=1)\n",
    "    # table of all noncancer individual who has a specific mutation\n",
    "    ntlnc = (df[[i for i in df.columns if i[0]=='N']]==1).sum(axis=1)\n",
    "\n",
    "    # table of cancer and noncancer has specific mutation\n",
    "    ntl = ntlc + ntlnc\n",
    "    # table of cancer and noncancer has not a specific mutation\n",
    "    ntr = ntrc + ntrnc\n",
    "    # table of calculated phi value to find the feature with highest phi\n",
    "    phi = (2*ntl*ntr*(1/len(ntr+ntl)**2)*(abs((ntlc/ntl)-(ntrc/ntr)) + abs((ntlnc/ntl)-(ntrnc/ntr))))\n",
    "    \n",
    "    return phi"
   ]
  },
  {
   "cell_type": "code",
   "execution_count": 43,
   "id": "24106a66-d2b1-4754-8674-a59700c4f432",
   "metadata": {},
   "outputs": [],
   "source": [
    "def decison_tree(func,df):\n",
    "    root_node = func(df).sort_values(ascending=False).head(1).index[0]\n",
    "    \n",
    "    df1 = df[[ j for j in df.columns if (df[j].loc[root_node]==1)]]\n",
    "    df1 = df1.drop(root_node)\n",
    "    df2 = df[[ j for j in df.columns if (df[j].loc[root_node]==0)]]\n",
    "    \n",
    "    leaf_node_1 = phi_finder(df1).sort_values(ascending=False).head(1).index[0]\n",
    "    leaf_node_2 = phi_finder(df2).sort_values(ascending=False).head(1).index[0]\n",
    "    #f' Root Node is: {root_node}, Leaf Node #1 is: {leaf_node_1}, Leaf Node #2 is: {leaf_node_2}'\n",
    "    return root_node, leaf_node_1, leaf_node_2"
   ]
  },
  {
   "cell_type": "code",
   "execution_count": 44,
   "id": "8c2df9f4-1dbe-400c-a373-c15d4d3bf85d",
   "metadata": {},
   "outputs": [
    {
     "data": {
      "text/plain": [
       "('RPL22_GRCh37_1:6257785-6257785_Frame-Shift-Del_DEL_T-T--',\n",
       " 'FAM13B_GRCh37_5:137278834-137278834_Frame-Shift-Del_DEL_A-A--',\n",
       " 'DOCK3_GRCh37_3:51417604-51417604_Frame-Shift-Del_DEL_C-C--')"
      ]
     },
     "execution_count": 44,
     "metadata": {},
     "output_type": "execute_result"
    }
   ],
   "source": [
    "decison_tree(phi_finder, df)"
   ]
  },
  {
   "cell_type": "code",
   "execution_count": 45,
   "id": "db2bbdcd-617e-472d-8251-aa6f264fee59",
   "metadata": {},
   "outputs": [],
   "source": [
    "# find mutation with highest phi and store in root_node\n",
    "root_node = phi_finder(df).sort_values(ascending=False).head(1).index[0]"
   ]
  },
  {
   "cell_type": "code",
   "execution_count": 46,
   "id": "c4126238-aa04-4f69-9303-c5bacbb0af76",
   "metadata": {},
   "outputs": [
    {
     "data": {
      "text/plain": [
       "'RPL22_GRCh37_1:6257785-6257785_Frame-Shift-Del_DEL_T-T--'"
      ]
     },
     "execution_count": 46,
     "metadata": {},
     "output_type": "execute_result"
    }
   ],
   "source": [
    "root_node"
   ]
  },
  {
   "cell_type": "code",
   "execution_count": 47,
   "id": "344bc967-b29d-4bfc-84c9-5ceb3edfb01d",
   "metadata": {},
   "outputs": [],
   "source": [
    "df1 = df[[ j for j in df.columns if (df[j].loc[root_node]==1)]]\n",
    "df1 = df1.drop(root_node)\n",
    "df2 = df[[ j for j in df.columns if (df[j].loc[root_node]==0)]]"
   ]
  },
  {
   "cell_type": "code",
   "execution_count": 48,
   "id": "2a754d96-5acc-46f4-8f25-36e56273dc31",
   "metadata": {},
   "outputs": [],
   "source": [
    "leaf_node_1 = phi_finder(df1).sort_values(ascending=False).head(1).index[0]\n",
    "leaf_node_2 = phi_finder(df2).sort_values(ascending=False).head(1).index[0]"
   ]
  },
  {
   "cell_type": "code",
   "execution_count": 49,
   "id": "b84309d1-8f24-4605-8c24-76f283e79d5c",
   "metadata": {},
   "outputs": [
    {
     "data": {
      "text/plain": [
       "('FAM13B_GRCh37_5:137278834-137278834_Frame-Shift-Del_DEL_A-A--',\n",
       " 'DOCK3_GRCh37_3:51417604-51417604_Frame-Shift-Del_DEL_C-C--')"
      ]
     },
     "execution_count": 49,
     "metadata": {},
     "output_type": "execute_result"
    }
   ],
   "source": [
    "leaf_node_1 , leaf_node_2 "
   ]
  },
  {
   "cell_type": "code",
   "execution_count": 50,
   "id": "0b86a748-a171-4920-baa5-185b3f01fa88",
   "metadata": {},
   "outputs": [],
   "source": [
    "df3 = df1[[ j for j in df1.columns if (df1[j].loc[leaf_node_1]==1)]]\n",
    "df3 = df3.drop(leaf_node_1)\n",
    "df4 = df1[[ j for j in df1.columns if (df1[j].loc[leaf_node_1]==0)]]\n",
    "\n",
    "df5 = df2[[ j for j in df2.columns if (df2[j].loc[leaf_node_2]==1)]]\n",
    "df5 = df5.drop(leaf_node_2)\n",
    "df6 = df2[[ j for j in df2.columns if (df2[j].loc[leaf_node_2]==0)]]"
   ]
  },
  {
   "cell_type": "code",
   "execution_count": 57,
   "id": "3ba812c0-a335-4ce9-84e9-96c781b58f5b",
   "metadata": {},
   "outputs": [
    {
     "data": {
      "text/html": [
       "<div>\n",
       "<style scoped>\n",
       "    .dataframe tbody tr th:only-of-type {\n",
       "        vertical-align: middle;\n",
       "    }\n",
       "\n",
       "    .dataframe tbody tr th {\n",
       "        vertical-align: top;\n",
       "    }\n",
       "\n",
       "    .dataframe thead th {\n",
       "        text-align: right;\n",
       "    }\n",
       "</style>\n",
       "<table border=\"1\" class=\"dataframe\">\n",
       "  <thead>\n",
       "    <tr style=\"text-align: right;\">\n",
       "      <th>class</th>\n",
       "      <th>NC49</th>\n",
       "    </tr>\n",
       "  </thead>\n",
       "  <tbody>\n",
       "    <tr>\n",
       "      <th>GOT1_GRCh37_10:101163586-101163586_Missense-Mutation_SNP_C-C-T</th>\n",
       "      <td>0</td>\n",
       "    </tr>\n",
       "  </tbody>\n",
       "</table>\n",
       "</div>"
      ],
      "text/plain": [
       "class                                               NC49\n",
       "GOT1_GRCh37_10:101163586-101163586_Missense-Mut...     0"
      ]
     },
     "execution_count": 57,
     "metadata": {},
     "output_type": "execute_result"
    }
   ],
   "source": [
    "df3.head(1)"
   ]
  },
  {
   "cell_type": "code",
   "execution_count": null,
   "id": "c6e27661-d4ef-4303-9335-12ed78dc1b62",
   "metadata": {},
   "outputs": [],
   "source": [
    "def classifier(func, df, individual, root_node, leaf_node_1, leaf_node_2):\n",
    "    \n",
    "    root_node = func(df).sort_values(ascending=False).head(1).index[0]\n",
    "    \n",
    "    df1 = df[[ j for j in df.columns if (df[j].loc[root_node]==1)]]\n",
    "    df1 = df1.drop(root_node)\n",
    "    df2 = df[[ j for j in df.columns if (df[j].loc[root_node]==0)]]\n",
    "    \n",
    "    leaf_node_1 = func(df1).sort_values(ascending=False).head(1).index[0]\n",
    "    leaf_node_2 = func(df2).sort_values(ascending=False).head(1).index[0]\n",
    "    \n",
    "    df3 = df1[[ j for j in df1.columns if (df1[j].loc[leaf_node_1]==1)]]\n",
    "    df3 = df3.drop(leaf_node_1)\n",
    "    df4 = df1[[ j for j in df1.columns if (df1[j].loc[leaf_node_1]==0)]]\n",
    "\n",
    "    df5 = df2[[ j for j in df2.columns if (df2[j].loc[leaf_node_2]==1)]]\n",
    "    df5 = df5.drop(leaf_node_2)\n",
    "    df6 = df2[[ j for j in df2.columns if (df2[j].loc[leaf_node_2]==0)]]\n",
    "    \n",
    "    if df[individual].loc[root_node]==1:\n",
    "        if df[individual].loc[leaf_node_1]==1:\n",
    "            c1 = [i for i in df3.columns if i[0]=='C']\n",
    "            nc1 = [j for j in df3.columns if j[0]=='N']\n",
    "            if len(c1)>len(nc1):\n",
    "                return \"C\"\n",
    "            else:\n",
    "                return \"NC\"\n",
    "        else:\n",
    "            c2 = [i for i in df4.columns if i[0]=='C']\n",
    "            nc2 = [j for j in df4.columns if j[0]=='N']\n",
    "            if len(c2)>len(nc2):\n",
    "                return \"C\"\n",
    "            else:\n",
    "                return \"NC\"\n",
    "    else:\n",
    "        if df[individual].loc[leaf_node_2]==1:\n",
    "            c3 = [i for i in df5.columns if i[0]=='C']\n",
    "            nc3 = [j for j in df5.columns if j[0]=='N']\n",
    "            if len(c3)>len(nc3):\n",
    "                return \"C\"\n",
    "            else:\n",
    "                return \"NC\"\n",
    "        else:\n",
    "            c4 = [i for i in df6.columns if i[0]=='C']\n",
    "            nc4 = [j for j in df6.columns if j[0]=='N']\n",
    "            if len(c4)>len(nc4):\n",
    "                return \"C\"\n",
    "            else:\n",
    "                return \"NC\""
   ]
  },
  {
   "cell_type": "code",
   "execution_count": null,
   "id": "00385b50-45e6-4642-bae2-6c7ba9303952",
   "metadata": {},
   "outputs": [],
   "source": []
  },
  {
   "cell_type": "code",
   "execution_count": 59,
   "id": "e2faef10-ae1c-4270-8b80-2d8af2dc7898",
   "metadata": {},
   "outputs": [
    {
     "data": {
      "text/html": [
       "<div>\n",
       "<style scoped>\n",
       "    .dataframe tbody tr th:only-of-type {\n",
       "        vertical-align: middle;\n",
       "    }\n",
       "\n",
       "    .dataframe tbody tr th {\n",
       "        vertical-align: top;\n",
       "    }\n",
       "\n",
       "    .dataframe thead th {\n",
       "        text-align: right;\n",
       "    }\n",
       "</style>\n",
       "<table border=\"1\" class=\"dataframe\">\n",
       "  <thead>\n",
       "    <tr style=\"text-align: right;\">\n",
       "      <th>class</th>\n",
       "      <th>C3</th>\n",
       "      <th>C5</th>\n",
       "      <th>C11</th>\n",
       "      <th>C13</th>\n",
       "      <th>C15</th>\n",
       "      <th>C18</th>\n",
       "      <th>C21</th>\n",
       "      <th>C24</th>\n",
       "      <th>C26</th>\n",
       "      <th>C27</th>\n",
       "      <th>...</th>\n",
       "      <th>C78</th>\n",
       "      <th>C83</th>\n",
       "      <th>C86</th>\n",
       "      <th>C90</th>\n",
       "      <th>C91</th>\n",
       "      <th>C95</th>\n",
       "      <th>C97</th>\n",
       "      <th>C100</th>\n",
       "      <th>C103</th>\n",
       "      <th>C105</th>\n",
       "    </tr>\n",
       "  </thead>\n",
       "  <tbody>\n",
       "    <tr>\n",
       "      <th>GOT1_GRCh37_10:101163586-101163586_Missense-Mutation_SNP_C-C-T</th>\n",
       "      <td>0</td>\n",
       "      <td>0</td>\n",
       "      <td>0</td>\n",
       "      <td>0</td>\n",
       "      <td>0</td>\n",
       "      <td>0</td>\n",
       "      <td>0</td>\n",
       "      <td>0</td>\n",
       "      <td>0</td>\n",
       "      <td>0</td>\n",
       "      <td>...</td>\n",
       "      <td>0</td>\n",
       "      <td>0</td>\n",
       "      <td>0</td>\n",
       "      <td>0</td>\n",
       "      <td>0</td>\n",
       "      <td>0</td>\n",
       "      <td>0</td>\n",
       "      <td>0</td>\n",
       "      <td>0</td>\n",
       "      <td>0</td>\n",
       "    </tr>\n",
       "  </tbody>\n",
       "</table>\n",
       "<p>1 rows × 27 columns</p>\n",
       "</div>"
      ],
      "text/plain": [
       "class                                               C3  C5  C11  C13  C15  \\\n",
       "GOT1_GRCh37_10:101163586-101163586_Missense-Mut...   0   0    0    0    0   \n",
       "\n",
       "class                                               C18  C21  C24  C26  C27  \\\n",
       "GOT1_GRCh37_10:101163586-101163586_Missense-Mut...    0    0    0    0    0   \n",
       "\n",
       "class                                               ...  C78  C83  C86  C90  \\\n",
       "GOT1_GRCh37_10:101163586-101163586_Missense-Mut...  ...    0    0    0    0   \n",
       "\n",
       "class                                               C91  C95  C97  C100  C103  \\\n",
       "GOT1_GRCh37_10:101163586-101163586_Missense-Mut...    0    0    0     0     0   \n",
       "\n",
       "class                                               C105  \n",
       "GOT1_GRCh37_10:101163586-101163586_Missense-Mut...     0  \n",
       "\n",
       "[1 rows x 27 columns]"
      ]
     },
     "execution_count": 59,
     "metadata": {},
     "output_type": "execute_result"
    }
   ],
   "source": [
    "df4.head(1)"
   ]
  },
  {
   "cell_type": "code",
   "execution_count": 52,
   "id": "b02fe9d4-9f54-497f-8aef-0a94c845679d",
   "metadata": {},
   "outputs": [],
   "source": [
    "leaf_node_3 = phi_finder(df3).sort_values(ascending=False).head(1).index[0]\n",
    "leaf_node_4 = phi_finder(df4).sort_values(ascending=False).head(1).index[0]\n",
    "leaf_node_5 = phi_finder(df5).sort_values(ascending=False).head(1).index[0]\n",
    "leaf_node_6 = phi_finder(df6).sort_values(ascending=False).head(1).index[0]"
   ]
  },
  {
   "cell_type": "code",
   "execution_count": 53,
   "id": "50d65303-39c0-4436-af59-0f1f79cda2b5",
   "metadata": {},
   "outputs": [
    {
     "data": {
      "text/plain": [
       "('GOT1_GRCh37_10:101163586-101163586_Missense-Mutation_SNP_C-C-T',\n",
       " 'LPXN_GRCh37_11:58331628-58331628_Missense-Mutation_SNP_C-C-A',\n",
       " 'GOT1_GRCh37_10:101163586-101163586_Missense-Mutation_SNP_C-C-T',\n",
       " 'PPP2R1A_GRCh37_19:52715971-52715971_Missense-Mutation_SNP_C-C-G_C-C-T')"
      ]
     },
     "execution_count": 53,
     "metadata": {},
     "output_type": "execute_result"
    }
   ],
   "source": [
    "leaf_node_3 ,leaf_node_4 ,leaf_node_5 ,leaf_node_6 "
   ]
  },
  {
   "cell_type": "code",
   "execution_count": 54,
   "id": "bf327b33-8cb4-43e1-916b-63d9112f3e6e",
   "metadata": {},
   "outputs": [],
   "source": [
    "avg_acc = avg_sen = avg_spe = avg_pre = avg_mis = avg_fdr = avg_for = []\n",
    "\n",
    "def classifier(data, individual, root_node, leaf_node_1, leaf_node_2):\n",
    "    if data[individual].loc[root_node]==1:\n",
    "        if data[individual].loc[leaf_node_1]==1:\n",
    "            return \"C\"\n",
    "        else:\n",
    "            return \"NC\"\n",
    "    else:\n",
    "        if data[individual].loc[leaf_node_2]==1:\n",
    "            return \"C\"\n",
    "        else:\n",
    "            return \"NC\" \n",
    "\n",
    "def evaluator(data, root_node, leaf_node_1, leaf_node_2, classifier, individuals):\n",
    "    TN = FN = TP = FP = 0\n",
    "    for i in range(len(individuals)):\n",
    "        if individuals[i][0] == classifier(data,individuals[i],root_node, leaf_node_1, leaf_node_2)==\"C\":\n",
    "            TP +=1\n",
    "        elif individuals[i][0:2] == classifier(data,individuals[i],root_node, leaf_node_1, leaf_node_2)==\"NC\":\n",
    "            TN +=1\n",
    "        elif individuals[i][0]==\"N\" and classifier(data,individuals[i],root_node, leaf_node_1, leaf_node_2)==\"C\":\n",
    "            FP +=1\n",
    "        elif individuals[i][0]==\"C\" and classifier(data,individuals[i],root_node, leaf_node_1, leaf_node_2)==\"NC\":\n",
    "            FN +=1\n",
    "            \n",
    "    return [TP, TN, FP, FN]\n",
    "\n",
    "def metrics_calc(conf_mat):\n",
    "    # Format of conf_mat should be: [TP, TN, FP, FN]\n",
    "    TP = conf_mat[0]\n",
    "    TN = conf_mat[1]\n",
    "    FP = conf_mat[2]\n",
    "    FN = conf_mat[3]\n",
    "    accuracy = (TP+TN)/(TP+TN+FP+FN)\n",
    "    sensitivity = TP/(TP+FN)\n",
    "    specificity = TN/(TN+FP)\n",
    "    precision = TP/(TP+FP)\n",
    "    miss_rate = FN/(FN+TP)\n",
    "    false_discovery_rate = FP/(FP+TP)\n",
    "    false_omission_rate = FN/(FN+TN)\n",
    "    return f\"\"\" \n",
    "    Accuracy is {accuracy:.2}\n",
    "    Sensitivity is {sensitivity:.2}\n",
    "    Specificity is {specificity:.2}\n",
    "    Precision is {precision:.2}\n",
    "    Miss Rate is {miss_rate:.2}\n",
    "    False discovery rate is {false_discovery_rate:.2} \n",
    "    False omission rate is {false_omission_rate:.2} \n",
    "    \"\"\"\n",
    "\n",
    "def phi_finder(df):\n",
    "    \n",
    "    # table of all cancer individual who has not a specific mutation\n",
    "    ntrc = (df[[i for i in df.columns if i[0]=='C']]==0).sum(axis=1)\n",
    "    # table of all cancer individual who has a specific mutation\n",
    "    ntlc = (df[[i for i in df.columns if i[0]=='C']]==1).sum(axis=1)\n",
    "\n",
    "    # table of all noncancer individual who has not a specific mutation\n",
    "    ntrnc = (df[[i for i in df.columns if i[0]=='N']]==0).sum(axis=1)\n",
    "    # table of all noncancer individual who has a specific mutation\n",
    "    ntlnc = (df[[i for i in df.columns if i[0]=='N']]==1).sum(axis=1)\n",
    "\n",
    "    # table of cancer and noncancer has specific mutation\n",
    "    ntl = ntlc + ntlnc\n",
    "    # table of cancer and noncancer has not a specific mutation\n",
    "    ntr = ntrc + ntrnc\n",
    "    # table of calculated phi value to find the feature with highest phi\n",
    "    phi = (2*ntl*ntr*(1/len(ntr+ntl)**2)*(abs((ntlc/ntl)-(ntrc/ntr)) + abs((ntlnc/ntl)-(ntrnc/ntr))))\n",
    "    \n",
    "    return phi\n",
    "\n",
    "def decison_tree(func,df):\n",
    "    root_node = func(df).sort_values(ascending=False).head(1).index[0]\n",
    "    \n",
    "    df1 = df[[ j for j in df.columns if (df[j].loc[root_node]==1)]]\n",
    "    df1 = df1.drop(root_node)\n",
    "    df2 = df[[ j for j in df.columns if (df[j].loc[root_node]==0)]]\n",
    "    \n",
    "    leaf_node_1 = phi_finder(df1).sort_values(ascending=False).head(1).index[0]\n",
    "    leaf_node_2 = phi_finder(df2).sort_values(ascending=False).head(1).index[0]\n",
    "    #f' Root Node is: {root_node}, Leaf Node #1 is: {leaf_node_1}, Leaf Node #2 is: {leaf_node_2}'\n",
    "    return root_node, leaf_node_1, leaf_node_2"
   ]
  },
  {
   "cell_type": "code",
   "execution_count": 55,
   "id": "f099c435-19fc-4da8-b5ff-49c76f1fb102",
   "metadata": {},
   "outputs": [],
   "source": [
    "random.shuffle(list(people))\n",
    "fold_1 = df[people[0:int(len(people)/3)]]\n",
    "fold_2 = df[people[int(len(people)/3):int(len(people)*2/3)]]\n",
    "fold_3 = df[people[int(len(people)*2/3):int(len(people))]]\n",
    "\n",
    "train_1 = pd.concat([fold_1,fold_2], axis = 1)\n",
    "test_1 = fold_3\n",
    "\n",
    "train_2 = pd.concat([fold_2,fold_3], axis = 1)\n",
    "test_2 = fold_1\n",
    "\n",
    "train_3 = pd.concat([fold_3,fold_1], axis = 1)\n",
    "test_3 = fold_2"
   ]
  }
 ],
 "metadata": {
  "kernelspec": {
   "display_name": "Python 3 (ipykernel)",
   "language": "python",
   "name": "python3"
  },
  "language_info": {
   "codemirror_mode": {
    "name": "ipython",
    "version": 3
   },
   "file_extension": ".py",
   "mimetype": "text/x-python",
   "name": "python",
   "nbconvert_exporter": "python",
   "pygments_lexer": "ipython3",
   "version": "3.8.16"
  }
 },
 "nbformat": 4,
 "nbformat_minor": 5
}
