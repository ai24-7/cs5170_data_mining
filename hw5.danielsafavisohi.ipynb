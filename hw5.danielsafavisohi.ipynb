{
 "cells": [
  {
   "cell_type": "code",
   "execution_count": 103,
   "id": "a7e4a50f-7593-4b1d-9069-e7f7bc71ebed",
   "metadata": {},
   "outputs": [],
   "source": [
    "import pandas as pd\n",
    "import seaborn as sns\n",
    "import matplotlib.pyplot as plt\n",
    "import numpy as np"
   ]
  },
  {
   "cell_type": "code",
   "execution_count": 104,
   "id": "9b1ff4db-b9a2-4cb0-a8f6-923eed0ffac3",
   "metadata": {},
   "outputs": [],
   "source": [
    "df = pd.read_csv(\"mutations_v2.csv\")"
   ]
  },
  {
   "cell_type": "code",
   "execution_count": 116,
   "id": "aeaab2d4-6858-46df-a39c-e50d5604ac34",
   "metadata": {},
   "outputs": [
    {
     "data": {
      "text/html": [
       "<div>\n",
       "<style scoped>\n",
       "    .dataframe tbody tr th:only-of-type {\n",
       "        vertical-align: middle;\n",
       "    }\n",
       "\n",
       "    .dataframe tbody tr th {\n",
       "        vertical-align: top;\n",
       "    }\n",
       "\n",
       "    .dataframe thead th {\n",
       "        text-align: right;\n",
       "    }\n",
       "</style>\n",
       "<table border=\"1\" class=\"dataframe\">\n",
       "  <thead>\n",
       "    <tr style=\"text-align: right;\">\n",
       "      <th></th>\n",
       "      <th>Unnamed: 0</th>\n",
       "      <th>NC1</th>\n",
       "      <th>C1</th>\n",
       "      <th>NC2</th>\n",
       "      <th>NC3</th>\n",
       "      <th>NC4</th>\n",
       "      <th>C2</th>\n",
       "      <th>C3</th>\n",
       "      <th>NC5</th>\n",
       "      <th>C4</th>\n",
       "      <th>...</th>\n",
       "      <th>C128</th>\n",
       "      <th>NC142</th>\n",
       "      <th>C129</th>\n",
       "      <th>T</th>\n",
       "      <th>NC</th>\n",
       "      <th>C</th>\n",
       "      <th>C%</th>\n",
       "      <th>NC%</th>\n",
       "      <th>C% - NC%</th>\n",
       "      <th>C% / NC%</th>\n",
       "    </tr>\n",
       "  </thead>\n",
       "  <tbody>\n",
       "    <tr>\n",
       "      <th>0</th>\n",
       "      <td>GOT1_GRCh37_10:101163586-101163586_Missense-Mu...</td>\n",
       "      <td>1</td>\n",
       "      <td>0</td>\n",
       "      <td>0</td>\n",
       "      <td>0</td>\n",
       "      <td>0</td>\n",
       "      <td>0</td>\n",
       "      <td>0</td>\n",
       "      <td>0</td>\n",
       "      <td>0</td>\n",
       "      <td>...</td>\n",
       "      <td>0</td>\n",
       "      <td>0</td>\n",
       "      <td>0</td>\n",
       "      <td>3</td>\n",
       "      <td>2</td>\n",
       "      <td>1</td>\n",
       "      <td>0.007752</td>\n",
       "      <td>0.014085</td>\n",
       "      <td>-0.006333</td>\n",
       "      <td>0.550388</td>\n",
       "    </tr>\n",
       "    <tr>\n",
       "      <th>1</th>\n",
       "      <td>TEX36_GRCh37_10:127371546-127371546_Nonsense-M...</td>\n",
       "      <td>1</td>\n",
       "      <td>0</td>\n",
       "      <td>0</td>\n",
       "      <td>0</td>\n",
       "      <td>0</td>\n",
       "      <td>0</td>\n",
       "      <td>0</td>\n",
       "      <td>0</td>\n",
       "      <td>0</td>\n",
       "      <td>...</td>\n",
       "      <td>0</td>\n",
       "      <td>0</td>\n",
       "      <td>0</td>\n",
       "      <td>2</td>\n",
       "      <td>1</td>\n",
       "      <td>1</td>\n",
       "      <td>0.007752</td>\n",
       "      <td>0.007042</td>\n",
       "      <td>0.000710</td>\n",
       "      <td>1.100775</td>\n",
       "    </tr>\n",
       "    <tr>\n",
       "      <th>2</th>\n",
       "      <td>KIAA1217_GRCh37_10:24810824-24810824_Missense-...</td>\n",
       "      <td>1</td>\n",
       "      <td>0</td>\n",
       "      <td>0</td>\n",
       "      <td>0</td>\n",
       "      <td>0</td>\n",
       "      <td>0</td>\n",
       "      <td>0</td>\n",
       "      <td>0</td>\n",
       "      <td>0</td>\n",
       "      <td>...</td>\n",
       "      <td>0</td>\n",
       "      <td>0</td>\n",
       "      <td>0</td>\n",
       "      <td>3</td>\n",
       "      <td>1</td>\n",
       "      <td>2</td>\n",
       "      <td>0.015504</td>\n",
       "      <td>0.007042</td>\n",
       "      <td>0.008462</td>\n",
       "      <td>2.201550</td>\n",
       "    </tr>\n",
       "    <tr>\n",
       "      <th>3</th>\n",
       "      <td>SIRT1_GRCh37_10:69676051-69676051_Missense-Mut...</td>\n",
       "      <td>1</td>\n",
       "      <td>0</td>\n",
       "      <td>0</td>\n",
       "      <td>0</td>\n",
       "      <td>0</td>\n",
       "      <td>0</td>\n",
       "      <td>0</td>\n",
       "      <td>0</td>\n",
       "      <td>0</td>\n",
       "      <td>...</td>\n",
       "      <td>0</td>\n",
       "      <td>0</td>\n",
       "      <td>0</td>\n",
       "      <td>2</td>\n",
       "      <td>1</td>\n",
       "      <td>1</td>\n",
       "      <td>0.007752</td>\n",
       "      <td>0.007042</td>\n",
       "      <td>0.000710</td>\n",
       "      <td>1.100775</td>\n",
       "    </tr>\n",
       "    <tr>\n",
       "      <th>4</th>\n",
       "      <td>MYPN_GRCh37_10:69881845-69881845_Missense-Muta...</td>\n",
       "      <td>1</td>\n",
       "      <td>0</td>\n",
       "      <td>0</td>\n",
       "      <td>0</td>\n",
       "      <td>0</td>\n",
       "      <td>0</td>\n",
       "      <td>0</td>\n",
       "      <td>0</td>\n",
       "      <td>0</td>\n",
       "      <td>...</td>\n",
       "      <td>0</td>\n",
       "      <td>0</td>\n",
       "      <td>0</td>\n",
       "      <td>2</td>\n",
       "      <td>1</td>\n",
       "      <td>1</td>\n",
       "      <td>0.007752</td>\n",
       "      <td>0.007042</td>\n",
       "      <td>0.000710</td>\n",
       "      <td>1.100775</td>\n",
       "    </tr>\n",
       "  </tbody>\n",
       "</table>\n",
       "<p>5 rows × 279 columns</p>\n",
       "</div>"
      ],
      "text/plain": [
       "                                          Unnamed: 0  NC1  C1  NC2  NC3  NC4  \\\n",
       "0  GOT1_GRCh37_10:101163586-101163586_Missense-Mu...    1   0    0    0    0   \n",
       "1  TEX36_GRCh37_10:127371546-127371546_Nonsense-M...    1   0    0    0    0   \n",
       "2  KIAA1217_GRCh37_10:24810824-24810824_Missense-...    1   0    0    0    0   \n",
       "3  SIRT1_GRCh37_10:69676051-69676051_Missense-Mut...    1   0    0    0    0   \n",
       "4  MYPN_GRCh37_10:69881845-69881845_Missense-Muta...    1   0    0    0    0   \n",
       "\n",
       "   C2  C3  NC5  C4  ...  C128  NC142  C129  T  NC  C        C%       NC%  \\\n",
       "0   0   0    0   0  ...     0      0     0  3   2  1  0.007752  0.014085   \n",
       "1   0   0    0   0  ...     0      0     0  2   1  1  0.007752  0.007042   \n",
       "2   0   0    0   0  ...     0      0     0  3   1  2  0.015504  0.007042   \n",
       "3   0   0    0   0  ...     0      0     0  2   1  1  0.007752  0.007042   \n",
       "4   0   0    0   0  ...     0      0     0  2   1  1  0.007752  0.007042   \n",
       "\n",
       "   C% - NC%  C% / NC%  \n",
       "0 -0.006333  0.550388  \n",
       "1  0.000710  1.100775  \n",
       "2  0.008462  2.201550  \n",
       "3  0.000710  1.100775  \n",
       "4  0.000710  1.100775  \n",
       "\n",
       "[5 rows x 279 columns]"
      ]
     },
     "execution_count": 116,
     "metadata": {},
     "output_type": "execute_result"
    }
   ],
   "source": [
    "df.head()"
   ]
  },
  {
   "cell_type": "code",
   "execution_count": 105,
   "id": "80f83afe-4654-4994-a759-7b1c82b2c551",
   "metadata": {},
   "outputs": [],
   "source": [
    "dff = df[[cols for cols in df.columns[:-6]]]"
   ]
  },
  {
   "cell_type": "code",
   "execution_count": 106,
   "id": "15894890-ccfb-4b74-bef7-65ce367f8227",
   "metadata": {},
   "outputs": [],
   "source": [
    "dff = dff.sort_values(by='T', ascending = False)"
   ]
  },
  {
   "cell_type": "code",
   "execution_count": 107,
   "id": "a96b1cf4-350c-4002-9a14-fd9217faa2c4",
   "metadata": {},
   "outputs": [],
   "source": [
    "dfff = dff.copy()"
   ]
  },
  {
   "cell_type": "code",
   "execution_count": 108,
   "id": "e74425c1-79c1-4d55-b420-13c3fe0b5c3c",
   "metadata": {},
   "outputs": [],
   "source": [
    "dffff = dfff.reset_index()"
   ]
  },
  {
   "cell_type": "code",
   "execution_count": 109,
   "id": "68c0215c-c75a-4194-8cc5-b566585e7528",
   "metadata": {},
   "outputs": [],
   "source": [
    "dffff = dffff.drop('index', axis=1)"
   ]
  },
  {
   "cell_type": "code",
   "execution_count": 110,
   "id": "0eb70455-1957-4f8c-81c6-108643a07b7d",
   "metadata": {},
   "outputs": [],
   "source": [
    "mutations = []\n",
    "for i in range(len(dffff.index)):\n",
    "    mutations.append(dffff['Unnamed: 0'][i])\n",
    "\n",
    "new_df = pd.DataFrame({\n",
    "    \"TP\":[0]*len(mutations),\n",
    "    \"TN\":[0]*len(mutations),\n",
    "    \"FP\":[0]*len(mutations),\n",
    "    \"FN\":[0]*len(mutations), \n",
    "    }, index = mutations\n",
    ")"
   ]
  },
  {
   "cell_type": "code",
   "execution_count": 111,
   "id": "a9ec9c6a-b311-46f2-ba51-05a0f9f845c9",
   "metadata": {},
   "outputs": [],
   "source": [
    "cols = dff.columns[1:]"
   ]
  },
  {
   "cell_type": "code",
   "execution_count": 112,
   "id": "38c2129d-8972-44f6-b473-9f3ad9437887",
   "metadata": {},
   "outputs": [],
   "source": [
    "person = cols"
   ]
  },
  {
   "cell_type": "code",
   "execution_count": 113,
   "id": "64153250-c3ed-4d25-8204-95fe94ec1f84",
   "metadata": {},
   "outputs": [],
   "source": [
    "for k,j in enumerate(mutations):\n",
    "    for i in range(len(cols)):\n",
    "        if  person[i][0]=='C' and dffff[person[i]][k] == 1:\n",
    "            new_df.loc[mutations[k]][0]+=1\n",
    "        elif person[i][0]=='N' and dffff[person[i]][k] == 0:\n",
    "            new_df.loc[mutations[k]][1]+=1\n",
    "        elif person[i][0]== 'N' and dffff[person[i]][k] == 1:\n",
    "            new_df.loc[mutations[k]][2]+=1\n",
    "        elif person[i][0]== 'C' and dffff[person[i]][k] == 0:\n",
    "            new_df.loc[mutations[k]][3]+=1 "
   ]
  },
  {
   "cell_type": "code",
   "execution_count": 11,
   "id": "67e22c4c-cda8-433b-b504-f262daf2cd04",
   "metadata": {},
   "outputs": [],
   "source": [
    "new_df['TP-FP'] = new_df['TP'] - new_df['FP']"
   ]
  },
  {
   "cell_type": "code",
   "execution_count": 12,
   "id": "f4f44738-fc17-4eb7-a063-34ce4b9118e9",
   "metadata": {},
   "outputs": [
    {
     "data": {
      "text/html": [
       "<div>\n",
       "<style scoped>\n",
       "    .dataframe tbody tr th:only-of-type {\n",
       "        vertical-align: middle;\n",
       "    }\n",
       "\n",
       "    .dataframe tbody tr th {\n",
       "        vertical-align: top;\n",
       "    }\n",
       "\n",
       "    .dataframe thead th {\n",
       "        text-align: right;\n",
       "    }\n",
       "</style>\n",
       "<table border=\"1\" class=\"dataframe\">\n",
       "  <thead>\n",
       "    <tr style=\"text-align: right;\">\n",
       "      <th></th>\n",
       "      <th>TP</th>\n",
       "      <th>TN</th>\n",
       "      <th>FP</th>\n",
       "      <th>FN</th>\n",
       "      <th>TP-FP</th>\n",
       "    </tr>\n",
       "  </thead>\n",
       "  <tbody>\n",
       "    <tr>\n",
       "      <th>RNF43_GRCh37_17:56435161-56435161_Frame-Shift-Del_DEL_C-C--</th>\n",
       "      <td>12</td>\n",
       "      <td>141</td>\n",
       "      <td>1</td>\n",
       "      <td>117</td>\n",
       "      <td>11</td>\n",
       "    </tr>\n",
       "  </tbody>\n",
       "</table>\n",
       "</div>"
      ],
      "text/plain": [
       "                                                    TP   TN  FP   FN  TP-FP\n",
       "RNF43_GRCh37_17:56435161-56435161_Frame-Shift-D...  12  141   1  117     11"
      ]
     },
     "execution_count": 12,
     "metadata": {},
     "output_type": "execute_result"
    }
   ],
   "source": [
    "new_df.sort_values(by='TP-FP', ascending=False).head(1)"
   ]
  },
  {
   "cell_type": "code",
   "execution_count": 13,
   "id": "1ac5c13a-6a87-4303-b5f5-d46c761816f6",
   "metadata": {},
   "outputs": [],
   "source": [
    "# group a has either TP or FP\n",
    "group_a = [12,1]\n",
    "# group b has either TN or FN\n",
    "group_b = [141,117]"
   ]
  },
  {
   "cell_type": "code",
   "execution_count": 14,
   "id": "74d00fd6-f9dc-46d1-8f56-ff4be22ef587",
   "metadata": {},
   "outputs": [],
   "source": [
    "\n",
    "#cm1 = np.array([[TP_1, FN_1], [FP_1, TN_1]])\n",
    "cm1 = np.array([[12, 117], [1, 141]])"
   ]
  },
  {
   "cell_type": "code",
   "execution_count": 16,
   "id": "00df817f-baff-46e6-bdfe-bb7e0d166879",
   "metadata": {},
   "outputs": [],
   "source": [
    "#from mlxtend.plotting import plot_confusion_matrix\n",
    "#\n",
    "#fig, ax = plot_confusion_matrix(conf_mat=cm1)\n",
    "#plt.title('Confusion matrix for both groups')\n",
    "#plt.show()"
   ]
  },
  {
   "cell_type": "code",
   "execution_count": 17,
   "id": "d96f8ce2-fc77-49c7-96d7-a342bb5cd9cd",
   "metadata": {},
   "outputs": [
    {
     "data": {
      "text/html": [
       "<div>\n",
       "<style scoped>\n",
       "    .dataframe tbody tr th:only-of-type {\n",
       "        vertical-align: middle;\n",
       "    }\n",
       "\n",
       "    .dataframe tbody tr th {\n",
       "        vertical-align: top;\n",
       "    }\n",
       "\n",
       "    .dataframe thead th {\n",
       "        text-align: right;\n",
       "    }\n",
       "</style>\n",
       "<table border=\"1\" class=\"dataframe\">\n",
       "  <thead>\n",
       "    <tr style=\"text-align: right;\">\n",
       "      <th></th>\n",
       "      <th>TP</th>\n",
       "      <th>TN</th>\n",
       "      <th>FP</th>\n",
       "      <th>FN</th>\n",
       "      <th>TP-FP</th>\n",
       "    </tr>\n",
       "  </thead>\n",
       "  <tbody>\n",
       "    <tr>\n",
       "      <th>PPP2R1A_GRCh37_19:52715971-52715971_Missense-Mutation_SNP_C-C-G_C-C-T</th>\n",
       "      <td>0</td>\n",
       "      <td>118</td>\n",
       "      <td>24</td>\n",
       "      <td>129</td>\n",
       "      <td>-24</td>\n",
       "    </tr>\n",
       "    <tr>\n",
       "      <th>PIK3CA_GRCh37_3:178952085-178952085_Missense-Mutation_SNP_A-A-T_A-A-G</th>\n",
       "      <td>10</td>\n",
       "      <td>130</td>\n",
       "      <td>12</td>\n",
       "      <td>119</td>\n",
       "      <td>-2</td>\n",
       "    </tr>\n",
       "  </tbody>\n",
       "</table>\n",
       "</div>"
      ],
      "text/plain": [
       "                                                    TP   TN  FP   FN  TP-FP\n",
       "PPP2R1A_GRCh37_19:52715971-52715971_Missense-Mu...   0  118  24  129    -24\n",
       "PIK3CA_GRCh37_3:178952085-178952085_Missense-Mu...  10  130  12  119     -2"
      ]
     },
     "execution_count": 17,
     "metadata": {},
     "output_type": "execute_result"
    }
   ],
   "source": [
    "new_df.head(2)"
   ]
  },
  {
   "cell_type": "code",
   "execution_count": 18,
   "id": "92cae9fa-54f3-4453-9fff-f905abf969e4",
   "metadata": {},
   "outputs": [],
   "source": [
    "dffff = dffff.rename(columns={\"Unnamed: 0\":\"index\"})"
   ]
  },
  {
   "cell_type": "code",
   "execution_count": 19,
   "id": "60bc58fb-a188-4a73-ba77-db05eb23e62f",
   "metadata": {},
   "outputs": [],
   "source": [
    "dffff = dffff.drop('T', axis=1)"
   ]
  },
  {
   "cell_type": "code",
   "execution_count": 20,
   "id": "661d40f3-2cda-46c1-8de1-7216133ebadd",
   "metadata": {},
   "outputs": [],
   "source": [
    "new_dff =  new_df.reset_index()"
   ]
  },
  {
   "cell_type": "code",
   "execution_count": 21,
   "id": "af10bcce-3215-41bd-adc6-aa9fd93d60a8",
   "metadata": {},
   "outputs": [],
   "source": [
    "data = new_dff.join(dffff.set_index('index'), on='index')"
   ]
  },
  {
   "cell_type": "code",
   "execution_count": 22,
   "id": "ca11a65f-865b-4561-ab72-fa2467e1d9b9",
   "metadata": {},
   "outputs": [],
   "source": [
    "data = data.sort_values(by='TP-FP', ascending=False)"
   ]
  },
  {
   "cell_type": "code",
   "execution_count": 23,
   "id": "e370abc3-4cd6-4166-9e94-52c59394ee6b",
   "metadata": {},
   "outputs": [
    {
     "data": {
      "text/html": [
       "<div>\n",
       "<style scoped>\n",
       "    .dataframe tbody tr th:only-of-type {\n",
       "        vertical-align: middle;\n",
       "    }\n",
       "\n",
       "    .dataframe tbody tr th {\n",
       "        vertical-align: top;\n",
       "    }\n",
       "\n",
       "    .dataframe thead th {\n",
       "        text-align: right;\n",
       "    }\n",
       "</style>\n",
       "<table border=\"1\" class=\"dataframe\">\n",
       "  <thead>\n",
       "    <tr style=\"text-align: right;\">\n",
       "      <th></th>\n",
       "      <th>index</th>\n",
       "      <th>TP</th>\n",
       "      <th>TN</th>\n",
       "      <th>FP</th>\n",
       "      <th>FN</th>\n",
       "      <th>TP-FP</th>\n",
       "      <th>NC1</th>\n",
       "      <th>C1</th>\n",
       "      <th>NC2</th>\n",
       "      <th>NC3</th>\n",
       "      <th>...</th>\n",
       "      <th>NC136</th>\n",
       "      <th>NC137</th>\n",
       "      <th>NC138</th>\n",
       "      <th>NC139</th>\n",
       "      <th>NC140</th>\n",
       "      <th>NC141</th>\n",
       "      <th>C127</th>\n",
       "      <th>C128</th>\n",
       "      <th>NC142</th>\n",
       "      <th>C129</th>\n",
       "    </tr>\n",
       "  </thead>\n",
       "  <tbody>\n",
       "    <tr>\n",
       "      <th>6</th>\n",
       "      <td>RNF43_GRCh37_17:56435161-56435161_Frame-Shift-...</td>\n",
       "      <td>12</td>\n",
       "      <td>141</td>\n",
       "      <td>1</td>\n",
       "      <td>117</td>\n",
       "      <td>11</td>\n",
       "      <td>1</td>\n",
       "      <td>0</td>\n",
       "      <td>0</td>\n",
       "      <td>0</td>\n",
       "      <td>...</td>\n",
       "      <td>0</td>\n",
       "      <td>0</td>\n",
       "      <td>0</td>\n",
       "      <td>0</td>\n",
       "      <td>0</td>\n",
       "      <td>0</td>\n",
       "      <td>0</td>\n",
       "      <td>0</td>\n",
       "      <td>0</td>\n",
       "      <td>0</td>\n",
       "    </tr>\n",
       "    <tr>\n",
       "      <th>2</th>\n",
       "      <td>KRAS_GRCh37_12:25398284-25398284_Missense-Muta...</td>\n",
       "      <td>16</td>\n",
       "      <td>136</td>\n",
       "      <td>6</td>\n",
       "      <td>113</td>\n",
       "      <td>10</td>\n",
       "      <td>0</td>\n",
       "      <td>0</td>\n",
       "      <td>0</td>\n",
       "      <td>0</td>\n",
       "      <td>...</td>\n",
       "      <td>0</td>\n",
       "      <td>0</td>\n",
       "      <td>0</td>\n",
       "      <td>0</td>\n",
       "      <td>0</td>\n",
       "      <td>0</td>\n",
       "      <td>0</td>\n",
       "      <td>0</td>\n",
       "      <td>0</td>\n",
       "      <td>1</td>\n",
       "    </tr>\n",
       "    <tr>\n",
       "      <th>3</th>\n",
       "      <td>PTEN_GRCh37_10:89692905-89692905_Missense-Muta...</td>\n",
       "      <td>15</td>\n",
       "      <td>137</td>\n",
       "      <td>5</td>\n",
       "      <td>114</td>\n",
       "      <td>10</td>\n",
       "      <td>0</td>\n",
       "      <td>0</td>\n",
       "      <td>1</td>\n",
       "      <td>0</td>\n",
       "      <td>...</td>\n",
       "      <td>0</td>\n",
       "      <td>0</td>\n",
       "      <td>0</td>\n",
       "      <td>0</td>\n",
       "      <td>0</td>\n",
       "      <td>1</td>\n",
       "      <td>0</td>\n",
       "      <td>0</td>\n",
       "      <td>0</td>\n",
       "      <td>0</td>\n",
       "    </tr>\n",
       "    <tr>\n",
       "      <th>14</th>\n",
       "      <td>PID1_GRCh37_2:229889189-229889189_3'Flank_DEL_...</td>\n",
       "      <td>10</td>\n",
       "      <td>142</td>\n",
       "      <td>0</td>\n",
       "      <td>119</td>\n",
       "      <td>10</td>\n",
       "      <td>0</td>\n",
       "      <td>0</td>\n",
       "      <td>0</td>\n",
       "      <td>0</td>\n",
       "      <td>...</td>\n",
       "      <td>0</td>\n",
       "      <td>0</td>\n",
       "      <td>0</td>\n",
       "      <td>0</td>\n",
       "      <td>0</td>\n",
       "      <td>0</td>\n",
       "      <td>0</td>\n",
       "      <td>0</td>\n",
       "      <td>0</td>\n",
       "      <td>0</td>\n",
       "    </tr>\n",
       "    <tr>\n",
       "      <th>16</th>\n",
       "      <td>SHC1_GRCh37_1:154935863-154935863_3'UTR_DEL_G-G--</td>\n",
       "      <td>9</td>\n",
       "      <td>142</td>\n",
       "      <td>0</td>\n",
       "      <td>120</td>\n",
       "      <td>9</td>\n",
       "      <td>0</td>\n",
       "      <td>0</td>\n",
       "      <td>0</td>\n",
       "      <td>0</td>\n",
       "      <td>...</td>\n",
       "      <td>0</td>\n",
       "      <td>0</td>\n",
       "      <td>0</td>\n",
       "      <td>0</td>\n",
       "      <td>0</td>\n",
       "      <td>0</td>\n",
       "      <td>0</td>\n",
       "      <td>0</td>\n",
       "      <td>0</td>\n",
       "      <td>1</td>\n",
       "    </tr>\n",
       "    <tr>\n",
       "      <th>...</th>\n",
       "      <td>...</td>\n",
       "      <td>...</td>\n",
       "      <td>...</td>\n",
       "      <td>...</td>\n",
       "      <td>...</td>\n",
       "      <td>...</td>\n",
       "      <td>...</td>\n",
       "      <td>...</td>\n",
       "      <td>...</td>\n",
       "      <td>...</td>\n",
       "      <td>...</td>\n",
       "      <td>...</td>\n",
       "      <td>...</td>\n",
       "      <td>...</td>\n",
       "      <td>...</td>\n",
       "      <td>...</td>\n",
       "      <td>...</td>\n",
       "      <td>...</td>\n",
       "      <td>...</td>\n",
       "      <td>...</td>\n",
       "      <td>...</td>\n",
       "    </tr>\n",
       "    <tr>\n",
       "      <th>57</th>\n",
       "      <td>SPOP_GRCh37_17:47696599-47696599_Missense-Muta...</td>\n",
       "      <td>1</td>\n",
       "      <td>137</td>\n",
       "      <td>5</td>\n",
       "      <td>128</td>\n",
       "      <td>-4</td>\n",
       "      <td>0</td>\n",
       "      <td>0</td>\n",
       "      <td>0</td>\n",
       "      <td>0</td>\n",
       "      <td>...</td>\n",
       "      <td>1</td>\n",
       "      <td>0</td>\n",
       "      <td>0</td>\n",
       "      <td>0</td>\n",
       "      <td>0</td>\n",
       "      <td>0</td>\n",
       "      <td>0</td>\n",
       "      <td>0</td>\n",
       "      <td>1</td>\n",
       "      <td>0</td>\n",
       "    </tr>\n",
       "    <tr>\n",
       "      <th>389</th>\n",
       "      <td>TP53_GRCh37_17:7578190-7578190_Missense-Mutati...</td>\n",
       "      <td>0</td>\n",
       "      <td>138</td>\n",
       "      <td>4</td>\n",
       "      <td>129</td>\n",
       "      <td>-4</td>\n",
       "      <td>0</td>\n",
       "      <td>0</td>\n",
       "      <td>0</td>\n",
       "      <td>0</td>\n",
       "      <td>...</td>\n",
       "      <td>0</td>\n",
       "      <td>0</td>\n",
       "      <td>0</td>\n",
       "      <td>0</td>\n",
       "      <td>0</td>\n",
       "      <td>0</td>\n",
       "      <td>0</td>\n",
       "      <td>0</td>\n",
       "      <td>0</td>\n",
       "      <td>0</td>\n",
       "    </tr>\n",
       "    <tr>\n",
       "      <th>31</th>\n",
       "      <td>TP53_GRCh37_17:7578406-7578406_Missense-Mutati...</td>\n",
       "      <td>1</td>\n",
       "      <td>136</td>\n",
       "      <td>6</td>\n",
       "      <td>128</td>\n",
       "      <td>-5</td>\n",
       "      <td>0</td>\n",
       "      <td>0</td>\n",
       "      <td>0</td>\n",
       "      <td>0</td>\n",
       "      <td>...</td>\n",
       "      <td>0</td>\n",
       "      <td>0</td>\n",
       "      <td>0</td>\n",
       "      <td>0</td>\n",
       "      <td>0</td>\n",
       "      <td>0</td>\n",
       "      <td>0</td>\n",
       "      <td>0</td>\n",
       "      <td>0</td>\n",
       "      <td>0</td>\n",
       "    </tr>\n",
       "    <tr>\n",
       "      <th>70</th>\n",
       "      <td>TP53_GRCh37_17:7577559-7577559_Missense-Mutati...</td>\n",
       "      <td>0</td>\n",
       "      <td>136</td>\n",
       "      <td>6</td>\n",
       "      <td>129</td>\n",
       "      <td>-6</td>\n",
       "      <td>0</td>\n",
       "      <td>0</td>\n",
       "      <td>0</td>\n",
       "      <td>0</td>\n",
       "      <td>...</td>\n",
       "      <td>0</td>\n",
       "      <td>0</td>\n",
       "      <td>1</td>\n",
       "      <td>0</td>\n",
       "      <td>0</td>\n",
       "      <td>0</td>\n",
       "      <td>0</td>\n",
       "      <td>0</td>\n",
       "      <td>0</td>\n",
       "      <td>0</td>\n",
       "    </tr>\n",
       "    <tr>\n",
       "      <th>0</th>\n",
       "      <td>PPP2R1A_GRCh37_19:52715971-52715971_Missense-M...</td>\n",
       "      <td>0</td>\n",
       "      <td>118</td>\n",
       "      <td>24</td>\n",
       "      <td>129</td>\n",
       "      <td>-24</td>\n",
       "      <td>0</td>\n",
       "      <td>0</td>\n",
       "      <td>0</td>\n",
       "      <td>0</td>\n",
       "      <td>...</td>\n",
       "      <td>0</td>\n",
       "      <td>0</td>\n",
       "      <td>1</td>\n",
       "      <td>0</td>\n",
       "      <td>0</td>\n",
       "      <td>0</td>\n",
       "      <td>0</td>\n",
       "      <td>0</td>\n",
       "      <td>0</td>\n",
       "      <td>0</td>\n",
       "    </tr>\n",
       "  </tbody>\n",
       "</table>\n",
       "<p>7529 rows × 277 columns</p>\n",
       "</div>"
      ],
      "text/plain": [
       "                                                 index  TP   TN  FP   FN  \\\n",
       "6    RNF43_GRCh37_17:56435161-56435161_Frame-Shift-...  12  141   1  117   \n",
       "2    KRAS_GRCh37_12:25398284-25398284_Missense-Muta...  16  136   6  113   \n",
       "3    PTEN_GRCh37_10:89692905-89692905_Missense-Muta...  15  137   5  114   \n",
       "14   PID1_GRCh37_2:229889189-229889189_3'Flank_DEL_...  10  142   0  119   \n",
       "16   SHC1_GRCh37_1:154935863-154935863_3'UTR_DEL_G-G--   9  142   0  120   \n",
       "..                                                 ...  ..  ...  ..  ...   \n",
       "57   SPOP_GRCh37_17:47696599-47696599_Missense-Muta...   1  137   5  128   \n",
       "389  TP53_GRCh37_17:7578190-7578190_Missense-Mutati...   0  138   4  129   \n",
       "31   TP53_GRCh37_17:7578406-7578406_Missense-Mutati...   1  136   6  128   \n",
       "70   TP53_GRCh37_17:7577559-7577559_Missense-Mutati...   0  136   6  129   \n",
       "0    PPP2R1A_GRCh37_19:52715971-52715971_Missense-M...   0  118  24  129   \n",
       "\n",
       "     TP-FP  NC1  C1  NC2  NC3  ...  NC136  NC137  NC138  NC139  NC140  NC141  \\\n",
       "6       11    1   0    0    0  ...      0      0      0      0      0      0   \n",
       "2       10    0   0    0    0  ...      0      0      0      0      0      0   \n",
       "3       10    0   0    1    0  ...      0      0      0      0      0      1   \n",
       "14      10    0   0    0    0  ...      0      0      0      0      0      0   \n",
       "16       9    0   0    0    0  ...      0      0      0      0      0      0   \n",
       "..     ...  ...  ..  ...  ...  ...    ...    ...    ...    ...    ...    ...   \n",
       "57      -4    0   0    0    0  ...      1      0      0      0      0      0   \n",
       "389     -4    0   0    0    0  ...      0      0      0      0      0      0   \n",
       "31      -5    0   0    0    0  ...      0      0      0      0      0      0   \n",
       "70      -6    0   0    0    0  ...      0      0      1      0      0      0   \n",
       "0      -24    0   0    0    0  ...      0      0      1      0      0      0   \n",
       "\n",
       "     C127  C128  NC142  C129  \n",
       "6       0     0      0     0  \n",
       "2       0     0      0     1  \n",
       "3       0     0      0     0  \n",
       "14      0     0      0     0  \n",
       "16      0     0      0     1  \n",
       "..    ...   ...    ...   ...  \n",
       "57      0     0      1     0  \n",
       "389     0     0      0     0  \n",
       "31      0     0      0     0  \n",
       "70      0     0      0     0  \n",
       "0       0     0      0     0  \n",
       "\n",
       "[7529 rows x 277 columns]"
      ]
     },
     "execution_count": 23,
     "metadata": {},
     "output_type": "execute_result"
    }
   ],
   "source": [
    "data"
   ]
  },
  {
   "cell_type": "code",
   "execution_count": 24,
   "id": "4806b14d-4540-48ec-994c-fbe6ae77d8eb",
   "metadata": {},
   "outputs": [],
   "source": [
    "cols = cols[:-1]"
   ]
  },
  {
   "cell_type": "code",
   "execution_count": 25,
   "id": "79575e29-0980-4b75-88bc-b2717b7e65c2",
   "metadata": {},
   "outputs": [
    {
     "data": {
      "text/plain": [
       "Index(['NC1', 'C1', 'NC2', 'NC3', 'NC4', 'C2', 'C3', 'NC5', 'C4', 'NC6',\n",
       "       ...\n",
       "       'NC136', 'NC137', 'NC138', 'NC139', 'NC140', 'NC141', 'C127', 'C128',\n",
       "       'NC142', 'C129'],\n",
       "      dtype='object', length=271)"
      ]
     },
     "execution_count": 25,
     "metadata": {},
     "output_type": "execute_result"
    }
   ],
   "source": [
    "cols"
   ]
  },
  {
   "cell_type": "code",
   "execution_count": 26,
   "id": "d8c9c13e-b417-4733-b596-991a14265144",
   "metadata": {},
   "outputs": [],
   "source": [
    "c_cols = [i for i in cols if i[0]=='C']"
   ]
  },
  {
   "cell_type": "code",
   "execution_count": 27,
   "id": "5a08f80f-ea36-4b6b-9a1b-cddeb19b048e",
   "metadata": {},
   "outputs": [],
   "source": [
    "#c_cols"
   ]
  },
  {
   "cell_type": "code",
   "execution_count": 28,
   "id": "fda90291-56df-4559-aa24-d444eb2e6ed4",
   "metadata": {},
   "outputs": [],
   "source": [
    "nc_cols = [j for j in cols if j[0]=='N']"
   ]
  },
  {
   "cell_type": "code",
   "execution_count": 29,
   "id": "dc5d4326-c80d-4379-ac69-84c05dcfbf84",
   "metadata": {},
   "outputs": [],
   "source": [
    "#nc_cols"
   ]
  },
  {
   "cell_type": "code",
   "execution_count": 30,
   "id": "18485bd3-d793-4f54-8918-33e97046a5fd",
   "metadata": {},
   "outputs": [
    {
     "data": {
      "text/plain": [
       "(129, 142)"
      ]
     },
     "execution_count": 30,
     "metadata": {},
     "output_type": "execute_result"
    }
   ],
   "source": [
    "len(c_cols), len(nc_cols)"
   ]
  },
  {
   "cell_type": "code",
   "execution_count": 31,
   "id": "5f7a1865-9739-4dd7-af8d-87e0755b1faa",
   "metadata": {},
   "outputs": [],
   "source": [
    "#list(data['index'])"
   ]
  },
  {
   "cell_type": "code",
   "execution_count": 32,
   "id": "c5e29d67-23c5-445d-b453-667923fa8b4a",
   "metadata": {},
   "outputs": [],
   "source": [
    "data.index = data['index']\n",
    "data = data.drop('index', axis=1)"
   ]
  },
  {
   "cell_type": "code",
   "execution_count": 33,
   "id": "cfcc7707-51d2-4537-97ae-a1c827961066",
   "metadata": {},
   "outputs": [],
   "source": [
    "#data.loc[lambda data: data['NC1'] > 0, :]"
   ]
  },
  {
   "cell_type": "code",
   "execution_count": 34,
   "id": "21d44203-1f2a-4c7a-bcae-bbbc04bc9df1",
   "metadata": {},
   "outputs": [],
   "source": [
    "# TP -> cancer\n",
    "# TN -> non-cancer\n",
    "# FP -> non-cancer\n",
    "# FN -> cancer"
   ]
  },
  {
   "cell_type": "code",
   "execution_count": 35,
   "id": "536fa489-2dbb-4d53-a2b8-39edae4902f6",
   "metadata": {},
   "outputs": [
    {
     "data": {
      "text/html": [
       "<div>\n",
       "<style scoped>\n",
       "    .dataframe tbody tr th:only-of-type {\n",
       "        vertical-align: middle;\n",
       "    }\n",
       "\n",
       "    .dataframe tbody tr th {\n",
       "        vertical-align: top;\n",
       "    }\n",
       "\n",
       "    .dataframe thead th {\n",
       "        text-align: right;\n",
       "    }\n",
       "</style>\n",
       "<table border=\"1\" class=\"dataframe\">\n",
       "  <thead>\n",
       "    <tr style=\"text-align: right;\">\n",
       "      <th></th>\n",
       "      <th>NC1</th>\n",
       "      <th>NC2</th>\n",
       "      <th>NC3</th>\n",
       "      <th>NC4</th>\n",
       "      <th>NC5</th>\n",
       "      <th>NC6</th>\n",
       "      <th>NC7</th>\n",
       "      <th>NC8</th>\n",
       "      <th>NC9</th>\n",
       "      <th>NC10</th>\n",
       "      <th>...</th>\n",
       "      <th>NC133</th>\n",
       "      <th>NC134</th>\n",
       "      <th>NC135</th>\n",
       "      <th>NC136</th>\n",
       "      <th>NC137</th>\n",
       "      <th>NC138</th>\n",
       "      <th>NC139</th>\n",
       "      <th>NC140</th>\n",
       "      <th>NC141</th>\n",
       "      <th>NC142</th>\n",
       "    </tr>\n",
       "    <tr>\n",
       "      <th>index</th>\n",
       "      <th></th>\n",
       "      <th></th>\n",
       "      <th></th>\n",
       "      <th></th>\n",
       "      <th></th>\n",
       "      <th></th>\n",
       "      <th></th>\n",
       "      <th></th>\n",
       "      <th></th>\n",
       "      <th></th>\n",
       "      <th></th>\n",
       "      <th></th>\n",
       "      <th></th>\n",
       "      <th></th>\n",
       "      <th></th>\n",
       "      <th></th>\n",
       "      <th></th>\n",
       "      <th></th>\n",
       "      <th></th>\n",
       "      <th></th>\n",
       "      <th></th>\n",
       "    </tr>\n",
       "  </thead>\n",
       "  <tbody>\n",
       "    <tr>\n",
       "      <th>RNF43_GRCh37_17:56435161-56435161_Frame-Shift-Del_DEL_C-C--</th>\n",
       "      <td>1</td>\n",
       "      <td>0</td>\n",
       "      <td>0</td>\n",
       "      <td>0</td>\n",
       "      <td>0</td>\n",
       "      <td>0</td>\n",
       "      <td>0</td>\n",
       "      <td>0</td>\n",
       "      <td>0</td>\n",
       "      <td>0</td>\n",
       "      <td>...</td>\n",
       "      <td>0</td>\n",
       "      <td>0</td>\n",
       "      <td>0</td>\n",
       "      <td>0</td>\n",
       "      <td>0</td>\n",
       "      <td>0</td>\n",
       "      <td>0</td>\n",
       "      <td>0</td>\n",
       "      <td>0</td>\n",
       "      <td>0</td>\n",
       "    </tr>\n",
       "    <tr>\n",
       "      <th>KRAS_GRCh37_12:25398284-25398284_Missense-Mutation_SNP_C-C-A_C-C-T_C-C-G</th>\n",
       "      <td>0</td>\n",
       "      <td>0</td>\n",
       "      <td>0</td>\n",
       "      <td>0</td>\n",
       "      <td>0</td>\n",
       "      <td>0</td>\n",
       "      <td>0</td>\n",
       "      <td>0</td>\n",
       "      <td>0</td>\n",
       "      <td>0</td>\n",
       "      <td>...</td>\n",
       "      <td>0</td>\n",
       "      <td>0</td>\n",
       "      <td>0</td>\n",
       "      <td>0</td>\n",
       "      <td>0</td>\n",
       "      <td>0</td>\n",
       "      <td>0</td>\n",
       "      <td>0</td>\n",
       "      <td>0</td>\n",
       "      <td>0</td>\n",
       "    </tr>\n",
       "  </tbody>\n",
       "</table>\n",
       "<p>2 rows × 142 columns</p>\n",
       "</div>"
      ],
      "text/plain": [
       "                                                    NC1  NC2  NC3  NC4  NC5  \\\n",
       "index                                                                         \n",
       "RNF43_GRCh37_17:56435161-56435161_Frame-Shift-D...    1    0    0    0    0   \n",
       "KRAS_GRCh37_12:25398284-25398284_Missense-Mutat...    0    0    0    0    0   \n",
       "\n",
       "                                                    NC6  NC7  NC8  NC9  NC10  \\\n",
       "index                                                                          \n",
       "RNF43_GRCh37_17:56435161-56435161_Frame-Shift-D...    0    0    0    0     0   \n",
       "KRAS_GRCh37_12:25398284-25398284_Missense-Mutat...    0    0    0    0     0   \n",
       "\n",
       "                                                    ...  NC133  NC134  NC135  \\\n",
       "index                                               ...                        \n",
       "RNF43_GRCh37_17:56435161-56435161_Frame-Shift-D...  ...      0      0      0   \n",
       "KRAS_GRCh37_12:25398284-25398284_Missense-Mutat...  ...      0      0      0   \n",
       "\n",
       "                                                    NC136  NC137  NC138  \\\n",
       "index                                                                     \n",
       "RNF43_GRCh37_17:56435161-56435161_Frame-Shift-D...      0      0      0   \n",
       "KRAS_GRCh37_12:25398284-25398284_Missense-Mutat...      0      0      0   \n",
       "\n",
       "                                                    NC139  NC140  NC141  NC142  \n",
       "index                                                                           \n",
       "RNF43_GRCh37_17:56435161-56435161_Frame-Shift-D...      0      0      0      0  \n",
       "KRAS_GRCh37_12:25398284-25398284_Missense-Mutat...      0      0      0      0  \n",
       "\n",
       "[2 rows x 142 columns]"
      ]
     },
     "execution_count": 35,
     "metadata": {},
     "output_type": "execute_result"
    }
   ],
   "source": [
    "data[nc_cols].head(2)"
   ]
  },
  {
   "cell_type": "code",
   "execution_count": 120,
   "id": "829d72cd-a869-4c98-92ca-de87710b5426",
   "metadata": {},
   "outputs": [
    {
     "data": {
      "text/plain": [
       "Index(['TP', 'TN', 'FP', 'FN', 'TP-FP', 'NC1', 'C1', 'NC2', 'NC3', 'NC4',\n",
       "       ...\n",
       "       'NC137', 'NC138', 'NC139', 'NC140', 'NC141', 'C127', 'C128', 'NC142',\n",
       "       'C129', 'ACC'],\n",
       "      dtype='object', length=277)"
      ]
     },
     "execution_count": 120,
     "metadata": {},
     "output_type": "execute_result"
    }
   ],
   "source": [
    "data.columns"
   ]
  },
  {
   "cell_type": "code",
   "execution_count": 124,
   "id": "c14b42fa-4d2b-4ea9-b9fc-b6bac6476d50",
   "metadata": {},
   "outputs": [],
   "source": [
    "data[data.columns[5:-1]].to_csv('mutations_v3.csv')"
   ]
  },
  {
   "cell_type": "code",
   "execution_count": null,
   "id": "1482eb37-5de4-4448-b4b1-e1d3466efa06",
   "metadata": {},
   "outputs": [],
   "source": []
  },
  {
   "cell_type": "code",
   "execution_count": null,
   "id": "c98afbc4-5da7-45a3-92a1-0899edd635e1",
   "metadata": {},
   "outputs": [],
   "source": []
  },
  {
   "cell_type": "code",
   "execution_count": 37,
   "id": "297789d6-8613-4e81-a34e-e2908ff27022",
   "metadata": {},
   "outputs": [],
   "source": [
    "gr_a = []\n",
    "gr_b= []\n",
    "for i in range(len(cols)):\n",
    "    if data[cols[i]]['RNF43_GRCh37_17:56435161-56435161_Frame-Shift-Del_DEL_C-C--']==1:\n",
    "        gr_a.append(cols[i])\n",
    "    else:\n",
    "        gr_b.append(cols[i])"
   ]
  },
  {
   "cell_type": "code",
   "execution_count": 41,
   "id": "9643f7ec-3253-4edb-8b51-f98ec5cd550e",
   "metadata": {},
   "outputs": [],
   "source": [
    "def intersection(lst1, lst2):\n",
    "    '''\n",
    "    This function finds the intersection of two lists\n",
    "    '''\n",
    "    \n",
    "    lst3 = [value for value in lst1 if value in lst2]\n",
    "    return lst3"
   ]
  },
  {
   "cell_type": "code",
   "execution_count": 42,
   "id": "7459119c-9222-4526-a546-677a689a11f0",
   "metadata": {},
   "outputs": [],
   "source": [
    "def feature(data, grp):\n",
    "    '''\n",
    "    this function finds the best feature based on TP-FP\n",
    "    '''\n",
    "    return(data[intersection(grp,c_cols)].sum(axis=1)\\\n",
    "           -data[intersection(grp,nc_cols)].sum(axis=1)).sort_values(ascending=False).head(1)"
   ]
  },
  {
   "cell_type": "code",
   "execution_count": 43,
   "id": "23c4a9a4-f021-4505-b881-23afc7973cb4",
   "metadata": {},
   "outputs": [],
   "source": [
    "def confusion_mat(data, grp, feature):\n",
    "    '''\n",
    "    this function creates confusion matrix based on the feature selected by TP-FP\n",
    "    '''\n",
    "    # [TP, FP, TN, FN]\n",
    "    TP = (data.loc[feature(data,grp).index][intersection(grp,c_cols)]).sum(axis=1)[0]\n",
    "    FP = (data.loc[feature(data,grp).index][intersection(grp,nc_cols)]).sum(axis=1)[0]\n",
    "    TN = (len((data.loc[feature(data,grp).index][intersection(grp,nc_cols)]).columns)) - FP\n",
    "    FN = (len((data.loc[feature(data,grp).index][intersection(grp,c_cols)]).columns)) - TP\n",
    "    return [TP, FP, TN, FN]"
   ]
  },
  {
   "cell_type": "code",
   "execution_count": 95,
   "id": "e54a8732-f2a9-4cf9-a283-68070f81927e",
   "metadata": {},
   "outputs": [],
   "source": [
    "gr_a = []\n",
    "gr_b= []\n",
    "for i in range(len(cols)):\n",
    "    if data[cols[i]]['RNF43_GRCh37_17:56435161-56435161_Frame-Shift-Del_DEL_C-C--']==1:\n",
    "        gr_a.append(cols[i])\n",
    "    else:\n",
    "        gr_b.append(cols[i])"
   ]
  },
  {
   "cell_type": "code",
   "execution_count": 96,
   "id": "69eb5584-eec2-4cfb-b773-2d7b0f7c1810",
   "metadata": {},
   "outputs": [
    {
     "data": {
      "text/plain": [
       "([15, 5, 136, 102],\n",
       " Index(['PTEN_GRCh37_10:89692905-89692905_Missense-Mutation_SNP_G-G-A_G-G-T_G-G-C'], dtype='object', name='index'))"
      ]
     },
     "execution_count": 96,
     "metadata": {},
     "output_type": "execute_result"
    }
   ],
   "source": [
    "confusion_mat(data, gr_b, feature), feature(data, gr_b).index"
   ]
  },
  {
   "cell_type": "code",
   "execution_count": 97,
   "id": "c989457b-b747-4f7f-ad77-07a523b6275c",
   "metadata": {},
   "outputs": [
    {
     "data": {
      "text/plain": [
       "([12, 1, 0, 0],\n",
       " Index(['RNF43_GRCh37_17:56435161-56435161_Frame-Shift-Del_DEL_C-C--'], dtype='object', name='index'))"
      ]
     },
     "execution_count": 97,
     "metadata": {},
     "output_type": "execute_result"
    }
   ],
   "source": [
    "confusion_mat(data, gr_a, feature), feature(data, gr_a).index"
   ]
  },
  {
   "cell_type": "code",
   "execution_count": 45,
   "id": "a492ff52-959a-4683-b52c-1ed4102f847b",
   "metadata": {},
   "outputs": [
    {
     "data": {
      "text/plain": [
       "([5, 0, 1, 7],\n",
       " Index(['PID1_GRCh37_2:229889189-229889189_3'Flank_DEL_A-A--'], dtype='object', name='index'))"
      ]
     },
     "execution_count": 45,
     "metadata": {},
     "output_type": "execute_result"
    }
   ],
   "source": [
    "confusion_mat(data.drop('RNF43_GRCh37_17:56435161-56435161_Frame-Shift-Del_DEL_C-C--', axis=0), gr_a, feature),\\\n",
    "feature(data.drop('RNF43_GRCh37_17:56435161-56435161_Frame-Shift-Del_DEL_C-C--', axis=0), gr_a).index"
   ]
  },
  {
   "cell_type": "code",
   "execution_count": null,
   "id": "fb04bc07-6688-4dd9-8b7d-5cd35be838f3",
   "metadata": {},
   "outputs": [],
   "source": []
  },
  {
   "cell_type": "code",
   "execution_count": null,
   "id": "d78fe4ef-c28a-44fa-8925-16e360b1d3fc",
   "metadata": {},
   "outputs": [],
   "source": []
  },
  {
   "cell_type": "code",
   "execution_count": 46,
   "id": "cfefa195-f2b3-4819-bff3-13177c381c37",
   "metadata": {},
   "outputs": [],
   "source": [
    "data['ACC'] = (data['TP']+data['TN'])/(data['TP']+data['TN']+data['FP']+data['FN'])"
   ]
  },
  {
   "cell_type": "code",
   "execution_count": 47,
   "id": "1e1b487c-cfdc-4dbd-a9c7-ba901d9913a3",
   "metadata": {},
   "outputs": [
    {
     "data": {
      "text/plain": [
       "index\n",
       "RNF43_GRCh37_17:56435161-56435161_Frame-Shift-Del_DEL_C-C--                 0.564576\n",
       "PTEN_GRCh37_10:89692905-89692905_Missense-Mutation_SNP_G-G-A_G-G-T_G-G-C    0.560886\n",
       "PID1_GRCh37_2:229889189-229889189_3'Flank_DEL_A-A--                         0.560886\n",
       "KRAS_GRCh37_12:25398284-25398284_Missense-Mutation_SNP_C-C-A_C-C-T_C-C-G    0.560886\n",
       "SHC1_GRCh37_1:154935863-154935863_3'UTR_DEL_G-G--                           0.557196\n",
       "POLE_GRCh37_12:133253184-133253184_Missense-Mutation_SNP_G-G-C              0.557196\n",
       "PTEN_GRCh37_10:89624245-89624245_Nonsense-Mutation_SNP_G-G-T                0.553506\n",
       "PIK3CA_GRCh37_3:178916876-178916876_Missense-Mutation_SNP_G-G-A             0.553506\n",
       "ARID1A_GRCh37_1:27106354-27106354_Nonsense-Mutation_SNP_C-C-T               0.553506\n",
       "PTEN_GRCh37_10:89692904-89692904_Missense-Mutation_SNP_C-C-G                0.553506\n",
       "Name: ACC, dtype: float64"
      ]
     },
     "execution_count": 47,
     "metadata": {},
     "output_type": "execute_result"
    }
   ],
   "source": [
    "data['ACC'].sort_values(ascending=False).head(10)"
   ]
  },
  {
   "cell_type": "code",
   "execution_count": 48,
   "id": "8d082951-7424-4140-bc00-2e655f5a1898",
   "metadata": {},
   "outputs": [],
   "source": [
    "def classifier(individual):\n",
    "    if data[individual].loc[\"RNF43_GRCh37_17:56435161-56435161_Frame-Shift-Del_DEL_C-C--\"]==1:\n",
    "        if data[individual].loc[\"PID1_GRCh37_2:229889189-229889189_3'Flank_DEL_A-A--\"]==1:\n",
    "            return \"C\"\n",
    "        else:\n",
    "            return \"NC\"\n",
    "    else:\n",
    "        if data[individual].loc['PTEN_GRCh37_10:89692905-89692905_Missense-Mutation_SNP_G-G-A_G-G-T_G-G-C']==1:\n",
    "            return \"C\"\n",
    "        else:\n",
    "            return \"NC\" "
   ]
  },
  {
   "cell_type": "code",
   "execution_count": 50,
   "id": "99e3cddf-17dc-4e5d-94cd-b96fa8925935",
   "metadata": {},
   "outputs": [],
   "source": [
    "def evaluator(classifier, individuals):\n",
    "    TN = FN = TP = FP = 0\n",
    "    for i in range(len(individuals)):\n",
    "        if individuals[i][0] == classifier(individuals[i])==\"C\":\n",
    "            TP +=1\n",
    "        elif individuals[i][0:2] == classifier(individuals[i])==\"NC\":\n",
    "            TN +=1\n",
    "        elif individuals[i][0]==\"N\" and classifier(individuals[i])==\"C\":\n",
    "            FP +=1\n",
    "        elif individuals[i][0]==\"C\" and classifier(individuals[i])==\"NC\":\n",
    "            FN +=1\n",
    "            \n",
    "    return [TP, TN, FP, FN]"
   ]
  },
  {
   "cell_type": "code",
   "execution_count": 51,
   "id": "5386eb46-fc8a-456b-86cf-3e0fe22770aa",
   "metadata": {},
   "outputs": [
    {
     "name": "stdout",
     "output_type": "stream",
     "text": [
      "[20, 137, 5, 109]\n"
     ]
    }
   ],
   "source": [
    "print(evaluator(classifier, cols))"
   ]
  },
  {
   "cell_type": "code",
   "execution_count": 52,
   "id": "9a7f38fc-c3b9-4090-9a8e-b64f7f479dd5",
   "metadata": {},
   "outputs": [],
   "source": [
    "def metrics_calc(conf_mat):\n",
    "    # Format of conf_mat should be: [TP, TN, FP, FN]\n",
    "    TP = conf_mat[0]\n",
    "    TN = conf_mat[1]\n",
    "    FP = conf_mat[2]\n",
    "    FN = conf_mat[3]\n",
    "    accuracy = (TP+TN)/(TP+TN+FP+FN)\n",
    "    sensitivity = TP/(TP+FN)\n",
    "    specificity = TN/(TN+FP)\n",
    "    precision = TP/(TP+FP)\n",
    "    miss_rate = FN/(FN+TP)\n",
    "    false_discovery_rate = FP/(FP+TP)\n",
    "    false_omission_rate = FN/(FN+TN)\n",
    "    return f\"\"\" \n",
    "                Accuracy is {accuracy:.2}\n",
    "                Sensitivity is {sensitivity:.2}\n",
    "                Specificity is {specificity:.2}\n",
    "                Precision is {precision:.2}\n",
    "                Miss Rate is {miss_rate:.2}\n",
    "                False discovery rate is {false_discovery_rate:.2} \n",
    "                False omission rate is {false_omission_rate:.2} \n",
    "                \"\"\""
   ]
  },
  {
   "cell_type": "code",
   "execution_count": 53,
   "id": "5e6b0ce7-3d0e-4014-831b-882460b7a656",
   "metadata": {},
   "outputs": [
    {
     "name": "stdout",
     "output_type": "stream",
     "text": [
      " \n",
      "                Accuracy is 0.58\n",
      "                Sensitivity is 0.16\n",
      "                Specificity is 0.96\n",
      "                Precision is 0.8\n",
      "                Miss Rate is 0.84\n",
      "                False discovery rate is 0.2 \n",
      "                False omission rate is 0.44 \n",
      "                \n"
     ]
    }
   ],
   "source": [
    "print(metrics_calc(evaluator(classifier, cols)))"
   ]
  },
  {
   "cell_type": "code",
   "execution_count": 54,
   "id": "5fb20841-a14a-4761-a37f-9ea1c14de950",
   "metadata": {},
   "outputs": [],
   "source": [
    "# Accuracy --> imbalance data: 129 vs 142, coin is 0.5\n",
    "# Sensitivity --> among ind with cancer, model correctly identified only 16 % of ind with cancer, 84 % has cancer\n",
    "# but identified as no cancer FN \n",
    "# Specificity --> anong ind without cancer, model correctly identified 96 % of ind without cancer, only 4 % no\n",
    "# cancer but not identified\n",
    "# Precision --> when model predicts that an individual has cancer, it is correct 80% of the time, 20 % of the time\n",
    "# ind has no cancer but model mistakenly identified as cancer FP\n",
    "# Miss rate -> a miss rate of 0.84 indicates that my model misses (false negatives) 84% of the individuals with\n",
    "# cancer.\n",
    "# False discovery rate -> meaning that 20% of the individuals it predicted as having cancer were actually negative\n",
    "# cases.\n",
    "# False omission rate -> indicating that it incorrectly classified 44% of individuals with cancer as not having \n",
    "# cancer. positive cases"
   ]
  },
  {
   "cell_type": "code",
   "execution_count": null,
   "id": "1770431b-a4a4-4882-a1d3-e6d2e667a17f",
   "metadata": {},
   "outputs": [],
   "source": []
  },
  {
   "cell_type": "code",
   "execution_count": 55,
   "id": "110683b9-7b31-480b-a046-9ae5ffb7e292",
   "metadata": {},
   "outputs": [],
   "source": [
    "#H.W.6"
   ]
  },
  {
   "cell_type": "code",
   "execution_count": null,
   "id": "a4a50f9d-91fa-4f0f-a212-13bb882f88e0",
   "metadata": {},
   "outputs": [],
   "source": []
  },
  {
   "cell_type": "code",
   "execution_count": null,
   "id": "bb822935-56a3-43f7-9c20-6bc82a63d3ca",
   "metadata": {},
   "outputs": [],
   "source": []
  },
  {
   "cell_type": "code",
   "execution_count": null,
   "id": "dbe8301d-2ef0-419d-998a-fb70c063e945",
   "metadata": {},
   "outputs": [],
   "source": [
    "class DataSpliter:\n",
    "    def __init__(self, k, data):\n",
    "        self.k = k\n",
    "        self.data = data\n",
    "    \n",
    "    splitter(self):\n",
    "        fold_1"
   ]
  },
  {
   "cell_type": "code",
   "execution_count": 68,
   "id": "779bf4f6-38b8-4e0c-9fd3-47fb5f591125",
   "metadata": {},
   "outputs": [],
   "source": [
    "class Rectangle:\n",
    "    def __init__(self, width, length):\n",
    "        self.width = width\n",
    "        self.length = length\n",
    "    def area(self):\n",
    "        return self.width * self.length\n",
    "    def perimeter(self):\n",
    "        return 2*(self.width + self.length)\n",
    "    "
   ]
  },
  {
   "cell_type": "code",
   "execution_count": 69,
   "id": "7d9c7378-ddf3-476e-822e-2c47bc5f408d",
   "metadata": {},
   "outputs": [],
   "source": [
    "r = Rectangle(4, 5)"
   ]
  },
  {
   "cell_type": "code",
   "execution_count": 70,
   "id": "b7b6f8c3-1bca-4dae-a578-db9e3946bfca",
   "metadata": {},
   "outputs": [
    {
     "data": {
      "text/plain": [
       "20"
      ]
     },
     "execution_count": 70,
     "metadata": {},
     "output_type": "execute_result"
    }
   ],
   "source": [
    "r.area()"
   ]
  },
  {
   "cell_type": "code",
   "execution_count": 71,
   "id": "2bbeb01f-e395-4d0c-9a59-ab6396c696af",
   "metadata": {},
   "outputs": [
    {
     "data": {
      "text/plain": [
       "18"
      ]
     },
     "execution_count": 71,
     "metadata": {},
     "output_type": "execute_result"
    }
   ],
   "source": [
    "r.perimeter()"
   ]
  },
  {
   "cell_type": "code",
   "execution_count": 83,
   "id": "df23ed3d-48ed-4c6d-a248-6dc632a15101",
   "metadata": {},
   "outputs": [],
   "source": [
    "class Sahar:\n",
    "    def __init__(self, mamesize):\n",
    "        self.mame = mamesize\n",
    "    def exercise(self):\n",
    "        print(f'sahar does exercise {self.mame} hours a week')"
   ]
  },
  {
   "cell_type": "code",
   "execution_count": 84,
   "id": "3105e4ad-7c67-4dab-af7c-af1375ea2253",
   "metadata": {},
   "outputs": [],
   "source": [
    "s = Sahar(85)"
   ]
  },
  {
   "cell_type": "code",
   "execution_count": 85,
   "id": "c2d2adce-433f-4762-8e5c-8e62a4e0e7a8",
   "metadata": {},
   "outputs": [
    {
     "name": "stdout",
     "output_type": "stream",
     "text": [
      "sahar does exercise 85 hours a week\n"
     ]
    }
   ],
   "source": [
    "s.exercise()"
   ]
  },
  {
   "cell_type": "code",
   "execution_count": 56,
   "id": "ef75fb83-0f41-4f01-8c15-01d8251add8e",
   "metadata": {},
   "outputs": [],
   "source": [
    "import random"
   ]
  },
  {
   "cell_type": "code",
   "execution_count": 57,
   "id": "23ae4d64-f998-404c-a5d7-dba7161358a3",
   "metadata": {},
   "outputs": [],
   "source": [
    "def tester(k = 3, d = data.columns[5:]):\n",
    "    fold_1 = []\n",
    "    fold_2 = []\n",
    "    fold_3 = []\n",
    "    \n",
    "    size = len(d)\n",
    "    while size % k==0:\n",
    "        size += 1\n",
    "        \n",
    "    random.shuffle(d)\n",
    "    for j in range(k):\n",
    "        for i in range(int(size/k)):\n",
    "            \n",
    "        \n",
    "    train_list = [j for j in d if j not in test_list]\n",
    "    train = data[train_list]\n",
    "    test = data[test_list]\n",
    "    return train, test"
   ]
  },
  {
   "cell_type": "code",
   "execution_count": 67,
   "id": "b5969c38-ddbb-425c-a351-f2083cfdf096",
   "metadata": {},
   "outputs": [
    {
     "data": {
      "text/plain": [
       "90.66666666666667"
      ]
     },
     "execution_count": 67,
     "metadata": {},
     "output_type": "execute_result"
    }
   ],
   "source": [
    "df.sample("
   ]
  },
  {
   "cell_type": "code",
   "execution_count": 59,
   "id": "eb48c187-d406-45ec-befb-d7f22650150a",
   "metadata": {},
   "outputs": [
    {
     "name": "stdout",
     "output_type": "stream",
     "text": [
      "<class 'pandas.core.frame.DataFrame'>\n",
      "Index: 7529 entries, RNF43_GRCh37_17:56435161-56435161_Frame-Shift-Del_DEL_C-C-- to PPP2R1A_GRCh37_19:52715971-52715971_Missense-Mutation_SNP_C-C-G_C-C-T\n",
      "Data columns (total 89 columns):\n",
      " #   Column  Non-Null Count  Dtype\n",
      "---  ------  --------------  -----\n",
      " 0   C61     7529 non-null   int64\n",
      " 1   C28     7529 non-null   int64\n",
      " 2   C44     7529 non-null   int64\n",
      " 3   C80     7529 non-null   int64\n",
      " 4   C44     7529 non-null   int64\n",
      " 5   C9      7529 non-null   int64\n",
      " 6   NC42    7529 non-null   int64\n",
      " 7   NC105   7529 non-null   int64\n",
      " 8   NC101   7529 non-null   int64\n",
      " 9   C15     7529 non-null   int64\n",
      " 10  NC141   7529 non-null   int64\n",
      " 11  C39     7529 non-null   int64\n",
      " 12  NC95    7529 non-null   int64\n",
      " 13  NC134   7529 non-null   int64\n",
      " 14  C72     7529 non-null   int64\n",
      " 15  C45     7529 non-null   int64\n",
      " 16  NC94    7529 non-null   int64\n",
      " 17  C95     7529 non-null   int64\n",
      " 18  NC50    7529 non-null   int64\n",
      " 19  NC2     7529 non-null   int64\n",
      " 20  C98     7529 non-null   int64\n",
      " 21  NC86    7529 non-null   int64\n",
      " 22  C37     7529 non-null   int64\n",
      " 23  C9      7529 non-null   int64\n",
      " 24  C92     7529 non-null   int64\n",
      " 25  C30     7529 non-null   int64\n",
      " 26  NC128   7529 non-null   int64\n",
      " 27  C70     7529 non-null   int64\n",
      " 28  NC55    7529 non-null   int64\n",
      " 29  NC66    7529 non-null   int64\n",
      " 30  NC1     7529 non-null   int64\n",
      " 31  NC61    7529 non-null   int64\n",
      " 32  C10     7529 non-null   int64\n",
      " 33  C45     7529 non-null   int64\n",
      " 34  C4      7529 non-null   int64\n",
      " 35  NC5     7529 non-null   int64\n",
      " 36  C91     7529 non-null   int64\n",
      " 37  C109    7529 non-null   int64\n",
      " 38  NC120   7529 non-null   int64\n",
      " 39  C93     7529 non-null   int64\n",
      " 40  NC63    7529 non-null   int64\n",
      " 41  C108    7529 non-null   int64\n",
      " 42  C15     7529 non-null   int64\n",
      " 43  C29     7529 non-null   int64\n",
      " 44  NC87    7529 non-null   int64\n",
      " 45  C111    7529 non-null   int64\n",
      " 46  NC30    7529 non-null   int64\n",
      " 47  C35     7529 non-null   int64\n",
      " 48  C64     7529 non-null   int64\n",
      " 49  NC97    7529 non-null   int64\n",
      " 50  NC81    7529 non-null   int64\n",
      " 51  C82     7529 non-null   int64\n",
      " 52  NC4     7529 non-null   int64\n",
      " 53  C100    7529 non-null   int64\n",
      " 54  C105    7529 non-null   int64\n",
      " 55  C39     7529 non-null   int64\n",
      " 56  NC74    7529 non-null   int64\n",
      " 57  C22     7529 non-null   int64\n",
      " 58  NC55    7529 non-null   int64\n",
      " 59  NC62    7529 non-null   int64\n",
      " 60  NC94    7529 non-null   int64\n",
      " 61  C45     7529 non-null   int64\n",
      " 62  C8      7529 non-null   int64\n",
      " 63  C108    7529 non-null   int64\n",
      " 64  NC136   7529 non-null   int64\n",
      " 65  C100    7529 non-null   int64\n",
      " 66  NC92    7529 non-null   int64\n",
      " 67  C91     7529 non-null   int64\n",
      " 68  NC138   7529 non-null   int64\n",
      " 69  C118    7529 non-null   int64\n",
      " 70  NC137   7529 non-null   int64\n",
      " 71  NC52    7529 non-null   int64\n",
      " 72  NC23    7529 non-null   int64\n",
      " 73  NC89    7529 non-null   int64\n",
      " 74  NC47    7529 non-null   int64\n",
      " 75  NC92    7529 non-null   int64\n",
      " 76  NC38    7529 non-null   int64\n",
      " 77  C55     7529 non-null   int64\n",
      " 78  NC18    7529 non-null   int64\n",
      " 79  C120    7529 non-null   int64\n",
      " 80  NC104   7529 non-null   int64\n",
      " 81  C74     7529 non-null   int64\n",
      " 82  C101    7529 non-null   int64\n",
      " 83  NC31    7529 non-null   int64\n",
      " 84  NC40    7529 non-null   int64\n",
      " 85  C108    7529 non-null   int64\n",
      " 86  C93     7529 non-null   int64\n",
      " 87  NC109   7529 non-null   int64\n",
      " 88  C28     7529 non-null   int64\n",
      "dtypes: int64(89)\n",
      "memory usage: 5.4+ MB\n"
     ]
    }
   ],
   "source": [
    "tester()[1].info()"
   ]
  },
  {
   "cell_type": "code",
   "execution_count": 61,
   "id": "46f6fe45-2fc9-4981-8bfa-e32a69b2c84b",
   "metadata": {},
   "outputs": [],
   "source": [
    "random.shuffle(mylist)"
   ]
  },
  {
   "cell_type": "code",
   "execution_count": 60,
   "id": "7c04fdbf-5ad5-4a6f-99fa-fe60e494d8ed",
   "metadata": {},
   "outputs": [],
   "source": [
    "mylist=['a', 'b', 'v']"
   ]
  },
  {
   "cell_type": "code",
   "execution_count": 62,
   "id": "c20b15d2-8537-4763-a521-8c18b18db366",
   "metadata": {},
   "outputs": [
    {
     "name": "stdout",
     "output_type": "stream",
     "text": [
      "['b', 'v', 'a']\n"
     ]
    }
   ],
   "source": [
    "print(mylist)"
   ]
  },
  {
   "cell_type": "code",
   "execution_count": null,
   "id": "48cce8a9-8296-4998-8f0d-ac6311156e18",
   "metadata": {},
   "outputs": [],
   "source": []
  }
 ],
 "metadata": {
  "kernelspec": {
   "display_name": "Python 3 (ipykernel)",
   "language": "python",
   "name": "python3"
  },
  "language_info": {
   "codemirror_mode": {
    "name": "ipython",
    "version": 3
   },
   "file_extension": ".py",
   "mimetype": "text/x-python",
   "name": "python",
   "nbconvert_exporter": "python",
   "pygments_lexer": "ipython3",
   "version": "3.8.16"
  }
 },
 "nbformat": 4,
 "nbformat_minor": 5
}
