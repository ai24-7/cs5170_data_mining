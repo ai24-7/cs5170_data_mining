{
 "cells": [
  {
   "cell_type": "code",
   "execution_count": 4,
   "id": "5543dbe5-a351-431d-ba75-b4a1ec1c7767",
   "metadata": {},
   "outputs": [],
   "source": [
    "Sahar_loan= {\n",
    "    \"unsub\": [(5327,2.75), (7000,3.73), (2000, 5.05), (6000, 4.53)],\n",
    "    \"sub\": [(3500, 5.05), (4500, 4.53), (4500, 2.73), (5500, 3.73)]\n",
    "}"
   ]
  },
  {
   "cell_type": "code",
   "execution_count": 5,
   "id": "a3585a26-9c25-4874-a280-3a9a9efa9ea4",
   "metadata": {},
   "outputs": [],
   "source": [
    "import pandas as pd\n",
    "import numpy as np\n",
    "import matplotlib.pyplot as plt\n",
    "import seaborn as sns"
   ]
  },
  {
   "cell_type": "code",
   "execution_count": 6,
   "id": "79eb2699-17a0-41b8-baff-a07e7bb4c60d",
   "metadata": {},
   "outputs": [],
   "source": [
    "df = pd.DataFrame(Sahar_loan)"
   ]
  },
  {
   "cell_type": "code",
   "execution_count": 7,
   "id": "1039e83d-8983-4c92-a0dd-5ac8d8b3c29f",
   "metadata": {},
   "outputs": [
    {
     "data": {
      "text/html": [
       "<div>\n",
       "<style scoped>\n",
       "    .dataframe tbody tr th:only-of-type {\n",
       "        vertical-align: middle;\n",
       "    }\n",
       "\n",
       "    .dataframe tbody tr th {\n",
       "        vertical-align: top;\n",
       "    }\n",
       "\n",
       "    .dataframe thead th {\n",
       "        text-align: right;\n",
       "    }\n",
       "</style>\n",
       "<table border=\"1\" class=\"dataframe\">\n",
       "  <thead>\n",
       "    <tr style=\"text-align: right;\">\n",
       "      <th></th>\n",
       "      <th>unsub</th>\n",
       "      <th>sub</th>\n",
       "    </tr>\n",
       "  </thead>\n",
       "  <tbody>\n",
       "    <tr>\n",
       "      <th>0</th>\n",
       "      <td>(5327, 2.75)</td>\n",
       "      <td>(3500, 5.05)</td>\n",
       "    </tr>\n",
       "    <tr>\n",
       "      <th>1</th>\n",
       "      <td>(7000, 3.73)</td>\n",
       "      <td>(4500, 4.53)</td>\n",
       "    </tr>\n",
       "    <tr>\n",
       "      <th>2</th>\n",
       "      <td>(2000, 5.05)</td>\n",
       "      <td>(4500, 2.73)</td>\n",
       "    </tr>\n",
       "    <tr>\n",
       "      <th>3</th>\n",
       "      <td>(6000, 4.53)</td>\n",
       "      <td>(5500, 3.73)</td>\n",
       "    </tr>\n",
       "  </tbody>\n",
       "</table>\n",
       "</div>"
      ],
      "text/plain": [
       "          unsub           sub\n",
       "0  (5327, 2.75)  (3500, 5.05)\n",
       "1  (7000, 3.73)  (4500, 4.53)\n",
       "2  (2000, 5.05)  (4500, 2.73)\n",
       "3  (6000, 4.53)  (5500, 3.73)"
      ]
     },
     "execution_count": 7,
     "metadata": {},
     "output_type": "execute_result"
    }
   ],
   "source": [
    "df"
   ]
  },
  {
   "cell_type": "code",
   "execution_count": 40,
   "id": "233eb9bb-4041-4580-bb14-2b33291989d2",
   "metadata": {},
   "outputs": [
    {
     "data": {
      "text/plain": [
       "0    (5327, 2.75)\n",
       "1    (7000, 3.73)\n",
       "2    (2000, 5.05)\n",
       "3    (6000, 4.53)\n",
       "Name: unsub, dtype: object"
      ]
     },
     "execution_count": 40,
     "metadata": {},
     "output_type": "execute_result"
    }
   ],
   "source": [
    "df['unsub']"
   ]
  },
  {
   "cell_type": "code",
   "execution_count": 37,
   "id": "31c5d7dd-a5b6-4828-80ec-25b0418e6d25",
   "metadata": {},
   "outputs": [
    {
     "data": {
      "text/plain": [
       "<Axes: >"
      ]
     },
     "execution_count": 37,
     "metadata": {},
     "output_type": "execute_result"
    },
    {
     "data": {
      "image/png": "[encoded data removed]",
      "text/plain": [
       "<Figure size 640x480 with 1 Axes>"
      ]
     },
     "metadata": {},
     "output_type": "display_data"
    }
   ],
   "source": [
    "sns.barplot(df['unsub'])"
   ]
  },
  {
   "cell_type": "code",
   "execution_count": null,
   "id": "104bbd9c-0bf0-4b4a-96d7-3a45f8dffffa",
   "metadata": {},
   "outputs": [],
   "source": []
  },
  {
   "cell_type": "code",
   "execution_count": null,
   "id": "a6ef3e20-27c6-4662-a1d6-7ac31afa03cb",
   "metadata": {},
   "outputs": [],
   "source": []
  },
  {
   "cell_type": "code",
   "execution_count": null,
   "id": "0c206561-ae83-432b-911a-8ff2f2a9adda",
   "metadata": {},
   "outputs": [],
   "source": []
  },
  {
   "cell_type": "code",
   "execution_count": 26,
   "id": "aa43e6a5-8191-4656-8ed4-8b57f6e7f2af",
   "metadata": {},
   "outputs": [],
   "source": [
    "x = 38000*(1+.04)**20"
   ]
  },
  {
   "cell_type": "code",
   "execution_count": 27,
   "id": "55c75ff6-3689-43db-bfd4-c23433adbe4f",
   "metadata": {},
   "outputs": [
    {
     "data": {
      "text/plain": [
       "346.9278309802916"
      ]
     },
     "execution_count": 27,
     "metadata": {},
     "output_type": "execute_result"
    }
   ],
   "source": [
    "x/(12*20)"
   ]
  },
  {
   "cell_type": "code",
   "execution_count": 28,
   "id": "53dd22f0-6d00-4360-87cc-5747d5c526b1",
   "metadata": {},
   "outputs": [],
   "source": [
    "principal = 38000\n",
    "interest = x - principal"
   ]
  },
  {
   "cell_type": "code",
   "execution_count": 29,
   "id": "000a2a8a-91a5-4c6d-997a-86e3be6e275d",
   "metadata": {},
   "outputs": [
    {
     "data": {
      "text/plain": [
       "(38000, 45262.679435269994)"
      ]
     },
     "execution_count": 29,
     "metadata": {},
     "output_type": "execute_result"
    }
   ],
   "source": [
    "principal, interest"
   ]
  },
  {
   "cell_type": "code",
   "execution_count": 30,
   "id": "2afc158a-35bf-4ec8-b804-40c949fe4f4f",
   "metadata": {},
   "outputs": [
    {
     "data": {
      "text/plain": [
       "(158.33333333333334, 188.5944976469583)"
      ]
     },
     "execution_count": 30,
     "metadata": {},
     "output_type": "execute_result"
    }
   ],
   "source": [
    "principal/(12*20), interest/(12*20)"
   ]
  },
  {
   "cell_type": "code",
   "execution_count": 31,
   "id": "45bd17e3-d43f-4d30-916d-9aee86ab7576",
   "metadata": {},
   "outputs": [
    {
     "data": {
      "text/plain": [
       "666.6666666666666"
      ]
     },
     "execution_count": 31,
     "metadata": {},
     "output_type": "execute_result"
    }
   ],
   "source": [
    "8000/12"
   ]
  },
  {
   "cell_type": "code",
   "execution_count": null,
   "id": "277cc976-cf39-4bb8-a998-e675cde25a39",
   "metadata": {},
   "outputs": [],
   "source": []
  }
 ],
 "metadata": {
  "kernelspec": {
   "display_name": "Python 3 (ipykernel)",
   "language": "python",
   "name": "python3"
  },
  "language_info": {
   "codemirror_mode": {
    "name": "ipython",
    "version": 3
   },
   "file_extension": ".py",
   "mimetype": "text/x-python",
   "name": "python",
   "nbconvert_exporter": "python",
   "pygments_lexer": "ipython3",
   "version": "3.8.16"
  }
 },
 "nbformat": 4,
 "nbformat_minor": 5
}
