{
 "cells": [
  {
   "cell_type": "markdown",
   "id": "b8fa57c9-bf25-4b4a-a289-5630303ed46b",
   "metadata": {},
   "source": [
    "# Journal for the week of September 26, 2023 (Due October 02, 2023)\n",
    "\n",
    "By Daniel Safavisohi in collaboration with Sahar Nikkhah"
   ]
  },
  {
   "cell_type": "markdown",
   "id": "0d25e053-9578-4b65-9a4d-3207df176ee4",
   "metadata": {},
   "source": [
    "## Problem 1\n",
    "Test the following equalities:\n",
    "<ol>\n",
    "  <li>$0 + A = A$</li>\n",
    "  <li>$A + B = B + A$</li>\n",
    "  <li>$\\mathrm{Id}\\cdot A = A$</li>\n",
    "  <li>$A\\cdot B = B\\cdot A$</li>\n",
    "  <li>$A\\cdot(B\\cdot C) = (A\\cdot B)\\cdot C$</li>\n",
    "  <li>$\\alpha(A+B) = \\alpha A + \\alpha B$</li>\n",
    "  <li>$A\\cdot(B+C) = A\\cdot B + A\\cdot C$</li>\n",
    "</ol>\n",
    "Test these by showing that a matrix norm is \"small enough\" for random matrices."
   ]
  },
  {
   "cell_type": "code",
   "execution_count": 12,
   "id": "30c88ff5-6ff5-437e-89a7-b46e41432426",
   "metadata": {},
   "outputs": [
    {
     "name": "stdout",
     "output_type": "stream",
     "text": [
      "0.0\n",
      "True\n",
      "0.0\n",
      "True\n",
      "0.0\n",
      "True\n",
      "11.688722124023949\n",
      "False\n",
      "3.95962251878479e-15\n",
      "True\n",
      "5.773159728050814e-15\n",
      "True\n",
      "2.4273040365536066e-15\n",
      "True\n"
     ]
    }
   ],
   "source": [
    "import numpy as np\n",
    "\n",
    "def true_or_false(x):\n",
    "    if x < 0.000000001:\n",
    "        print(\"True\")\n",
    "    else:\n",
    "        print(\"False\")\n",
    "\n",
    "A = np.random.randn(4,4)\n",
    "B = np.random.randn(4,4)\n",
    "C = np.random.randn(4,4)\n",
    "Z = np.zeros([4,4])\n",
    "I = np.identity(4)\n",
    "alpha = 10\n",
    "\n",
    "#Case 1\n",
    "Norm_1 = np.linalg.norm(A-(A+Z))\n",
    "print(Norm_1)\n",
    "true_or_false(Norm_1)\n",
    "\n",
    "#Case 2\n",
    "Norm_2 = np.linalg.norm((A+B)-(B+A))\n",
    "print(Norm_2)\n",
    "true_or_false(Norm_2)\n",
    "\n",
    "#Case 3\n",
    "Norm_3 = np.linalg.norm(np.dot(I,A)-A)\n",
    "print(Norm_3)\n",
    "true_or_false(Norm_3)\n",
    "\n",
    "#Case 4\n",
    "Norm_4 = np.linalg.norm(np.dot(A,B)-np.dot(B,A))\n",
    "print(Norm_4)\n",
    "true_or_false(Norm_4)\n",
    "\n",
    "#Case 5    \n",
    "A_BC = np.dot(A,np.dot(B,C))\n",
    "AB_C = np.dot(np.dot(A,B),C)\n",
    "\n",
    "Norm_5 = np.linalg.norm(A_BC - AB_C)\n",
    "print(Norm_5)\n",
    "true_or_false(Norm_5)\n",
    "\n",
    "#Case 6\n",
    "Norm_6 = np.linalg.norm(alpha*(A+B)-(alpha*A+alpha*B))\n",
    "print(Norm_6)\n",
    "true_or_false(Norm_6)\n",
    "\n",
    "#Case 7\n",
    "A_BC = np.dot(A,(B+C))\n",
    "AB_AC = (np.dot(A,B)+np.dot(A,C))\n",
    "\n",
    "Norm_7 = np.linalg.norm(A_BC-AB_AC)\n",
    "print(Norm_7)\n",
    "true_or_false(Norm_7)"
   ]
  },
  {
   "cell_type": "markdown",
   "id": "3d44f40d-d06e-46f0-bc2a-bd403bd6f89e",
   "metadata": {},
   "source": [
    "## Problem 2\n",
    "Numpy has a built in function that computes the eigenvalues of a given matrix. By testing random matrices of size $N\\times N$, create a plot displaying the amount of time (on average) to compute the eigenvalues of a matrix of a given size."
   ]
  },
  {
   "cell_type": "code",
   "execution_count": 16,
   "id": "04647d86-bb5a-49a8-b568-1d7c10a0170c",
   "metadata": {},
   "outputs": [
    {
     "data": {
      "image/png": "[encoded data removed]",
      "text/plain": [
       "<Figure size 640x480 with 1 Axes>"
      ]
     },
     "metadata": {},
     "output_type": "display_data"
    }
   ],
   "source": [
    "import numpy.linalg as la\n",
    "import numpy.random\n",
    "import numpy as np \n",
    "from numpy.random import randn\n",
    "import matplotlib.pyplot as plt \n",
    "import time\n",
    "\n",
    "N = np.arange(1,1000,100)\n",
    "T_eig = np.zeros(len(N))\n",
    "\n",
    "\n",
    "def time_eigen_average(N):\n",
    "    \n",
    "    trail_number = 10\n",
    "    trail = range(trail_number)\n",
    "    running = 0\n",
    "    \n",
    "    for i in trail:\n",
    "        \n",
    "        A = randn(N,N)\n",
    "        start = time.time()\n",
    "        B = la.eigvals(A)\n",
    "        end = time.time()\n",
    "        running += end - start\n",
    "        \n",
    "    return running/trail_number\n",
    "\n",
    "for i in range(len(N)):\n",
    "    \n",
    "    T_eig[i] = time_eigen_average(N[i])\n",
    "    \n",
    "plt.plot(N, T_eig)\n",
    "plt.grid()\n",
    "plt.ylabel(\"Time\")\n",
    "plt.xlabel(\"Size\")\n",
    "plt.show()"
   ]
  },
  {
   "cell_type": "markdown",
   "id": "b2f58fa2-465b-4fce-b1d7-6f3327430d76",
   "metadata": {},
   "source": [
    "## Problem 3\n",
    "Generate a random $10\\times 7$ matrix, $A$, and compute its SVD. Demonstrate that these results actually satisfy the definition of the SVD."
   ]
  },
  {
   "cell_type": "code",
   "execution_count": 19,
   "id": "1309d601-99ee-4cb2-b778-a650f039d5ec",
   "metadata": {},
   "outputs": [
    {
     "name": "stdout",
     "output_type": "stream",
     "text": [
      "2.0380870140298705e-14\n"
     ]
    }
   ],
   "source": [
    "A = randn(10,7)\n",
    "U,S,VT = la.svd(A,full_matrices=False)\n",
    "S = np.diag(S)\n",
    "\n",
    "# We want to know whether  A = U.S.VT\n",
    "B = np.dot(np.dot(U,S),VT)\n",
    "\n",
    "print (la.norm(A-B))"
   ]
  },
  {
   "cell_type": "markdown",
   "id": "56434c30-f8c6-4088-b28e-205085fe7c29",
   "metadata": {},
   "source": [
    "## Problem 4\n",
    "Show that the operator norm of a matrix is its first (largest) singular value:\n",
    "$$\\lVert A\\rVert_{op} = \\sigma_1$$\n",
    "Hint: $\\lVert A\\cdot B\\rVert_{op} \\leq \\lVert A\\rVert_{op}\\cdot\\lVert B\\rVert_{op}$."
   ]
  },
  {
   "cell_type": "markdown",
   "id": "551de9ab-f4cb-4ed9-a7f2-ca3decd4df81",
   "metadata": {},
   "source": [
    "$$A=U.\\sum .V^T$$\n",
    "$$\\lVert A\\rVert_{op} =\\lVert U \\cdot \\sum \\cdot V^T\\rVert_{op} \\leq \\lVert U\\rVert_{op}\\cdot\\lVert \\sum \\rVert_{op}\\cdot\\lVert V^T\\rVert_{op}$$\n",
    "Given the fact that U and VT are  unitary, we have : \n",
    "$$\\lVert A\\rVert_{op} \\leq \\lVert \\sum \\rVert_{op}$$\n",
    "We know that (i) $\\sigma_1 \\geq \\sigma_2 \\geq ... \\geq \\sigma_m$ and (ii) $\\lVert \\sum \\rVert_{op} = \\sqrt {\\sigma_1^2 + \\sigma_2^2 + ...+ \\sigma_m^2}$, therefore\n",
    "$$\\lVert A\\rVert_{op} = \\sigma_1$$"
   ]
  },
  {
   "cell_type": "markdown",
   "id": "ca5fc436-22f6-43d4-9e0e-f2113fb88daf",
   "metadata": {},
   "source": [
    "## Exploration"
   ]
  },
  {
   "cell_type": "code",
   "execution_count": 20,
   "id": "1dbfc1da-7cba-444c-8ada-3c35e4842690",
   "metadata": {},
   "outputs": [],
   "source": [
    "# I tried to find a faster way to calculate SVD and I find this article by meta:\n",
    "# the method is called Fast Randomized SVD and they use randomized matrix approximation based on\n",
    "# a 2009 paper by Halko et al.\n",
    "# Meta shows that for a 10^6 * 10^5 matrix with 10^7 non-zeros, it only takes 1 second to compute SVD\n",
    "# compared to ARPACK (scipy.sparse.linal.svds) which takes 60 seconds to do the same job."
   ]
  },
  {
   "cell_type": "code",
   "execution_count": null,
   "id": "3ddde9ac-1d20-46b3-8642-7b56dcdb00ae",
   "metadata": {},
   "outputs": [],
   "source": []
  }
 ],
 "metadata": {
  "kernelspec": {
   "display_name": "Python 3 (ipykernel)",
   "language": "python",
   "name": "python3"
  },
  "language_info": {
   "codemirror_mode": {
    "name": "ipython",
    "version": 3
   },
   "file_extension": ".py",
   "mimetype": "text/x-python",
   "name": "python",
   "nbconvert_exporter": "python",
   "pygments_lexer": "ipython3",
   "version": "3.9.13"
  }
 },
 "nbformat": 4,
 "nbformat_minor": 5
}
