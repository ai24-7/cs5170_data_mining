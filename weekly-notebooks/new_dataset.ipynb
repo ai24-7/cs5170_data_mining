{
 "cells": [
  {
   "cell_type": "code",
   "execution_count": 1,
   "id": "aca5a4d5-703b-4320-97c2-a78f54662c37",
   "metadata": {},
   "outputs": [],
   "source": [
    "import pandas as pd\n",
    "import seaborn as sns\n",
    "import matplotlib.pyplot as plt\n",
    "import numpy as np"
   ]
  },
  {
   "cell_type": "code",
   "execution_count": 2,
   "id": "42bd009c-bc79-4d5f-b877-7630887e2de7",
   "metadata": {},
   "outputs": [],
   "source": [
    "df = pd.read_csv('new_mutations.csv')"
   ]
  },
  {
   "cell_type": "code",
   "execution_count": 4,
   "id": "937f446d-2ed3-4963-a499-9a1aff5b2ebc",
   "metadata": {},
   "outputs": [
    {
     "data": {
      "text/plain": [
       "(250, 8086)"
      ]
     },
     "execution_count": 4,
     "metadata": {},
     "output_type": "execute_result"
    }
   ],
   "source": [
    "df.shape"
   ]
  },
  {
   "cell_type": "code",
   "execution_count": null,
   "id": "7619960e-3ccd-4b72-9a9d-b90e224d3433",
   "metadata": {},
   "outputs": [],
   "source": []
  }
 ],
 "metadata": {
  "kernelspec": {
   "display_name": "Python 3 (ipykernel)",
   "language": "python",
   "name": "python3"
  },
  "language_info": {
   "codemirror_mode": {
    "name": "ipython",
    "version": 3
   },
   "file_extension": ".py",
   "mimetype": "text/x-python",
   "name": "python",
   "nbconvert_exporter": "python",
   "pygments_lexer": "ipython3",
   "version": "3.9.13"
  }
 },
 "nbformat": 4,
 "nbformat_minor": 5
}
