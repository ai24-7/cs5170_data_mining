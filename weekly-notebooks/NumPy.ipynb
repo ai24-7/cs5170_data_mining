{
 "cells": [
  {
   "cell_type": "code",
   "execution_count": 1,
   "id": "695897b9-8e49-4cab-b32e-ca78287b84b0",
   "metadata": {},
   "outputs": [],
   "source": [
    "import numpy as np"
   ]
  },
  {
   "cell_type": "code",
   "execution_count": 2,
   "id": "ebabc6d7-2344-4140-8f7a-b00b3b85fb22",
   "metadata": {},
   "outputs": [
    {
     "data": {
      "text/plain": [
       "array([0, 1, 2, 3, 4, 5, 6, 7, 8, 9])"
      ]
     },
     "execution_count": 2,
     "metadata": {},
     "output_type": "execute_result"
    }
   ],
   "source": [
    "np.arange(0,10)"
   ]
  },
  {
   "cell_type": "code",
   "execution_count": 10,
   "id": "2b025080-60b2-4a28-9cd0-dc9b104f2742",
   "metadata": {},
   "outputs": [
    {
     "data": {
      "text/plain": [
       "array([ 0.        ,  1.11111111,  2.22222222,  3.33333333,  4.44444444,\n",
       "        5.55555556,  6.66666667,  7.77777778,  8.88888889, 10.        ])"
      ]
     },
     "execution_count": 10,
     "metadata": {},
     "output_type": "execute_result"
    }
   ],
   "source": [
    "np.linspace(0,10,10)"
   ]
  },
  {
   "cell_type": "code",
   "execution_count": 11,
   "id": "efedbeb1-27ba-4b81-b88a-6110b7c3140a",
   "metadata": {},
   "outputs": [
    {
     "data": {
      "text/plain": [
       "array([4, 8, 3, 9, 6, 4, 4, 1, 3, 2])"
      ]
     },
     "execution_count": 11,
     "metadata": {},
     "output_type": "execute_result"
    }
   ],
   "source": [
    "np.random.randint(0, 10, size=10)"
   ]
  },
  {
   "cell_type": "code",
   "execution_count": 14,
   "id": "3404e387-e00a-4a02-8b6d-8fb53e08714a",
   "metadata": {},
   "outputs": [],
   "source": [
    "rng = np.random.default_rng(seed=21221)"
   ]
  },
  {
   "cell_type": "code",
   "execution_count": 15,
   "id": "229f4668-789d-4f6c-857e-22cd9fd446ba",
   "metadata": {},
   "outputs": [
    {
     "data": {
      "text/plain": [
       "array([0.86318653, 0.89940288, 0.39362591, 0.31338045, 0.01873723,\n",
       "       0.13049891, 0.77831241, 0.0176273 , 0.02013775, 0.45411026,\n",
       "       0.22684229, 0.45133444, 0.88234635, 0.55249768, 0.18655768,\n",
       "       0.20468182, 0.66505906, 0.55659963, 0.65388868, 0.25177418])"
      ]
     },
     "execution_count": 15,
     "metadata": {},
     "output_type": "execute_result"
    }
   ],
   "source": [
    "rng.random(20)"
   ]
  },
  {
   "cell_type": "code",
   "execution_count": 17,
   "id": "99fb075b-75cf-472f-93c6-5bed49a1906f",
   "metadata": {},
   "outputs": [
    {
     "data": {
      "text/plain": [
       "array([[1, 0, 0, 0],\n",
       "       [0, 3, 0, 0],\n",
       "       [0, 0, 4, 0],\n",
       "       [0, 0, 0, 5]])"
      ]
     },
     "execution_count": 17,
     "metadata": {},
     "output_type": "execute_result"
    }
   ],
   "source": [
    "np.diag([1,3,4,5])"
   ]
  },
  {
   "cell_type": "code",
   "execution_count": 20,
   "id": "d5b4da7c-e976-4dbf-8e07-39e709b5725f",
   "metadata": {},
   "outputs": [],
   "source": [
    "z = np.eye(10, k=4)"
   ]
  },
  {
   "cell_type": "code",
   "execution_count": 23,
   "id": "bf03bfca-e3f5-4e08-b126-4c001a6aa10b",
   "metadata": {},
   "outputs": [
    {
     "data": {
      "text/plain": [
       "array([1., 1., 1., 1., 1., 1.])"
      ]
     },
     "execution_count": 23,
     "metadata": {},
     "output_type": "execute_result"
    }
   ],
   "source": [
    "np.diag(z, k=4)"
   ]
  },
  {
   "cell_type": "code",
   "execution_count": 30,
   "id": "75fc1877-d0a3-4b5f-951d-35ab9eb64c4a",
   "metadata": {},
   "outputs": [
    {
     "data": {
      "text/plain": [
       "array([[0., 0., 0., 0., 1., 0., 0., 0.],\n",
       "       [0., 0., 0., 0., 0., 1., 0., 0.],\n",
       "       [0., 0., 0., 0., 0., 0., 1., 0.],\n",
       "       [0., 0., 0., 0., 0., 0., 0., 1.]])"
      ]
     },
     "execution_count": 30,
     "metadata": {},
     "output_type": "execute_result"
    }
   ],
   "source": [
    "z[0:4, 0:8]"
   ]
  },
  {
   "cell_type": "code",
   "execution_count": 31,
   "id": "f3032f2a-f843-4989-b248-d35d81a46739",
   "metadata": {},
   "outputs": [
    {
     "data": {
      "text/plain": [
       "array([['sahar', 'sahar', 'sahar'],\n",
       "       ['sahar', 'sahar', 'sahar'],\n",
       "       ['sahar', 'sahar', 'sahar'],\n",
       "       ['sahar', 'sahar', 'sahar'],\n",
       "       ['sahar', 'sahar', 'sahar'],\n",
       "       ['sahar', 'sahar', 'sahar'],\n",
       "       ['sahar', 'sahar', 'sahar'],\n",
       "       ['sahar', 'sahar', 'sahar']], dtype='<U5')"
      ]
     },
     "execution_count": 31,
     "metadata": {},
     "output_type": "execute_result"
    }
   ],
   "source": [
    "np.full((8,3), 'sahar')"
   ]
  },
  {
   "cell_type": "code",
   "execution_count": 33,
   "id": "ddc2def0-6013-4142-9454-196975f81106",
   "metadata": {},
   "outputs": [
    {
     "data": {
      "text/plain": [
       "array([[0.        , 0.        , 0.4472136 , 0.0531494 , 0.18257419],\n",
       "       [0.4472136 , 0.2125976 , 0.36514837, 0.4472136 , 0.4783446 ],\n",
       "       [0.54772256, 0.4472136 , 0.85039041, 0.73029674, 0.4472136 ]])"
      ]
     },
     "execution_count": 33,
     "metadata": {},
     "output_type": "execute_result"
    }
   ],
   "source": [
    "np.empty((3,5))"
   ]
  },
  {
   "cell_type": "code",
   "execution_count": 39,
   "id": "85bd3db4-3b9a-4f2d-a67b-c9bd42f261d6",
   "metadata": {},
   "outputs": [],
   "source": [
    "x = np.full((3,4), [99, 98, 99, 99], dtype='i4')"
   ]
  },
  {
   "cell_type": "code",
   "execution_count": 42,
   "id": "64fe082d-dac4-4049-9aa8-6bde65f307cb",
   "metadata": {},
   "outputs": [
    {
     "data": {
      "text/plain": [
       "array([[99, 98, 99, 99],\n",
       "       [99, 98, 99, 99],\n",
       "       [99, 98, 99, 99]], dtype=int32)"
      ]
     },
     "execution_count": 42,
     "metadata": {},
     "output_type": "execute_result"
    }
   ],
   "source": [
    "x"
   ]
  },
  {
   "cell_type": "code",
   "execution_count": 40,
   "id": "e0a28643-80d7-4b80-ac6b-6818e7b32937",
   "metadata": {},
   "outputs": [
    {
     "data": {
      "text/plain": [
       "array([99, 98, 99, 99, 99, 98, 99, 99, 99, 98, 99, 99], dtype=int32)"
      ]
     },
     "execution_count": 40,
     "metadata": {},
     "output_type": "execute_result"
    }
   ],
   "source": [
    "x.flatten()"
   ]
  },
  {
   "cell_type": "code",
   "execution_count": 41,
   "id": "81d6d107-b815-4262-a959-60134b40546f",
   "metadata": {},
   "outputs": [
    {
     "data": {
      "text/plain": [
       "array([99, 98, 99, 99, 99, 98, 99, 99, 99, 98, 99, 99], dtype=int32)"
      ]
     },
     "execution_count": 41,
     "metadata": {},
     "output_type": "execute_result"
    }
   ],
   "source": [
    "x.ravel()"
   ]
  },
  {
   "cell_type": "code",
   "execution_count": null,
   "id": "b3aa57bf-88fc-46b2-9d49-09526474b83b",
   "metadata": {},
   "outputs": [],
   "source": []
  }
 ],
 "metadata": {
  "kernelspec": {
   "display_name": "Python 3 (ipykernel)",
   "language": "python",
   "name": "python3"
  },
  "language_info": {
   "codemirror_mode": {
    "name": "ipython",
    "version": 3
   },
   "file_extension": ".py",
   "mimetype": "text/x-python",
   "name": "python",
   "nbconvert_exporter": "python",
   "pygments_lexer": "ipython3",
   "version": "3.8.16"
  }
 },
 "nbformat": 4,
 "nbformat_minor": 5
}
