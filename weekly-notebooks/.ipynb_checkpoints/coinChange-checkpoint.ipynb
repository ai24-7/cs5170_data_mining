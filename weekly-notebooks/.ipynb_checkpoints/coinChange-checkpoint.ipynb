{
 "cells": [
  {
   "cell_type": "code",
   "execution_count": 1,
   "id": "a4db13ff-6e3c-4143-82a1-710514c3b6b0",
   "metadata": {},
   "outputs": [],
   "source": [
    "def getNumWays(x, coins, num_coins):\n",
    "    # Initialize an array to store the number of ways to make each value from 0 to x.\n",
    "    ways = [0] * (x + 1)\n",
    "    \n",
    "    # There is 1 way to make a total of 0, which is to not use any coins.\n",
    "    ways[0] = 1\n",
    "    \n",
    "    # Iterate through each coin in the coins array.\n",
    "    for i in range(num_coins):\n",
    "        coin_value = coins[i]\n",
    "        \n",
    "        # Update the ways array for values from coin_value to x.\n",
    "        for j in range(coin_value, x + 1):\n",
    "            ways[j] += ways[j - coin_value]\n",
    "    \n",
    "    # The number of ways to make the total 'x' is stored in ways[x].\n",
    "    return ways[x]"
   ]
  },
  {
   "cell_type": "code",
   "execution_count": 2,
   "id": "44739957-c8ef-455f-bf2d-068622be68ba",
   "metadata": {},
   "outputs": [
    {
     "data": {
      "text/plain": [
       "9"
      ]
     },
     "execution_count": 2,
     "metadata": {},
     "output_type": "execute_result"
    }
   ],
   "source": [
    "getNumWays(x=15,coins=[1,3,8],num_coins=3)"
   ]
  },
  {
   "cell_type": "code",
   "execution_count": 16,
   "id": "0418a6e7-06d3-4d55-a8f1-7433dfccca17",
   "metadata": {},
   "outputs": [],
   "source": [
    "def getNumWays_2(x, coins, num_coins):\n",
    "    # Initialize an array to store the number of ways to make each value from 0 to x.\n",
    "    ways = [0] * (x + 1)\n",
    "    \n",
    "    # There is 1 way to make a total of 0, which is to not use any coins.\n",
    "    ways[0] = 1\n",
    "    \n",
    "    # Iterate through each coin in the coins array.\n",
    "    for i in range(num_coins):\n",
    "        coin_value = coins[i]\n",
    "        \n",
    "        # Update the ways array for values from coin_value to x.\n",
    "        for j in range(coin_value, x + 1):\n",
    "            ways[j] += ways[j - coin_value]\n",
    "    \n",
    "    # The number of ways to make the total 'x' is stored in ways[x].\n",
    "    return ways[11], ways[7], ways[x], ways"
   ]
  },
  {
   "cell_type": "code",
   "execution_count": 17,
   "id": "46c2493b-afb9-40c8-a1f5-6899ac6d3a95",
   "metadata": {},
   "outputs": [
    {
     "data": {
      "text/plain": [
       "(6, 3, 9, [1, 1, 1, 2, 2, 2, 3, 3, 4, 5, 5, 6, 7, 7, 8, 9])"
      ]
     },
     "execution_count": 17,
     "metadata": {},
     "output_type": "execute_result"
    }
   ],
   "source": [
    "getNumWays_2(x=15,coins=[1,3,8],num_coins=3)"
   ]
  },
  {
   "cell_type": "code",
   "execution_count": 19,
   "id": "c52eb275-0e41-4c0f-8c37-ce92b8bc4f9a",
   "metadata": {},
   "outputs": [],
   "source": [
    "def maxSubseqSumDP(A, n):\n",
    "    LocalMax = [0] * n\n",
    "    global_max = A[0]\n",
    "    LocalMax[0] = A[0]\n",
    "    \n",
    "    for i in range(1, n):\n",
    "        LocalMax[i] = max(A[i], LocalMax[i-1] + A[i])\n",
    "        print(f'local max at {i} is {LocalMax[i]}')\n",
    "        global_max = max(global_max, LocalMax[i])\n",
    "        print(f'global max at {i} is {global_max}')"
   ]
  },
  {
   "cell_type": "code",
   "execution_count": 20,
   "id": "c90a1d72-ba7b-4c3e-b37f-06b6477f7320",
   "metadata": {},
   "outputs": [
    {
     "name": "stdout",
     "output_type": "stream",
     "text": [
      "local max at 1 is 4\n",
      "global max at 1 is 4\n",
      "local max at 2 is 12\n",
      "global max at 2 is 12\n"
     ]
    }
   ],
   "source": [
    "maxSubseqSumDP([1,3,8],3)"
   ]
  },
  {
   "cell_type": "code",
   "execution_count": null,
   "id": "bcbf9d46-a29f-4701-82fe-aa16db3b7ed8",
   "metadata": {},
   "outputs": [],
   "source": []
  }
 ],
 "metadata": {
  "kernelspec": {
   "display_name": "Python 3 (ipykernel)",
   "language": "python",
   "name": "python3"
  },
  "language_info": {
   "codemirror_mode": {
    "name": "ipython",
    "version": 3
   },
   "file_extension": ".py",
   "mimetype": "text/x-python",
   "name": "python",
   "nbconvert_exporter": "python",
   "pygments_lexer": "ipython3",
   "version": "3.8.16"
  }
 },
 "nbformat": 4,
 "nbformat_minor": 5
}
