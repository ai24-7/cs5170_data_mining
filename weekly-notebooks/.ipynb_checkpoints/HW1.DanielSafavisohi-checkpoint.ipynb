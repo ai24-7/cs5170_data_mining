{
 "cells": [
  {
   "cell_type": "code",
   "execution_count": 42,
   "id": "7842c2b4-01fa-4ee8-a475-0bc79aeb4bf1",
   "metadata": {},
   "outputs": [],
   "source": [
    "import pandas as pd"
   ]
  },
  {
   "cell_type": "code",
   "execution_count": 43,
   "id": "530d1703-26aa-4e65-93b5-daab6be94d37",
   "metadata": {},
   "outputs": [],
   "source": [
    "df = pd.read_csv(\"mutations.csv\")"
   ]
  },
  {
   "cell_type": "code",
   "execution_count": 44,
   "id": "4618bf40-a646-4451-a3e3-a19ca598c82c",
   "metadata": {},
   "outputs": [
    {
     "data": {
      "text/html": [
       "<div>\n",
       "<style scoped>\n",
       "    .dataframe tbody tr th:only-of-type {\n",
       "        vertical-align: middle;\n",
       "    }\n",
       "\n",
       "    .dataframe tbody tr th {\n",
       "        vertical-align: top;\n",
       "    }\n",
       "\n",
       "    .dataframe thead th {\n",
       "        text-align: right;\n",
       "    }\n",
       "</style>\n",
       "<table border=\"1\" class=\"dataframe\">\n",
       "  <thead>\n",
       "    <tr style=\"text-align: right;\">\n",
       "      <th></th>\n",
       "      <th>class</th>\n",
       "      <th>GOT1_GRCh37_10:101163586-101163586_Missense-Mutation_SNP_C-C-T</th>\n",
       "      <th>TEX36_GRCh37_10:127371546-127371546_Nonsense-Mutation_SNP_G-G-A</th>\n",
       "      <th>KIAA1217_GRCh37_10:24810824-24810824_Missense-Mutation_SNP_C-C-T</th>\n",
       "      <th>SIRT1_GRCh37_10:69676051-69676051_Missense-Mutation_SNP_C-C-T</th>\n",
       "      <th>MYPN_GRCh37_10:69881845-69881845_Missense-Mutation_SNP_C-C-T</th>\n",
       "      <th>LARP4B_GRCh37_10:890939-890939_Frame-Shift-Del_DEL_T-T--</th>\n",
       "      <th>NPAT_GRCh37_11:108032094-108032094_Missense-Mutation_SNP_G-G-T_G-G-A</th>\n",
       "      <th>ARNTL_GRCh37_11:13402723-13402723_Silent_SNP_G-G-A</th>\n",
       "      <th>COPB1_GRCh37_11:14480092-14480092_Missense-Mutation_SNP_G-G-A_G-G-T</th>\n",
       "      <th>...</th>\n",
       "      <th>ZNF610_GRCh37_19:52856965-52856965_Missense-Mutation_SNP_G-G-A</th>\n",
       "      <th>RNPEPL1_GRCh37_2:241516310-241516310_Missense-Mutation_SNP_C-C-T</th>\n",
       "      <th>YTHDC2_GRCh37_5:112889319-112889319_Missense-Mutation_SNP_G-G-A</th>\n",
       "      <th>DCBLD1_GRCh37_6:117853550-117853550_Missense-Mutation_SNP_C-C-T</th>\n",
       "      <th>TBX5_GRCh37_12:114792393-114792393_3'UTR_SNP_T-T-A</th>\n",
       "      <th>VPS37A_GRCh37_8:17153149-17153149_3'UTR_DEL_A-A--</th>\n",
       "      <th>SRGAP3_GRCh37_3:9023972-9023972_3'UTR_DEL_A-A--</th>\n",
       "      <th>KMT2C_GRCh37_7:151836804-151836804_Nonsense-Mutation_SNP_G-G-A</th>\n",
       "      <th>CDKN1C_GRCh37_11:2904846-2904846_3'UTR_DEL_T-T--</th>\n",
       "      <th>LMO7_GRCh37_13:76432354-76432354_3'UTR_SNP_C-C-T</th>\n",
       "    </tr>\n",
       "  </thead>\n",
       "  <tbody>\n",
       "    <tr>\n",
       "      <th>0</th>\n",
       "      <td>NC1</td>\n",
       "      <td>1</td>\n",
       "      <td>1</td>\n",
       "      <td>1</td>\n",
       "      <td>1</td>\n",
       "      <td>1</td>\n",
       "      <td>1</td>\n",
       "      <td>1</td>\n",
       "      <td>1</td>\n",
       "      <td>1</td>\n",
       "      <td>...</td>\n",
       "      <td>0</td>\n",
       "      <td>0</td>\n",
       "      <td>0</td>\n",
       "      <td>0</td>\n",
       "      <td>0</td>\n",
       "      <td>0</td>\n",
       "      <td>0</td>\n",
       "      <td>0</td>\n",
       "      <td>0</td>\n",
       "      <td>0</td>\n",
       "    </tr>\n",
       "    <tr>\n",
       "      <th>1</th>\n",
       "      <td>C1</td>\n",
       "      <td>0</td>\n",
       "      <td>0</td>\n",
       "      <td>0</td>\n",
       "      <td>0</td>\n",
       "      <td>0</td>\n",
       "      <td>0</td>\n",
       "      <td>0</td>\n",
       "      <td>0</td>\n",
       "      <td>0</td>\n",
       "      <td>...</td>\n",
       "      <td>0</td>\n",
       "      <td>0</td>\n",
       "      <td>0</td>\n",
       "      <td>0</td>\n",
       "      <td>0</td>\n",
       "      <td>0</td>\n",
       "      <td>0</td>\n",
       "      <td>0</td>\n",
       "      <td>0</td>\n",
       "      <td>0</td>\n",
       "    </tr>\n",
       "    <tr>\n",
       "      <th>2</th>\n",
       "      <td>NC2</td>\n",
       "      <td>0</td>\n",
       "      <td>0</td>\n",
       "      <td>0</td>\n",
       "      <td>0</td>\n",
       "      <td>0</td>\n",
       "      <td>0</td>\n",
       "      <td>0</td>\n",
       "      <td>0</td>\n",
       "      <td>0</td>\n",
       "      <td>...</td>\n",
       "      <td>0</td>\n",
       "      <td>0</td>\n",
       "      <td>0</td>\n",
       "      <td>0</td>\n",
       "      <td>0</td>\n",
       "      <td>0</td>\n",
       "      <td>0</td>\n",
       "      <td>0</td>\n",
       "      <td>0</td>\n",
       "      <td>0</td>\n",
       "    </tr>\n",
       "    <tr>\n",
       "      <th>3</th>\n",
       "      <td>NC3</td>\n",
       "      <td>0</td>\n",
       "      <td>0</td>\n",
       "      <td>0</td>\n",
       "      <td>0</td>\n",
       "      <td>0</td>\n",
       "      <td>0</td>\n",
       "      <td>0</td>\n",
       "      <td>0</td>\n",
       "      <td>0</td>\n",
       "      <td>...</td>\n",
       "      <td>0</td>\n",
       "      <td>0</td>\n",
       "      <td>0</td>\n",
       "      <td>0</td>\n",
       "      <td>0</td>\n",
       "      <td>0</td>\n",
       "      <td>0</td>\n",
       "      <td>0</td>\n",
       "      <td>0</td>\n",
       "      <td>0</td>\n",
       "    </tr>\n",
       "    <tr>\n",
       "      <th>4</th>\n",
       "      <td>NC4</td>\n",
       "      <td>0</td>\n",
       "      <td>0</td>\n",
       "      <td>0</td>\n",
       "      <td>0</td>\n",
       "      <td>0</td>\n",
       "      <td>0</td>\n",
       "      <td>0</td>\n",
       "      <td>0</td>\n",
       "      <td>0</td>\n",
       "      <td>...</td>\n",
       "      <td>0</td>\n",
       "      <td>0</td>\n",
       "      <td>0</td>\n",
       "      <td>0</td>\n",
       "      <td>0</td>\n",
       "      <td>0</td>\n",
       "      <td>0</td>\n",
       "      <td>0</td>\n",
       "      <td>0</td>\n",
       "      <td>0</td>\n",
       "    </tr>\n",
       "  </tbody>\n",
       "</table>\n",
       "<p>5 rows × 7530 columns</p>\n",
       "</div>"
      ],
      "text/plain": [
       "  class  GOT1_GRCh37_10:101163586-101163586_Missense-Mutation_SNP_C-C-T  \\\n",
       "0   NC1                                                  1                \n",
       "1    C1                                                  0                \n",
       "2   NC2                                                  0                \n",
       "3   NC3                                                  0                \n",
       "4   NC4                                                  0                \n",
       "\n",
       "   TEX36_GRCh37_10:127371546-127371546_Nonsense-Mutation_SNP_G-G-A  \\\n",
       "0                                                  1                 \n",
       "1                                                  0                 \n",
       "2                                                  0                 \n",
       "3                                                  0                 \n",
       "4                                                  0                 \n",
       "\n",
       "   KIAA1217_GRCh37_10:24810824-24810824_Missense-Mutation_SNP_C-C-T  \\\n",
       "0                                                  1                  \n",
       "1                                                  0                  \n",
       "2                                                  0                  \n",
       "3                                                  0                  \n",
       "4                                                  0                  \n",
       "\n",
       "   SIRT1_GRCh37_10:69676051-69676051_Missense-Mutation_SNP_C-C-T  \\\n",
       "0                                                  1               \n",
       "1                                                  0               \n",
       "2                                                  0               \n",
       "3                                                  0               \n",
       "4                                                  0               \n",
       "\n",
       "   MYPN_GRCh37_10:69881845-69881845_Missense-Mutation_SNP_C-C-T  \\\n",
       "0                                                  1              \n",
       "1                                                  0              \n",
       "2                                                  0              \n",
       "3                                                  0              \n",
       "4                                                  0              \n",
       "\n",
       "   LARP4B_GRCh37_10:890939-890939_Frame-Shift-Del_DEL_T-T--  \\\n",
       "0                                                  1          \n",
       "1                                                  0          \n",
       "2                                                  0          \n",
       "3                                                  0          \n",
       "4                                                  0          \n",
       "\n",
       "   NPAT_GRCh37_11:108032094-108032094_Missense-Mutation_SNP_G-G-T_G-G-A  \\\n",
       "0                                                  1                      \n",
       "1                                                  0                      \n",
       "2                                                  0                      \n",
       "3                                                  0                      \n",
       "4                                                  0                      \n",
       "\n",
       "   ARNTL_GRCh37_11:13402723-13402723_Silent_SNP_G-G-A  \\\n",
       "0                                                  1    \n",
       "1                                                  0    \n",
       "2                                                  0    \n",
       "3                                                  0    \n",
       "4                                                  0    \n",
       "\n",
       "   COPB1_GRCh37_11:14480092-14480092_Missense-Mutation_SNP_G-G-A_G-G-T  ...  \\\n",
       "0                                                  1                    ...   \n",
       "1                                                  0                    ...   \n",
       "2                                                  0                    ...   \n",
       "3                                                  0                    ...   \n",
       "4                                                  0                    ...   \n",
       "\n",
       "   ZNF610_GRCh37_19:52856965-52856965_Missense-Mutation_SNP_G-G-A  \\\n",
       "0                                                  0                \n",
       "1                                                  0                \n",
       "2                                                  0                \n",
       "3                                                  0                \n",
       "4                                                  0                \n",
       "\n",
       "   RNPEPL1_GRCh37_2:241516310-241516310_Missense-Mutation_SNP_C-C-T  \\\n",
       "0                                                  0                  \n",
       "1                                                  0                  \n",
       "2                                                  0                  \n",
       "3                                                  0                  \n",
       "4                                                  0                  \n",
       "\n",
       "   YTHDC2_GRCh37_5:112889319-112889319_Missense-Mutation_SNP_G-G-A  \\\n",
       "0                                                  0                 \n",
       "1                                                  0                 \n",
       "2                                                  0                 \n",
       "3                                                  0                 \n",
       "4                                                  0                 \n",
       "\n",
       "   DCBLD1_GRCh37_6:117853550-117853550_Missense-Mutation_SNP_C-C-T  \\\n",
       "0                                                  0                 \n",
       "1                                                  0                 \n",
       "2                                                  0                 \n",
       "3                                                  0                 \n",
       "4                                                  0                 \n",
       "\n",
       "   TBX5_GRCh37_12:114792393-114792393_3'UTR_SNP_T-T-A  \\\n",
       "0                                                  0    \n",
       "1                                                  0    \n",
       "2                                                  0    \n",
       "3                                                  0    \n",
       "4                                                  0    \n",
       "\n",
       "   VPS37A_GRCh37_8:17153149-17153149_3'UTR_DEL_A-A--  \\\n",
       "0                                                  0   \n",
       "1                                                  0   \n",
       "2                                                  0   \n",
       "3                                                  0   \n",
       "4                                                  0   \n",
       "\n",
       "   SRGAP3_GRCh37_3:9023972-9023972_3'UTR_DEL_A-A--  \\\n",
       "0                                                0   \n",
       "1                                                0   \n",
       "2                                                0   \n",
       "3                                                0   \n",
       "4                                                0   \n",
       "\n",
       "   KMT2C_GRCh37_7:151836804-151836804_Nonsense-Mutation_SNP_G-G-A  \\\n",
       "0                                                  0                \n",
       "1                                                  0                \n",
       "2                                                  0                \n",
       "3                                                  0                \n",
       "4                                                  0                \n",
       "\n",
       "   CDKN1C_GRCh37_11:2904846-2904846_3'UTR_DEL_T-T--  \\\n",
       "0                                                 0   \n",
       "1                                                 0   \n",
       "2                                                 0   \n",
       "3                                                 0   \n",
       "4                                                 0   \n",
       "\n",
       "   LMO7_GRCh37_13:76432354-76432354_3'UTR_SNP_C-C-T  \n",
       "0                                                 0  \n",
       "1                                                 0  \n",
       "2                                                 0  \n",
       "3                                                 0  \n",
       "4                                                 0  \n",
       "\n",
       "[5 rows x 7530 columns]"
      ]
     },
     "execution_count": 44,
     "metadata": {},
     "output_type": "execute_result"
    }
   ],
   "source": [
    "df.head()"
   ]
  },
  {
   "cell_type": "code",
   "execution_count": 4,
   "id": "41e4cc81-8594-4a68-8b21-044635942a47",
   "metadata": {},
   "outputs": [
    {
     "name": "stdout",
     "output_type": "stream",
     "text": [
      "<class 'pandas.core.frame.DataFrame'>\n",
      "RangeIndex: 271 entries, 0 to 270\n",
      "Columns: 7530 entries, class to LMO7_GRCh37_13:76432354-76432354_3'UTR_SNP_C-C-T\n",
      "dtypes: int64(7529), object(1)\n",
      "memory usage: 15.6+ MB\n"
     ]
    }
   ],
   "source": [
    "df.info(verbose=False)"
   ]
  },
  {
   "cell_type": "code",
   "execution_count": 70,
   "id": "4bfdb08f-9c4e-4d20-89b6-6f673203587e",
   "metadata": {},
   "outputs": [],
   "source": [
    "# So the number of unique mutations is: 7529 \n",
    "# And the number of patients is : 271"
   ]
  },
  {
   "cell_type": "code",
   "execution_count": 16,
   "id": "986cc3dd-5152-444a-861a-728f7582770f",
   "metadata": {},
   "outputs": [
    {
     "data": {
      "text/plain": [
       "Int64Index([1], dtype='int64')"
      ]
     },
     "execution_count": 16,
     "metadata": {},
     "output_type": "execute_result"
    }
   ],
   "source": [
    "df.loc[df['class']=='C1'].index"
   ]
  },
  {
   "cell_type": "code",
   "execution_count": 17,
   "id": "70c9ad54-5a8e-4105-a873-92b02adb7171",
   "metadata": {},
   "outputs": [
    {
     "data": {
      "text/plain": [
       "4"
      ]
     },
     "execution_count": 17,
     "metadata": {},
     "output_type": "execute_result"
    }
   ],
   "source": [
    "df.iloc[1][1:].sum()"
   ]
  },
  {
   "cell_type": "code",
   "execution_count": 71,
   "id": "e8e090ec-0f16-4bee-9388-62bd37e99411",
   "metadata": {},
   "outputs": [],
   "source": [
    "# Number of mutations for individual C1 is 4."
   ]
  },
  {
   "cell_type": "code",
   "execution_count": 14,
   "id": "7d55eb0e-9e45-4a01-8de1-aa057d817405",
   "metadata": {},
   "outputs": [
    {
     "data": {
      "text/plain": [
       "Int64Index([0], dtype='int64')"
      ]
     },
     "execution_count": 14,
     "metadata": {},
     "output_type": "execute_result"
    }
   ],
   "source": [
    "df.loc[df['class']=='NC1'].index"
   ]
  },
  {
   "cell_type": "code",
   "execution_count": 18,
   "id": "38a7b2dc-9cff-4a95-b440-0cd9faf66d1c",
   "metadata": {},
   "outputs": [
    {
     "data": {
      "text/plain": [
       "155"
      ]
     },
     "execution_count": 18,
     "metadata": {},
     "output_type": "execute_result"
    }
   ],
   "source": [
    "df.iloc[0][1:].sum()"
   ]
  },
  {
   "cell_type": "code",
   "execution_count": 72,
   "id": "4560f46a-7f6c-4997-907c-62ba60d87dd1",
   "metadata": {},
   "outputs": [],
   "source": [
    "# Number of mutations for individual NC1 is 155."
   ]
  },
  {
   "cell_type": "code",
   "execution_count": 29,
   "id": "b8a359ab-4791-4d6d-b344-b5c03973b63f",
   "metadata": {},
   "outputs": [
    {
     "name": "stdout",
     "output_type": "stream",
     "text": [
      " Minimum number of mutations per individual is : 0\n",
      " Maximum number of mutations per individual is : 1757\n",
      " Average number of mutations per individual is : 59.33579335793358\n"
     ]
    }
   ],
   "source": [
    "mutations_list = []\n",
    "for i in range(271):\n",
    "    mutations_per_person = df.iloc[i][1:].sum()\n",
    "    mutations_list.append(mutations_per_person)\n",
    "\n",
    "print(' Minimum number of mutations per individual is :', min(mutations_list))\n",
    "print(' Maximum number of mutations per individual is :', max(mutations_list))\n",
    "print(' Average number of mutations per individual is :', sum(mutations_list)/len(mutations_list))"
   ]
  },
  {
   "cell_type": "code",
   "execution_count": 27,
   "id": "3b4172f9-8e93-4354-9db3-5082647afdb2",
   "metadata": {},
   "outputs": [],
   "source": [
    "list_of_genes = df.columns"
   ]
  },
  {
   "cell_type": "code",
   "execution_count": 28,
   "id": "a397afaf-a8e2-4474-870a-55904be12476",
   "metadata": {},
   "outputs": [
    {
     "data": {
      "text/plain": [
       "Index(['class',\n",
       "       'GOT1_GRCh37_10:101163586-101163586_Missense-Mutation_SNP_C-C-T',\n",
       "       'TEX36_GRCh37_10:127371546-127371546_Nonsense-Mutation_SNP_G-G-A',\n",
       "       'KIAA1217_GRCh37_10:24810824-24810824_Missense-Mutation_SNP_C-C-T',\n",
       "       'SIRT1_GRCh37_10:69676051-69676051_Missense-Mutation_SNP_C-C-T',\n",
       "       'MYPN_GRCh37_10:69881845-69881845_Missense-Mutation_SNP_C-C-T',\n",
       "       'LARP4B_GRCh37_10:890939-890939_Frame-Shift-Del_DEL_T-T--',\n",
       "       'NPAT_GRCh37_11:108032094-108032094_Missense-Mutation_SNP_G-G-T_G-G-A',\n",
       "       'ARNTL_GRCh37_11:13402723-13402723_Silent_SNP_G-G-A',\n",
       "       'COPB1_GRCh37_11:14480092-14480092_Missense-Mutation_SNP_G-G-A_G-G-T',\n",
       "       ...\n",
       "       'ZNF610_GRCh37_19:52856965-52856965_Missense-Mutation_SNP_G-G-A',\n",
       "       'RNPEPL1_GRCh37_2:241516310-241516310_Missense-Mutation_SNP_C-C-T',\n",
       "       'YTHDC2_GRCh37_5:112889319-112889319_Missense-Mutation_SNP_G-G-A',\n",
       "       'DCBLD1_GRCh37_6:117853550-117853550_Missense-Mutation_SNP_C-C-T',\n",
       "       'TBX5_GRCh37_12:114792393-114792393_3'UTR_SNP_T-T-A',\n",
       "       'VPS37A_GRCh37_8:17153149-17153149_3'UTR_DEL_A-A--',\n",
       "       'SRGAP3_GRCh37_3:9023972-9023972_3'UTR_DEL_A-A--',\n",
       "       'KMT2C_GRCh37_7:151836804-151836804_Nonsense-Mutation_SNP_G-G-A',\n",
       "       'CDKN1C_GRCh37_11:2904846-2904846_3'UTR_DEL_T-T--',\n",
       "       'LMO7_GRCh37_13:76432354-76432354_3'UTR_SNP_C-C-T'],\n",
       "      dtype='object', length=7530)"
      ]
     },
     "execution_count": 28,
     "metadata": {},
     "output_type": "execute_result"
    }
   ],
   "source": [
    "list_of_genes"
   ]
  },
  {
   "cell_type": "code",
   "execution_count": 73,
   "id": "da969cee-4b01-4f41-b8b2-25226b80052b",
   "metadata": {},
   "outputs": [
    {
     "name": "stdout",
     "output_type": "stream",
     "text": [
      "Genes have KRAS in their name are :  ['KRAS_GRCh37_12:25398284-25398284_Missense-Mutation_SNP_C-C-A_C-C-T_C-C-G', 'KRAS_GRCh37_12:25398281-25398281_Missense-Mutation_SNP_C-C-T_C-C-A', 'KRAS_GRCh37_12:25398285-25398285_Missense-Mutation_SNP_C-C-A_C-C-T', \"KRAS_GRCh37_12:25361440-25361440_3'Flank_DEL_A-A--\"]\n",
      "Genes have BRAF in their name are :  []\n"
     ]
    }
   ],
   "source": [
    "# All genes have \"KRAS\" in their name\n",
    "kras_genes = [gene for gene in list_of_genes if \"KRAS\" in gene]\n",
    "print('Genes have KRAS in their name are : ', kras_genes)\n",
    "# All genes have \"BRAF\" in their name\n",
    "braf_genes = [gene for gene in list_of_genes if \"BRAF\" in gene]\n",
    "print('Genes have BRAF in their name are : ', braf_genes)"
   ]
  },
  {
   "cell_type": "code",
   "execution_count": 60,
   "id": "11e21d91-ffdb-4258-869d-d232f6ebd41e",
   "metadata": {},
   "outputs": [
    {
     "data": {
      "text/html": [
       "<div>\n",
       "<style scoped>\n",
       "    .dataframe tbody tr th:only-of-type {\n",
       "        vertical-align: middle;\n",
       "    }\n",
       "\n",
       "    .dataframe tbody tr th {\n",
       "        vertical-align: top;\n",
       "    }\n",
       "\n",
       "    .dataframe thead th {\n",
       "        text-align: right;\n",
       "    }\n",
       "</style>\n",
       "<table border=\"1\" class=\"dataframe\">\n",
       "  <thead>\n",
       "    <tr style=\"text-align: right;\">\n",
       "      <th></th>\n",
       "      <th>Number of individuals with mutations</th>\n",
       "    </tr>\n",
       "  </thead>\n",
       "  <tbody>\n",
       "    <tr>\n",
       "      <th>KRAS_GRCh37_12:25398284-25398284_Missense-Mutation_SNP_C-C-A_C-C-T_C-C-G</th>\n",
       "      <td>22</td>\n",
       "    </tr>\n",
       "    <tr>\n",
       "      <th>KRAS_GRCh37_12:25398281-25398281_Missense-Mutation_SNP_C-C-T_C-C-A</th>\n",
       "      <td>5</td>\n",
       "    </tr>\n",
       "    <tr>\n",
       "      <th>KRAS_GRCh37_12:25398285-25398285_Missense-Mutation_SNP_C-C-A_C-C-T</th>\n",
       "      <td>2</td>\n",
       "    </tr>\n",
       "    <tr>\n",
       "      <th>KRAS_GRCh37_12:25361440-25361440_3'Flank_DEL_A-A--</th>\n",
       "      <td>3</td>\n",
       "    </tr>\n",
       "  </tbody>\n",
       "</table>\n",
       "</div>"
      ],
      "text/plain": [
       "                                                    Number of individuals with mutations\n",
       "KRAS_GRCh37_12:25398284-25398284_Missense-Mutat...                                    22\n",
       "KRAS_GRCh37_12:25398281-25398281_Missense-Mutat...                                     5\n",
       "KRAS_GRCh37_12:25398285-25398285_Missense-Mutat...                                     2\n",
       "KRAS_GRCh37_12:25361440-25361440_3'Flank_DEL_A-A--                                     3"
      ]
     },
     "execution_count": 60,
     "metadata": {},
     "output_type": "execute_result"
    }
   ],
   "source": [
    "# Number of individuals who have a mutation in the ‘KRAS’ gene\n",
    "\n",
    "number_of_individuals_with_kras = []\n",
    "for gene in kras_genes:\n",
    "    num_individuals = df[gene].sum()\n",
    "    number_of_individuals_with_kras.append(num_individuals)\n",
    "kras_dict = {'Number of individuals with mutations' : number_of_individuals_with_kras,}\n",
    "kras_df = pd.DataFrame( kras_dict, index = kras_genes)\n",
    "kras_df"
   ]
  },
  {
   "cell_type": "code",
   "execution_count": 68,
   "id": "50ab9493-dd32-4e7f-9870-ed54fd83c67c",
   "metadata": {},
   "outputs": [],
   "source": [
    "y = []\n",
    "for j in list_of_genes[1:]:\n",
    "    # number of individuals who have mutation j\n",
    "    m = df[j].sum()\n",
    "    y.append(m)"
   ]
  },
  {
   "cell_type": "code",
   "execution_count": 69,
   "id": "7635f10a-a0f5-412e-b973-8dad47ec16d3",
   "metadata": {},
   "outputs": [
    {
     "name": "stdout",
     "output_type": "stream",
     "text": [
      "The average number of individuals per mutation:  2.136\n",
      "The maximum number of individuals per mutation:  24\n",
      "The minimum number of individuals per mutation:  1\n"
     ]
    }
   ],
   "source": [
    "print('The average number of individuals per mutation: ',round(sum(y)/len(y), 3))\n",
    "print('The maximum number of individuals per mutation: ',max(y))\n",
    "print('The minimum number of individuals per mutation: ',min(y))"
   ]
  },
  {
   "cell_type": "code",
   "execution_count": null,
   "id": "5fd7d04e-61af-47fb-8554-7b1eda2c7343",
   "metadata": {},
   "outputs": [],
   "source": []
  }
 ],
 "metadata": {
  "kernelspec": {
   "display_name": "Python 3 (ipykernel)",
   "language": "python",
   "name": "python3"
  },
  "language_info": {
   "codemirror_mode": {
    "name": "ipython",
    "version": 3
   },
   "file_extension": ".py",
   "mimetype": "text/x-python",
   "name": "python",
   "nbconvert_exporter": "python",
   "pygments_lexer": "ipython3",
   "version": "3.8.16"
  }
 },
 "nbformat": 4,
 "nbformat_minor": 5
}
