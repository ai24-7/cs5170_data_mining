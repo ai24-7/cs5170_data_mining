{
 "cells": [
  {
   "cell_type": "code",
   "execution_count": 1,
   "id": "746bd497-1d64-47b2-8c8d-aec1b867e3ea",
   "metadata": {},
   "outputs": [],
   "source": [
    "import pandas as pd\n",
    "import seaborn as sns\n",
    "import matplotlib.pyplot as plt\n",
    "import numpy as np"
   ]
  },
  {
   "cell_type": "code",
   "execution_count": 2,
   "id": "5f485d55-6c37-4660-b771-a51344d4e29c",
   "metadata": {},
   "outputs": [],
   "source": [
    "df = pd.read_csv('mutations_v3.csv')"
   ]
  },
  {
   "cell_type": "code",
   "execution_count": 3,
   "id": "23bcf682-6bdf-424f-b095-a721d76a62c0",
   "metadata": {},
   "outputs": [],
   "source": [
    "df.index = df['index']"
   ]
  },
  {
   "cell_type": "code",
   "execution_count": 4,
   "id": "d69186a7-00e4-42ec-bdd6-fc7d3d84df3a",
   "metadata": {},
   "outputs": [],
   "source": [
    "df = df.drop('index',axis=1)"
   ]
  },
  {
   "cell_type": "code",
   "execution_count": 5,
   "id": "9165e2ca-7abe-4a47-a7b3-842c5a4bd191",
   "metadata": {},
   "outputs": [
    {
     "data": {
      "text/html": [
       "<div>\n",
       "<style scoped>\n",
       "    .dataframe tbody tr th:only-of-type {\n",
       "        vertical-align: middle;\n",
       "    }\n",
       "\n",
       "    .dataframe tbody tr th {\n",
       "        vertical-align: top;\n",
       "    }\n",
       "\n",
       "    .dataframe thead th {\n",
       "        text-align: right;\n",
       "    }\n",
       "</style>\n",
       "<table border=\"1\" class=\"dataframe\">\n",
       "  <thead>\n",
       "    <tr style=\"text-align: right;\">\n",
       "      <th></th>\n",
       "      <th>NC1</th>\n",
       "      <th>C1</th>\n",
       "      <th>NC2</th>\n",
       "      <th>NC3</th>\n",
       "      <th>NC4</th>\n",
       "      <th>C2</th>\n",
       "      <th>C3</th>\n",
       "      <th>NC5</th>\n",
       "      <th>C4</th>\n",
       "      <th>NC6</th>\n",
       "      <th>...</th>\n",
       "      <th>NC136</th>\n",
       "      <th>NC137</th>\n",
       "      <th>NC138</th>\n",
       "      <th>NC139</th>\n",
       "      <th>NC140</th>\n",
       "      <th>NC141</th>\n",
       "      <th>C127</th>\n",
       "      <th>C128</th>\n",
       "      <th>NC142</th>\n",
       "      <th>C129</th>\n",
       "    </tr>\n",
       "    <tr>\n",
       "      <th>index</th>\n",
       "      <th></th>\n",
       "      <th></th>\n",
       "      <th></th>\n",
       "      <th></th>\n",
       "      <th></th>\n",
       "      <th></th>\n",
       "      <th></th>\n",
       "      <th></th>\n",
       "      <th></th>\n",
       "      <th></th>\n",
       "      <th></th>\n",
       "      <th></th>\n",
       "      <th></th>\n",
       "      <th></th>\n",
       "      <th></th>\n",
       "      <th></th>\n",
       "      <th></th>\n",
       "      <th></th>\n",
       "      <th></th>\n",
       "      <th></th>\n",
       "      <th></th>\n",
       "    </tr>\n",
       "  </thead>\n",
       "  <tbody>\n",
       "    <tr>\n",
       "      <th>RNF43_GRCh37_17:56435161-56435161_Frame-Shift-Del_DEL_C-C--</th>\n",
       "      <td>1</td>\n",
       "      <td>0</td>\n",
       "      <td>0</td>\n",
       "      <td>0</td>\n",
       "      <td>0</td>\n",
       "      <td>0</td>\n",
       "      <td>0</td>\n",
       "      <td>0</td>\n",
       "      <td>0</td>\n",
       "      <td>0</td>\n",
       "      <td>...</td>\n",
       "      <td>0</td>\n",
       "      <td>0</td>\n",
       "      <td>0</td>\n",
       "      <td>0</td>\n",
       "      <td>0</td>\n",
       "      <td>0</td>\n",
       "      <td>0</td>\n",
       "      <td>0</td>\n",
       "      <td>0</td>\n",
       "      <td>0</td>\n",
       "    </tr>\n",
       "  </tbody>\n",
       "</table>\n",
       "<p>1 rows × 271 columns</p>\n",
       "</div>"
      ],
      "text/plain": [
       "                                                    NC1  C1  NC2  NC3  NC4  \\\n",
       "index                                                                        \n",
       "RNF43_GRCh37_17:56435161-56435161_Frame-Shift-D...    1   0    0    0    0   \n",
       "\n",
       "                                                    C2  C3  NC5  C4  NC6  ...  \\\n",
       "index                                                                     ...   \n",
       "RNF43_GRCh37_17:56435161-56435161_Frame-Shift-D...   0   0    0   0    0  ...   \n",
       "\n",
       "                                                    NC136  NC137  NC138  \\\n",
       "index                                                                     \n",
       "RNF43_GRCh37_17:56435161-56435161_Frame-Shift-D...      0      0      0   \n",
       "\n",
       "                                                    NC139  NC140  NC141  C127  \\\n",
       "index                                                                           \n",
       "RNF43_GRCh37_17:56435161-56435161_Frame-Shift-D...      0      0      0     0   \n",
       "\n",
       "                                                    C128  NC142  C129  \n",
       "index                                                                  \n",
       "RNF43_GRCh37_17:56435161-56435161_Frame-Shift-D...     0      0     0  \n",
       "\n",
       "[1 rows x 271 columns]"
      ]
     },
     "execution_count": 5,
     "metadata": {},
     "output_type": "execute_result"
    }
   ],
   "source": [
    "df.head(1)"
   ]
  },
  {
   "cell_type": "code",
   "execution_count": 6,
   "id": "e1267509-83fc-4696-a888-917fdb1b5f7a",
   "metadata": {},
   "outputs": [],
   "source": [
    "c = [i for i in df.columns if i[0]=='C']"
   ]
  },
  {
   "cell_type": "code",
   "execution_count": 7,
   "id": "e31cb2bc-6bed-4132-b5ef-71a51fe44b09",
   "metadata": {},
   "outputs": [],
   "source": [
    "nc = [j for j in df.columns if j[0]=='N']"
   ]
  },
  {
   "cell_type": "code",
   "execution_count": 8,
   "id": "4acc87b4-4d71-40de-a1c4-1e2314dee607",
   "metadata": {},
   "outputs": [],
   "source": [
    "people = list(df.columns)"
   ]
  },
  {
   "cell_type": "code",
   "execution_count": 9,
   "id": "d1119905-68d0-43db-ab53-931674243daa",
   "metadata": {},
   "outputs": [],
   "source": [
    "def intersection(lst1, lst2):\n",
    "    '''\n",
    "    This function finds the intersection of two lists\n",
    "    '''\n",
    "    \n",
    "    lst3 = [value for value in lst1 if value in lst2]\n",
    "    return lst3"
   ]
  },
  {
   "cell_type": "code",
   "execution_count": 10,
   "id": "47ebffc8-d141-4cc1-96eb-a2786dca57f3",
   "metadata": {},
   "outputs": [],
   "source": [
    "def feature(data, grp):\n",
    "    '''\n",
    "    this function finds the best feature within a group of individuals based on TP-FP\n",
    "    '''\n",
    "    return(data[intersection(grp,c)].sum(axis=1)\\\n",
    "           -data[intersection(grp,nc)].sum(axis=1)).sort_values(ascending=False).head(1)"
   ]
  },
  {
   "cell_type": "code",
   "execution_count": 18,
   "id": "25e7b8a1-3421-47a6-a865-21451644a361",
   "metadata": {},
   "outputs": [],
   "source": [
    "import random"
   ]
  },
  {
   "cell_type": "code",
   "execution_count": 46,
   "id": "64d24380-df6f-4af3-93f2-7a57a86f6fd6",
   "metadata": {},
   "outputs": [],
   "source": [
    "random.shuffle(list(people))"
   ]
  },
  {
   "cell_type": "code",
   "execution_count": 49,
   "id": "da81d38a-e669-4d69-aa05-ebb78772c4d6",
   "metadata": {},
   "outputs": [],
   "source": [
    "fold_1 =df[people[0:int(len(people)/3)]]"
   ]
  },
  {
   "cell_type": "code",
   "execution_count": 50,
   "id": "0778a805-7146-4a77-8c44-64fd30359510",
   "metadata": {},
   "outputs": [
    {
     "data": {
      "text/html": [
       "<div>\n",
       "<style scoped>\n",
       "    .dataframe tbody tr th:only-of-type {\n",
       "        vertical-align: middle;\n",
       "    }\n",
       "\n",
       "    .dataframe tbody tr th {\n",
       "        vertical-align: top;\n",
       "    }\n",
       "\n",
       "    .dataframe thead th {\n",
       "        text-align: right;\n",
       "    }\n",
       "</style>\n",
       "<table border=\"1\" class=\"dataframe\">\n",
       "  <thead>\n",
       "    <tr style=\"text-align: right;\">\n",
       "      <th></th>\n",
       "      <th>NC1</th>\n",
       "      <th>C1</th>\n",
       "      <th>NC2</th>\n",
       "      <th>NC3</th>\n",
       "      <th>NC4</th>\n",
       "      <th>C2</th>\n",
       "      <th>C3</th>\n",
       "      <th>NC5</th>\n",
       "      <th>C4</th>\n",
       "      <th>NC6</th>\n",
       "      <th>...</th>\n",
       "      <th>NC47</th>\n",
       "      <th>C35</th>\n",
       "      <th>NC48</th>\n",
       "      <th>C36</th>\n",
       "      <th>C37</th>\n",
       "      <th>C38</th>\n",
       "      <th>NC49</th>\n",
       "      <th>C39</th>\n",
       "      <th>C40</th>\n",
       "      <th>C41</th>\n",
       "    </tr>\n",
       "    <tr>\n",
       "      <th>index</th>\n",
       "      <th></th>\n",
       "      <th></th>\n",
       "      <th></th>\n",
       "      <th></th>\n",
       "      <th></th>\n",
       "      <th></th>\n",
       "      <th></th>\n",
       "      <th></th>\n",
       "      <th></th>\n",
       "      <th></th>\n",
       "      <th></th>\n",
       "      <th></th>\n",
       "      <th></th>\n",
       "      <th></th>\n",
       "      <th></th>\n",
       "      <th></th>\n",
       "      <th></th>\n",
       "      <th></th>\n",
       "      <th></th>\n",
       "      <th></th>\n",
       "      <th></th>\n",
       "    </tr>\n",
       "  </thead>\n",
       "  <tbody>\n",
       "    <tr>\n",
       "      <th>RNF43_GRCh37_17:56435161-56435161_Frame-Shift-Del_DEL_C-C--</th>\n",
       "      <td>1</td>\n",
       "      <td>0</td>\n",
       "      <td>0</td>\n",
       "      <td>0</td>\n",
       "      <td>0</td>\n",
       "      <td>0</td>\n",
       "      <td>0</td>\n",
       "      <td>0</td>\n",
       "      <td>0</td>\n",
       "      <td>0</td>\n",
       "      <td>...</td>\n",
       "      <td>0</td>\n",
       "      <td>0</td>\n",
       "      <td>0</td>\n",
       "      <td>0</td>\n",
       "      <td>0</td>\n",
       "      <td>0</td>\n",
       "      <td>0</td>\n",
       "      <td>0</td>\n",
       "      <td>0</td>\n",
       "      <td>1</td>\n",
       "    </tr>\n",
       "  </tbody>\n",
       "</table>\n",
       "<p>1 rows × 90 columns</p>\n",
       "</div>"
      ],
      "text/plain": [
       "                                                    NC1  C1  NC2  NC3  NC4  \\\n",
       "index                                                                        \n",
       "RNF43_GRCh37_17:56435161-56435161_Frame-Shift-D...    1   0    0    0    0   \n",
       "\n",
       "                                                    C2  C3  NC5  C4  NC6  ...  \\\n",
       "index                                                                     ...   \n",
       "RNF43_GRCh37_17:56435161-56435161_Frame-Shift-D...   0   0    0   0    0  ...   \n",
       "\n",
       "                                                    NC47  C35  NC48  C36  C37  \\\n",
       "index                                                                           \n",
       "RNF43_GRCh37_17:56435161-56435161_Frame-Shift-D...     0    0     0    0    0   \n",
       "\n",
       "                                                    C38  NC49  C39  C40  C41  \n",
       "index                                                                         \n",
       "RNF43_GRCh37_17:56435161-56435161_Frame-Shift-D...    0     0    0    0    1  \n",
       "\n",
       "[1 rows x 90 columns]"
      ]
     },
     "execution_count": 50,
     "metadata": {},
     "output_type": "execute_result"
    }
   ],
   "source": [
    "fold_1.head(1)"
   ]
  },
  {
   "cell_type": "code",
   "execution_count": 51,
   "id": "2bffb02f-98f8-4cae-8d4c-2a371f27094e",
   "metadata": {},
   "outputs": [],
   "source": [
    "fold_2 = df[people[int(len(people)/3):int(len(people)*2/3)]]"
   ]
  },
  {
   "cell_type": "code",
   "execution_count": 52,
   "id": "199a9477-799f-400f-a8d4-a66674bba26c",
   "metadata": {},
   "outputs": [
    {
     "data": {
      "text/html": [
       "<div>\n",
       "<style scoped>\n",
       "    .dataframe tbody tr th:only-of-type {\n",
       "        vertical-align: middle;\n",
       "    }\n",
       "\n",
       "    .dataframe tbody tr th {\n",
       "        vertical-align: top;\n",
       "    }\n",
       "\n",
       "    .dataframe thead th {\n",
       "        text-align: right;\n",
       "    }\n",
       "</style>\n",
       "<table border=\"1\" class=\"dataframe\">\n",
       "  <thead>\n",
       "    <tr style=\"text-align: right;\">\n",
       "      <th></th>\n",
       "      <th>NC50</th>\n",
       "      <th>C42</th>\n",
       "      <th>NC51</th>\n",
       "      <th>NC52</th>\n",
       "      <th>C43</th>\n",
       "      <th>NC53</th>\n",
       "      <th>C44</th>\n",
       "      <th>NC54</th>\n",
       "      <th>C45</th>\n",
       "      <th>C46</th>\n",
       "      <th>...</th>\n",
       "      <th>C86</th>\n",
       "      <th>NC86</th>\n",
       "      <th>C87</th>\n",
       "      <th>NC87</th>\n",
       "      <th>NC88</th>\n",
       "      <th>NC89</th>\n",
       "      <th>C88</th>\n",
       "      <th>C89</th>\n",
       "      <th>C90</th>\n",
       "      <th>NC90</th>\n",
       "    </tr>\n",
       "    <tr>\n",
       "      <th>index</th>\n",
       "      <th></th>\n",
       "      <th></th>\n",
       "      <th></th>\n",
       "      <th></th>\n",
       "      <th></th>\n",
       "      <th></th>\n",
       "      <th></th>\n",
       "      <th></th>\n",
       "      <th></th>\n",
       "      <th></th>\n",
       "      <th></th>\n",
       "      <th></th>\n",
       "      <th></th>\n",
       "      <th></th>\n",
       "      <th></th>\n",
       "      <th></th>\n",
       "      <th></th>\n",
       "      <th></th>\n",
       "      <th></th>\n",
       "      <th></th>\n",
       "      <th></th>\n",
       "    </tr>\n",
       "  </thead>\n",
       "  <tbody>\n",
       "    <tr>\n",
       "      <th>RNF43_GRCh37_17:56435161-56435161_Frame-Shift-Del_DEL_C-C--</th>\n",
       "      <td>0</td>\n",
       "      <td>0</td>\n",
       "      <td>0</td>\n",
       "      <td>0</td>\n",
       "      <td>0</td>\n",
       "      <td>0</td>\n",
       "      <td>0</td>\n",
       "      <td>0</td>\n",
       "      <td>0</td>\n",
       "      <td>0</td>\n",
       "      <td>...</td>\n",
       "      <td>0</td>\n",
       "      <td>0</td>\n",
       "      <td>0</td>\n",
       "      <td>0</td>\n",
       "      <td>0</td>\n",
       "      <td>0</td>\n",
       "      <td>0</td>\n",
       "      <td>0</td>\n",
       "      <td>0</td>\n",
       "      <td>0</td>\n",
       "    </tr>\n",
       "  </tbody>\n",
       "</table>\n",
       "<p>1 rows × 90 columns</p>\n",
       "</div>"
      ],
      "text/plain": [
       "                                                    NC50  C42  NC51  NC52  \\\n",
       "index                                                                       \n",
       "RNF43_GRCh37_17:56435161-56435161_Frame-Shift-D...     0    0     0     0   \n",
       "\n",
       "                                                    C43  NC53  C44  NC54  C45  \\\n",
       "index                                                                           \n",
       "RNF43_GRCh37_17:56435161-56435161_Frame-Shift-D...    0     0    0     0    0   \n",
       "\n",
       "                                                    C46  ...  C86  NC86  C87  \\\n",
       "index                                                    ...                   \n",
       "RNF43_GRCh37_17:56435161-56435161_Frame-Shift-D...    0  ...    0     0    0   \n",
       "\n",
       "                                                    NC87  NC88  NC89  C88  \\\n",
       "index                                                                       \n",
       "RNF43_GRCh37_17:56435161-56435161_Frame-Shift-D...     0     0     0    0   \n",
       "\n",
       "                                                    C89  C90  NC90  \n",
       "index                                                               \n",
       "RNF43_GRCh37_17:56435161-56435161_Frame-Shift-D...    0    0     0  \n",
       "\n",
       "[1 rows x 90 columns]"
      ]
     },
     "execution_count": 52,
     "metadata": {},
     "output_type": "execute_result"
    }
   ],
   "source": [
    "fold_2.head(1)"
   ]
  },
  {
   "cell_type": "code",
   "execution_count": 53,
   "id": "4546a260-75a5-402b-86c7-44e52ec143f3",
   "metadata": {},
   "outputs": [],
   "source": [
    "fold_3 = df[people[int(len(people)*2/3):int(len(people))]]"
   ]
  },
  {
   "cell_type": "code",
   "execution_count": 54,
   "id": "2dce95e5-cc34-4f91-bf56-06a362e750cf",
   "metadata": {},
   "outputs": [
    {
     "data": {
      "text/html": [
       "<div>\n",
       "<style scoped>\n",
       "    .dataframe tbody tr th:only-of-type {\n",
       "        vertical-align: middle;\n",
       "    }\n",
       "\n",
       "    .dataframe tbody tr th {\n",
       "        vertical-align: top;\n",
       "    }\n",
       "\n",
       "    .dataframe thead th {\n",
       "        text-align: right;\n",
       "    }\n",
       "</style>\n",
       "<table border=\"1\" class=\"dataframe\">\n",
       "  <thead>\n",
       "    <tr style=\"text-align: right;\">\n",
       "      <th></th>\n",
       "      <th>C91</th>\n",
       "      <th>C92</th>\n",
       "      <th>NC91</th>\n",
       "      <th>NC92</th>\n",
       "      <th>NC93</th>\n",
       "      <th>C93</th>\n",
       "      <th>C94</th>\n",
       "      <th>C95</th>\n",
       "      <th>C96</th>\n",
       "      <th>NC94</th>\n",
       "      <th>...</th>\n",
       "      <th>NC136</th>\n",
       "      <th>NC137</th>\n",
       "      <th>NC138</th>\n",
       "      <th>NC139</th>\n",
       "      <th>NC140</th>\n",
       "      <th>NC141</th>\n",
       "      <th>C127</th>\n",
       "      <th>C128</th>\n",
       "      <th>NC142</th>\n",
       "      <th>C129</th>\n",
       "    </tr>\n",
       "    <tr>\n",
       "      <th>index</th>\n",
       "      <th></th>\n",
       "      <th></th>\n",
       "      <th></th>\n",
       "      <th></th>\n",
       "      <th></th>\n",
       "      <th></th>\n",
       "      <th></th>\n",
       "      <th></th>\n",
       "      <th></th>\n",
       "      <th></th>\n",
       "      <th></th>\n",
       "      <th></th>\n",
       "      <th></th>\n",
       "      <th></th>\n",
       "      <th></th>\n",
       "      <th></th>\n",
       "      <th></th>\n",
       "      <th></th>\n",
       "      <th></th>\n",
       "      <th></th>\n",
       "      <th></th>\n",
       "    </tr>\n",
       "  </thead>\n",
       "  <tbody>\n",
       "    <tr>\n",
       "      <th>RNF43_GRCh37_17:56435161-56435161_Frame-Shift-Del_DEL_C-C--</th>\n",
       "      <td>0</td>\n",
       "      <td>0</td>\n",
       "      <td>0</td>\n",
       "      <td>0</td>\n",
       "      <td>0</td>\n",
       "      <td>0</td>\n",
       "      <td>0</td>\n",
       "      <td>0</td>\n",
       "      <td>0</td>\n",
       "      <td>0</td>\n",
       "      <td>...</td>\n",
       "      <td>0</td>\n",
       "      <td>0</td>\n",
       "      <td>0</td>\n",
       "      <td>0</td>\n",
       "      <td>0</td>\n",
       "      <td>0</td>\n",
       "      <td>0</td>\n",
       "      <td>0</td>\n",
       "      <td>0</td>\n",
       "      <td>0</td>\n",
       "    </tr>\n",
       "  </tbody>\n",
       "</table>\n",
       "<p>1 rows × 91 columns</p>\n",
       "</div>"
      ],
      "text/plain": [
       "                                                    C91  C92  NC91  NC92  \\\n",
       "index                                                                      \n",
       "RNF43_GRCh37_17:56435161-56435161_Frame-Shift-D...    0    0     0     0   \n",
       "\n",
       "                                                    NC93  C93  C94  C95  C96  \\\n",
       "index                                                                          \n",
       "RNF43_GRCh37_17:56435161-56435161_Frame-Shift-D...     0    0    0    0    0   \n",
       "\n",
       "                                                    NC94  ...  NC136  NC137  \\\n",
       "index                                                     ...                 \n",
       "RNF43_GRCh37_17:56435161-56435161_Frame-Shift-D...     0  ...      0      0   \n",
       "\n",
       "                                                    NC138  NC139  NC140  \\\n",
       "index                                                                     \n",
       "RNF43_GRCh37_17:56435161-56435161_Frame-Shift-D...      0      0      0   \n",
       "\n",
       "                                                    NC141  C127  C128  NC142  \\\n",
       "index                                                                          \n",
       "RNF43_GRCh37_17:56435161-56435161_Frame-Shift-D...      0     0     0      0   \n",
       "\n",
       "                                                    C129  \n",
       "index                                                     \n",
       "RNF43_GRCh37_17:56435161-56435161_Frame-Shift-D...     0  \n",
       "\n",
       "[1 rows x 91 columns]"
      ]
     },
     "execution_count": 54,
     "metadata": {},
     "output_type": "execute_result"
    }
   ],
   "source": [
    "fold_3.head(1)"
   ]
  },
  {
   "cell_type": "code",
   "execution_count": 55,
   "id": "5264f725-7e51-40a7-8281-868ae7f65546",
   "metadata": {},
   "outputs": [],
   "source": [
    "train_1 = pd.concat([fold_1,fold_2], axis = 1)"
   ]
  },
  {
   "cell_type": "code",
   "execution_count": 56,
   "id": "7041608c-78fe-451d-984a-7438b9597138",
   "metadata": {},
   "outputs": [
    {
     "data": {
      "text/html": [
       "<div>\n",
       "<style scoped>\n",
       "    .dataframe tbody tr th:only-of-type {\n",
       "        vertical-align: middle;\n",
       "    }\n",
       "\n",
       "    .dataframe tbody tr th {\n",
       "        vertical-align: top;\n",
       "    }\n",
       "\n",
       "    .dataframe thead th {\n",
       "        text-align: right;\n",
       "    }\n",
       "</style>\n",
       "<table border=\"1\" class=\"dataframe\">\n",
       "  <thead>\n",
       "    <tr style=\"text-align: right;\">\n",
       "      <th></th>\n",
       "      <th>NC1</th>\n",
       "      <th>C1</th>\n",
       "      <th>NC2</th>\n",
       "      <th>NC3</th>\n",
       "      <th>NC4</th>\n",
       "      <th>C2</th>\n",
       "      <th>C3</th>\n",
       "      <th>NC5</th>\n",
       "      <th>C4</th>\n",
       "      <th>NC6</th>\n",
       "      <th>...</th>\n",
       "      <th>C86</th>\n",
       "      <th>NC86</th>\n",
       "      <th>C87</th>\n",
       "      <th>NC87</th>\n",
       "      <th>NC88</th>\n",
       "      <th>NC89</th>\n",
       "      <th>C88</th>\n",
       "      <th>C89</th>\n",
       "      <th>C90</th>\n",
       "      <th>NC90</th>\n",
       "    </tr>\n",
       "    <tr>\n",
       "      <th>index</th>\n",
       "      <th></th>\n",
       "      <th></th>\n",
       "      <th></th>\n",
       "      <th></th>\n",
       "      <th></th>\n",
       "      <th></th>\n",
       "      <th></th>\n",
       "      <th></th>\n",
       "      <th></th>\n",
       "      <th></th>\n",
       "      <th></th>\n",
       "      <th></th>\n",
       "      <th></th>\n",
       "      <th></th>\n",
       "      <th></th>\n",
       "      <th></th>\n",
       "      <th></th>\n",
       "      <th></th>\n",
       "      <th></th>\n",
       "      <th></th>\n",
       "      <th></th>\n",
       "    </tr>\n",
       "  </thead>\n",
       "  <tbody>\n",
       "    <tr>\n",
       "      <th>RNF43_GRCh37_17:56435161-56435161_Frame-Shift-Del_DEL_C-C--</th>\n",
       "      <td>1</td>\n",
       "      <td>0</td>\n",
       "      <td>0</td>\n",
       "      <td>0</td>\n",
       "      <td>0</td>\n",
       "      <td>0</td>\n",
       "      <td>0</td>\n",
       "      <td>0</td>\n",
       "      <td>0</td>\n",
       "      <td>0</td>\n",
       "      <td>...</td>\n",
       "      <td>0</td>\n",
       "      <td>0</td>\n",
       "      <td>0</td>\n",
       "      <td>0</td>\n",
       "      <td>0</td>\n",
       "      <td>0</td>\n",
       "      <td>0</td>\n",
       "      <td>0</td>\n",
       "      <td>0</td>\n",
       "      <td>0</td>\n",
       "    </tr>\n",
       "    <tr>\n",
       "      <th>KRAS_GRCh37_12:25398284-25398284_Missense-Mutation_SNP_C-C-A_C-C-T_C-C-G</th>\n",
       "      <td>0</td>\n",
       "      <td>0</td>\n",
       "      <td>0</td>\n",
       "      <td>0</td>\n",
       "      <td>0</td>\n",
       "      <td>0</td>\n",
       "      <td>0</td>\n",
       "      <td>0</td>\n",
       "      <td>0</td>\n",
       "      <td>0</td>\n",
       "      <td>...</td>\n",
       "      <td>0</td>\n",
       "      <td>0</td>\n",
       "      <td>1</td>\n",
       "      <td>0</td>\n",
       "      <td>0</td>\n",
       "      <td>0</td>\n",
       "      <td>0</td>\n",
       "      <td>0</td>\n",
       "      <td>0</td>\n",
       "      <td>0</td>\n",
       "    </tr>\n",
       "  </tbody>\n",
       "</table>\n",
       "<p>2 rows × 180 columns</p>\n",
       "</div>"
      ],
      "text/plain": [
       "                                                    NC1  C1  NC2  NC3  NC4  \\\n",
       "index                                                                        \n",
       "RNF43_GRCh37_17:56435161-56435161_Frame-Shift-D...    1   0    0    0    0   \n",
       "KRAS_GRCh37_12:25398284-25398284_Missense-Mutat...    0   0    0    0    0   \n",
       "\n",
       "                                                    C2  C3  NC5  C4  NC6  ...  \\\n",
       "index                                                                     ...   \n",
       "RNF43_GRCh37_17:56435161-56435161_Frame-Shift-D...   0   0    0   0    0  ...   \n",
       "KRAS_GRCh37_12:25398284-25398284_Missense-Mutat...   0   0    0   0    0  ...   \n",
       "\n",
       "                                                    C86  NC86  C87  NC87  \\\n",
       "index                                                                      \n",
       "RNF43_GRCh37_17:56435161-56435161_Frame-Shift-D...    0     0    0     0   \n",
       "KRAS_GRCh37_12:25398284-25398284_Missense-Mutat...    0     0    1     0   \n",
       "\n",
       "                                                    NC88  NC89  C88  C89  C90  \\\n",
       "index                                                                           \n",
       "RNF43_GRCh37_17:56435161-56435161_Frame-Shift-D...     0     0    0    0    0   \n",
       "KRAS_GRCh37_12:25398284-25398284_Missense-Mutat...     0     0    0    0    0   \n",
       "\n",
       "                                                    NC90  \n",
       "index                                                     \n",
       "RNF43_GRCh37_17:56435161-56435161_Frame-Shift-D...     0  \n",
       "KRAS_GRCh37_12:25398284-25398284_Missense-Mutat...     0  \n",
       "\n",
       "[2 rows x 180 columns]"
      ]
     },
     "execution_count": 56,
     "metadata": {},
     "output_type": "execute_result"
    }
   ],
   "source": [
    "train_1.head(2)"
   ]
  },
  {
   "cell_type": "code",
   "execution_count": 57,
   "id": "acd0e6b4-5454-4fb3-a9b8-e9e2a086dfbe",
   "metadata": {},
   "outputs": [
    {
     "data": {
      "text/plain": [
       "(7529, 180)"
      ]
     },
     "execution_count": 57,
     "metadata": {},
     "output_type": "execute_result"
    }
   ],
   "source": [
    "train_1.shape"
   ]
  },
  {
   "cell_type": "code",
   "execution_count": 58,
   "id": "afe62f3b-0d7a-4ba8-a350-fed95d558256",
   "metadata": {},
   "outputs": [],
   "source": [
    "test_1 = fold_3"
   ]
  },
  {
   "cell_type": "code",
   "execution_count": 59,
   "id": "772be516-8820-4e75-b33b-6ad1cace75a1",
   "metadata": {},
   "outputs": [],
   "source": [
    "train_2 = pd.concat([fold_2,fold_3], axis = 1)"
   ]
  },
  {
   "cell_type": "code",
   "execution_count": 60,
   "id": "99ed5a7c-a3e8-4bbd-bc9d-a0db775b92b7",
   "metadata": {},
   "outputs": [],
   "source": [
    "test_2 = fold_1"
   ]
  },
  {
   "cell_type": "code",
   "execution_count": 61,
   "id": "466134a1-5535-4329-9bf7-5425e566e5a6",
   "metadata": {},
   "outputs": [],
   "source": [
    "train_3 = pd.concat([fold_3,fold_1], axis = 1)"
   ]
  },
  {
   "cell_type": "code",
   "execution_count": 62,
   "id": "7c43bd14-e50a-4195-9a5a-81bca803b28a",
   "metadata": {},
   "outputs": [],
   "source": [
    "test_3 = fold_2"
   ]
  },
  {
   "cell_type": "code",
   "execution_count": 63,
   "id": "212c199d-0637-41ee-ba7a-04172758a71d",
   "metadata": {},
   "outputs": [],
   "source": [
    "# let's go for the first training dataset"
   ]
  },
  {
   "cell_type": "code",
   "execution_count": 65,
   "id": "446915ff-ebdf-46d8-a5ff-f2e1364240f8",
   "metadata": {},
   "outputs": [],
   "source": [
    "people_1 = list(train_1.columns)"
   ]
  },
  {
   "cell_type": "code",
   "execution_count": 111,
   "id": "64eda25d-fc51-41b8-9a7c-0fe59d770bdd",
   "metadata": {},
   "outputs": [
    {
     "data": {
      "text/plain": [
       "index\n",
       "RNF43_GRCh37_17:56435161-56435161_Frame-Shift-Del_DEL_C-C--    7\n",
       "dtype: int64"
      ]
     },
     "execution_count": 111,
     "metadata": {},
     "output_type": "execute_result"
    }
   ],
   "source": [
    "feature(train_1, people_1)"
   ]
  },
  {
   "cell_type": "code",
   "execution_count": 101,
   "id": "836a634a-ffc5-4d45-869a-2e036054157e",
   "metadata": {},
   "outputs": [],
   "source": [
    "leaf_1 = []\n",
    "leaf_2 = []\n",
    "for i in range(len(people_1)):\n",
    "    if df[people_1[i]]['RNF43_GRCh37_17:56435161-56435161_Frame-Shift-Del_DEL_C-C--']==1:\n",
    "        leaf_1.append(people_1[i])\n",
    "    else:\n",
    "        leaf_2.append(people_1[i])"
   ]
  },
  {
   "cell_type": "code",
   "execution_count": 102,
   "id": "af4f3d0a-d4d3-4815-b815-e58ea07192ad",
   "metadata": {},
   "outputs": [
    {
     "data": {
      "text/plain": [
       "index\n",
       "RPL22_GRCh37_1:6257785-6257785_Frame-Shift-Del_DEL_T-T--    4\n",
       "dtype: int64"
      ]
     },
     "execution_count": 102,
     "metadata": {},
     "output_type": "execute_result"
    }
   ],
   "source": [
    "feature(train_1.drop('RNF43_GRCh37_17:56435161-56435161_Frame-Shift-Del_DEL_C-C--', axis=0), leaf_1)"
   ]
  },
  {
   "cell_type": "code",
   "execution_count": 103,
   "id": "4d46abad-6add-4be1-bbb9-a081ae18b8f3",
   "metadata": {},
   "outputs": [
    {
     "data": {
      "text/plain": [
       "index\n",
       "PTEN_GRCh37_10:89692905-89692905_Missense-Mutation_SNP_G-G-A_G-G-T_G-G-C    7\n",
       "dtype: int64"
      ]
     },
     "execution_count": 103,
     "metadata": {},
     "output_type": "execute_result"
    }
   ],
   "source": [
    "feature(train_1, leaf_2)"
   ]
  },
  {
   "cell_type": "code",
   "execution_count": 69,
   "id": "f491e208-dd75-4003-9614-1f2d1b95e644",
   "metadata": {},
   "outputs": [],
   "source": [
    "def classifier(data, individual, root_node, leaf_node_1, leaf_node_2):\n",
    "    if data[individual].loc[root_node]==1:\n",
    "        if data[individual].loc[leaf_node_1]==1:\n",
    "            return \"C\"\n",
    "        else:\n",
    "            return \"NC\"\n",
    "    else:\n",
    "        if data[individual].loc[leaf_node_2]==1:\n",
    "            return \"C\"\n",
    "        else:\n",
    "            return \"NC\" "
   ]
  },
  {
   "cell_type": "code",
   "execution_count": 92,
   "id": "a363645c-e23f-4bd1-b9a3-6bcb78946fa7",
   "metadata": {},
   "outputs": [
    {
     "data": {
      "text/plain": [
       "'NC'"
      ]
     },
     "execution_count": 92,
     "metadata": {},
     "output_type": "execute_result"
    }
   ],
   "source": [
    "classifier(train_1, \"NC5\",\n",
    "           root_node='RNF43_GRCh37_17:56435161-56435161_Frame-Shift-Del_DEL_C-C--',\n",
    "           leaf_node_1='RPL22_GRCh37_1:6257785-6257785_Frame-Shift-Del_DEL_T-T--',\n",
    "           leaf_node_2='PTEN_GRCh37_10:89692905-89692905_Missense-Mutation_SNP_G-G-A_G-G-T_G-G-C')"
   ]
  },
  {
   "cell_type": "code",
   "execution_count": 93,
   "id": "49a0766a-e069-4a2e-a887-c47c7d2302a6",
   "metadata": {},
   "outputs": [],
   "source": [
    "def evaluator(data, root_node, leaf_node_1, leaf_node_2, classifier, individuals):\n",
    "    TN = FN = TP = FP = 0\n",
    "    for i in range(len(individuals)):\n",
    "        if individuals[i][0] == classifier(data,individuals[i],root_node, leaf_node_1, leaf_node_2)==\"C\":\n",
    "            TP +=1\n",
    "        elif individuals[i][0:2] == classifier(data,individuals[i],root_node, leaf_node_1, leaf_node_2)==\"NC\":\n",
    "            TN +=1\n",
    "        elif individuals[i][0]==\"N\" and classifier(data,individuals[i],root_node, leaf_node_1, leaf_node_2)==\"C\":\n",
    "            FP +=1\n",
    "        elif individuals[i][0]==\"C\" and classifier(data,individuals[i],root_node, leaf_node_1, leaf_node_2)==\"NC\":\n",
    "            FN +=1\n",
    "            \n",
    "    return [TP, TN, FP, FN]"
   ]
  },
  {
   "cell_type": "code",
   "execution_count": 112,
   "id": "833ac2f2-4653-4fd4-846b-4cb2a9b0f26b",
   "metadata": {},
   "outputs": [
    {
     "data": {
      "text/plain": [
       "[5, 51, 1, 34]"
      ]
     },
     "execution_count": 112,
     "metadata": {},
     "output_type": "execute_result"
    }
   ],
   "source": [
    "evaluator(data=test_1, \n",
    "          root_node='RNF43_GRCh37_17:56435161-56435161_Frame-Shift-Del_DEL_C-C--',\n",
    "          leaf_node_1='RPL22_GRCh37_1:6257785-6257785_Frame-Shift-Del_DEL_T-T--',\n",
    "          leaf_node_2='PTEN_GRCh37_10:89692905-89692905_Missense-Mutation_SNP_G-G-A_G-G-T_G-G-C',\n",
    "          classifier=classifier,\n",
    "          individuals=list(test_1.columns)\n",
    "         )"
   ]
  },
  {
   "cell_type": "code",
   "execution_count": 104,
   "id": "04d6471c-2618-4b11-9704-ade581cec270",
   "metadata": {},
   "outputs": [],
   "source": [
    "def metrics_calc(conf_mat):\n",
    "    # Format of conf_mat should be: [TP, TN, FP, FN]\n",
    "    TP = conf_mat[0]\n",
    "    TN = conf_mat[1]\n",
    "    FP = conf_mat[2]\n",
    "    FN = conf_mat[3]\n",
    "    accuracy = (TP+TN)/(TP+TN+FP+FN)\n",
    "    sensitivity = TP/(TP+FN)\n",
    "    specificity = TN/(TN+FP)\n",
    "    precision = TP/(TP+FP)\n",
    "    miss_rate = FN/(FN+TP)\n",
    "    false_discovery_rate = FP/(FP+TP)\n",
    "    false_omission_rate = FN/(FN+TN)\n",
    "    return f\"\"\" \n",
    "    Accuracy is {accuracy:.2}\n",
    "    Sensitivity is {sensitivity:.2}\n",
    "    Specificity is {specificity:.2}\n",
    "    Precision is {precision:.2}\n",
    "    Miss Rate is {miss_rate:.2}\n",
    "    False discovery rate is {false_discovery_rate:.2} \n",
    "    False omission rate is {false_omission_rate:.2} \n",
    "    \"\"\""
   ]
  },
  {
   "cell_type": "code",
   "execution_count": 106,
   "id": "fe04ea05-bf59-4d45-a8b3-2ec26b9f5e86",
   "metadata": {},
   "outputs": [
    {
     "name": "stdout",
     "output_type": "stream",
     "text": [
      " \n",
      "    Accuracy is 0.62\n",
      "    Sensitivity is 0.13\n",
      "    Specificity is 0.98\n",
      "    Precision is 0.83\n",
      "    Miss Rate is 0.87\n",
      "    False discovery rate is 0.17 \n",
      "    False omission rate is 0.4 \n",
      "    \n"
     ]
    }
   ],
   "source": [
    "print(metrics_calc(evaluator(data=test_1, \n",
    "          root_node='RNF43_GRCh37_17:56435161-56435161_Frame-Shift-Del_DEL_C-C--',\n",
    "          leaf_node_1='RPL22_GRCh37_1:6257785-6257785_Frame-Shift-Del_DEL_T-T--',\n",
    "          leaf_node_2='PTEN_GRCh37_10:89692905-89692905_Missense-Mutation_SNP_G-G-A_G-G-T_G-G-C',\n",
    "          classifier=classifier,\n",
    "          individuals=list(test_1.columns)\n",
    "         )\n",
    "            ))"
   ]
  }
 ],
 "metadata": {
  "kernelspec": {
   "display_name": "Python 3 (ipykernel)",
   "language": "python",
   "name": "python3"
  },
  "language_info": {
   "codemirror_mode": {
    "name": "ipython",
    "version": 3
   },
   "file_extension": ".py",
   "mimetype": "text/x-python",
   "name": "python",
   "nbconvert_exporter": "python",
   "pygments_lexer": "ipython3",
   "version": "3.9.13"
  }
 },
 "nbformat": 4,
 "nbformat_minor": 5
}
